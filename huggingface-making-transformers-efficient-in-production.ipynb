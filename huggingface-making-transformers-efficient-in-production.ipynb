{
 "cells": [
  {
   "cell_type": "code",
   "execution_count": 1,
   "metadata": {},
   "outputs": [],
   "source": [
    "from transformers import pipeline\n",
    "\n",
    "bert_ckpt = \"transformersbook/bert-base-uncased-finetuned-clinc\"\n",
    "pipe = pipeline(\"text-classification\", model=bert_ckpt)"
   ]
  },
  {
   "cell_type": "code",
   "execution_count": 2,
   "metadata": {},
   "outputs": [
    {
     "data": {
      "text/plain": [
       "[{'label': 'car_rental', 'score': 0.5490036010742188}]"
      ]
     },
     "execution_count": 2,
     "metadata": {},
     "output_type": "execute_result"
    }
   ],
   "source": [
    "query = \"\"\"Hey, I'd like to rent a vehicle from Nov 1st to Nov 15th in Paris and I need a 15 passenger van\"\"\"\n",
    "pipe(query)"
   ]
  },
  {
   "cell_type": "code",
   "execution_count": 3,
   "metadata": {},
   "outputs": [
    {
     "name": "stderr",
     "output_type": "stream",
     "text": [
      "Found cached dataset clinc_oos (C:/Users/caiji/.cache/huggingface/datasets/clinc_oos/plus/1.0.0/abcc41d382f8137f039adc747af44714941e8196e845dfbdd8ae7a7e020e6ba1)\n"
     ]
    },
    {
     "data": {
      "application/vnd.jupyter.widget-view+json": {
       "model_id": "872b0a7cb5e04ae1b03e4e7f92080415",
       "version_major": 2,
       "version_minor": 0
      },
      "text/plain": [
       "  0%|          | 0/3 [00:00<?, ?it/s]"
      ]
     },
     "metadata": {},
     "output_type": "display_data"
    }
   ],
   "source": [
    "from datasets import load_dataset\n",
    "\n",
    "clinc = load_dataset(\"clinc_oos\", \"plus\")\n"
   ]
  },
  {
   "cell_type": "code",
   "execution_count": 4,
   "metadata": {},
   "outputs": [
    {
     "data": {
      "text/plain": [
       "{'text': 'transfer $100 from my checking to saving account', 'intent': 133}"
      ]
     },
     "execution_count": 4,
     "metadata": {},
     "output_type": "execute_result"
    }
   ],
   "source": [
    "sample = clinc[\"test\"][42]\n",
    "sample"
   ]
  },
  {
   "cell_type": "code",
   "execution_count": 5,
   "metadata": {},
   "outputs": [
    {
     "data": {
      "text/plain": [
       "'transfer'"
      ]
     },
     "execution_count": 5,
     "metadata": {},
     "output_type": "execute_result"
    }
   ],
   "source": [
    "intents = clinc[\"test\"].features[\"intent\"]\n",
    "intents.int2str(sample[\"intent\"])\n"
   ]
  },
  {
   "cell_type": "code",
   "execution_count": 14,
   "metadata": {},
   "outputs": [
    {
     "name": "stderr",
     "output_type": "stream",
     "text": [
      "C:\\Users\\caiji\\AppData\\Local\\Temp\\ipykernel_3888\\3510557904.py:3: FutureWarning: load_metric is deprecated and will be removed in the next major version of datasets. Use 'evaluate.load' instead, from the new library 🤗 Evaluate: https://huggingface.co/docs/evaluate\n",
      "  accuracy_score = load_metric(\"accuracy\")\n"
     ]
    }
   ],
   "source": [
    "from datasets import load_metric\n",
    "\n",
    "accuracy_score = load_metric(\"accuracy\")"
   ]
  },
  {
   "cell_type": "code",
   "execution_count": 15,
   "metadata": {},
   "outputs": [],
   "source": [
    "def compute_accuracy(self):\n",
    "  preds, labels = [], []\n",
    "  for example in self.dataset:\n",
    "    pred = self.pipeline(example[\"text\"])[0][\"label\"]\n",
    "    label = example[\"intent\"]\n",
    "    preds.append(intents.str2int(pred))\n",
    "    labels.append(label)\n",
    "  accuracy = accuracy_score.compute(predictions=preds, references=labels)\n",
    "  print(f\"accuracy on test set - {accuracy['accuracy']:.3f}\")\n",
    "  return accuracy"
   ]
  },
  {
   "cell_type": "code",
   "execution_count": 9,
   "metadata": {},
   "outputs": [
    {
     "data": {
      "text/plain": [
       "('bert.encoder.layer.2.attention.self.value.weight',\n",
       " tensor([[-1.0526e-02, -3.2215e-02,  2.2097e-02,  ..., -6.0953e-03,\n",
       "           4.6521e-03,  2.9844e-02],\n",
       "         [-1.4964e-02, -1.0915e-02,  5.2396e-04,  ...,  3.2047e-05,\n",
       "          -2.6890e-02, -2.1943e-02],\n",
       "         [-2.9640e-02, -3.7842e-03, -1.2582e-02,  ..., -1.0917e-02,\n",
       "           3.1152e-02, -9.7786e-03],\n",
       "         ...,\n",
       "         [-1.5116e-02, -3.3226e-02,  4.2063e-02,  ..., -5.2652e-03,\n",
       "           1.1093e-02,  2.9703e-03],\n",
       "         [-3.6809e-02,  5.6848e-02, -2.6544e-02,  ..., -4.0114e-02,\n",
       "           6.7487e-03,  1.0511e-03],\n",
       "         [-2.4961e-02,  1.4747e-03, -5.4271e-02,  ...,  2.0004e-02,\n",
       "           2.3981e-02, -4.2880e-02]]))"
      ]
     },
     "execution_count": 9,
     "metadata": {},
     "output_type": "execute_result"
    }
   ],
   "source": [
    "list(pipe.model.state_dict().items())[42]"
   ]
  },
  {
   "cell_type": "code",
   "execution_count": 7,
   "metadata": {},
   "outputs": [],
   "source": [
    "import torch\n",
    "torch.save(pipe.model.state_dict(), \"model.pt\")"
   ]
  },
  {
   "cell_type": "code",
   "execution_count": 8,
   "metadata": {},
   "outputs": [],
   "source": [
    "import torch\n",
    "from pathlib import Path\n",
    "\n",
    "def compute_size(self):\n",
    "  \"\"\"this overrides the PerformanceBenchmark.compute_size() method\"\"\"\n",
    "  state_dict = self.pipeline.model.state_dict()\n",
    "  tmp_path = Path(\"model.pt\")\n",
    "  torch.save(state_dict, tmp_path)\n",
    "  # calculate size in megabytes\n",
    "  size_mb = Path(tmp_path).stat().st_size / (1024 * 1024)\n",
    "  # delete temporary file\n",
    "  tmp_path.unlink()\n",
    "  print(f\"Model size (MB) - {size_mb:.2f}\")\n",
    "  return {\"size_mb\": size_mb}\n"
   ]
  },
  {
   "cell_type": "code",
   "execution_count": 12,
   "metadata": {},
   "outputs": [
    {
     "name": "stdout",
     "output_type": "stream",
     "text": [
      "Latency (ms) - 50.579\n",
      "Latency (ms) - 45.495\n",
      "Latency (ms) - 44.314\n"
     ]
    }
   ],
   "source": [
    "from time import perf_counter\n",
    "\n",
    "for _ in range(3):\n",
    "  start_time = perf_counter()\n",
    "  _ = pipe(query)\n",
    "  latency = perf_counter() - start_time\n",
    "  print(f\"Latency (ms) - {1000 * latency:.3f}\")"
   ]
  },
  {
   "cell_type": "code",
   "execution_count": 9,
   "metadata": {},
   "outputs": [],
   "source": [
    "import numpy as np\n",
    "\n",
    "def time_pipeline(self, query=\"Waht is the pin number for my account?\"):\n",
    "  \"\"\"this overrides the PerformanceBenchmark.time_pipeline() method\"\"\"\n",
    "  latencies = []\n",
    "  # warmup\n",
    "  for _ in range(10):\n",
    "    _ = self.pipeline(query)\n",
    "  # time run\n",
    "  for _ in range(100):\n",
    "    start_time = perf_counter()\n",
    "    _ = self.pipeline(query)\n",
    "    latency = perf_counter() - start_time\n",
    "    latencies.append(latency)\n",
    "  # compute run statistics\n",
    "  time_avg_ms = 1000 * np.mean(latencies)\n",
    "  time_std_ms = 1000 * np.std(latencies)\n",
    "  print(f\"Average latency (ms) - {time_avg_ms:.2f} +\\- {time_std_ms:.2f}\")\n",
    "  return {\"time_avg_ms\": time_avg_ms, \"time_std_ms\": time_std_ms}\n",
    "\n"
   ]
  },
  {
   "cell_type": "code",
   "execution_count": 16,
   "metadata": {},
   "outputs": [],
   "source": [
    "class PerformanceBenchmark:\n",
    "  def __init__(self, pipeline, dataset, optim_type=\"BERT baseline\"):\n",
    "    self.pipeline = pipeline \n",
    "    self.dataset = dataset\n",
    "    self.optim_type = optim_type\n",
    "  \n",
    "  def compute_accuracy(self):\n",
    "    pass \n",
    "\n",
    "  def compute_size(self):\n",
    "    pass\n",
    "  \n",
    "  def time_pipeline(self):\n",
    "    pass\n",
    "  \n",
    "  def run_benchmark(self):\n",
    "    metrics = {}\n",
    "    metrics[self.optim_type] = self.compute_size()\n",
    "    metrics[self.optim_type].update(self.time_pipeline())\n",
    "    metrics[self.optim_type].update(self.compute_accuracy())\n",
    "    return metrics\n",
    "\n",
    "PerformanceBenchmark.compute_accuracy = compute_accuracy\n",
    "PerformanceBenchmark.compute_size = compute_size\n",
    "PerformanceBenchmark.time_pipeline = time_pipeline"
   ]
  },
  {
   "cell_type": "code",
   "execution_count": 17,
   "metadata": {},
   "outputs": [
    {
     "name": "stdout",
     "output_type": "stream",
     "text": [
      "Model size (MB) - 418.15\n",
      "Average latency (ms) - 31.93 +\\- 3.54\n",
      "accuracy on test set - 0.867\n"
     ]
    }
   ],
   "source": [
    "pb = PerformanceBenchmark(pipe, clinc[\"test\"])\n",
    "perf_metrics = pb.run_benchmark()"
   ]
  },
  {
   "attachments": {},
   "cell_type": "markdown",
   "metadata": {},
   "source": [
    "**Making Models Smaller via Knowledge Distillation**"
   ]
  },
  {
   "cell_type": "code",
   "execution_count": 24,
   "metadata": {},
   "outputs": [],
   "source": [
    "from transformers import TrainingArguments\n",
    "\n",
    "class DistillationTrainingArguments(TrainingArguments):\n",
    "  def __init__(self, *args, alpha=0.5, temperature=2.0, **kwargs):\n",
    "    super().__init__(*args, **kwargs)\n",
    "    self.alpha = alpha\n",
    "    self.temperature = temperature\n"
   ]
  },
  {
   "cell_type": "code",
   "execution_count": 28,
   "metadata": {},
   "outputs": [],
   "source": [
    "import torch.nn as nn\n",
    "import torch.nn.functional as F \n",
    "from transformers import Trainer \n",
    "\n",
    "class DistillationTrainer(Trainer):\n",
    "  def __init__(self, *args, teacher_model=None, **kwargs):\n",
    "    super().__init__(*args, **kwargs)\n",
    "    self.teacher_model = teacher_model\n",
    "\n",
    "  def compute_loss(self, model, inputs, return_outputs=False):\n",
    "    output_stu = model(**input)\n",
    "    # extract cross-entropy loss and logits from student\n",
    "    loss_ce = output_stu.loss\n",
    "    logits_stu = output_stu.logits\n",
    "    # extract logits from teacher\n",
    "    with torch.no_grad():\n",
    "      outputs_tea = self.teacher_model(**inputs)\n",
    "      logits_tea = outputs_tea.logits\n",
    "    # soften probabilities and compute distillation loss\n",
    "    loss_fct = nn.KLDivLoss(reduction=\"batchmean\")\n",
    "    loss_kd = self.args.temperature ** 2 * loss_fct(\n",
    "        F.log_softmax(logits_stu / self.args.temperature, dim=-1), \n",
    "        F.softmax(logits_tea / self.args.temperature, dim=-1))\n",
    "    # return weighted student loss\n",
    "    loss = self.args.alpha * loss_ce + (1. - self.args.alpha) * loss_kd\n",
    "    return (loss, output_stu) if return_outputs else loss"
   ]
  },
  {
   "cell_type": "code",
   "execution_count": 25,
   "metadata": {},
   "outputs": [
    {
     "name": "stderr",
     "output_type": "stream",
     "text": [
      "Loading cached processed dataset at C:\\Users\\caiji\\.cache\\huggingface\\datasets\\clinc_oos\\plus\\1.0.0\\abcc41d382f8137f039adc747af44714941e8196e845dfbdd8ae7a7e020e6ba1\\cache-5c16ab8bf708ecb6.arrow\n",
      "Loading cached processed dataset at C:\\Users\\caiji\\.cache\\huggingface\\datasets\\clinc_oos\\plus\\1.0.0\\abcc41d382f8137f039adc747af44714941e8196e845dfbdd8ae7a7e020e6ba1\\cache-776b71e48ffdab8a.arrow\n"
     ]
    },
    {
     "data": {
      "application/vnd.jupyter.widget-view+json": {
       "model_id": "f6b7f79b085a4bd59c6cac48f25096b5",
       "version_major": 2,
       "version_minor": 0
      },
      "text/plain": [
       "Map:   0%|          | 0/5500 [00:00<?, ? examples/s]"
      ]
     },
     "metadata": {},
     "output_type": "display_data"
    }
   ],
   "source": [
    "from transformers import AutoTokenizer\n",
    "\n",
    "student_ckpt = \"distilbert-base-uncased\"\n",
    "student_tokenizer = AutoTokenizer.from_pretrained(student_ckpt)\n",
    "\n",
    "def tokenize_text(batch):\n",
    "  return student_tokenizer(batch[\"text\"], truncation=True)\n",
    "\n",
    "clinc_enc = clinc.map(tokenize_text, batched=True, remove_columns=[\"text\"])\n",
    "clinc_enc = clinc_enc.rename_column(\"intent\", \"labels\")"
   ]
  },
  {
   "cell_type": "code",
   "execution_count": 18,
   "metadata": {},
   "outputs": [],
   "source": [
    "def compute_metrics(pred):\n",
    "  predictions, labels = pred\n",
    "  predictions = np.argmax(predictions, axis=1)\n",
    "  return accuracy_score.compute(predictions=predictions, references=labels)"
   ]
  },
  {
   "cell_type": "code",
   "execution_count": null,
   "metadata": {},
   "outputs": [],
   "source": [
    "batch_size = 48\n",
    "\n",
    "finetuned_ckpt = \"distilbert-base-uncased-finetuned-clinc\"\n",
    "student_training_args = DistillationTrainingArguments(\n",
    "    output_dir=finetuned_ckpt, evaluation_strategy=\"epoch\", \n",
    "    num_train_epochs=5, learing_rate=2e-5, \n",
    "    per_device_train_batch_size=batch_size, \n",
    "    per_device_eval_batch_size=batch_size, alpha=1, weight_decay=0.01, \n",
    "    push_to_hub=False)"
   ]
  },
  {
   "cell_type": "code",
   "execution_count": null,
   "metadata": {},
   "outputs": [],
   "source": [
    "id2label = pipe.model.config.id2label\n",
    "label2id = pipe.model.config.label2id"
   ]
  },
  {
   "cell_type": "code",
   "execution_count": null,
   "metadata": {},
   "outputs": [],
   "source": [
    "from transformers import AutoConfig\n",
    "\n",
    "num_labels = intents.num_classes\n",
    "student_config = (AutoConfig\n",
    "                  .from_pretrained(student_ckpt, num_labels=num_labels, \n",
    "                                   id2label=id2label, label2id=label2id))"
   ]
  },
  {
   "cell_type": "code",
   "execution_count": null,
   "metadata": {},
   "outputs": [],
   "source": [
    "import torch\n",
    "from transformers import AutoModelForSequenceClassification\n",
    "\n",
    "device = torch.device(\"cuda\" if torch.cuda.is_available() else \"cpu\")\n",
    "\n",
    "def student_init():\n",
    "  return (AutoModelForSequenceClassification\n",
    "          .from_pretrained(student_ckpt, config=student_config).to(device))\n"
   ]
  },
  {
   "cell_type": "code",
   "execution_count": null,
   "metadata": {},
   "outputs": [],
   "source": [
    "teacher_ckpt = \"transformersbook/bert-base-uncased-finetuned-clinc\"\n",
    "teacher_model = (AutoModelForSequenceClassification\n",
    "                 .from_pretrained(teacher_ckpt, num_labels=num_labels)\n",
    "                 .to(device))\n",
    "\n",
    "distilbert_trainer = DistillationTrainer(\n",
    "    model_init=student_init, \n",
    "    teacher_model=teacher_model, args=student_training_args, \n",
    "    train_dataset=clinc_enc['train'], eval_dataset=clinc_enc['validation'], \n",
    "    compute_metrics=compute_metrics, tokenizer=student_tokenizer)\n",
    "\n",
    "distilbert_trainer.train()"
   ]
  },
  {
   "cell_type": "code",
   "execution_count": 19,
   "metadata": {},
   "outputs": [],
   "source": [
    "finetuned_ckpt = \"transformersbook/distilbert-base-uncased-finetuned-clinc\"\n",
    "pipe = pipeline(\"text-classification\", model=finetuned_ckpt)"
   ]
  },
  {
   "cell_type": "code",
   "execution_count": 20,
   "metadata": {},
   "outputs": [
    {
     "name": "stdout",
     "output_type": "stream",
     "text": [
      "Model size (MB) - 255.88\n",
      "Average latency (ms) - 16.05 +\\- 1.25\n",
      "accuracy on test set - 0.858\n"
     ]
    }
   ],
   "source": [
    "optim_type = \"DistilBERT\"\n",
    "pb = PerformanceBenchmark(pipe, clinc[\"test\"], optim_type=optim_type)\n",
    "perf_metrics.update(pb.run_benchmark())"
   ]
  },
  {
   "cell_type": "code",
   "execution_count": 21,
   "metadata": {},
   "outputs": [
    {
     "data": {
      "image/png": "[encoded data removed]",
      "text/plain": [
       "<Figure size 640x480 with 1 Axes>"
      ]
     },
     "metadata": {},
     "output_type": "display_data"
    }
   ],
   "source": [
    "import pandas as pd \n",
    "import matplotlib.pyplot as plt\n",
    "\n",
    "def plot_metrics(perf_metrics, current_optim_type):\n",
    "  df = pd.DataFrame.from_dict(perf_metrics, orient='index')\n",
    "\n",
    "  for idx in df.index:\n",
    "    df_opt = df.loc[idx]\n",
    "    # add a dashed circle around the current optimization type\n",
    "    if idx == current_optim_type:\n",
    "      plt.scatter(df_opt[\"time_avg_ms\"], df_opt[\"accuracy\"] * 100, \n",
    "                  alpha=0.5, s=df_opt[\"size_mb\"], label=idx, \n",
    "                  marker='$\\u25CC$')\n",
    "    else:\n",
    "      plt.scatter(df_opt[\"time_avg_ms\"], df_opt[\"accuracy\"] * 100, \n",
    "                  s=df_opt[\"size_mb\"], label=idx, alpha=0.5)\n",
    "    \n",
    "  legend = plt.legend(bbox_to_anchor=(1,1))\n",
    "  for handle in legend.legendHandles:\n",
    "    handle.set_sizes([20])\n",
    "  \n",
    "  plt.ylim(80, 90)\n",
    "  # use the slowest model to define the x-aixs range\n",
    "  xlim = int(perf_metrics[\"BERT baseline\"][\"time_avg_ms\"] + 3)\n",
    "  plt.xlim(1, xlim)\n",
    "  plt.ylabel(\"Accuracy (%)\")\n",
    "  plt.xlabel(\"Average latency (ms)\")\n",
    "  plt.show()\n",
    "\n",
    "plot_metrics(perf_metrics, optim_type)"
   ]
  },
  {
   "attachments": {},
   "cell_type": "markdown",
   "metadata": {},
   "source": [
    "**Optuna**"
   ]
  },
  {
   "cell_type": "code",
   "execution_count": 34,
   "metadata": {},
   "outputs": [],
   "source": [
    "def objective(trial):\n",
    "  x = trial.suggest_float(\"x\", -2, 2)\n",
    "  y = trial.suggest_float(\"y\", -2, 2)\n",
    "  return (1 - x) ** 2 + 100 * (y - x ** 2) ** 2"
   ]
  },
  {
   "cell_type": "code",
   "execution_count": 38,
   "metadata": {},
   "outputs": [
    {
     "name": "stderr",
     "output_type": "stream",
     "text": [
      "\u001b[32m[I 2023-05-10 10:26:38,258]\u001b[0m A new study created in memory with name: no-name-b3522001-e50a-4610-bd65-3360fe2d68fb\u001b[0m\n",
      "\u001b[32m[I 2023-05-10 10:26:38,267]\u001b[0m Trial 0 finished with value: 81.77279678891887 and parameters: {'x': 1.4644701866004985, 'y': 1.2415834289163414}. Best is trial 0 with value: 81.77279678891887.\u001b[0m\n",
      "\u001b[32m[I 2023-05-10 10:26:38,272]\u001b[0m Trial 1 finished with value: 25.374803858118955 and parameters: {'x': 1.2126191728154914, 'y': 0.9671600812133816}. Best is trial 1 with value: 25.374803858118955.\u001b[0m\n",
      "\u001b[32m[I 2023-05-10 10:26:38,277]\u001b[0m Trial 2 finished with value: 177.15276550986414 and parameters: {'x': 0.6866054408806166, 'y': 1.8020454942684911}. Best is trial 1 with value: 25.374803858118955.\u001b[0m\n",
      "\u001b[32m[I 2023-05-10 10:26:38,281]\u001b[0m Trial 3 finished with value: 419.0801399515759 and parameters: {'x': 1.2833413936388363, 'y': -0.3999834685994199}. Best is trial 1 with value: 25.374803858118955.\u001b[0m\n",
      "\u001b[32m[I 2023-05-10 10:26:38,285]\u001b[0m Trial 4 finished with value: 183.72203521057537 and parameters: {'x': 0.08934015194103351, 'y': 1.3603600633886552}. Best is trial 1 with value: 25.374803858118955.\u001b[0m\n",
      "\u001b[32m[I 2023-05-10 10:26:38,289]\u001b[0m Trial 5 finished with value: 507.481234302944 and parameters: {'x': 1.408182444656886, 'y': -0.26938678538154726}. Best is trial 1 with value: 25.374803858118955.\u001b[0m\n",
      "\u001b[32m[I 2023-05-10 10:26:38,293]\u001b[0m Trial 6 finished with value: 787.7804345571726 and parameters: {'x': -0.9207691159216771, 'y': -1.9523468742993582}. Best is trial 1 with value: 25.374803858118955.\u001b[0m\n",
      "\u001b[32m[I 2023-05-10 10:26:38,297]\u001b[0m Trial 7 finished with value: 761.4354939383946 and parameters: {'x': -1.1227854404091078, 'y': -1.4905876247084358}. Best is trial 1 with value: 25.374803858118955.\u001b[0m\n",
      "\u001b[32m[I 2023-05-10 10:26:38,301]\u001b[0m Trial 8 finished with value: 450.8968152190609 and parameters: {'x': -1.1659560171324497, 'y': -0.7529041346859779}. Best is trial 1 with value: 25.374803858118955.\u001b[0m\n",
      "\u001b[32m[I 2023-05-10 10:26:38,306]\u001b[0m Trial 9 finished with value: 133.86011056415296 and parameters: {'x': 0.3021554269364466, 'y': -1.063574920044612}. Best is trial 1 with value: 25.374803858118955.\u001b[0m\n",
      "\u001b[32m[I 2023-05-10 10:26:38,341]\u001b[0m Trial 10 finished with value: 928.409868109367 and parameters: {'x': 1.850647224500204, 'y': 0.37910088957670085}. Best is trial 1 with value: 25.374803858118955.\u001b[0m\n",
      "\u001b[32m[I 2023-05-10 10:26:38,373]\u001b[0m Trial 11 finished with value: 797.4979572127397 and parameters: {'x': 1.8784304521841964, 'y': 0.7058668798035246}. Best is trial 1 with value: 25.374803858118955.\u001b[0m\n",
      "\u001b[32m[I 2023-05-10 10:26:38,401]\u001b[0m Trial 12 finished with value: 2.0471389198519137 and parameters: {'x': 0.9206746035238769, 'y': 0.990499921044945}. Best is trial 12 with value: 2.0471389198519137.\u001b[0m\n",
      "\u001b[32m[I 2023-05-10 10:26:38,420]\u001b[0m Trial 13 finished with value: 0.1271581840686848 and parameters: {'x': 0.7575317371686492, 'y': 0.5477071865894856}. Best is trial 13 with value: 0.1271581840686848.\u001b[0m\n",
      "\u001b[32m[I 2023-05-10 10:26:38,440]\u001b[0m Trial 14 finished with value: 2.036978706493962 and parameters: {'x': -0.3935768027951517, 'y': 0.18571217895487824}. Best is trial 13 with value: 0.1271581840686848.\u001b[0m\n",
      "\u001b[32m[I 2023-05-10 10:26:38,460]\u001b[0m Trial 15 finished with value: 2.3710019046953215 and parameters: {'x': -0.45433512264402576, 'y': 0.15583273167771236}. Best is trial 13 with value: 0.1271581840686848.\u001b[0m\n",
      "\u001b[32m[I 2023-05-10 10:26:38,482]\u001b[0m Trial 16 finished with value: 1344.3088075308974 and parameters: {'x': -1.9838107772787406, 'y': 0.2811849065093801}. Best is trial 13 with value: 0.1271581840686848.\u001b[0m\n",
      "\u001b[32m[I 2023-05-10 10:26:38,500]\u001b[0m Trial 17 finished with value: 11.751039684977302 and parameters: {'x': 0.4515884961061918, 'y': -0.13445052045363126}. Best is trial 13 with value: 0.1271581840686848.\u001b[0m\n",
      "\u001b[32m[I 2023-05-10 10:26:38,518]\u001b[0m Trial 18 finished with value: 33.04422174336521 and parameters: {'x': -0.2083223015419527, 'y': 0.6053962147590142}. Best is trial 13 with value: 0.1271581840686848.\u001b[0m\n",
      "\u001b[32m[I 2023-05-10 10:26:38,537]\u001b[0m Trial 19 finished with value: 15.345068630440094 and parameters: {'x': 0.6899455042099321, 'y': 0.08552595319758707}. Best is trial 13 with value: 0.1271581840686848.\u001b[0m\n",
      "\u001b[32m[I 2023-05-10 10:26:38,557]\u001b[0m Trial 20 finished with value: 25.264269791723173 and parameters: {'x': -0.030011381393743486, 'y': -0.49106828293817373}. Best is trial 13 with value: 0.1271581840686848.\u001b[0m\n",
      "\u001b[32m[I 2023-05-10 10:26:38,580]\u001b[0m Trial 21 finished with value: 0.025749082165630925 and parameters: {'x': 0.851269984811894, 'y': 0.7186369131230301}. Best is trial 21 with value: 0.025749082165630925.\u001b[0m\n",
      "\u001b[32m[I 2023-05-10 10:26:38,601]\u001b[0m Trial 22 finished with value: 12.372616110519349 and parameters: {'x': 0.40785470048548345, 'y': 0.5130727278418031}. Best is trial 21 with value: 0.025749082165630925.\u001b[0m\n",
      "\u001b[32m[I 2023-05-10 10:26:38,622]\u001b[0m Trial 23 finished with value: 48.76765800208162 and parameters: {'x': 0.8536172700414894, 'y': 0.03047743887230847}. Best is trial 21 with value: 0.025749082165630925.\u001b[0m\n",
      "\u001b[32m[I 2023-05-10 10:26:38,644]\u001b[0m Trial 24 finished with value: 9.137804211048152 and parameters: {'x': 1.0129943925346856, 'y': 0.723872420402272}. Best is trial 21 with value: 0.025749082165630925.\u001b[0m\n",
      "\u001b[32m[I 2023-05-10 10:26:38,662]\u001b[0m Trial 25 finished with value: 0.7891373832778621 and parameters: {'x': 0.6103650965318229, 'y': 0.45237800219021934}. Best is trial 21 with value: 0.025749082165630925.\u001b[0m\n",
      "\u001b[32m[I 2023-05-10 10:26:38,687]\u001b[0m Trial 26 finished with value: 4.296833298133958 and parameters: {'x': 0.5492623317299692, 'y': 0.504017279427672}. Best is trial 21 with value: 0.025749082165630925.\u001b[0m\n",
      "\u001b[32m[I 2023-05-10 10:26:38,722]\u001b[0m Trial 27 finished with value: 5.425521235326852 and parameters: {'x': 1.0585218331604929, 'y': 0.8876145163964908}. Best is trial 21 with value: 0.025749082165630925.\u001b[0m\n",
      "\u001b[32m[I 2023-05-10 10:26:38,748]\u001b[0m Trial 28 finished with value: 170.27928768614612 and parameters: {'x': 0.18370323178454073, 'y': 1.3361022331460195}. Best is trial 21 with value: 0.025749082165630925.\u001b[0m\n",
      "\u001b[32m[I 2023-05-10 10:26:38,778]\u001b[0m Trial 29 finished with value: 178.50448693516856 and parameters: {'x': 1.5890501861052146, 'y': 1.190323936331807}. Best is trial 21 with value: 0.025749082165630925.\u001b[0m\n",
      "\u001b[32m[I 2023-05-10 10:26:38,802]\u001b[0m Trial 30 finished with value: 6.6512521890164535 and parameters: {'x': 0.7866403458646749, 'y': 0.36178688936583814}. Best is trial 21 with value: 0.025749082165630925.\u001b[0m\n",
      "\u001b[32m[I 2023-05-10 10:26:38,823]\u001b[0m Trial 31 finished with value: 15.95501522399458 and parameters: {'x': 0.5938429315652731, 'y': -0.04471755238237063}. Best is trial 21 with value: 0.025749082165630925.\u001b[0m\n",
      "\u001b[32m[I 2023-05-10 10:26:38,844]\u001b[0m Trial 32 finished with value: 78.66800749317827 and parameters: {'x': 1.0026145933672854, 'y': 0.11828618965712395}. Best is trial 21 with value: 0.025749082165630925.\u001b[0m\n",
      "\u001b[32m[I 2023-05-10 10:26:38,864]\u001b[0m Trial 33 finished with value: 93.14193891347274 and parameters: {'x': 1.1322825648593713, 'y': 0.317053753697984}. Best is trial 21 with value: 0.025749082165630925.\u001b[0m\n",
      "\u001b[32m[I 2023-05-10 10:26:38,887]\u001b[0m Trial 34 finished with value: 65.34174974094121 and parameters: {'x': 0.28435070290835984, 'y': 0.8860236017023407}. Best is trial 21 with value: 0.025749082165630925.\u001b[0m\n",
      "\u001b[32m[I 2023-05-10 10:26:38,908]\u001b[0m Trial 35 finished with value: 1.744688320800561 and parameters: {'x': 1.3326291927874858, 'y': 1.6480707512277513}. Best is trial 21 with value: 0.025749082165630925.\u001b[0m\n",
      "\u001b[32m[I 2023-05-10 10:26:38,930]\u001b[0m Trial 36 finished with value: 0.1969462080302909 and parameters: {'x': 1.402263137599102, 'y': 1.9475987546772129}. Best is trial 21 with value: 0.025749082165630925.\u001b[0m\n",
      "\u001b[32m[I 2023-05-10 10:26:38,955]\u001b[0m Trial 37 finished with value: 14.671413464328085 and parameters: {'x': 1.189479162014864, 'y': 1.7974245422742654}. Best is trial 21 with value: 0.025749082165630925.\u001b[0m\n",
      "\u001b[32m[I 2023-05-10 10:26:38,977]\u001b[0m Trial 38 finished with value: 32.414237457101564 and parameters: {'x': 1.4490911011859535, 'y': 1.5323039687238351}. Best is trial 21 with value: 0.025749082165630925.\u001b[0m\n",
      "\u001b[32m[I 2023-05-10 10:26:38,997]\u001b[0m Trial 39 finished with value: 189.1346325681263 and parameters: {'x': 0.7431578940837051, 'y': 1.9273060724498476}. Best is trial 21 with value: 0.025749082165630925.\u001b[0m\n",
      "\u001b[32m[I 2023-05-10 10:26:39,019]\u001b[0m Trial 40 finished with value: 215.03636026919418 and parameters: {'x': 1.6167106558427946, 'y': 1.1486389183442238}. Best is trial 21 with value: 0.025749082165630925.\u001b[0m\n",
      "\u001b[32m[I 2023-05-10 10:26:39,040]\u001b[0m Trial 41 finished with value: 0.10112876345808003 and parameters: {'x': 1.2516829510709626, 'y': 1.586148434097112}. Best is trial 21 with value: 0.025749082165630925.\u001b[0m\n",
      "\u001b[32m[I 2023-05-10 10:26:39,061]\u001b[0m Trial 42 finished with value: 119.02455122221443 and parameters: {'x': 0.9463839499452007, 'y': 1.9866131419179438}. Best is trial 21 with value: 0.025749082165630925.\u001b[0m\n",
      "\u001b[32m[I 2023-05-10 10:26:39,082]\u001b[0m Trial 43 finished with value: 5.91095189764006 and parameters: {'x': 1.3081049453115212, 'y': 1.4699742213925877}. Best is trial 21 with value: 0.025749082165630925.\u001b[0m\n",
      "\u001b[32m[I 2023-05-10 10:26:39,102]\u001b[0m Trial 44 finished with value: 154.13613100017116 and parameters: {'x': 0.6566947175058787, 'y': 1.672288936348277}. Best is trial 21 with value: 0.025749082165630925.\u001b[0m\n",
      "\u001b[32m[I 2023-05-10 10:26:39,125]\u001b[0m Trial 45 finished with value: 13.257981835190826 and parameters: {'x': 1.2095213338364732, 'y': 1.0994300601425404}. Best is trial 21 with value: 0.025749082165630925.\u001b[0m\n",
      "\u001b[32m[I 2023-05-10 10:26:39,144]\u001b[0m Trial 46 finished with value: 198.01946493884293 and parameters: {'x': 1.621093140779874, 'y': 1.222120406713077}. Best is trial 21 with value: 0.025749082165630925.\u001b[0m\n",
      "\u001b[32m[I 2023-05-10 10:26:39,165]\u001b[0m Trial 47 finished with value: 0.23862496024515076 and parameters: {'x': 1.1286774656188883, 'y': 1.3210368142325466}. Best is trial 21 with value: 0.025749082165630925.\u001b[0m\n",
      "\u001b[32m[I 2023-05-10 10:26:39,187]\u001b[0m Trial 48 finished with value: 594.449594305387 and parameters: {'x': 1.941494611315635, 'y': 1.333086111756435}. Best is trial 21 with value: 0.025749082165630925.\u001b[0m\n",
      "\u001b[32m[I 2023-05-10 10:26:39,209]\u001b[0m Trial 49 finished with value: 6.3241236593759265 and parameters: {'x': 1.3944076196986201, 'y': 1.6960066241005678}. Best is trial 21 with value: 0.025749082165630925.\u001b[0m\n",
      "\u001b[32m[I 2023-05-10 10:26:39,228]\u001b[0m Trial 50 finished with value: 50.738144736684845 and parameters: {'x': 0.8764282471553959, 'y': 1.4803264075325153}. Best is trial 21 with value: 0.025749082165630925.\u001b[0m\n",
      "\u001b[32m[I 2023-05-10 10:26:39,250]\u001b[0m Trial 51 finished with value: 13.864996505261102 and parameters: {'x': 1.1685780111365986, 'y': 0.9935990587108476}. Best is trial 21 with value: 0.025749082165630925.\u001b[0m\n",
      "\u001b[32m[I 2023-05-10 10:26:39,268]\u001b[0m Trial 52 finished with value: 1.6908015796039466 and parameters: {'x': 0.7847902589151661, 'y': 0.7441332780277014}. Best is trial 21 with value: 0.025749082165630925.\u001b[0m\n",
      "\u001b[32m[I 2023-05-10 10:26:39,290]\u001b[0m Trial 53 finished with value: 5.741895414663993 and parameters: {'x': 1.0709865170189632, 'y': 1.3865294745204666}. Best is trial 21 with value: 0.025749082165630925.\u001b[0m\n",
      "\u001b[32m[I 2023-05-10 10:26:39,309]\u001b[0m Trial 54 finished with value: 272.8521491891076 and parameters: {'x': 0.5289983687885551, 'y': 1.930991316400274}. Best is trial 21 with value: 0.025749082165630925.\u001b[0m\n",
      "\u001b[32m[I 2023-05-10 10:26:39,330]\u001b[0m Trial 55 finished with value: 9.459303463298568 and parameters: {'x': 0.9244780538860247, 'y': 0.5471926023524414}. Best is trial 21 with value: 0.025749082165630925.\u001b[0m\n",
      "\u001b[32m[I 2023-05-10 10:26:39,354]\u001b[0m Trial 56 finished with value: 421.9000464443409 and parameters: {'x': 1.7589955343326327, 'y': 1.0414475167542638}. Best is trial 21 with value: 0.025749082165630925.\u001b[0m\n",
      "\u001b[32m[I 2023-05-10 10:26:39,375]\u001b[0m Trial 57 finished with value: 66.90920585110312 and parameters: {'x': 1.2840489904651566, 'y': 0.8312946722658121}. Best is trial 21 with value: 0.025749082165630925.\u001b[0m\n",
      "\u001b[32m[I 2023-05-10 10:26:39,396]\u001b[0m Trial 58 finished with value: 245.24808075508003 and parameters: {'x': 1.4815574974324657, 'y': 0.6297133396840254}. Best is trial 21 with value: 0.025749082165630925.\u001b[0m\n",
      "\u001b[32m[I 2023-05-10 10:26:39,418]\u001b[0m Trial 59 finished with value: 200.52639212687106 and parameters: {'x': 0.3922453842367619, 'y': 1.56862506725182}. Best is trial 21 with value: 0.025749082165630925.\u001b[0m\n",
      "\u001b[32m[I 2023-05-10 10:26:39,438]\u001b[0m Trial 60 finished with value: 0.2935391279761483 and parameters: {'x': 0.6544129252173811, 'y': 0.4699826115077671}. Best is trial 21 with value: 0.025749082165630925.\u001b[0m\n",
      "\u001b[32m[I 2023-05-10 10:26:39,458]\u001b[0m Trial 61 finished with value: 2.409071405770749 and parameters: {'x': 0.612274193011107, 'y': 0.5251707418639708}. Best is trial 21 with value: 0.025749082165630925.\u001b[0m\n",
      "\u001b[32m[I 2023-05-10 10:26:39,477]\u001b[0m Trial 62 finished with value: 2.0200578213469815 and parameters: {'x': 0.757183506958298, 'y': 0.4332876554122107}. Best is trial 21 with value: 0.025749082165630925.\u001b[0m\n",
      "\u001b[32m[I 2023-05-10 10:26:39,498]\u001b[0m Trial 63 finished with value: 10.010566631821154 and parameters: {'x': 1.0437756733134618, 'y': 0.7731031461457636}. Best is trial 21 with value: 0.025749082165630925.\u001b[0m\n",
      "\u001b[32m[I 2023-05-10 10:26:39,520]\u001b[0m Trial 64 finished with value: 0.5970390362441312 and parameters: {'x': 0.45898312691589027, 'y': 0.26583250992180985}. Best is trial 21 with value: 0.025749082165630925.\u001b[0m\n",
      "\u001b[32m[I 2023-05-10 10:26:39,540]\u001b[0m Trial 65 finished with value: 2.9581563275531333 and parameters: {'x': 0.8729258029287119, 'y': 0.9335222977634503}. Best is trial 21 with value: 0.025749082165630925.\u001b[0m\n",
      "\u001b[32m[I 2023-05-10 10:26:39,561]\u001b[0m Trial 66 finished with value: 0.5775109156955325 and parameters: {'x': 0.4619922062828925, 'y': 0.26710788302216226}. Best is trial 21 with value: 0.025749082165630925.\u001b[0m\n",
      "\u001b[32m[I 2023-05-10 10:26:39,583]\u001b[0m Trial 67 finished with value: 48.03580341093 and parameters: {'x': 1.1442962275089363, 'y': 0.6164854183579673}. Best is trial 21 with value: 0.025749082165630925.\u001b[0m\n",
      "\u001b[32m[I 2023-05-10 10:26:39,602]\u001b[0m Trial 68 finished with value: 3.5075144120678847 and parameters: {'x': 0.677587469297695, 'y': 0.27463725669170413}. Best is trial 21 with value: 0.025749082165630925.\u001b[0m\n",
      "\u001b[32m[I 2023-05-10 10:26:39,624]\u001b[0m Trial 69 finished with value: 74.86353436753372 and parameters: {'x': 0.9804769294640628, 'y': 1.8265699669958695}. Best is trial 21 with value: 0.025749082165630925.\u001b[0m\n",
      "\u001b[32m[I 2023-05-10 10:26:39,644]\u001b[0m Trial 70 finished with value: 10.469121384686694 and parameters: {'x': 1.2722383907944457, 'y': 1.2961776255759125}. Best is trial 21 with value: 0.025749082165630925.\u001b[0m\n",
      "\u001b[32m[I 2023-05-10 10:26:39,662]\u001b[0m Trial 71 finished with value: 0.46672033615070607 and parameters: {'x': 0.48173949252861087, 'y': 0.1875615488220202}. Best is trial 21 with value: 0.025749082165630925.\u001b[0m\n",
      "\u001b[32m[I 2023-05-10 10:26:39,683]\u001b[0m Trial 72 finished with value: 2.276443784735052 and parameters: {'x': 0.17307359054129617, 'y': 0.1561541705188449}. Best is trial 21 with value: 0.025749082165630925.\u001b[0m\n",
      "\u001b[32m[I 2023-05-10 10:26:39,704]\u001b[0m Trial 73 finished with value: 8.133057649344531 and parameters: {'x': 0.8428674613624751, 'y': 0.4256736124847723}. Best is trial 21 with value: 0.025749082165630925.\u001b[0m\n",
      "\u001b[32m[I 2023-05-10 10:26:39,726]\u001b[0m Trial 74 finished with value: 1.795718995160959 and parameters: {'x': 0.3406618334511674, 'y': -0.0006110846213693288}. Best is trial 21 with value: 0.025749082165630925.\u001b[0m\n",
      "\u001b[32m[I 2023-05-10 10:26:39,747]\u001b[0m Trial 75 finished with value: 11.9999238851947 and parameters: {'x': 0.5701591253697189, 'y': 0.6688133107858909}. Best is trial 21 with value: 0.025749082165630925.\u001b[0m\n",
      "\u001b[32m[I 2023-05-10 10:26:39,766]\u001b[0m Trial 76 finished with value: 43.9711074995007 and parameters: {'x': 0.7272144916538638, 'y': -0.1337048971364972}. Best is trial 21 with value: 0.025749082165630925.\u001b[0m\n",
      "\u001b[32m[I 2023-05-10 10:26:39,788]\u001b[0m Trial 77 finished with value: 2.039804904865663 and parameters: {'x': 0.4952415111357675, 'y': 0.3788689361820748}. Best is trial 21 with value: 0.025749082165630925.\u001b[0m\n",
      "\u001b[32m[I 2023-05-10 10:26:39,809]\u001b[0m Trial 78 finished with value: 1.5395603006049767 and parameters: {'x': 0.29831748284982496, 'y': 0.19132620608632275}. Best is trial 21 with value: 0.025749082165630925.\u001b[0m\n",
      "\u001b[32m[I 2023-05-10 10:26:39,836]\u001b[0m Trial 79 finished with value: 15.296584342398253 and parameters: {'x': 1.0920385653425955, 'y': 0.8015480588235825}. Best is trial 21 with value: 0.025749082165630925.\u001b[0m\n",
      "\u001b[32m[I 2023-05-10 10:26:39,884]\u001b[0m Trial 80 finished with value: 12.904934415505407 and parameters: {'x': 0.9213436848906337, 'y': 1.2080224503307257}. Best is trial 21 with value: 0.025749082165630925.\u001b[0m\n",
      "\u001b[32m[I 2023-05-10 10:26:39,913]\u001b[0m Trial 81 finished with value: 0.4640639756976636 and parameters: {'x': 0.42734223488240675, 'y': 0.2195167864775542}. Best is trial 21 with value: 0.025749082165630925.\u001b[0m\n",
      "\u001b[32m[I 2023-05-10 10:26:39,938]\u001b[0m Trial 82 finished with value: 1.3003260454951298 and parameters: {'x': 0.42831313728476295, 'y': 0.28211825611671343}. Best is trial 21 with value: 0.025749082165630925.\u001b[0m\n",
      "\u001b[32m[I 2023-05-10 10:26:39,974]\u001b[0m Trial 83 finished with value: 1.3546000109269996 and parameters: {'x': 0.053403855793830446, 'y': 0.07056871647115612}. Best is trial 21 with value: 0.025749082165630925.\u001b[0m\n",
      "\u001b[32m[I 2023-05-10 10:26:39,997]\u001b[0m Trial 84 finished with value: 0.597206340858018 and parameters: {'x': 0.66004891375304, 'y': 0.5050648278989314}. Best is trial 21 with value: 0.025749082165630925.\u001b[0m\n",
      "\u001b[32m[I 2023-05-10 10:26:40,018]\u001b[0m Trial 85 finished with value: 7.95606408788032 and parameters: {'x': 0.8054237532862685, 'y': 0.36731438456015825}. Best is trial 21 with value: 0.025749082165630925.\u001b[0m\n",
      "\u001b[32m[I 2023-05-10 10:26:40,040]\u001b[0m Trial 86 finished with value: 64.37997476377673 and parameters: {'x': 0.5298403144638348, 'y': 1.0817234219303256}. Best is trial 21 with value: 0.025749082165630925.\u001b[0m\n",
      "\u001b[32m[I 2023-05-10 10:26:40,062]\u001b[0m Trial 87 finished with value: 26.6333331353701 and parameters: {'x': 0.27356863908498874, 'y': 0.585776495129315}. Best is trial 21 with value: 0.025749082165630925.\u001b[0m\n",
      "\u001b[32m[I 2023-05-10 10:26:40,085]\u001b[0m Trial 88 finished with value: 8.169604759661478 and parameters: {'x': 0.6939956926854289, 'y': 0.1974475778919734}. Best is trial 21 with value: 0.025749082165630925.\u001b[0m\n",
      "\u001b[32m[I 2023-05-10 10:26:40,106]\u001b[0m Trial 89 finished with value: 11.11459530760087 and parameters: {'x': 0.6060757566341962, 'y': 0.6983779549060962}. Best is trial 21 with value: 0.025749082165630925.\u001b[0m\n",
      "\u001b[32m[I 2023-05-10 10:26:40,125]\u001b[0m Trial 90 finished with value: 1.711998648080404 and parameters: {'x': 1.0264116295297847, 'y': 0.922704126582812}. Best is trial 21 with value: 0.025749082165630925.\u001b[0m\n",
      "\u001b[32m[I 2023-05-10 10:26:40,146]\u001b[0m Trial 91 finished with value: 0.2561022329482011 and parameters: {'x': 0.49403593814582225, 'y': 0.24305858636515276}. Best is trial 21 with value: 0.025749082165630925.\u001b[0m\n",
      "\u001b[32m[I 2023-05-10 10:26:40,165]\u001b[0m Trial 92 finished with value: 4.896777797630229 and parameters: {'x': 0.38534999391524755, 'y': -0.06408438321384946}. Best is trial 21 with value: 0.025749082165630925.\u001b[0m\n",
      "\u001b[32m[I 2023-05-10 10:26:40,186]\u001b[0m Trial 93 finished with value: 3.841874601492844 and parameters: {'x': 0.5053906389327284, 'y': 0.06575588530921414}. Best is trial 21 with value: 0.025749082165630925.\u001b[0m\n",
      "\u001b[32m[I 2023-05-10 10:26:40,208]\u001b[0m Trial 94 finished with value: 3.8165946176206558 and parameters: {'x': 0.8280034895266027, 'y': 0.4909873167617681}. Best is trial 21 with value: 0.025749082165630925.\u001b[0m\n",
      "\u001b[32m[I 2023-05-10 10:26:40,230]\u001b[0m Trial 95 finished with value: 120.52340862422258 and parameters: {'x': 1.2084871116695346, 'y': 0.36280754570080465}. Best is trial 21 with value: 0.025749082165630925.\u001b[0m\n",
      "\u001b[32m[I 2023-05-10 10:26:40,252]\u001b[0m Trial 96 finished with value: 45.91706161669873 and parameters: {'x': 0.9467010899769086, 'y': 0.21864262286855737}. Best is trial 21 with value: 0.025749082165630925.\u001b[0m\n",
      "\u001b[32m[I 2023-05-10 10:26:40,272]\u001b[0m Trial 97 finished with value: 24.210847131519483 and parameters: {'x': 0.767629018151239, 'y': 0.09775811564348669}. Best is trial 21 with value: 0.025749082165630925.\u001b[0m\n",
      "\u001b[32m[I 2023-05-10 10:26:40,294]\u001b[0m Trial 98 finished with value: 0.3913708506733597 and parameters: {'x': 0.6096527422615229, 'y': 0.3227888532936952}. Best is trial 21 with value: 0.025749082165630925.\u001b[0m\n",
      "\u001b[32m[I 2023-05-10 10:26:40,317]\u001b[0m Trial 99 finished with value: 1.191615682428653 and parameters: {'x': 0.5938017517175869, 'y': 0.4539227126563532}. Best is trial 21 with value: 0.025749082165630925.\u001b[0m\n",
      "\u001b[32m[I 2023-05-10 10:26:40,340]\u001b[0m Trial 100 finished with value: 40.1929963219996 and parameters: {'x': 1.1092690157020313, 'y': 0.596592455123508}. Best is trial 21 with value: 0.025749082165630925.\u001b[0m\n",
      "\u001b[32m[I 2023-05-10 10:26:40,362]\u001b[0m Trial 101 finished with value: 0.728877127501117 and parameters: {'x': 0.47297972581366565, 'y': 0.2908757914397265}. Best is trial 21 with value: 0.025749082165630925.\u001b[0m\n",
      "\u001b[32m[I 2023-05-10 10:26:40,386]\u001b[0m Trial 102 finished with value: 9.72225934963572 and parameters: {'x': 0.1936670203422725, 'y': 0.33870595984562507}. Best is trial 21 with value: 0.025749082165630925.\u001b[0m\n",
      "\u001b[32m[I 2023-05-10 10:26:40,408]\u001b[0m Trial 103 finished with value: 0.37552614680154334 and parameters: {'x': 0.38815027491730625, 'y': 0.1540753990401436}. Best is trial 21 with value: 0.025749082165630925.\u001b[0m\n",
      "\u001b[32m[I 2023-05-10 10:26:40,435]\u001b[0m Trial 104 finished with value: 11.368983788550414 and parameters: {'x': 0.7121688851356011, 'y': 0.17123605708223297}. Best is trial 21 with value: 0.025749082165630925.\u001b[0m\n",
      "\u001b[32m[I 2023-05-10 10:26:40,460]\u001b[0m Trial 105 finished with value: 2.465650605126963 and parameters: {'x': 0.3930442785254283, 'y': 0.00966476755235296}. Best is trial 21 with value: 0.025749082165630925.\u001b[0m\n",
      "\u001b[32m[I 2023-05-10 10:26:40,484]\u001b[0m Trial 106 finished with value: 146.8127988502146 and parameters: {'x': 0.9916381443415163, 'y': -0.2283168169841786}. Best is trial 21 with value: 0.025749082165630925.\u001b[0m\n",
      "\u001b[32m[I 2023-05-10 10:26:40,509]\u001b[0m Trial 107 finished with value: 8.19931043355515 and parameters: {'x': 0.635931134713688, 'y': 0.6884289055079202}. Best is trial 21 with value: 0.025749082165630925.\u001b[0m\n",
      "\u001b[32m[I 2023-05-10 10:26:40,536]\u001b[0m Trial 108 finished with value: 10.534904193270282 and parameters: {'x': 0.8725669203721376, 'y': 0.43704811622900186}. Best is trial 21 with value: 0.025749082165630925.\u001b[0m\n",
      "\u001b[32m[I 2023-05-10 10:26:40,567]\u001b[0m Trial 109 finished with value: 14.188425568389034 and parameters: {'x': 1.337405102270242, 'y': 1.4134913306348382}. Best is trial 21 with value: 0.025749082165630925.\u001b[0m\n",
      "\u001b[32m[I 2023-05-10 10:26:40,606]\u001b[0m Trial 110 finished with value: 166.84261291060508 and parameters: {'x': 0.5421541208554626, 'y': 1.5847951039763415}. Best is trial 21 with value: 0.025749082165630925.\u001b[0m\n",
      "\u001b[32m[I 2023-05-10 10:26:40,631]\u001b[0m Trial 111 finished with value: 258.7092867641039 and parameters: {'x': 0.34540034685402954, 'y': 1.7264130511675497}. Best is trial 21 with value: 0.025749082165630925.\u001b[0m\n",
      "\u001b[32m[I 2023-05-10 10:26:40,655]\u001b[0m Trial 112 finished with value: 0.29047234120536836 and parameters: {'x': 0.47306817194709205, 'y': 0.2351139148202248}. Best is trial 21 with value: 0.025749082165630925.\u001b[0m\n",
      "\u001b[32m[I 2023-05-10 10:26:40,680]\u001b[0m Trial 113 finished with value: 24.193872584795333 and parameters: {'x': 0.7970649961228025, 'y': 0.1438587448078585}. Best is trial 21 with value: 0.025749082165630925.\u001b[0m\n",
      "\u001b[32m[I 2023-05-10 10:26:40,702]\u001b[0m Trial 114 finished with value: 23.50260127778404 and parameters: {'x': 0.24238402552514704, 'y': 0.5375883947532336}. Best is trial 21 with value: 0.025749082165630925.\u001b[0m\n",
      "\u001b[32m[I 2023-05-10 10:26:40,733]\u001b[0m Trial 115 finished with value: 279.0068317818655 and parameters: {'x': 0.4146883417927012, 'y': 1.84129036195373}. Best is trial 21 with value: 0.025749082165630925.\u001b[0m\n",
      "\u001b[32m[I 2023-05-10 10:26:40,759]\u001b[0m Trial 116 finished with value: 15.89215703470731 and parameters: {'x': 0.1446177388221157, 'y': 0.410278878165368}. Best is trial 21 with value: 0.025749082165630925.\u001b[0m\n",
      "\u001b[32m[I 2023-05-10 10:26:40,783]\u001b[0m Trial 117 finished with value: 5.430295518653558 and parameters: {'x': 0.6876971991686134, 'y': 0.24199968975277203}. Best is trial 21 with value: 0.025749082165630925.\u001b[0m\n",
      "\u001b[32m[I 2023-05-10 10:26:40,809]\u001b[0m Trial 118 finished with value: 0.19647853455351247 and parameters: {'x': 0.5673237012262513, 'y': 0.3314841386788977}. Best is trial 21 with value: 0.025749082165630925.\u001b[0m\n",
      "\u001b[32m[I 2023-05-10 10:26:40,833]\u001b[0m Trial 119 finished with value: 6.476725407327611 and parameters: {'x': 0.31272465145300754, 'y': 0.3428350312128845}. Best is trial 21 with value: 0.025749082165630925.\u001b[0m\n",
      "\u001b[32m[I 2023-05-10 10:26:40,858]\u001b[0m Trial 120 finished with value: 18.34684646540615 and parameters: {'x': 0.5733907787728898, 'y': 0.754979414055317}. Best is trial 21 with value: 0.025749082165630925.\u001b[0m\n",
      "\u001b[32m[I 2023-05-10 10:26:40,883]\u001b[0m Trial 121 finished with value: 2.3647555130759863 and parameters: {'x': 0.5080367310581619, 'y': 0.11240548436802647}. Best is trial 21 with value: 0.025749082165630925.\u001b[0m\n",
      "\u001b[32m[I 2023-05-10 10:26:40,906]\u001b[0m Trial 122 finished with value: 4.088816309779385 and parameters: {'x': 0.6426535065611196, 'y': 0.21397790819476997}. Best is trial 21 with value: 0.025749082165630925.\u001b[0m\n",
      "\u001b[32m[I 2023-05-10 10:26:40,938]\u001b[0m Trial 123 finished with value: 37.45903291545714 and parameters: {'x': 0.756275659648203, 'y': -0.039599506730050554}. Best is trial 21 with value: 0.025749082165630925.\u001b[0m\n",
      "\u001b[32m[I 2023-05-10 10:26:40,967]\u001b[0m Trial 124 finished with value: 43.83481070616792 and parameters: {'x': 0.4300552010666857, 'y': 0.8445683794563297}. Best is trial 21 with value: 0.025749082165630925.\u001b[0m\n",
      "\u001b[32m[I 2023-05-10 10:26:41,014]\u001b[0m Trial 125 finished with value: 19.922783859650675 and parameters: {'x': 0.2338318480835514, 'y': 0.494401908596005}. Best is trial 21 with value: 0.025749082165630925.\u001b[0m\n",
      "\u001b[32m[I 2023-05-10 10:26:41,056]\u001b[0m Trial 126 finished with value: 23.214426826078732 and parameters: {'x': 0.8894494902170994, 'y': 0.30943371936436337}. Best is trial 21 with value: 0.025749082165630925.\u001b[0m\n",
      "\u001b[32m[I 2023-05-10 10:26:41,090]\u001b[0m Trial 127 finished with value: 28.380458697666345 and parameters: {'x': 0.3112971209812088, 'y': 0.6251685882646688}. Best is trial 21 with value: 0.025749082165630925.\u001b[0m\n",
      "\u001b[32m[I 2023-05-10 10:26:41,115]\u001b[0m Trial 128 finished with value: 142.29034181140204 and parameters: {'x': 0.5473930969480705, 'y': 1.4916353804439957}. Best is trial 21 with value: 0.025749082165630925.\u001b[0m\n",
      "\u001b[32m[I 2023-05-10 10:26:41,138]\u001b[0m Trial 129 finished with value: 129.98086996919648 and parameters: {'x': -0.011835095703041865, 'y': 1.1357326888230435}. Best is trial 21 with value: 0.025749082165630925.\u001b[0m\n",
      "\u001b[32m[I 2023-05-10 10:26:41,166]\u001b[0m Trial 130 finished with value: 156.18615568366923 and parameters: {'x': 0.12186190730052415, 'y': 1.2615059672561806}. Best is trial 21 with value: 0.025749082165630925.\u001b[0m\n",
      "\u001b[32m[I 2023-05-10 10:26:41,194]\u001b[0m Trial 131 finished with value: 0.7929466171247829 and parameters: {'x': 0.44014310742753293, 'y': 0.26297239008405215}. Best is trial 21 with value: 0.025749082165630925.\u001b[0m\n",
      "\u001b[32m[I 2023-05-10 10:26:41,222]\u001b[0m Trial 132 finished with value: 2.4421110426611747 and parameters: {'x': 0.4631256026183327, 'y': 0.06772439834367094}. Best is trial 21 with value: 0.025749082165630925.\u001b[0m\n",
      "\u001b[32m[I 2023-05-10 10:26:41,250]\u001b[0m Trial 133 finished with value: 256.25025606477976 and parameters: {'x': 0.6267121419428671, 'y': 1.9931146720748683}. Best is trial 21 with value: 0.025749082165630925.\u001b[0m\n",
      "\u001b[32m[I 2023-05-10 10:26:41,283]\u001b[0m Trial 134 finished with value: 6.936767018084615 and parameters: {'x': 0.34355156385999863, 'y': 0.37309320721405204}. Best is trial 21 with value: 0.025749082165630925.\u001b[0m\n",
      "\u001b[32m[I 2023-05-10 10:26:41,309]\u001b[0m Trial 135 finished with value: 9.684586691058206 and parameters: {'x': 0.6844184765722666, 'y': 0.15883222032648547}. Best is trial 21 with value: 0.025749082165630925.\u001b[0m\n",
      "\u001b[32m[I 2023-05-10 10:26:41,334]\u001b[0m Trial 136 finished with value: 1.5213127961162514 and parameters: {'x': 0.7485680542978874, 'y': 0.43960253677899963}. Best is trial 21 with value: 0.025749082165630925.\u001b[0m\n",
      "\u001b[32m[I 2023-05-10 10:26:41,358]\u001b[0m Trial 137 finished with value: 177.37613987828274 and parameters: {'x': 0.5432693734489877, 'y': 1.626184575420175}. Best is trial 21 with value: 0.025749082165630925.\u001b[0m\n",
      "\u001b[32m[I 2023-05-10 10:26:41,391]\u001b[0m Trial 138 finished with value: 116.34799957218613 and parameters: {'x': 1.1610094048157689, 'y': 0.2694157148894869}. Best is trial 21 with value: 0.025749082165630925.\u001b[0m\n",
      "\u001b[32m[I 2023-05-10 10:26:41,420]\u001b[0m Trial 139 finished with value: 95.53387577698196 and parameters: {'x': 1.252297103106634, 'y': 0.5911593898077181}. Best is trial 21 with value: 0.025749082165630925.\u001b[0m\n",
      "\u001b[32m[I 2023-05-10 10:26:41,454]\u001b[0m Trial 140 finished with value: 56.55733541664241 and parameters: {'x': 1.4658646175269299, 'y': 1.3981572811909109}. Best is trial 21 with value: 0.025749082165630925.\u001b[0m\n",
      "\u001b[32m[I 2023-05-10 10:26:41,479]\u001b[0m Trial 141 finished with value: 0.27696158002526333 and parameters: {'x': 0.47529103166187125, 'y': 0.22184930791221139}. Best is trial 21 with value: 0.025749082165630925.\u001b[0m\n",
      "\u001b[32m[I 2023-05-10 10:26:41,503]\u001b[0m Trial 142 finished with value: 0.43008951608357915 and parameters: {'x': 0.37529793241485293, 'y': 0.12088936904446013}. Best is trial 21 with value: 0.025749082165630925.\u001b[0m\n",
      "\u001b[32m[I 2023-05-10 10:26:41,529]\u001b[0m Trial 143 finished with value: 2.706047399240303 and parameters: {'x': 0.37475906656991337, 'y': -0.011710864556551986}. Best is trial 21 with value: 0.025749082165630925.\u001b[0m\n",
      "\u001b[32m[I 2023-05-10 10:26:41,556]\u001b[0m Trial 144 finished with value: 1.0589583936593432 and parameters: {'x': 0.24314371616219616, 'y': 0.1288416721084416}. Best is trial 21 with value: 0.025749082165630925.\u001b[0m\n",
      "\u001b[32m[I 2023-05-10 10:26:41,582]\u001b[0m Trial 145 finished with value: 8.558694004152848 and parameters: {'x': 0.5892032031223411, 'y': 0.057506483199311925}. Best is trial 21 with value: 0.025749082165630925.\u001b[0m\n",
      "\u001b[32m[I 2023-05-10 10:26:41,610]\u001b[0m Trial 146 finished with value: 0.3383711001548195 and parameters: {'x': 0.49858747556199207, 'y': 0.21910106959434933}. Best is trial 21 with value: 0.025749082165630925.\u001b[0m\n",
      "\u001b[32m[I 2023-05-10 10:26:41,638]\u001b[0m Trial 147 finished with value: 36.54743771741825 and parameters: {'x': 0.9701857669850342, 'y': 0.33672300567848296}. Best is trial 21 with value: 0.025749082165630925.\u001b[0m\n",
      "\u001b[32m[I 2023-05-10 10:26:41,666]\u001b[0m Trial 148 finished with value: 120.60963875058106 and parameters: {'x': 0.7877466372390496, 'y': 1.7185638319869898}. Best is trial 21 with value: 0.025749082165630925.\u001b[0m\n",
      "\u001b[32m[I 2023-05-10 10:26:41,704]\u001b[0m Trial 149 finished with value: 374.44603566152733 and parameters: {'x': 1.3636500156014035, 'y': -0.07517772134934969}. Best is trial 21 with value: 0.025749082165630925.\u001b[0m\n",
      "\u001b[32m[I 2023-05-10 10:26:41,733]\u001b[0m Trial 150 finished with value: 1.0070416421812345 and parameters: {'x': 0.6654059458508167, 'y': 0.5373741876151218}. Best is trial 21 with value: 0.025749082165630925.\u001b[0m\n",
      "\u001b[32m[I 2023-05-10 10:26:41,768]\u001b[0m Trial 151 finished with value: 0.28872453311579666 and parameters: {'x': 0.4667397959690218, 'y': 0.21124445557870244}. Best is trial 21 with value: 0.025749082165630925.\u001b[0m\n",
      "\u001b[32m[I 2023-05-10 10:26:41,803]\u001b[0m Trial 152 finished with value: 2.253670061206001 and parameters: {'x': 0.5039686157658824, 'y': 0.3956749767653924}. Best is trial 21 with value: 0.025749082165630925.\u001b[0m\n",
      "\u001b[32m[I 2023-05-10 10:26:41,829]\u001b[0m Trial 153 finished with value: 0.519173899099868 and parameters: {'x': 0.4025499124950711, 'y': 0.20232388132853854}. Best is trial 21 with value: 0.025749082165630925.\u001b[0m\n",
      "\u001b[32m[I 2023-05-10 10:26:41,856]\u001b[0m Trial 154 finished with value: 315.75891878262235 and parameters: {'x': 0.3016665078193075, 'y': 1.8665906102507448}. Best is trial 21 with value: 0.025749082165630925.\u001b[0m\n",
      "\u001b[32m[I 2023-05-10 10:26:41,883]\u001b[0m Trial 155 finished with value: 0.6243061321537231 and parameters: {'x': 0.5921681104572595, 'y': 0.28298890447759606}. Best is trial 21 with value: 0.025749082165630925.\u001b[0m\n",
      "\u001b[32m[I 2023-05-10 10:26:41,910]\u001b[0m Trial 156 finished with value: 245.59568158617984 and parameters: {'x': 0.08401955734907446, 'y': 1.5715293605627003}. Best is trial 21 with value: 0.025749082165630925.\u001b[0m\n",
      "\u001b[32m[I 2023-05-10 10:26:41,950]\u001b[0m Trial 157 finished with value: 39.97131248899606 and parameters: {'x': 0.8356799478358145, 'y': 0.06634585348554872}. Best is trial 21 with value: 0.025749082165630925.\u001b[0m\n",
      "\u001b[32m[I 2023-05-10 10:26:41,982]\u001b[0m Trial 158 finished with value: 54.34448223647368 and parameters: {'x': 0.4761494588290527, 'y': 0.9620417927397675}. Best is trial 21 with value: 0.025749082165630925.\u001b[0m\n",
      "\u001b[32m[I 2023-05-10 10:26:42,004]\u001b[0m Trial 159 finished with value: 80.86293693736239 and parameters: {'x': 1.0541753374296339, 'y': 0.2120637452353309}. Best is trial 21 with value: 0.025749082165630925.\u001b[0m\n",
      "\u001b[32m[I 2023-05-10 10:26:42,033]\u001b[0m Trial 160 finished with value: 295.13956296257766 and parameters: {'x': 0.2024051636087577, 'y': 1.7570780024297}. Best is trial 21 with value: 0.025749082165630925.\u001b[0m\n",
      "\u001b[32m[I 2023-05-10 10:26:42,070]\u001b[0m Trial 161 finished with value: 1.3432067845187663 and parameters: {'x': 0.5084405373870012, 'y': 0.15355578550664745}. Best is trial 21 with value: 0.025749082165630925.\u001b[0m\n",
      "\u001b[32m[I 2023-05-10 10:26:42,100]\u001b[0m Trial 162 finished with value: 10.953868699697194 and parameters: {'x': 0.3879835495512987, 'y': 0.4757896637304581}. Best is trial 21 with value: 0.025749082165630925.\u001b[0m\n",
      "\u001b[32m[I 2023-05-10 10:26:42,129]\u001b[0m Trial 163 finished with value: 1.191291995549412 and parameters: {'x': 0.7089710878820471, 'y': 0.39744522374088}. Best is trial 21 with value: 0.025749082165630925.\u001b[0m\n",
      "\u001b[32m[I 2023-05-10 10:26:42,172]\u001b[0m Trial 164 finished with value: 0.47357288140757203 and parameters: {'x': 0.6129646999996959, 'y': 0.3188243563302211}. Best is trial 21 with value: 0.025749082165630925.\u001b[0m\n",
      "\u001b[32m[I 2023-05-10 10:26:42,221]\u001b[0m Trial 165 finished with value: 0.3730599931234894 and parameters: {'x': 0.4805787383236027, 'y': 0.19882158912504722}. Best is trial 21 with value: 0.025749082165630925.\u001b[0m\n",
      "\u001b[32m[I 2023-05-10 10:26:42,254]\u001b[0m Trial 166 finished with value: 0.5167300927491235 and parameters: {'x': 0.34083776141048916, 'y': 0.08749369291067272}. Best is trial 21 with value: 0.025749082165630925.\u001b[0m\n",
      "\u001b[32m[I 2023-05-10 10:26:42,292]\u001b[0m Trial 167 finished with value: 101.51752697549898 and parameters: {'x': 0.5566423364659356, 'y': 1.3164338266952176}. Best is trial 21 with value: 0.025749082165630925.\u001b[0m\n",
      "\u001b[32m[I 2023-05-10 10:26:42,321]\u001b[0m Trial 168 finished with value: 208.00613677310744 and parameters: {'x': 0.45023718359373205, 'y': 1.6439071157684524}. Best is trial 21 with value: 0.025749082165630925.\u001b[0m\n",
      "\u001b[32m[I 2023-05-10 10:26:42,351]\u001b[0m Trial 169 finished with value: 456.0316638336992 and parameters: {'x': 1.5348573271600043, 'y': 0.2209671359805086}. Best is trial 21 with value: 0.025749082165630925.\u001b[0m\n",
      "\u001b[32m[I 2023-05-10 10:26:42,379]\u001b[0m Trial 170 finished with value: 23.480860349440434 and parameters: {'x': 0.7189662418585453, 'y': 0.0331575564275611}. Best is trial 21 with value: 0.025749082165630925.\u001b[0m\n",
      "\u001b[32m[I 2023-05-10 10:26:42,417]\u001b[0m Trial 171 finished with value: 0.7091300079845346 and parameters: {'x': 0.501314504908706, 'y': 0.1834602983109891}. Best is trial 21 with value: 0.025749082165630925.\u001b[0m\n",
      "\u001b[32m[I 2023-05-10 10:26:42,446]\u001b[0m Trial 172 finished with value: 2.274893036410474 and parameters: {'x': 0.41198340082595264, 'y': 0.3086234294947364}. Best is trial 21 with value: 0.025749082165630925.\u001b[0m\n",
      "\u001b[32m[I 2023-05-10 10:26:42,473]\u001b[0m Trial 173 finished with value: 92.83302144661243 and parameters: {'x': 0.28631488324144105, 'y': 1.042828308167665}. Best is trial 21 with value: 0.025749082165630925.\u001b[0m\n",
      "\u001b[32m[I 2023-05-10 10:26:42,514]\u001b[0m Trial 174 finished with value: 26.827069759606225 and parameters: {'x': 0.6213360484487335, 'y': -0.13050403165094349}. Best is trial 21 with value: 0.025749082165630925.\u001b[0m\n",
      "\u001b[32m[I 2023-05-10 10:26:42,541]\u001b[0m Trial 175 finished with value: 30.323598414407254 and parameters: {'x': 1.4200376785831825, 'y': 1.467442652049455}. Best is trial 21 with value: 0.025749082165630925.\u001b[0m\n",
      "\u001b[32m[I 2023-05-10 10:26:42,576]\u001b[0m Trial 176 finished with value: 9.10227918810412 and parameters: {'x': 1.2631208948670667, 'y': 1.8960246667646536}. Best is trial 21 with value: 0.025749082165630925.\u001b[0m\n",
      "\u001b[32m[I 2023-05-10 10:26:42,601]\u001b[0m Trial 177 finished with value: 3.1587038344582985 and parameters: {'x': 0.5606109922106433, 'y': 0.14207431514664542}. Best is trial 21 with value: 0.025749082165630925.\u001b[0m\n",
      "\u001b[32m[I 2023-05-10 10:26:42,631]\u001b[0m Trial 178 finished with value: 0.3094891645620218 and parameters: {'x': 0.47996444349553824, 'y': 0.25012749259408784}. Best is trial 21 with value: 0.025749082165630925.\u001b[0m\n",
      "\u001b[32m[I 2023-05-10 10:26:42,661]\u001b[0m Trial 179 finished with value: 7.904311307770235 and parameters: {'x': 0.3586676997860655, 'y': 0.40237604236434804}. Best is trial 21 with value: 0.025749082165630925.\u001b[0m\n",
      "\u001b[32m[I 2023-05-10 10:26:42,695]\u001b[0m Trial 180 finished with value: 93.95494384345467 and parameters: {'x': 0.9079728865840709, 'y': 1.7936746600844504}. Best is trial 21 with value: 0.025749082165630925.\u001b[0m\n",
      "\u001b[32m[I 2023-05-10 10:26:42,732]\u001b[0m Trial 181 finished with value: 0.26630167545770295 and parameters: {'x': 0.4888522609117111, 'y': 0.24606854560609004}. Best is trial 21 with value: 0.025749082165630925.\u001b[0m\n",
      "\u001b[32m[I 2023-05-10 10:26:42,766]\u001b[0m Trial 182 finished with value: 1.4177445128306494 and parameters: {'x': 0.46592748386093763, 'y': 0.3235079231445746}. Best is trial 21 with value: 0.025749082165630925.\u001b[0m\n",
      "\u001b[32m[I 2023-05-10 10:26:42,792]\u001b[0m Trial 183 finished with value: 0.13444992594267682 and parameters: {'x': 0.6920501210901898, 'y': 0.4590294011444518}. Best is trial 21 with value: 0.025749082165630925.\u001b[0m\n",
      "\u001b[32m[I 2023-05-10 10:26:42,821]\u001b[0m Trial 184 finished with value: 0.5281198068243204 and parameters: {'x': 0.6475426022023205, 'y': 0.4828640447097516}. Best is trial 21 with value: 0.025749082165630925.\u001b[0m\n",
      "\u001b[32m[I 2023-05-10 10:26:42,855]\u001b[0m Trial 185 finished with value: 1.4345345716124285 and parameters: {'x': 0.8158619967472862, 'y': 0.5472826770344259}. Best is trial 21 with value: 0.025749082165630925.\u001b[0m\n",
      "\u001b[32m[I 2023-05-10 10:26:42,885]\u001b[0m Trial 186 finished with value: 4.59387720669086 and parameters: {'x': 0.6948871702613604, 'y': 0.6950186771028903}. Best is trial 21 with value: 0.025749082165630925.\u001b[0m\n",
      "\u001b[32m[I 2023-05-10 10:26:42,915]\u001b[0m Trial 187 finished with value: 1.2734764267878378 and parameters: {'x': 0.7419277286732834, 'y': 0.44059888596398294}. Best is trial 21 with value: 0.025749082165630925.\u001b[0m\n",
      "\u001b[32m[I 2023-05-10 10:26:42,945]\u001b[0m Trial 188 finished with value: 0.4368612279932213 and parameters: {'x': 0.5618513172614006, 'y': 0.2661908481265344}. Best is trial 21 with value: 0.025749082165630925.\u001b[0m\n",
      "\u001b[32m[I 2023-05-10 10:26:42,972]\u001b[0m Trial 189 finished with value: 92.42863982887327 and parameters: {'x': 1.1524589790266448, 'y': 0.36688444338826964}. Best is trial 21 with value: 0.025749082165630925.\u001b[0m\n",
      "\u001b[32m[I 2023-05-10 10:26:43,000]\u001b[0m Trial 190 finished with value: 2.686547033861533 and parameters: {'x': 0.6487606895886677, 'y': 0.26079115126150926}. Best is trial 21 with value: 0.025749082165630925.\u001b[0m\n",
      "\u001b[32m[I 2023-05-10 10:26:43,040]\u001b[0m Trial 191 finished with value: 3.593889472853061 and parameters: {'x': 0.5489459591592767, 'y': 0.11721019877487557}. Best is trial 21 with value: 0.025749082165630925.\u001b[0m\n",
      "\u001b[32m[I 2023-05-10 10:26:43,070]\u001b[0m Trial 192 finished with value: 0.5201770370265902 and parameters: {'x': 0.5711840017538682, 'y': 0.268260313143716}. Best is trial 21 with value: 0.025749082165630925.\u001b[0m\n",
      "\u001b[32m[I 2023-05-10 10:26:43,102]\u001b[0m Trial 193 finished with value: 96.46449482229693 and parameters: {'x': 0.47107061429225816, 'y': 1.202645656523246}. Best is trial 21 with value: 0.025749082165630925.\u001b[0m\n",
      "\u001b[32m[I 2023-05-10 10:26:43,129]\u001b[0m Trial 194 finished with value: 1.9381859099108782 and parameters: {'x': 0.3772619361516891, 'y': 0.017812183205798443}. Best is trial 21 with value: 0.025749082165630925.\u001b[0m\n",
      "\u001b[32m[I 2023-05-10 10:26:43,155]\u001b[0m Trial 195 finished with value: 289.0321298246911 and parameters: {'x': 0.5333758196907756, 'y': 1.98394377058389}. Best is trial 21 with value: 0.025749082165630925.\u001b[0m\n",
      "\u001b[32m[I 2023-05-10 10:26:43,182]\u001b[0m Trial 196 finished with value: 241.83495030106562 and parameters: {'x': 1.3374120921679025, 'y': 0.23393285176904977}. Best is trial 21 with value: 0.025749082165630925.\u001b[0m\n",
      "\u001b[32m[I 2023-05-10 10:26:43,207]\u001b[0m Trial 197 finished with value: 8.54558205685743 and parameters: {'x': 0.24641452111459117, 'y': 0.3431681819356648}. Best is trial 21 with value: 0.025749082165630925.\u001b[0m\n",
      "\u001b[32m[I 2023-05-10 10:26:43,244]\u001b[0m Trial 198 finished with value: 82.85416781903122 and parameters: {'x': 0.7836921122791752, 'y': 1.524158924079348}. Best is trial 21 with value: 0.025749082165630925.\u001b[0m\n",
      "\u001b[32m[I 2023-05-10 10:26:43,300]\u001b[0m Trial 199 finished with value: 16.648950241477756 and parameters: {'x': 0.6251628093891414, 'y': 0.7971344245163721}. Best is trial 21 with value: 0.025749082165630925.\u001b[0m\n",
      "\u001b[32m[I 2023-05-10 10:26:43,337]\u001b[0m Trial 200 finished with value: 0.6231990348383663 and parameters: {'x': 0.43929987074822757, 'y': 0.13741330483777375}. Best is trial 21 with value: 0.025749082165630925.\u001b[0m\n",
      "\u001b[32m[I 2023-05-10 10:26:43,377]\u001b[0m Trial 201 finished with value: 1.2540372912868656 and parameters: {'x': 0.34998018111461165, 'y': 0.21367338101603287}. Best is trial 21 with value: 0.025749082165630925.\u001b[0m\n",
      "\u001b[32m[I 2023-05-10 10:26:43,407]\u001b[0m Trial 202 finished with value: 3.6968336936167154 and parameters: {'x': 0.5159165924569944, 'y': 0.4522477890273089}. Best is trial 21 with value: 0.025749082165630925.\u001b[0m\n",
      "\u001b[32m[I 2023-05-10 10:26:43,440]\u001b[0m Trial 203 finished with value: 1.7582008390171824 and parameters: {'x': 0.4319940500520997, 'y': 0.3064341370976028}. Best is trial 21 with value: 0.025749082165630925.\u001b[0m\n",
      "\u001b[32m[I 2023-05-10 10:26:43,471]\u001b[0m Trial 204 finished with value: 5.230582839728956 and parameters: {'x': 0.5899790319117412, 'y': 0.5730744946599295}. Best is trial 21 with value: 0.025749082165630925.\u001b[0m\n",
      "\u001b[32m[I 2023-05-10 10:26:43,504]\u001b[0m Trial 205 finished with value: 5.19360158052882 and parameters: {'x': -0.09309679406377566, 'y': 0.2086355350712007}. Best is trial 21 with value: 0.025749082165630925.\u001b[0m\n",
      "\u001b[32m[I 2023-05-10 10:26:43,535]\u001b[0m Trial 206 finished with value: 129.88551530412823 and parameters: {'x': 0.7151965567342728, 'y': 1.6508234643332929}. Best is trial 21 with value: 0.025749082165630925.\u001b[0m\n",
      "\u001b[32m[I 2023-05-10 10:26:43,566]\u001b[0m Trial 207 finished with value: 13.920225054085442 and parameters: {'x': 0.8672348747942356, 'y': 0.3792344437695665}. Best is trial 21 with value: 0.025749082165630925.\u001b[0m\n",
      "\u001b[32m[I 2023-05-10 10:26:43,601]\u001b[0m Trial 208 finished with value: 112.83977861807678 and parameters: {'x': 0.4961189381706892, 'y': 1.3071989493119693}. Best is trial 21 with value: 0.025749082165630925.\u001b[0m\n",
      "\u001b[32m[I 2023-05-10 10:26:43,642]\u001b[0m Trial 209 finished with value: 0.6086192626004698 and parameters: {'x': 0.2904805377931752, 'y': 0.11681370741880216}. Best is trial 21 with value: 0.025749082165630925.\u001b[0m\n",
      "\u001b[32m[I 2023-05-10 10:26:43,673]\u001b[0m Trial 210 finished with value: 2.7183810559464114 and parameters: {'x': 0.6518944662751377, 'y': 0.26380797641211656}. Best is trial 21 with value: 0.025749082165630925.\u001b[0m\n",
      "\u001b[32m[I 2023-05-10 10:26:43,712]\u001b[0m Trial 211 finished with value: 0.3864415724554988 and parameters: {'x': 0.48453989113557194, 'y': 0.200030891967772}. Best is trial 21 with value: 0.025749082165630925.\u001b[0m\n",
      "\u001b[32m[I 2023-05-10 10:26:43,752]\u001b[0m Trial 212 finished with value: 261.88619782801703 and parameters: {'x': 0.42578323002188756, 'y': 1.7985621245760703}. Best is trial 21 with value: 0.025749082165630925.\u001b[0m\n",
      "\u001b[32m[I 2023-05-10 10:26:43,786]\u001b[0m Trial 213 finished with value: 38.115808712845904 and parameters: {'x': 0.5207656084712318, 'y': 0.8867140251501383}. Best is trial 21 with value: 0.025749082165630925.\u001b[0m\n",
      "\u001b[32m[I 2023-05-10 10:26:43,817]\u001b[0m Trial 214 finished with value: 0.48536451344298476 and parameters: {'x': 0.38379413057782225, 'y': 0.1798025251006686}. Best is trial 21 with value: 0.025749082165630925.\u001b[0m\n",
      "\u001b[32m[I 2023-05-10 10:26:43,846]\u001b[0m Trial 215 finished with value: 11.724614689633249 and parameters: {'x': 0.5779437102638578, 'y': -0.005782232831067408}. Best is trial 21 with value: 0.025749082165630925.\u001b[0m\n",
      "\u001b[32m[I 2023-05-10 10:26:43,876]\u001b[0m Trial 216 finished with value: 79.70102157461994 and parameters: {'x': 0.9912250363364509, 'y': 0.08977321758796933}. Best is trial 21 with value: 0.025749082165630925.\u001b[0m\n",
      "\u001b[32m[I 2023-05-10 10:26:43,908]\u001b[0m Trial 217 finished with value: 29.165178645994608 and parameters: {'x': 0.32930309191807294, 'y': 0.6443075276025617}. Best is trial 21 with value: 0.025749082165630925.\u001b[0m\n",
      "\u001b[32m[I 2023-05-10 10:26:43,939]\u001b[0m Trial 218 finished with value: 9.542095237210175 and parameters: {'x': 0.20042094130951138, 'y': 0.33854362918440173}. Best is trial 21 with value: 0.025749082165630925.\u001b[0m\n",
      "\u001b[32m[I 2023-05-10 10:26:43,971]\u001b[0m Trial 219 finished with value: 0.22655193449369498 and parameters: {'x': 1.192039872349519, 'y': 1.3774076368669332}. Best is trial 21 with value: 0.025749082165630925.\u001b[0m\n",
      "\u001b[32m[I 2023-05-10 10:26:44,002]\u001b[0m Trial 220 finished with value: 5.409024260403735 and parameters: {'x': 1.0558709640139547, 'y': 1.3473694645234044}. Best is trial 21 with value: 0.025749082165630925.\u001b[0m\n",
      "\u001b[32m[I 2023-05-10 10:26:44,036]\u001b[0m Trial 221 finished with value: 0.5977164633848845 and parameters: {'x': 1.1537625789159711, 'y': 1.4069357288759237}. Best is trial 21 with value: 0.025749082165630925.\u001b[0m\n",
      "\u001b[32m[I 2023-05-10 10:26:44,069]\u001b[0m Trial 222 finished with value: 41.078912094547675 and parameters: {'x': 1.2742780654998467, 'y': 0.9834434007418111}. Best is trial 21 with value: 0.025749082165630925.\u001b[0m\n",
      "\u001b[32m[I 2023-05-10 10:26:44,109]\u001b[0m Trial 223 finished with value: 9.214655260005543 and parameters: {'x': 1.2040418920690472, 'y': 1.146846903011793}. Best is trial 21 with value: 0.025749082165630925.\u001b[0m\n",
      "\u001b[32m[I 2023-05-10 10:26:44,144]\u001b[0m Trial 224 finished with value: 112.407159353336 and parameters: {'x': 0.4400078709494259, 'y': 1.2523494266774358}. Best is trial 21 with value: 0.025749082165630925.\u001b[0m\n",
      "\u001b[32m[I 2023-05-10 10:26:44,172]\u001b[0m Trial 225 finished with value: 13.109739416070536 and parameters: {'x': 1.3868414463814742, 'y': 1.5633279041894486}. Best is trial 21 with value: 0.025749082165630925.\u001b[0m\n",
      "\u001b[32m[I 2023-05-10 10:26:44,207]\u001b[0m Trial 226 finished with value: 101.21275418746508 and parameters: {'x': 0.6653488235104457, 'y': 1.448177807642331}. Best is trial 21 with value: 0.025749082165630925.\u001b[0m\n",
      "\u001b[32m[I 2023-05-10 10:26:44,240]\u001b[0m Trial 227 finished with value: 0.2946566588861863 and parameters: {'x': 0.5535248950706647, 'y': 0.27551641645792446}. Best is trial 21 with value: 0.025749082165630925.\u001b[0m\n",
      "\u001b[32m[I 2023-05-10 10:26:44,282]\u001b[0m Trial 228 finished with value: 2.509915707199531 and parameters: {'x': 0.5709858658961235, 'y': 0.47853264836040177}. Best is trial 21 with value: 0.025749082165630925.\u001b[0m\n",
      "\u001b[32m[I 2023-05-10 10:26:44,351]\u001b[0m Trial 229 finished with value: 176.76977760017675 and parameters: {'x': 0.7410657079206497, 'y': 1.878474176846412}. Best is trial 21 with value: 0.025749082165630925.\u001b[0m\n",
      "\u001b[32m[I 2023-05-10 10:26:44,403]\u001b[0m Trial 230 finished with value: 1.378957644255845 and parameters: {'x': 1.0976662680661824, 'y': 1.0878490610432985}. Best is trial 21 with value: 0.025749082165630925.\u001b[0m\n",
      "\u001b[32m[I 2023-05-10 10:26:44,434]\u001b[0m Trial 231 finished with value: 211.75199292060105 and parameters: {'x': 0.494056995404603, 'y': 1.698382569769785}. Best is trial 21 with value: 0.025749082165630925.\u001b[0m\n",
      "\u001b[32m[I 2023-05-10 10:26:44,463]\u001b[0m Trial 232 finished with value: 1.2972096956393242 and parameters: {'x': 0.598340797388585, 'y': 0.2514340582881124}. Best is trial 21 with value: 0.025749082165630925.\u001b[0m\n",
      "\u001b[32m[I 2023-05-10 10:26:44,494]\u001b[0m Trial 233 finished with value: 0.7989793062888999 and parameters: {'x': 0.48539748939696825, 'y': 0.16252422858640286}. Best is trial 21 with value: 0.025749082165630925.\u001b[0m\n",
      "\u001b[32m[I 2023-05-10 10:26:44,536]\u001b[0m Trial 234 finished with value: 2.7025121064425437 and parameters: {'x': 0.38720167767188995, 'y': 0.30246989729899443}. Best is trial 21 with value: 0.025749082165630925.\u001b[0m\n",
      "\u001b[32m[I 2023-05-10 10:26:44,572]\u001b[0m Trial 235 finished with value: 0.22166845762317325 and parameters: {'x': 0.6498327996018185, 'y': 0.3908102367428105}. Best is trial 21 with value: 0.025749082165630925.\u001b[0m\n",
      "\u001b[32m[I 2023-05-10 10:26:44,609]\u001b[0m Trial 236 finished with value: 1.140886566471662 and parameters: {'x': 0.7066559133795857, 'y': 0.3966573797871522}. Best is trial 21 with value: 0.025749082165630925.\u001b[0m\n",
      "\u001b[32m[I 2023-05-10 10:26:44,647]\u001b[0m Trial 237 finished with value: 1.2337228655348635 and parameters: {'x': 0.7838985938835097, 'y': 0.5055464181692373}. Best is trial 21 with value: 0.025749082165630925.\u001b[0m\n",
      "\u001b[32m[I 2023-05-10 10:26:44,685]\u001b[0m Trial 238 finished with value: 128.6379654895656 and parameters: {'x': 0.6023524544596712, 'y': 1.4963179672984908}. Best is trial 21 with value: 0.025749082165630925.\u001b[0m\n",
      "\u001b[32m[I 2023-05-10 10:26:44,716]\u001b[0m Trial 239 finished with value: 0.3420596403804581 and parameters: {'x': 0.6619116128667611, 'y': 0.3904032069025266}. Best is trial 21 with value: 0.025749082165630925.\u001b[0m\n",
      "\u001b[32m[I 2023-05-10 10:26:44,749]\u001b[0m Trial 240 finished with value: 12.553197789907134 and parameters: {'x': 0.8726875915843542, 'y': 0.4075075200581242}. Best is trial 21 with value: 0.025749082165630925.\u001b[0m\n",
      "\u001b[32m[I 2023-05-10 10:26:44,783]\u001b[0m Trial 241 finished with value: 1.577749101249665 and parameters: {'x': 0.6602784589810311, 'y': 0.3150404596920494}. Best is trial 21 with value: 0.025749082165630925.\u001b[0m\n",
      "\u001b[32m[I 2023-05-10 10:26:44,822]\u001b[0m Trial 242 finished with value: 0.43785767313103946 and parameters: {'x': 0.5162714747396968, 'y': 0.22138489157675814}. Best is trial 21 with value: 0.025749082165630925.\u001b[0m\n",
      "\u001b[32m[I 2023-05-10 10:26:44,852]\u001b[0m Trial 243 finished with value: 310.59408236806905 and parameters: {'x': 1.457635781117341, 'y': 0.36292838498470503}. Best is trial 21 with value: 0.025749082165630925.\u001b[0m\n",
      "\u001b[32m[I 2023-05-10 10:26:44,902]\u001b[0m Trial 244 finished with value: 173.30236141999302 and parameters: {'x': 1.2525338607824266, 'y': 0.25263976535220606}. Best is trial 21 with value: 0.025749082165630925.\u001b[0m\n",
      "\u001b[32m[I 2023-05-10 10:26:44,938]\u001b[0m Trial 245 finished with value: 167.81385249545616 and parameters: {'x': 0.5646445418795507, 'y': 1.6135215629463284}. Best is trial 21 with value: 0.025749082165630925.\u001b[0m\n",
      "\u001b[32m[I 2023-05-10 10:26:44,975]\u001b[0m Trial 246 finished with value: 1.5267698392227125 and parameters: {'x': 0.6504270895549399, 'y': 0.5415698966533649}. Best is trial 21 with value: 0.025749082165630925.\u001b[0m\n",
      "\u001b[32m[I 2023-05-10 10:26:45,017]\u001b[0m Trial 247 finished with value: 5.029090289199883 and parameters: {'x': 0.80320682865994, 'y': 0.42175001154941427}. Best is trial 21 with value: 0.025749082165630925.\u001b[0m\n",
      "\u001b[32m[I 2023-05-10 10:26:45,049]\u001b[0m Trial 248 finished with value: 245.31910010147448 and parameters: {'x': 1.3120091612115963, 'y': 0.1554122594439908}. Best is trial 21 with value: 0.025749082165630925.\u001b[0m\n",
      "\u001b[32m[I 2023-05-10 10:26:45,088]\u001b[0m Trial 249 finished with value: 77.24865184325049 and parameters: {'x': 0.9311080356079726, 'y': 1.7458472958212559}. Best is trial 21 with value: 0.025749082165630925.\u001b[0m\n",
      "\u001b[32m[I 2023-05-10 10:26:45,121]\u001b[0m Trial 250 finished with value: 8.177218047519526 and parameters: {'x': -0.5662444167425162, 'y': 0.0813818988552541}. Best is trial 21 with value: 0.025749082165630925.\u001b[0m\n",
      "\u001b[32m[I 2023-05-10 10:26:45,153]\u001b[0m Trial 251 finished with value: 1208.1730868436496 and parameters: {'x': -1.9445781552471395, 'y': 0.3180006736779638}. Best is trial 21 with value: 0.025749082165630925.\u001b[0m\n",
      "\u001b[32m[I 2023-05-10 10:26:45,185]\u001b[0m Trial 252 finished with value: 98.29495031224776 and parameters: {'x': 0.5314597412969109, 'y': 1.272779807251037}. Best is trial 21 with value: 0.025749082165630925.\u001b[0m\n",
      "\u001b[32m[I 2023-05-10 10:26:45,216]\u001b[0m Trial 253 finished with value: 1.5604237806665282 and parameters: {'x': 0.7042447440855856, 'y': 0.6173259185743067}. Best is trial 21 with value: 0.025749082165630925.\u001b[0m\n",
      "\u001b[32m[I 2023-05-10 10:26:45,253]\u001b[0m Trial 254 finished with value: 137.09025853709196 and parameters: {'x': 0.4513744553255128, 'y': 1.3733083434119333}. Best is trial 21 with value: 0.025749082165630925.\u001b[0m\n",
      "\u001b[32m[I 2023-05-10 10:26:45,284]\u001b[0m Trial 255 finished with value: 462.8506214017822 and parameters: {'x': 1.6154634966215586, 'y': 0.4592064961729621}. Best is trial 21 with value: 0.025749082165630925.\u001b[0m\n",
      "\u001b[32m[I 2023-05-10 10:26:45,324]\u001b[0m Trial 256 finished with value: 248.9267055934812 and parameters: {'x': 0.6133388587593953, 'y': 1.9534518087172776}. Best is trial 21 with value: 0.025749082165630925.\u001b[0m\n",
      "\u001b[32m[I 2023-05-10 10:26:45,355]\u001b[0m Trial 257 finished with value: 11.288995551670254 and parameters: {'x': 0.7488230238276167, 'y': 0.22568509385058763}. Best is trial 21 with value: 0.025749082165630925.\u001b[0m\n",
      "\u001b[32m[I 2023-05-10 10:26:45,387]\u001b[0m Trial 258 finished with value: 0.25788895482873975 and parameters: {'x': 0.5318549597965908, 'y': 0.3025494279742532}. Best is trial 21 with value: 0.025749082165630925.\u001b[0m\n",
      "\u001b[32m[I 2023-05-10 10:26:45,429]\u001b[0m Trial 259 finished with value: 5.511176717897822 and parameters: {'x': 0.38731572796802116, 'y': 0.3766363912288948}. Best is trial 21 with value: 0.025749082165630925.\u001b[0m\n",
      "\u001b[32m[I 2023-05-10 10:26:45,474]\u001b[0m Trial 260 finished with value: 0.4798771268830012 and parameters: {'x': 1.206031740287281, 'y': 1.5206509021396977}. Best is trial 21 with value: 0.025749082165630925.\u001b[0m\n",
      "\u001b[32m[I 2023-05-10 10:26:45,538]\u001b[0m Trial 261 finished with value: 28.22031912192642 and parameters: {'x': 0.4784176499949658, 'y': 0.7575446907232285}. Best is trial 21 with value: 0.025749082165630925.\u001b[0m\n",
      "\u001b[32m[I 2023-05-10 10:26:45,589]\u001b[0m Trial 262 finished with value: 437.2257489537618 and parameters: {'x': 1.5063545551976012, 'y': 0.17872285101902724}. Best is trial 21 with value: 0.025749082165630925.\u001b[0m\n",
      "\u001b[32m[I 2023-05-10 10:26:45,635]\u001b[0m Trial 263 finished with value: 0.5684112135683299 and parameters: {'x': 0.3029407614201456, 'y': 0.06304687449858912}. Best is trial 21 with value: 0.025749082165630925.\u001b[0m\n",
      "\u001b[32m[I 2023-05-10 10:26:45,669]\u001b[0m Trial 264 finished with value: 1.316908900402173 and parameters: {'x': 0.6556176794417495, 'y': 0.539301875431345}. Best is trial 21 with value: 0.025749082165630925.\u001b[0m\n",
      "\u001b[32m[I 2023-05-10 10:26:45,699]\u001b[0m Trial 265 finished with value: 137.5596396344137 and parameters: {'x': 0.8364392774705006, 'y': 1.8723748293424163}. Best is trial 21 with value: 0.025749082165630925.\u001b[0m\n",
      "\u001b[32m[I 2023-05-10 10:26:45,734]\u001b[0m Trial 266 finished with value: 254.5474227220619 and parameters: {'x': 1.3853854715457998, 'y': 0.3243041876928964}. Best is trial 21 with value: 0.025749082165630925.\u001b[0m\n",
      "\u001b[32m[I 2023-05-10 10:26:45,775]\u001b[0m Trial 267 finished with value: 75.38457297112924 and parameters: {'x': 0.5530029268287411, 'y': 1.1729037350656837}. Best is trial 21 with value: 0.025749082165630925.\u001b[0m\n",
      "\u001b[32m[I 2023-05-10 10:26:45,815]\u001b[0m Trial 268 finished with value: 0.39191817839939874 and parameters: {'x': 0.43004535333891825, 'y': 0.15904115289984455}. Best is trial 21 with value: 0.025749082165630925.\u001b[0m\n",
      "\u001b[32m[I 2023-05-10 10:26:45,859]\u001b[0m Trial 269 finished with value: 6.646080575915071 and parameters: {'x': 0.4541659924599805, 'y': 0.45822201878754204}. Best is trial 21 with value: 0.025749082165630925.\u001b[0m\n",
      "\u001b[32m[I 2023-05-10 10:26:45,894]\u001b[0m Trial 270 finished with value: 28.015148508299845 and parameters: {'x': 1.0974590336319763, 'y': 0.6752126811832391}. Best is trial 21 with value: 0.025749082165630925.\u001b[0m\n",
      "\u001b[32m[I 2023-05-10 10:26:45,932]\u001b[0m Trial 271 finished with value: 1.3960914764622958 and parameters: {'x': 0.6244073204748632, 'y': 0.27785675460552733}. Best is trial 21 with value: 0.025749082165630925.\u001b[0m\n",
      "\u001b[32m[I 2023-05-10 10:26:45,968]\u001b[0m Trial 272 finished with value: 144.39478930877118 and parameters: {'x': 0.7197414425293042, 'y': 1.7193447066387522}. Best is trial 21 with value: 0.025749082165630925.\u001b[0m\n",
      "\u001b[32m[I 2023-05-10 10:26:46,008]\u001b[0m Trial 273 finished with value: 13.482505327523834 and parameters: {'x': 1.0242398874924588, 'y': 1.416244657913491}. Best is trial 21 with value: 0.025749082165630925.\u001b[0m\n",
      "\u001b[32m[I 2023-05-10 10:26:46,042]\u001b[0m Trial 274 finished with value: 0.8409448305458537 and parameters: {'x': 0.5016625398073787, 'y': 0.17468448764385924}. Best is trial 21 with value: 0.025749082165630925.\u001b[0m\n",
      "\u001b[32m[I 2023-05-10 10:26:46,072]\u001b[0m Trial 275 finished with value: 0.4811049172437716 and parameters: {'x': 0.5720152949248409, 'y': 0.38178482928382557}. Best is trial 21 with value: 0.025749082165630925.\u001b[0m\n",
      "\u001b[32m[I 2023-05-10 10:26:46,103]\u001b[0m Trial 276 finished with value: 2.004093026149219 and parameters: {'x': 0.9455911500036409, 'y': 1.035604020639319}. Best is trial 21 with value: 0.025749082165630925.\u001b[0m\n",
      "\u001b[32m[I 2023-05-10 10:26:46,138]\u001b[0m Trial 277 finished with value: 197.21968035456754 and parameters: {'x': 0.41047975070135895, 'y': 1.5716049763785365}. Best is trial 21 with value: 0.025749082165630925.\u001b[0m\n",
      "\u001b[32m[I 2023-05-10 10:26:46,173]\u001b[0m Trial 278 finished with value: 18.52809891407444 and parameters: {'x': 0.6744454815148964, 'y': 0.8840865998912018}. Best is trial 21 with value: 0.025749082165630925.\u001b[0m\n",
      "\u001b[32m[I 2023-05-10 10:26:46,214]\u001b[0m Trial 279 finished with value: 138.68380171668215 and parameters: {'x': 0.7884121809737814, 'y': 1.7990445402254283}. Best is trial 21 with value: 0.025749082165630925.\u001b[0m\n",
      "\u001b[32m[I 2023-05-10 10:26:46,249]\u001b[0m Trial 280 finished with value: 0.2704410722584535 and parameters: {'x': 0.5111996749052776, 'y': 0.2790776608046344}. Best is trial 21 with value: 0.025749082165630925.\u001b[0m\n",
      "\u001b[32m[I 2023-05-10 10:26:46,281]\u001b[0m Trial 281 finished with value: 0.20444740950930326 and parameters: {'x': 0.5479446441801025, 'y': 0.2992770785444066}. Best is trial 21 with value: 0.025749082165630925.\u001b[0m\n",
      "\u001b[32m[I 2023-05-10 10:26:46,313]\u001b[0m Trial 282 finished with value: 0.2733746759919843 and parameters: {'x': 0.5242808742886379, 'y': 0.29656513252103817}. Best is trial 21 with value: 0.025749082165630925.\u001b[0m\n",
      "\u001b[32m[I 2023-05-10 10:26:46,343]\u001b[0m Trial 283 finished with value: 2.4054097911557686 and parameters: {'x': 0.537474692579137, 'y': 0.4369155315828055}. Best is trial 21 with value: 0.025749082165630925.\u001b[0m\n",
      "\u001b[32m[I 2023-05-10 10:26:46,375]\u001b[0m Trial 284 finished with value: 44.98297522429805 and parameters: {'x': 1.150625741614499, 'y': 1.9944639227773853}. Best is trial 21 with value: 0.025749082165630925.\u001b[0m\n",
      "\u001b[32m[I 2023-05-10 10:26:46,407]\u001b[0m Trial 285 finished with value: 1.0669636565554876 and parameters: {'x': 0.6214882699966967, 'y': 0.2901387457662936}. Best is trial 21 with value: 0.025749082165630925.\u001b[0m\n",
      "\u001b[32m[I 2023-05-10 10:26:46,437]\u001b[0m Trial 286 finished with value: 145.04312433694196 and parameters: {'x': 1.308935749324729, 'y': 0.5093705919329952}. Best is trial 21 with value: 0.025749082165630925.\u001b[0m\n",
      "\u001b[32m[I 2023-05-10 10:26:46,467]\u001b[0m Trial 287 finished with value: 630.0043106715859 and parameters: {'x': 1.6946145358880613, 'y': 0.3626910811949843}. Best is trial 21 with value: 0.025749082165630925.\u001b[0m\n",
      "\u001b[32m[I 2023-05-10 10:26:46,511]\u001b[0m Trial 288 finished with value: 155.85030444758542 and parameters: {'x': 0.31691373617948726, 'y': -1.146095657803595}. Best is trial 21 with value: 0.025749082165630925.\u001b[0m\n",
      "\u001b[32m[I 2023-05-10 10:26:46,549]\u001b[0m Trial 289 finished with value: 0.5583998114985775 and parameters: {'x': 0.7266113158242401, 'y': 0.5975095604943654}. Best is trial 21 with value: 0.025749082165630925.\u001b[0m\n",
      "\u001b[32m[I 2023-05-10 10:26:46,584]\u001b[0m Trial 290 finished with value: 192.2845215882616 and parameters: {'x': 0.5392172011337378, 'y': 1.6766563437628337}. Best is trial 21 with value: 0.025749082165630925.\u001b[0m\n",
      "\u001b[32m[I 2023-05-10 10:26:46,627]\u001b[0m Trial 291 finished with value: 23.04823577531783 and parameters: {'x': 0.8745909166972905, 'y': 1.2448312270699133}. Best is trial 21 with value: 0.025749082165630925.\u001b[0m\n",
      "\u001b[32m[I 2023-05-10 10:26:46,682]\u001b[0m Trial 292 finished with value: 1.716394566803429 and parameters: {'x': 0.6212967605913895, 'y': 0.2605912281474258}. Best is trial 21 with value: 0.025749082165630925.\u001b[0m\n",
      "\u001b[32m[I 2023-05-10 10:26:46,733]\u001b[0m Trial 293 finished with value: 116.14972492889008 and parameters: {'x': 1.2269857202357008, 'y': 0.42800519943001797}. Best is trial 21 with value: 0.025749082165630925.\u001b[0m\n",
      "\u001b[32m[I 2023-05-10 10:26:46,773]\u001b[0m Trial 294 finished with value: 74.30194610006852 and parameters: {'x': 0.4816985597423935, 'y': 1.0924596161776938}. Best is trial 21 with value: 0.025749082165630925.\u001b[0m\n",
      "\u001b[32m[I 2023-05-10 10:26:46,813]\u001b[0m Trial 295 finished with value: 49.03856151568908 and parameters: {'x': 1.4241724067798458, 'y': 1.3292774929162303}. Best is trial 21 with value: 0.025749082165630925.\u001b[0m\n",
      "\u001b[32m[I 2023-05-10 10:26:46,849]\u001b[0m Trial 296 finished with value: 83.34726161307222 and parameters: {'x': 0.23395811382968343, 'y': 0.9644640585034946}. Best is trial 21 with value: 0.025749082165630925.\u001b[0m\n",
      "\u001b[32m[I 2023-05-10 10:26:46,890]\u001b[0m Trial 297 finished with value: 3.7450605805294868 and parameters: {'x': 0.37823908082022883, 'y': 0.3263261986286945}. Best is trial 21 with value: 0.025749082165630925.\u001b[0m\n",
      "\u001b[32m[I 2023-05-10 10:26:46,928]\u001b[0m Trial 298 finished with value: 6.7662153009837045 and parameters: {'x': 0.678998156307477, 'y': 0.7191697248587867}. Best is trial 21 with value: 0.025749082165630925.\u001b[0m\n",
      "\u001b[32m[I 2023-05-10 10:26:46,978]\u001b[0m Trial 299 finished with value: 6.72263704753121 and parameters: {'x': 0.11104828844447867, 'y': 0.2558969477590259}. Best is trial 21 with value: 0.025749082165630925.\u001b[0m\n",
      "\u001b[32m[I 2023-05-10 10:26:47,026]\u001b[0m Trial 300 finished with value: 51.99606045974384 and parameters: {'x': 0.5766226519424781, 'y': -0.3873452720400121}. Best is trial 21 with value: 0.025749082165630925.\u001b[0m\n",
      "\u001b[32m[I 2023-05-10 10:26:47,058]\u001b[0m Trial 301 finished with value: 48.871811846211045 and parameters: {'x': 0.8367442990275179, 'y': 0.0012479012111790144}. Best is trial 21 with value: 0.025749082165630925.\u001b[0m\n",
      "\u001b[32m[I 2023-05-10 10:26:47,094]\u001b[0m Trial 302 finished with value: 181.7165649554855 and parameters: {'x': 0.759460414078096, 'y': 1.9245883623393911}. Best is trial 21 with value: 0.025749082165630925.\u001b[0m\n",
      "\u001b[32m[I 2023-05-10 10:26:47,135]\u001b[0m Trial 303 finished with value: 2.621895649037773 and parameters: {'x': 0.4520599664944725, 'y': 0.35672807150471686}. Best is trial 21 with value: 0.025749082165630925.\u001b[0m\n",
      "\u001b[32m[I 2023-05-10 10:26:47,172]\u001b[0m Trial 304 finished with value: 18.76788218719993 and parameters: {'x': 0.9750456233578447, 'y': 0.5175020164288815}. Best is trial 21 with value: 0.025749082165630925.\u001b[0m\n",
      "\u001b[32m[I 2023-05-10 10:26:47,226]\u001b[0m Trial 305 finished with value: 2.2967980455006622 and parameters: {'x': 0.5226211704210584, 'y': 0.1292959141330036}. Best is trial 21 with value: 0.025749082165630925.\u001b[0m\n",
      "\u001b[32m[I 2023-05-10 10:26:47,276]\u001b[0m Trial 306 finished with value: 179.4739700056186 and parameters: {'x': 0.32546168910033546, 'y': 1.443905012236255}. Best is trial 21 with value: 0.025749082165630925.\u001b[0m\n",
      "\u001b[32m[I 2023-05-10 10:26:47,311]\u001b[0m Trial 307 finished with value: 6.679331278274533 and parameters: {'x': 0.6792121526614195, 'y': 0.20488370704403147}. Best is trial 21 with value: 0.025749082165630925.\u001b[0m\n",
      "\u001b[32m[I 2023-05-10 10:26:47,344]\u001b[0m Trial 308 finished with value: 24.936244792144723 and parameters: {'x': 0.5839297094313254, 'y': 0.8385995711471728}. Best is trial 21 with value: 0.025749082165630925.\u001b[0m\n",
      "\u001b[32m[I 2023-05-10 10:26:47,375]\u001b[0m Trial 309 finished with value: 207.27967930443074 and parameters: {'x': 1.356109057086479, 'y': 0.3997511709244772}. Best is trial 21 with value: 0.025749082165630925.\u001b[0m\n",
      "\u001b[32m[I 2023-05-10 10:26:47,407]\u001b[0m Trial 310 finished with value: 44.412523758207705 and parameters: {'x': 1.0693789695364129, 'y': 1.8099624842448594}. Best is trial 21 with value: 0.025749082165630925.\u001b[0m\n",
      "\u001b[32m[I 2023-05-10 10:26:47,439]\u001b[0m Trial 311 finished with value: 7.698179361468256 and parameters: {'x': 0.44209877159219535, 'y': -0.07633766748651433}. Best is trial 21 with value: 0.025749082165630925.\u001b[0m\n",
      "\u001b[32m[I 2023-05-10 10:26:47,471]\u001b[0m Trial 312 finished with value: 330.929082073328 and parameters: {'x': 1.8634371977182327, 'y': 1.6553028200838285}. Best is trial 21 with value: 0.025749082165630925.\u001b[0m\n",
      "\u001b[32m[I 2023-05-10 10:26:47,505]\u001b[0m Trial 313 finished with value: 0.23047553098739398 and parameters: {'x': 0.5365141845544518, 'y': 0.27533490459666443}. Best is trial 21 with value: 0.025749082165630925.\u001b[0m\n",
      "\u001b[32m[I 2023-05-10 10:26:47,541]\u001b[0m Trial 314 finished with value: 7.775420716895672 and parameters: {'x': 0.7654062675450749, 'y': 0.30799091951903984}. Best is trial 21 with value: 0.025749082165630925.\u001b[0m\n",
      "\u001b[32m[I 2023-05-10 10:26:47,574]\u001b[0m Trial 315 finished with value: 0.6802589260295537 and parameters: {'x': 0.6125346977146169, 'y': 0.44800875285217734}. Best is trial 21 with value: 0.025749082165630925.\u001b[0m\n",
      "\u001b[32m[I 2023-05-10 10:26:47,606]\u001b[0m Trial 316 finished with value: 66.5574132148939 and parameters: {'x': 1.2078461826811473, 'y': 0.6433299375651171}. Best is trial 21 with value: 0.025749082165630925.\u001b[0m\n",
      "\u001b[32m[I 2023-05-10 10:26:47,637]\u001b[0m Trial 317 finished with value: 48.87541504544244 and parameters: {'x': 0.6832060000650038, 'y': 1.1651618517527311}. Best is trial 21 with value: 0.025749082165630925.\u001b[0m\n",
      "\u001b[32m[I 2023-05-10 10:26:47,671]\u001b[0m Trial 318 finished with value: 0.2643054903721539 and parameters: {'x': 0.5243779729755098, 'y': 0.25545580963815434}. Best is trial 21 with value: 0.025749082165630925.\u001b[0m\n",
      "\u001b[32m[I 2023-05-10 10:26:47,701]\u001b[0m Trial 319 finished with value: 1043.9435045745524 and parameters: {'x': 1.925258834723393, 'y': 0.47693521717191073}. Best is trial 21 with value: 0.025749082165630925.\u001b[0m\n",
      "\u001b[32m[I 2023-05-10 10:26:47,735]\u001b[0m Trial 320 finished with value: 9.076572769693566 and parameters: {'x': 0.534866713498863, 'y': 0.5837436817862136}. Best is trial 21 with value: 0.025749082165630925.\u001b[0m\n",
      "\u001b[32m[I 2023-05-10 10:26:47,780]\u001b[0m Trial 321 finished with value: 75.46402189244051 and parameters: {'x': 1.5427853466304253, 'y': 1.5131837079051715}. Best is trial 21 with value: 0.025749082165630925.\u001b[0m\n",
      "\u001b[32m[I 2023-05-10 10:26:47,824]\u001b[0m Trial 322 finished with value: 25.699424803792613 and parameters: {'x': 0.9293459804685608, 'y': 0.35678718861696956}. Best is trial 21 with value: 0.025749082165630925.\u001b[0m\n",
      "\u001b[32m[I 2023-05-10 10:26:47,884]\u001b[0m Trial 323 finished with value: 1.9708520156434637 and parameters: {'x': 0.6279228104900508, 'y': 0.25892049504478687}. Best is trial 21 with value: 0.025749082165630925.\u001b[0m\n",
      "\u001b[32m[I 2023-05-10 10:26:47,918]\u001b[0m Trial 324 finished with value: 9.905607134488328 and parameters: {'x': 0.8308244068854553, 'y': 0.3759924578976507}. Best is trial 21 with value: 0.025749082165630925.\u001b[0m\n",
      "\u001b[32m[I 2023-05-10 10:26:47,957]\u001b[0m Trial 325 finished with value: 112.56318942142045 and parameters: {'x': 0.7293140622688133, 'y': 1.5925116477012877}. Best is trial 21 with value: 0.025749082165630925.\u001b[0m\n",
      "\u001b[32m[I 2023-05-10 10:26:47,991]\u001b[0m Trial 326 finished with value: 4.059006373499866 and parameters: {'x': 0.5259386278375572, 'y': 0.08079846343644423}. Best is trial 21 with value: 0.025749082165630925.\u001b[0m\n",
      "\u001b[32m[I 2023-05-10 10:26:48,025]\u001b[0m Trial 327 finished with value: 8.349359210409725 and parameters: {'x': -0.05181346620468341, 'y': 0.27181374263793623}. Best is trial 21 with value: 0.025749082165630925.\u001b[0m\n",
      "\u001b[32m[I 2023-05-10 10:26:48,058]\u001b[0m Trial 328 finished with value: 125.9067471522143 and parameters: {'x': 1.290304274003408, 'y': 0.5431789611049493}. Best is trial 21 with value: 0.025749082165630925.\u001b[0m\n",
      "\u001b[32m[I 2023-05-10 10:26:48,092]\u001b[0m Trial 329 finished with value: 95.23420321701978 and parameters: {'x': -0.20429817735908806, 'y': 1.0101584653987272}. Best is trial 21 with value: 0.025749082165630925.\u001b[0m\n",
      "\u001b[32m[I 2023-05-10 10:26:48,125]\u001b[0m Trial 330 finished with value: 37.962404316642576 and parameters: {'x': 1.0257396659935836, 'y': 0.4360108553313289}. Best is trial 21 with value: 0.025749082165630925.\u001b[0m\n",
      "\u001b[32m[I 2023-05-10 10:26:48,158]\u001b[0m Trial 331 finished with value: 0.15625455640763486 and parameters: {'x': 1.157509520882745, 'y': 1.3035729041290771}. Best is trial 21 with value: 0.025749082165630925.\u001b[0m\n",
      "\u001b[32m[I 2023-05-10 10:26:48,190]\u001b[0m Trial 332 finished with value: 0.019896275040220884 and parameters: {'x': 1.1126265376640254, 'y': 1.2464298898303898}. Best is trial 332 with value: 0.019896275040220884.\u001b[0m\n",
      "\u001b[32m[I 2023-05-10 10:26:48,223]\u001b[0m Trial 333 finished with value: 0.32063610422486444 and parameters: {'x': 1.1445214051838004, 'y': 1.2551798480533596}. Best is trial 332 with value: 0.019896275040220884.\u001b[0m\n",
      "\u001b[32m[I 2023-05-10 10:26:48,256]\u001b[0m Trial 334 finished with value: 0.7375762820978505 and parameters: {'x': 1.1264350468289102, 'y': 1.3538023955833534}. Best is trial 332 with value: 0.019896275040220884.\u001b[0m\n",
      "\u001b[32m[I 2023-05-10 10:26:48,289]\u001b[0m Trial 335 finished with value: 0.4874904311135823 and parameters: {'x': 1.2191384360043875, 'y': 1.4200060848713014}. Best is trial 332 with value: 0.019896275040220884.\u001b[0m\n",
      "\u001b[32m[I 2023-05-10 10:26:48,322]\u001b[0m Trial 336 finished with value: 2.508168866705465 and parameters: {'x': 1.1783087737848532, 'y': 1.2310465496847929}. Best is trial 332 with value: 0.019896275040220884.\u001b[0m\n",
      "\u001b[32m[I 2023-05-10 10:26:48,352]\u001b[0m Trial 337 finished with value: 0.08904772008204109 and parameters: {'x': 1.0977832668805636, 'y': 1.176934812337988}. Best is trial 332 with value: 0.019896275040220884.\u001b[0m\n",
      "\u001b[32m[I 2023-05-10 10:26:48,384]\u001b[0m Trial 338 finished with value: 3.253365994855335 and parameters: {'x': 1.0776875049299977, 'y': 1.3416138722999533}. Best is trial 332 with value: 0.019896275040220884.\u001b[0m\n",
      "\u001b[32m[I 2023-05-10 10:26:48,415]\u001b[0m Trial 339 finished with value: 1.2333052084887244 and parameters: {'x': 1.0146793022212393, 'y': 1.1406186596848684}. Best is trial 332 with value: 0.019896275040220884.\u001b[0m\n",
      "\u001b[32m[I 2023-05-10 10:26:48,444]\u001b[0m Trial 340 finished with value: 0.03856915610341661 and parameters: {'x': 1.0830198204266335, 'y': 1.155133935617254}. Best is trial 332 with value: 0.019896275040220884.\u001b[0m\n",
      "\u001b[32m[I 2023-05-10 10:26:48,477]\u001b[0m Trial 341 finished with value: 0.04853150459956451 and parameters: {'x': 1.1117701296504072, 'y': 1.2170488956885352}. Best is trial 332 with value: 0.019896275040220884.\u001b[0m\n",
      "\u001b[32m[I 2023-05-10 10:26:48,511]\u001b[0m Trial 342 finished with value: 0.26348167096375374 and parameters: {'x': 1.1116104084020786, 'y': 1.185575326102117}. Best is trial 332 with value: 0.019896275040220884.\u001b[0m\n",
      "\u001b[32m[I 2023-05-10 10:26:48,545]\u001b[0m Trial 343 finished with value: 0.5680631855556482 and parameters: {'x': 1.06815810460117, 'y': 1.2160228887166675}. Best is trial 332 with value: 0.019896275040220884.\u001b[0m\n",
      "\u001b[32m[I 2023-05-10 10:26:48,581]\u001b[0m Trial 344 finished with value: 0.06507223787764123 and parameters: {'x': 1.1514490627066196, 'y': 1.3053080301427544}. Best is trial 332 with value: 0.019896275040220884.\u001b[0m\n",
      "\u001b[32m[I 2023-05-10 10:26:48,619]\u001b[0m Trial 345 finished with value: 0.019631173592701532 and parameters: {'x': 1.1401027327734763, 'y': 1.2996793909593243}. Best is trial 345 with value: 0.019631173592701532.\u001b[0m\n",
      "\u001b[32m[I 2023-05-10 10:26:48,657]\u001b[0m Trial 346 finished with value: 1.7193805483211848 and parameters: {'x': 1.1185958333184831, 'y': 1.1206689062504556}. Best is trial 345 with value: 0.019631173592701532.\u001b[0m\n",
      "\u001b[32m[I 2023-05-10 10:26:48,692]\u001b[0m Trial 347 finished with value: 0.716701515453382 and parameters: {'x': 1.1732725625838363, 'y': 1.293702461527483}. Best is trial 345 with value: 0.019631173592701532.\u001b[0m\n",
      "\u001b[32m[I 2023-05-10 10:26:48,731]\u001b[0m Trial 348 finished with value: 23.951366501974103 and parameters: {'x': 1.29635622642857, 'y': 1.192036246885127}. Best is trial 345 with value: 0.019631173592701532.\u001b[0m\n",
      "\u001b[32m[I 2023-05-10 10:26:48,766]\u001b[0m Trial 349 finished with value: 8.11618394085919 and parameters: {'x': 1.0244517922278613, 'y': 1.3343801514196605}. Best is trial 345 with value: 0.019631173592701532.\u001b[0m\n",
      "\u001b[32m[I 2023-05-10 10:26:48,801]\u001b[0m Trial 350 finished with value: 0.21510922723205225 and parameters: {'x': 1.1113194198850016, 'y': 1.1900067245945967}. Best is trial 345 with value: 0.019631173592701532.\u001b[0m\n",
      "\u001b[32m[I 2023-05-10 10:26:48,835]\u001b[0m Trial 351 finished with value: 0.06485147243274868 and parameters: {'x': 1.1081100948913145, 'y': 1.2509652328465548}. Best is trial 345 with value: 0.019631173592701532.\u001b[0m\n",
      "\u001b[32m[I 2023-05-10 10:26:48,894]\u001b[0m Trial 352 finished with value: 0.5103800830064125 and parameters: {'x': 1.1500792386581777, 'y': 1.2528355440938974}. Best is trial 345 with value: 0.019631173592701532.\u001b[0m\n",
      "\u001b[32m[I 2023-05-10 10:26:48,940]\u001b[0m Trial 353 finished with value: 15.996972094403848 and parameters: {'x': 1.216927040982565, 'y': 1.0815379793743976}. Best is trial 345 with value: 0.019631173592701532.\u001b[0m\n",
      "\u001b[32m[I 2023-05-10 10:26:48,975]\u001b[0m Trial 354 finished with value: 0.5868174057529832 and parameters: {'x': 1.1146476117141282, 'y': 1.1666980723473472}. Best is trial 345 with value: 0.019631173592701532.\u001b[0m\n",
      "\u001b[32m[I 2023-05-10 10:26:49,008]\u001b[0m Trial 355 finished with value: 9.676871536792255 and parameters: {'x': 1.0360410014319719, 'y': 1.3844367809467613}. Best is trial 345 with value: 0.019631173592701532.\u001b[0m\n",
      "\u001b[32m[I 2023-05-10 10:26:49,044]\u001b[0m Trial 356 finished with value: 11.556833941613041 and parameters: {'x': 0.9714415529373588, 'y': 1.2836401321528061}. Best is trial 345 with value: 0.019631173592701532.\u001b[0m\n",
      "\u001b[32m[I 2023-05-10 10:26:49,080]\u001b[0m Trial 357 finished with value: 9.170035218363449 and parameters: {'x': 1.2310705693346382, 'y': 1.2135969780879363}. Best is trial 345 with value: 0.019631173592701532.\u001b[0m\n",
      "\u001b[32m[I 2023-05-10 10:26:49,111]\u001b[0m Trial 358 finished with value: 3.9716826770192966 and parameters: {'x': 1.124200004507414, 'y': 1.0649222304579933}. Best is trial 345 with value: 0.019631173592701532.\u001b[0m\n",
      "\u001b[32m[I 2023-05-10 10:26:49,142]\u001b[0m Trial 359 finished with value: 1.120509387031474 and parameters: {'x': 1.0823219246837077, 'y': 1.2769542735494324}. Best is trial 345 with value: 0.019631173592701532.\u001b[0m\n",
      "\u001b[32m[I 2023-05-10 10:26:49,175]\u001b[0m Trial 360 finished with value: 25.81749434868433 and parameters: {'x': 1.2803459741698624, 'y': 1.131950613892811}. Best is trial 345 with value: 0.019631173592701532.\u001b[0m\n",
      "\u001b[32m[I 2023-05-10 10:26:49,210]\u001b[0m Trial 361 finished with value: 19.582398495065483 and parameters: {'x': 0.9731883513041446, 'y': 1.38960748368311}. Best is trial 345 with value: 0.019631173592701532.\u001b[0m\n",
      "\u001b[32m[I 2023-05-10 10:26:49,245]\u001b[0m Trial 362 finished with value: 5.786226091664706 and parameters: {'x': 1.2020728694754268, 'y': 1.205283696564975}. Best is trial 345 with value: 0.019631173592701532.\u001b[0m\n",
      "\u001b[32m[I 2023-05-10 10:26:49,281]\u001b[0m Trial 363 finished with value: 23.004763167589186 and parameters: {'x': 1.3393866042930307, 'y': 1.3155259175757175}. Best is trial 345 with value: 0.019631173592701532.\u001b[0m\n",
      "\u001b[32m[I 2023-05-10 10:26:49,312]\u001b[0m Trial 364 finished with value: 38.00930328737363 and parameters: {'x': 0.9314626741314671, 'y': 1.4841014714284058}. Best is trial 345 with value: 0.019631173592701532.\u001b[0m\n",
      "\u001b[32m[I 2023-05-10 10:26:49,346]\u001b[0m Trial 365 finished with value: 1.7714270895449356 and parameters: {'x': 1.122193833839172, 'y': 1.1267861460434994}. Best is trial 345 with value: 0.019631173592701532.\u001b[0m\n",
      "\u001b[32m[I 2023-05-10 10:26:49,377]\u001b[0m Trial 366 finished with value: 0.07668982631628203 and parameters: {'x': 1.0119203261159864, 'y': 0.9963154855842662}. Best is trial 345 with value: 0.019631173592701532.\u001b[0m\n",
      "\u001b[32m[I 2023-05-10 10:26:49,409]\u001b[0m Trial 367 finished with value: 0.38146127420203524 and parameters: {'x': 1.0423755487976005, 'y': 1.0249297751423385}. Best is trial 345 with value: 0.019631173592701532.\u001b[0m\n",
      "\u001b[32m[I 2023-05-10 10:26:49,443]\u001b[0m Trial 368 finished with value: 2.170837278437084 and parameters: {'x': 1.021751861354758, 'y': 1.1912984238360689}. Best is trial 345 with value: 0.019631173592701532.\u001b[0m\n",
      "\u001b[32m[I 2023-05-10 10:26:49,474]\u001b[0m Trial 369 finished with value: 0.8787349567598455 and parameters: {'x': 1.1854310295582597, 'y': 1.3133581906440914}. Best is trial 345 with value: 0.019631173592701532.\u001b[0m\n",
      "\u001b[32m[I 2023-05-10 10:26:49,508]\u001b[0m Trial 370 finished with value: 5.049034412404231 and parameters: {'x': 1.0636305206081587, 'y': 0.906699431156262}. Best is trial 345 with value: 0.019631173592701532.\u001b[0m\n",
      "\u001b[32m[I 2023-05-10 10:26:49,540]\u001b[0m Trial 371 finished with value: 2.1055246711255258 and parameters: {'x': 0.9567267460162833, 'y': 1.060365788571569}. Best is trial 345 with value: 0.019631173592701532.\u001b[0m\n",
      "\u001b[32m[I 2023-05-10 10:26:49,572]\u001b[0m Trial 372 finished with value: 14.181830867306983 and parameters: {'x': 1.2723202436870171, 'y': 1.2431969847128461}. Best is trial 345 with value: 0.019631173592701532.\u001b[0m\n",
      "\u001b[32m[I 2023-05-10 10:26:49,602]\u001b[0m Trial 373 finished with value: 3.141247016472812 and parameters: {'x': 0.8905203639802489, 'y': 0.9699236985666948}. Best is trial 345 with value: 0.019631173592701532.\u001b[0m\n",
      "\u001b[32m[I 2023-05-10 10:26:49,634]\u001b[0m Trial 374 finished with value: 1.942551318720211 and parameters: {'x': 1.1315817625476068, 'y': 1.41923021533491}. Best is trial 345 with value: 0.019631173592701532.\u001b[0m\n",
      "\u001b[32m[I 2023-05-10 10:26:49,666]\u001b[0m Trial 375 finished with value: 14.268106594310531 and parameters: {'x': 1.2187810664912742, 'y': 1.1083299340392605}. Best is trial 345 with value: 0.019631173592701532.\u001b[0m\n",
      "\u001b[32m[I 2023-05-10 10:26:49,698]\u001b[0m Trial 376 finished with value: 42.722922408066005 and parameters: {'x': 1.3888642216939293, 'y': 1.2764738497879866}. Best is trial 345 with value: 0.019631173592701532.\u001b[0m\n",
      "\u001b[32m[I 2023-05-10 10:26:49,727]\u001b[0m Trial 377 finished with value: 2.5488704067158388 and parameters: {'x': 1.0917579882913122, 'y': 1.3513234241856587}. Best is trial 345 with value: 0.019631173592701532.\u001b[0m\n",
      "\u001b[32m[I 2023-05-10 10:26:49,757]\u001b[0m Trial 378 finished with value: 3.856816219685767 and parameters: {'x': 0.9814245281750752, 'y': 1.1595731046929012}. Best is trial 345 with value: 0.019631173592701532.\u001b[0m\n",
      "\u001b[32m[I 2023-05-10 10:26:49,787]\u001b[0m Trial 379 finished with value: 1.3626137013788389 and parameters: {'x': 1.16206895961438, 'y': 1.4660047579755555}. Best is trial 345 with value: 0.019631173592701532.\u001b[0m\n",
      "\u001b[32m[I 2023-05-10 10:26:49,819]\u001b[0m Trial 380 finished with value: 22.061797998832397 and parameters: {'x': 1.2985566021170787, 'y': 1.2174991880574335}. Best is trial 345 with value: 0.019631173592701532.\u001b[0m\n",
      "\u001b[32m[I 2023-05-10 10:26:49,850]\u001b[0m Trial 381 finished with value: 7.444559608321566 and parameters: {'x': 1.0496808456067641, 'y': 1.3746318465031178}. Best is trial 345 with value: 0.019631173592701532.\u001b[0m\n",
      "\u001b[32m[I 2023-05-10 10:26:49,883]\u001b[0m Trial 382 finished with value: 799.7949767392682 and parameters: {'x': 0.9409846696548178, 'y': -1.9426063620610767}. Best is trial 345 with value: 0.019631173592701532.\u001b[0m\n",
      "\u001b[32m[I 2023-05-10 10:26:49,913]\u001b[0m Trial 383 finished with value: 57.307601232939085 and parameters: {'x': 1.2507128879472154, 'y': 0.8076801621236698}. Best is trial 345 with value: 0.019631173592701532.\u001b[0m\n",
      "\u001b[32m[I 2023-05-10 10:26:49,944]\u001b[0m Trial 384 finished with value: 111.35908160972417 and parameters: {'x': 1.456150594154004, 'y': 1.0660927677274912}. Best is trial 345 with value: 0.019631173592701532.\u001b[0m\n",
      "\u001b[32m[I 2023-05-10 10:26:49,977]\u001b[0m Trial 385 finished with value: 4.279119743788291 and parameters: {'x': 0.8757021923470758, 'y': 0.9733408861155675}. Best is trial 345 with value: 0.019631173592701532.\u001b[0m\n",
      "\u001b[32m[I 2023-05-10 10:26:50,029]\u001b[0m Trial 386 finished with value: 0.3500283533727028 and parameters: {'x': 1.11354882534872, 'y': 1.298054315450877}. Best is trial 345 with value: 0.019631173592701532.\u001b[0m\n",
      "\u001b[32m[I 2023-05-10 10:26:50,075]\u001b[0m Trial 387 finished with value: 3.741541567226353 and parameters: {'x': 1.1740097367832951, 'y': 1.185652497478298}. Best is trial 345 with value: 0.019631173592701532.\u001b[0m\n",
      "\u001b[32m[I 2023-05-10 10:26:50,112]\u001b[0m Trial 388 finished with value: 14.247527466281237 and parameters: {'x': 1.0171430947808369, 'y': 1.4120351531250106}. Best is trial 345 with value: 0.019631173592701532.\u001b[0m\n",
      "\u001b[32m[I 2023-05-10 10:26:50,147]\u001b[0m Trial 389 finished with value: 7.8988033604089365 and parameters: {'x': 1.3402471159910165, 'y': 1.5172814139283943}. Best is trial 345 with value: 0.019631173592701532.\u001b[0m\n",
      "\u001b[32m[I 2023-05-10 10:26:50,181]\u001b[0m Trial 390 finished with value: 20.766570924431523 and parameters: {'x': 1.0866066925331717, 'y': 0.7250928777413785}. Best is trial 345 with value: 0.019631173592701532.\u001b[0m\n",
      "\u001b[32m[I 2023-05-10 10:26:50,219]\u001b[0m Trial 391 finished with value: 16.53928339387905 and parameters: {'x': 1.2425255333132739, 'y': 1.137908314106957}. Best is trial 345 with value: 0.019631173592701532.\u001b[0m\n",
      "\u001b[32m[I 2023-05-10 10:26:50,248]\u001b[0m Trial 392 finished with value: 2.4310236797835683 and parameters: {'x': 1.1874933608780485, 'y': 1.2553545034553324}. Best is trial 345 with value: 0.019631173592701532.\u001b[0m\n",
      "\u001b[32m[I 2023-05-10 10:26:50,281]\u001b[0m Trial 393 finished with value: 3.9679836694217405 and parameters: {'x': 0.9174821739006408, 'y': 1.0408005345240396}. Best is trial 345 with value: 0.019631173592701532.\u001b[0m\n",
      "\u001b[32m[I 2023-05-10 10:26:50,314]\u001b[0m Trial 394 finished with value: 2.267879892156129 and parameters: {'x': 0.9988638571342958, 'y': 0.8471342308991429}. Best is trial 345 with value: 0.019631173592701532.\u001b[0m\n",
      "\u001b[32m[I 2023-05-10 10:26:50,348]\u001b[0m Trial 395 finished with value: 1.9677900247876872 and parameters: {'x': 1.1030400588439795, 'y': 1.3565963625138624}. Best is trial 345 with value: 0.019631173592701532.\u001b[0m\n",
      "\u001b[32m[I 2023-05-10 10:26:50,379]\u001b[0m Trial 396 finished with value: 49.275111680228505 and parameters: {'x': 1.3736995744576843, 'y': 1.1860836150253065}. Best is trial 345 with value: 0.019631173592701532.\u001b[0m\n",
      "\u001b[32m[I 2023-05-10 10:26:50,409]\u001b[0m Trial 397 finished with value: 51.526108647905794 and parameters: {'x': 0.8663513090627792, 'y': 1.4682570504446992}. Best is trial 345 with value: 0.019631173592701532.\u001b[0m\n",
      "\u001b[32m[I 2023-05-10 10:26:50,437]\u001b[0m Trial 398 finished with value: 21.31440887980491 and parameters: {'x': 1.1836964288769387, 'y': 0.9398275295534708}. Best is trial 345 with value: 0.019631173592701532.\u001b[0m\n",
      "\u001b[32m[I 2023-05-10 10:26:50,467]\u001b[0m Trial 399 finished with value: 9.436036677597192 and parameters: {'x': 1.268072269645597, 'y': 1.3019979031511657}. Best is trial 345 with value: 0.019631173592701532.\u001b[0m\n",
      "\u001b[32m[I 2023-05-10 10:26:50,500]\u001b[0m Trial 400 finished with value: 82.10660178400761 and parameters: {'x': -0.4492292245415179, 'y': 1.0962695082501257}. Best is trial 345 with value: 0.019631173592701532.\u001b[0m\n",
      "\u001b[32m[I 2023-05-10 10:26:50,531]\u001b[0m Trial 401 finished with value: 28.243892935197596 and parameters: {'x': 1.034881333344268, 'y': 1.6024177640216393}. Best is trial 345 with value: 0.019631173592701532.\u001b[0m\n",
      "\u001b[32m[I 2023-05-10 10:26:50,562]\u001b[0m Trial 402 finished with value: 103.76733642876644 and parameters: {'x': 0.9380356771966873, 'y': 1.8985546223505267}. Best is trial 345 with value: 0.019631173592701532.\u001b[0m\n",
      "\u001b[32m[I 2023-05-10 10:26:50,596]\u001b[0m Trial 403 finished with value: 147.9107495573563 and parameters: {'x': 1.5660983658311118, 'y': 1.2377966822427142}. Best is trial 345 with value: 0.019631173592701532.\u001b[0m\n",
      "\u001b[32m[I 2023-05-10 10:26:50,629]\u001b[0m Trial 404 finished with value: 23.523279644555323 and parameters: {'x': 1.1115498664660337, 'y': 1.7204228461108768}. Best is trial 345 with value: 0.019631173592701532.\u001b[0m\n",
      "\u001b[32m[I 2023-05-10 10:26:50,663]\u001b[0m Trial 405 finished with value: 72.0966531145944 and parameters: {'x': 1.4863205877330692, 'y': 1.361445253803596}. Best is trial 345 with value: 0.019631173592701532.\u001b[0m\n",
      "\u001b[32m[I 2023-05-10 10:26:50,694]\u001b[0m Trial 406 finished with value: 24.02829612902522 and parameters: {'x': 0.8206923047096587, 'y': 1.1633944598266104}. Best is trial 345 with value: 0.019631173592701532.\u001b[0m\n",
      "\u001b[32m[I 2023-05-10 10:26:50,724]\u001b[0m Trial 407 finished with value: 53.73612138920481 and parameters: {'x': 1.3212327197932128, 'y': 1.0133108245704485}. Best is trial 345 with value: 0.019631173592701532.\u001b[0m\n",
      "\u001b[32m[I 2023-05-10 10:26:50,757]\u001b[0m Trial 408 finished with value: 13.005737556901957 and parameters: {'x': -0.5813696994535646, 'y': 0.6621050194841637}. Best is trial 345 with value: 0.019631173592701532.\u001b[0m\n",
      "\u001b[32m[I 2023-05-10 10:26:50,789]\u001b[0m Trial 409 finished with value: 17.489149486619727 and parameters: {'x': 1.0137808301312976, 'y': 1.4459496056755403}. Best is trial 345 with value: 0.019631173592701532.\u001b[0m\n",
      "\u001b[32m[I 2023-05-10 10:26:50,822]\u001b[0m Trial 410 finished with value: 2.446486285839332 and parameters: {'x': 1.1778393729053336, 'y': 1.542703768641217}. Best is trial 345 with value: 0.019631173592701532.\u001b[0m\n",
      "\u001b[32m[I 2023-05-10 10:26:50,861]\u001b[0m Trial 411 finished with value: 541.5656914279627 and parameters: {'x': 1.244356688343486, 'y': -0.7786045395186705}. Best is trial 345 with value: 0.019631173592701532.\u001b[0m\n",
      "\u001b[32m[I 2023-05-10 10:26:50,893]\u001b[0m Trial 412 finished with value: 0.07506040934176214 and parameters: {'x': 1.1399762397519095, 'y': 1.2759943810338206}. Best is trial 345 with value: 0.019631173592701532.\u001b[0m\n",
      "\u001b[32m[I 2023-05-10 10:26:50,925]\u001b[0m Trial 413 finished with value: 275.56889631678655 and parameters: {'x': 1.7072459401044389, 'y': 1.2561691809832125}. Best is trial 345 with value: 0.019631173592701532.\u001b[0m\n",
      "\u001b[32m[I 2023-05-10 10:26:50,958]\u001b[0m Trial 414 finished with value: 0.7350820640959141 and parameters: {'x': 1.111621337817998, 'y': 1.3207092184468139}. Best is trial 345 with value: 0.019631173592701532.\u001b[0m\n",
      "\u001b[32m[I 2023-05-10 10:26:50,991]\u001b[0m Trial 415 finished with value: 0.18207848330161983 and parameters: {'x': 1.0710821121577212, 'y': 1.1051424549651117}. Best is trial 345 with value: 0.019631173592701532.\u001b[0m\n",
      "\u001b[32m[I 2023-05-10 10:26:51,029]\u001b[0m Trial 416 finished with value: 0.773856937180399 and parameters: {'x': 1.000429063811199, 'y': 0.912889183435291}. Best is trial 345 with value: 0.019631173592701532.\u001b[0m\n",
      "\u001b[32m[I 2023-05-10 10:26:51,087]\u001b[0m Trial 417 finished with value: 8.888652399916875 and parameters: {'x': 0.8869020859666705, 'y': 1.0845191470329212}. Best is trial 345 with value: 0.019631173592701532.\u001b[0m\n",
      "\u001b[32m[I 2023-05-10 10:26:51,120]\u001b[0m Trial 418 finished with value: 6.9461485356640695 and parameters: {'x': 1.0638377007218696, 'y': 1.395228798370288}. Best is trial 345 with value: 0.019631173592701532.\u001b[0m\n",
      "\u001b[32m[I 2023-05-10 10:26:51,154]\u001b[0m Trial 419 finished with value: 0.9498173085450843 and parameters: {'x': 1.168670932931108, 'y': 1.269803863527326}. Best is trial 345 with value: 0.019631173592701532.\u001b[0m\n",
      "\u001b[32m[I 2023-05-10 10:26:51,188]\u001b[0m Trial 420 finished with value: 138.1031455139187 and parameters: {'x': 1.393567762966291, 'y': 0.7675173811111664}. Best is trial 345 with value: 0.019631173592701532.\u001b[0m\n",
      "\u001b[32m[I 2023-05-10 10:26:51,228]\u001b[0m Trial 421 finished with value: 12.030127189905896 and parameters: {'x': 1.2837807439789466, 'y': 1.9937748708470513}. Best is trial 345 with value: 0.019631173592701532.\u001b[0m\n",
      "\u001b[32m[I 2023-05-10 10:26:51,261]\u001b[0m Trial 422 finished with value: 5.029504729062918 and parameters: {'x': 0.9475168526255637, 'y': 1.1219923395906177}. Best is trial 345 with value: 0.019631173592701532.\u001b[0m\n",
      "\u001b[32m[I 2023-05-10 10:26:51,295]\u001b[0m Trial 423 finished with value: 24.237331403839853 and parameters: {'x': 1.217562162752957, 'y': 0.9906243342955232}. Best is trial 345 with value: 0.019631173592701532.\u001b[0m\n",
      "\u001b[32m[I 2023-05-10 10:26:51,328]\u001b[0m Trial 424 finished with value: 16.454174615615894 and parameters: {'x': -1.2939964237223944, 'y': 1.3398859395680858}. Best is trial 345 with value: 0.019631173592701532.\u001b[0m\n",
      "\u001b[32m[I 2023-05-10 10:26:51,362]\u001b[0m Trial 425 finished with value: 0.5237585842645305 and parameters: {'x': 1.0647851827247068, 'y': 1.2058480974703971}. Best is trial 345 with value: 0.019631173592701532.\u001b[0m\n",
      "\u001b[32m[I 2023-05-10 10:26:51,396]\u001b[0m Trial 426 finished with value: 1.520975317307844 and parameters: {'x': 1.1477774585190719, 'y': 1.439832350246854}. Best is trial 345 with value: 0.019631173592701532.\u001b[0m\n",
      "\u001b[32m[I 2023-05-10 10:26:51,430]\u001b[0m Trial 427 finished with value: 76.60244581696983 and parameters: {'x': 0.8171198332203315, 'y': 1.5427219676910915}. Best is trial 345 with value: 0.019631173592701532.\u001b[0m\n",
      "\u001b[32m[I 2023-05-10 10:26:51,462]\u001b[0m Trial 428 finished with value: 227.93793107243573 and parameters: {'x': 1.8323513285752147, 'y': 1.8500462264328255}. Best is trial 345 with value: 0.019631173592701532.\u001b[0m\n",
      "\u001b[32m[I 2023-05-10 10:26:51,493]\u001b[0m Trial 429 finished with value: 0.15189270405171693 and parameters: {'x': 1.0206882228600778, 'y': 1.0807229145303008}. Best is trial 345 with value: 0.019631173592701532.\u001b[0m\n",
      "\u001b[32m[I 2023-05-10 10:26:51,535]\u001b[0m Trial 430 finished with value: 0.2566022718402847 and parameters: {'x': 1.0069450842906165, 'y': 1.0645895664008351}. Best is trial 345 with value: 0.019631173592701532.\u001b[0m\n",
      "\u001b[32m[I 2023-05-10 10:26:51,568]\u001b[0m Trial 431 finished with value: 5.419053616099238 and parameters: {'x': 0.9395873606831551, 'y': 1.1155346128827563}. Best is trial 345 with value: 0.019631173592701532.\u001b[0m\n",
      "\u001b[32m[I 2023-05-10 10:26:51,600]\u001b[0m Trial 432 finished with value: 5.314101335623526 and parameters: {'x': 1.0484083142463594, 'y': 0.8686874793855068}. Best is trial 345 with value: 0.019631173592701532.\u001b[0m\n",
      "\u001b[32m[I 2023-05-10 10:26:51,633]\u001b[0m Trial 433 finished with value: 6.226852908206671 and parameters: {'x': 0.8794445913042043, 'y': 1.0226680359020324}. Best is trial 345 with value: 0.019631173592701532.\u001b[0m\n",
      "\u001b[32m[I 2023-05-10 10:26:51,664]\u001b[0m Trial 434 finished with value: 146.31819905133747 and parameters: {'x': 0.15531257432237255, 'y': 1.2307897304742859}. Best is trial 345 with value: 0.019631173592701532.\u001b[0m\n",
      "\u001b[32m[I 2023-05-10 10:26:51,696]\u001b[0m Trial 435 finished with value: 12.67942067491269 and parameters: {'x': 1.2307705335422165, 'y': 1.1594629437563901}. Best is trial 345 with value: 0.019631173592701532.\u001b[0m\n",
      "\u001b[32m[I 2023-05-10 10:26:51,730]\u001b[0m Trial 436 finished with value: 0.5261593321394796 and parameters: {'x': 1.1189751034274995, 'y': 1.3236597548301607}. Best is trial 345 with value: 0.019631173592701532.\u001b[0m\n",
      "\u001b[32m[I 2023-05-10 10:26:51,763]\u001b[0m Trial 437 finished with value: 10.2454317849396 and parameters: {'x': 0.9790883133283722, 'y': 1.2786919546312348}. Best is trial 345 with value: 0.019631173592701532.\u001b[0m\n",
      "\u001b[32m[I 2023-05-10 10:26:51,798]\u001b[0m Trial 438 finished with value: 2.238319506374671 and parameters: {'x': 1.3349516061199755, 'y': 1.6362833451252676}. Best is trial 345 with value: 0.019631173592701532.\u001b[0m\n",
      "\u001b[32m[I 2023-05-10 10:26:51,831]\u001b[0m Trial 439 finished with value: 513.60594371649 and parameters: {'x': 1.4400043541667316, 'y': -0.19224787025507117}. Best is trial 345 with value: 0.019631173592701532.\u001b[0m\n",
      "\u001b[32m[I 2023-05-10 10:26:51,864]\u001b[0m Trial 440 finished with value: 31.015295006469568 and parameters: {'x': 1.163225173142391, 'y': 0.7964182795914888}. Best is trial 345 with value: 0.019631173592701532.\u001b[0m\n",
      "\u001b[32m[I 2023-05-10 10:26:51,895]\u001b[0m Trial 441 finished with value: 25.545469908810027 and parameters: {'x': 1.055079443803769, 'y': 0.6077973798541405}. Best is trial 345 with value: 0.019631173592701532.\u001b[0m\n",
      "\u001b[32m[I 2023-05-10 10:26:51,927]\u001b[0m Trial 442 finished with value: 47.70155252369297 and parameters: {'x': 1.2681290022309113, 'y': 0.9180087218584871}. Best is trial 345 with value: 0.019631173592701532.\u001b[0m\n",
      "\u001b[32m[I 2023-05-10 10:26:51,958]\u001b[0m Trial 443 finished with value: 26.230886569461685 and parameters: {'x': 0.7967943942280131, 'y': 1.1466390037451946}. Best is trial 345 with value: 0.019631173592701532.\u001b[0m\n",
      "\u001b[32m[I 2023-05-10 10:26:51,990]\u001b[0m Trial 444 finished with value: 3.8307090013917016 and parameters: {'x': 0.9229663824233372, 'y': 1.0474372583964207}. Best is trial 345 with value: 0.019631173592701532.\u001b[0m\n",
      "\u001b[32m[I 2023-05-10 10:26:52,027]\u001b[0m Trial 445 finished with value: 11.176915608412779 and parameters: {'x': 1.1803652697788796, 'y': 1.7270942233525528}. Best is trial 345 with value: 0.019631173592701532.\u001b[0m\n",
      "\u001b[32m[I 2023-05-10 10:26:52,078]\u001b[0m Trial 446 finished with value: 197.19923518501807 and parameters: {'x': 0.08202355614597268, 'y': 1.408000693848205}. Best is trial 345 with value: 0.019631173592701532.\u001b[0m\n",
      "\u001b[32m[I 2023-05-10 10:26:52,115]\u001b[0m Trial 447 finished with value: 43.498579075072215 and parameters: {'x': 1.063093466240969, 'y': 1.789672064345594}. Best is trial 345 with value: 0.019631173592701532.\u001b[0m\n",
      "\u001b[32m[I 2023-05-10 10:26:52,150]\u001b[0m Trial 448 finished with value: 146.29317018322263 and parameters: {'x': 0.03641145856037292, 'y': 1.2069984999275423}. Best is trial 345 with value: 0.019631173592701532.\u001b[0m\n",
      "\u001b[32m[I 2023-05-10 10:26:52,191]\u001b[0m Trial 449 finished with value: 8.094482578989966 and parameters: {'x': 0.9996200111061537, 'y': 1.2837482057626648}. Best is trial 345 with value: 0.019631173592701532.\u001b[0m\n",
      "\u001b[32m[I 2023-05-10 10:26:52,223]\u001b[0m Trial 450 finished with value: 3.4067198855756513 and parameters: {'x': 1.1458458905129698, 'y': 1.4969586977432146}. Best is trial 345 with value: 0.019631173592701532.\u001b[0m\n",
      "\u001b[32m[I 2023-05-10 10:26:52,257]\u001b[0m Trial 451 finished with value: 256.6172065534059 and parameters: {'x': 1.6008585554592751, 'y': 0.9619477661684754}. Best is trial 345 with value: 0.019631173592701532.\u001b[0m\n",
      "\u001b[32m[I 2023-05-10 10:26:52,291]\u001b[0m Trial 452 finished with value: 0.19527865052855656 and parameters: {'x': 0.8834939024685822, 'y': 0.7379346086120144}. Best is trial 345 with value: 0.019631173592701532.\u001b[0m\n",
      "\u001b[32m[I 2023-05-10 10:26:52,324]\u001b[0m Trial 453 finished with value: 0.08948428004932468 and parameters: {'x': 0.8659916259442111, 'y': 0.7231971443284668}. Best is trial 345 with value: 0.019631173592701532.\u001b[0m\n",
      "\u001b[32m[I 2023-05-10 10:26:52,356]\u001b[0m Trial 454 finished with value: 0.560935945143901 and parameters: {'x': 0.8547079788344839, 'y': 0.6570528651314218}. Best is trial 345 with value: 0.019631173592701532.\u001b[0m\n",
      "\u001b[32m[I 2023-05-10 10:26:52,388]\u001b[0m Trial 455 finished with value: 0.31282852036589104 and parameters: {'x': 0.8860279458929845, 'y': 0.7302879742774636}. Best is trial 345 with value: 0.019631173592701532.\u001b[0m\n",
      "\u001b[32m[I 2023-05-10 10:26:52,423]\u001b[0m Trial 456 finished with value: 3.1257408277119714 and parameters: {'x': 0.7673804318002089, 'y': 0.7641333605733689}. Best is trial 345 with value: 0.019631173592701532.\u001b[0m\n",
      "\u001b[32m[I 2023-05-10 10:26:52,457]\u001b[0m Trial 457 finished with value: 0.10038483588280414 and parameters: {'x': 0.8165982359268492, 'y': 0.6926684349204885}. Best is trial 345 with value: 0.019631173592701532.\u001b[0m\n",
      "\u001b[32m[I 2023-05-10 10:26:52,490]\u001b[0m Trial 458 finished with value: 0.03533693437121395 and parameters: {'x': 0.8404723961679318, 'y': 0.6964500677558567}. Best is trial 345 with value: 0.019631173592701532.\u001b[0m\n",
      "\u001b[32m[I 2023-05-10 10:26:52,525]\u001b[0m Trial 459 finished with value: 0.4203197453596934 and parameters: {'x': 0.8553472493563818, 'y': 0.6684211854485906}. Best is trial 345 with value: 0.019631173592701532.\u001b[0m\n",
      "\u001b[32m[I 2023-05-10 10:26:52,560]\u001b[0m Trial 460 finished with value: 6.28102741412171 and parameters: {'x': 0.7677968219494931, 'y': 0.839053721796112}. Best is trial 345 with value: 0.019631173592701532.\u001b[0m\n",
      "\u001b[32m[I 2023-05-10 10:26:52,594]\u001b[0m Trial 461 finished with value: 0.9599444663065467 and parameters: {'x': 0.8943107458562941, 'y': 0.702386666759713}. Best is trial 345 with value: 0.019631173592701532.\u001b[0m\n",
      "\u001b[32m[I 2023-05-10 10:26:52,625]\u001b[0m Trial 462 finished with value: 0.2853606479607162 and parameters: {'x': 0.8408024486414204, 'y': 0.7579405989105907}. Best is trial 345 with value: 0.019631173592701532.\u001b[0m\n",
      "\u001b[32m[I 2023-05-10 10:26:52,660]\u001b[0m Trial 463 finished with value: 2.076758307156718 and parameters: {'x': 0.9647797482370604, 'y': 0.7867333862964926}. Best is trial 345 with value: 0.019631173592701532.\u001b[0m\n",
      "\u001b[32m[I 2023-05-10 10:26:52,695]\u001b[0m Trial 464 finished with value: 0.7020405711236921 and parameters: {'x': 0.7944391589546531, 'y': 0.5499064074571474}. Best is trial 345 with value: 0.019631173592701532.\u001b[0m\n",
      "\u001b[32m[I 2023-05-10 10:26:52,730]\u001b[0m Trial 465 finished with value: 14.007214887319256 and parameters: {'x': 0.9898902464216371, 'y': 0.6056219261651735}. Best is trial 345 with value: 0.019631173592701532.\u001b[0m\n",
      "\u001b[32m[I 2023-05-10 10:26:52,765]\u001b[0m Trial 466 finished with value: 2.9381486889009736 and parameters: {'x': 0.9201331135510401, 'y': 0.6754208254157915}. Best is trial 345 with value: 0.019631173592701532.\u001b[0m\n",
      "\u001b[32m[I 2023-05-10 10:26:52,825]\u001b[0m Trial 467 finished with value: 3.046832320853496 and parameters: {'x': 0.8165098363011558, 'y': 0.8402729803217837}. Best is trial 345 with value: 0.019631173592701532.\u001b[0m\n",
      "\u001b[32m[I 2023-05-10 10:26:52,860]\u001b[0m Trial 468 finished with value: 34.68729727107917 and parameters: {'x': -0.1914977473527244, 'y': 0.6134523715769256}. Best is trial 345 with value: 0.019631173592701532.\u001b[0m\n",
      "\u001b[32m[I 2023-05-10 10:26:52,895]\u001b[0m Trial 469 finished with value: 0.011388939886941991 and parameters: {'x': 0.9242371200967747, 'y': 0.8617301878497665}. Best is trial 469 with value: 0.011388939886941991.\u001b[0m\n",
      "\u001b[32m[I 2023-05-10 10:26:52,928]\u001b[0m Trial 470 finished with value: 2.5915827235160904 and parameters: {'x': 0.8762711464892623, 'y': 0.9283588756996151}. Best is trial 469 with value: 0.011388939886941991.\u001b[0m\n",
      "\u001b[32m[I 2023-05-10 10:26:52,965]\u001b[0m Trial 471 finished with value: 1.473667594933522 and parameters: {'x': 0.9513278386620228, 'y': 0.7837275578993216}. Best is trial 469 with value: 0.011388939886941991.\u001b[0m\n",
      "\u001b[32m[I 2023-05-10 10:26:53,001]\u001b[0m Trial 472 finished with value: 1.0182154959915057 and parameters: {'x': 0.993977169473315, 'y': 0.8870857462818029}. Best is trial 469 with value: 0.011388939886941991.\u001b[0m\n",
      "\u001b[32m[I 2023-05-10 10:26:53,037]\u001b[0m Trial 473 finished with value: 2.4588113188178964 and parameters: {'x': 0.9414935291848271, 'y': 0.7297132783029494}. Best is trial 469 with value: 0.011388939886941991.\u001b[0m\n",
      "\u001b[32m[I 2023-05-10 10:26:53,090]\u001b[0m Trial 474 finished with value: 4.908252919706555 and parameters: {'x': 0.7774954970044761, 'y': 0.8249248513173094}. Best is trial 469 with value: 0.011388939886941991.\u001b[0m\n",
      "\u001b[32m[I 2023-05-10 10:26:53,146]\u001b[0m Trial 475 finished with value: 1.7437599573222426 and parameters: {'x': 1.0551504362250308, 'y': 0.9814061559153533}. Best is trial 469 with value: 0.011388939886941991.\u001b[0m\n",
      "\u001b[32m[I 2023-05-10 10:26:53,183]\u001b[0m Trial 476 finished with value: 0.6049024105606773 and parameters: {'x': 0.8700522721857796, 'y': 0.6803087551024575}. Best is trial 469 with value: 0.011388939886941991.\u001b[0m\n",
      "\u001b[32m[I 2023-05-10 10:26:53,222]\u001b[0m Trial 477 finished with value: 9.044329486086644 and parameters: {'x': 1.0810474149256688, 'y': 0.8680348253547202}. Best is trial 469 with value: 0.011388939886941991.\u001b[0m\n",
      "\u001b[32m[I 2023-05-10 10:26:53,258]\u001b[0m Trial 478 finished with value: 117.56079151692896 and parameters: {'x': 0.9186700761300229, 'y': 1.9281787490950348}. Best is trial 469 with value: 0.011388939886941991.\u001b[0m\n",
      "\u001b[32m[I 2023-05-10 10:26:53,293]\u001b[0m Trial 479 finished with value: 153.24552579773626 and parameters: {'x': 1.5191869219433076, 'y': 1.0710943524677152}. Best is trial 469 with value: 0.011388939886941991.\u001b[0m\n",
      "\u001b[32m[I 2023-05-10 10:26:53,327]\u001b[0m Trial 480 finished with value: 67.03438714811612 and parameters: {'x': -0.3599340277822449, 'y': 0.9369245783598227}. Best is trial 469 with value: 0.011388939886941991.\u001b[0m\n",
      "\u001b[32m[I 2023-05-10 10:26:53,360]\u001b[0m Trial 481 finished with value: 0.06422491921131064 and parameters: {'x': 0.7481889632269323, 'y': 0.5569299415901483}. Best is trial 469 with value: 0.011388939886941991.\u001b[0m\n",
      "\u001b[32m[I 2023-05-10 10:26:53,390]\u001b[0m Trial 482 finished with value: 1.1707880338600427 and parameters: {'x': 0.8421572759677186, 'y': 0.6021833867462298}. Best is trial 469 with value: 0.011388939886941991.\u001b[0m\n",
      "\u001b[32m[I 2023-05-10 10:26:53,423]\u001b[0m Trial 483 finished with value: 0.5693746419531962 and parameters: {'x': 0.8008319216971589, 'y': 0.5685508133571554}. Best is trial 469 with value: 0.011388939886941991.\u001b[0m\n",
      "\u001b[32m[I 2023-05-10 10:26:53,455]\u001b[0m Trial 484 finished with value: 50.92957424298611 and parameters: {'x': -0.045736105647137926, 'y': 0.708038037474384}. Best is trial 469 with value: 0.011388939886941991.\u001b[0m\n",
      "\u001b[32m[I 2023-05-10 10:26:53,497]\u001b[0m Trial 485 finished with value: 0.7757149470217859 and parameters: {'x': 0.7482580635216024, 'y': 0.6442904225416453}. Best is trial 469 with value: 0.011388939886941991.\u001b[0m\n",
      "\u001b[32m[I 2023-05-10 10:26:53,532]\u001b[0m Trial 486 finished with value: 0.07360882772894484 and parameters: {'x': 0.728695699063444, 'y': 0.5311648739840851}. Best is trial 469 with value: 0.011388939886941991.\u001b[0m\n",
      "\u001b[32m[I 2023-05-10 10:26:53,569]\u001b[0m Trial 487 finished with value: 0.5243530384046633 and parameters: {'x': 0.7534796330604748, 'y': 0.49964479315131993}. Best is trial 469 with value: 0.011388939886941991.\u001b[0m\n",
      "\u001b[32m[I 2023-05-10 10:26:53,606]\u001b[0m Trial 488 finished with value: 0.21637592626649363 and parameters: {'x': 0.7207565443210797, 'y': 0.5566920147729976}. Best is trial 469 with value: 0.011388939886941991.\u001b[0m\n",
      "\u001b[32m[I 2023-05-10 10:26:53,642]\u001b[0m Trial 489 finished with value: 0.12123881077235334 and parameters: {'x': 0.9024808758681557, 'y': 0.7810458683868189}. Best is trial 469 with value: 0.011388939886941991.\u001b[0m\n",
      "\u001b[32m[I 2023-05-10 10:26:53,677]\u001b[0m Trial 490 finished with value: 0.4584629084468166 and parameters: {'x': 0.8324954264736957, 'y': 0.7586539036605057}. Best is trial 469 with value: 0.011388939886941991.\u001b[0m\n",
      "\u001b[32m[I 2023-05-10 10:26:53,719]\u001b[0m Trial 491 finished with value: 2.802885533160135 and parameters: {'x': 0.9214662779118578, 'y': 0.6818661936528339}. Best is trial 469 with value: 0.011388939886941991.\u001b[0m\n",
      "\u001b[32m[I 2023-05-10 10:26:53,759]\u001b[0m Trial 492 finished with value: 2.7495358652692166 and parameters: {'x': 0.9918942433469711, 'y': 0.8180389264540774}. Best is trial 469 with value: 0.011388939886941991.\u001b[0m\n",
      "\u001b[32m[I 2023-05-10 10:26:53,800]\u001b[0m Trial 493 finished with value: 0.3631869251060605 and parameters: {'x': 0.8885462436624048, 'y': 0.7302890115261451}. Best is trial 469 with value: 0.011388939886941991.\u001b[0m\n",
      "\u001b[32m[I 2023-05-10 10:26:53,847]\u001b[0m Trial 494 finished with value: 0.260675103536634 and parameters: {'x': 0.7990257794595494, 'y': 0.5915077242384995}. Best is trial 469 with value: 0.011388939886941991.\u001b[0m\n",
      "\u001b[32m[I 2023-05-10 10:26:53,883]\u001b[0m Trial 495 finished with value: 1.5937105491789416 and parameters: {'x': 0.9791845165828135, 'y': 0.8325772302773209}. Best is trial 469 with value: 0.011388939886941991.\u001b[0m\n",
      "\u001b[32m[I 2023-05-10 10:26:53,924]\u001b[0m Trial 496 finished with value: 3.2043827000996608 and parameters: {'x': 1.0379822096836975, 'y': 0.898439471339206}. Best is trial 469 with value: 0.011388939886941991.\u001b[0m\n",
      "\u001b[32m[I 2023-05-10 10:26:53,960]\u001b[0m Trial 497 finished with value: 0.13747030019311163 and parameters: {'x': 0.7168021416292826, 'y': 0.5377363096399532}. Best is trial 469 with value: 0.011388939886941991.\u001b[0m\n",
      "\u001b[32m[I 2023-05-10 10:26:53,996]\u001b[0m Trial 498 finished with value: 517.7554611188473 and parameters: {'x': 1.7157777092976292, 'y': 0.6695951826579716}. Best is trial 469 with value: 0.011388939886941991.\u001b[0m\n",
      "\u001b[32m[I 2023-05-10 10:26:54,037]\u001b[0m Trial 499 finished with value: 5.915558841682197 and parameters: {'x': 0.8936264577082805, 'y': 0.5555817542920747}. Best is trial 469 with value: 0.011388939886941991.\u001b[0m\n",
      "\u001b[32m[I 2023-05-10 10:26:54,079]\u001b[0m Trial 500 finished with value: 0.5958718822842349 and parameters: {'x': 0.7465727449142152, 'y': 0.6302849573307876}. Best is trial 469 with value: 0.011388939886941991.\u001b[0m\n",
      "\u001b[32m[I 2023-05-10 10:26:54,129]\u001b[0m Trial 501 finished with value: 147.12891261359982 and parameters: {'x': 0.9685606518793, 'y': -0.2748532646373162}. Best is trial 469 with value: 0.011388939886941991.\u001b[0m\n",
      "\u001b[32m[I 2023-05-10 10:26:54,166]\u001b[0m Trial 502 finished with value: 497.6019794674893 and parameters: {'x': 1.7980822443620217, 'y': 1.0038284770067587}. Best is trial 469 with value: 0.011388939886941991.\u001b[0m\n",
      "\u001b[32m[I 2023-05-10 10:26:54,207]\u001b[0m Trial 503 finished with value: 0.11509189521567009 and parameters: {'x': 0.8329213513294399, 'y': 0.7232836646853658}. Best is trial 469 with value: 0.011388939886941991.\u001b[0m\n",
      "\u001b[32m[I 2023-05-10 10:26:54,247]\u001b[0m Trial 504 finished with value: 8.691006169948698 and parameters: {'x': 0.7164718524323093, 'y': 0.8067704601627388}. Best is trial 469 with value: 0.011388939886941991.\u001b[0m\n",
      "\u001b[32m[I 2023-05-10 10:26:54,285]\u001b[0m Trial 505 finished with value: 2.357326880319217 and parameters: {'x': 0.8192448298599038, 'y': 0.5186939159241214}. Best is trial 469 with value: 0.011388939886941991.\u001b[0m\n",
      "\u001b[32m[I 2023-05-10 10:26:54,323]\u001b[0m Trial 506 finished with value: 5.4449936709775395 and parameters: {'x': 1.0620391180529394, 'y': 0.8946644719211494}. Best is trial 469 with value: 0.011388939886941991.\u001b[0m\n",
      "\u001b[32m[I 2023-05-10 10:26:54,361]\u001b[0m Trial 507 finished with value: 2.2483172286107873 and parameters: {'x': 0.7425963335270522, 'y': 0.6991673087695116}. Best is trial 469 with value: 0.011388939886941991.\u001b[0m\n",
      "\u001b[32m[I 2023-05-10 10:26:54,417]\u001b[0m Trial 508 finished with value: 281.4832203034556 and parameters: {'x': 1.110273964258125, 'y': -0.44500165141222536}. Best is trial 469 with value: 0.011388939886941991.\u001b[0m\n",
      "\u001b[32m[I 2023-05-10 10:26:54,457]\u001b[0m Trial 509 finished with value: 9.994324419026668 and parameters: {'x': 0.8273151511768949, 'y': 1.0001163911474886}. Best is trial 469 with value: 0.011388939886941991.\u001b[0m\n",
      "\u001b[32m[I 2023-05-10 10:26:54,496]\u001b[0m Trial 510 finished with value: 2.271440369651727 and parameters: {'x': 0.9783881006662551, 'y': 1.1079407637412482}. Best is trial 469 with value: 0.011388939886941991.\u001b[0m\n",
      "\u001b[32m[I 2023-05-10 10:26:54,532]\u001b[0m Trial 511 finished with value: 73.29029421545202 and parameters: {'x': 1.21539094246948, 'y': 0.6213486363349717}. Best is trial 469 with value: 0.011388939886941991.\u001b[0m\n",
      "\u001b[32m[I 2023-05-10 10:26:54,567]\u001b[0m Trial 512 finished with value: 0.47537652521073726 and parameters: {'x': 0.9182851022851661, 'y': 0.774785919347424}. Best is trial 469 with value: 0.011388939886941991.\u001b[0m\n",
      "\u001b[32m[I 2023-05-10 10:26:54,605]\u001b[0m Trial 513 finished with value: 31.7772249209525 and parameters: {'x': 1.039719244186838, 'y': 0.5173171861853748}. Best is trial 469 with value: 0.011388939886941991.\u001b[0m\n",
      "\u001b[32m[I 2023-05-10 10:26:54,641]\u001b[0m Trial 514 finished with value: 868.3894036355091 and parameters: {'x': 1.951715151351253, 'y': 0.8638845066337192}. Best is trial 469 with value: 0.011388939886941991.\u001b[0m\n",
      "\u001b[32m[I 2023-05-10 10:26:54,675]\u001b[0m Trial 515 finished with value: 22.266162529320717 and parameters: {'x': 0.710603972203519, 'y': 0.9759400906227013}. Best is trial 469 with value: 0.011388939886941991.\u001b[0m\n",
      "\u001b[32m[I 2023-05-10 10:26:54,710]\u001b[0m Trial 516 finished with value: 581.5557914603132 and parameters: {'x': 1.1267534222967452, 'y': -1.1419402024565803}. Best is trial 469 with value: 0.011388939886941991.\u001b[0m\n",
      "\u001b[32m[I 2023-05-10 10:26:54,747]\u001b[0m Trial 517 finished with value: 34.72110708984381 and parameters: {'x': 1.293244171086284, 'y': 1.0839644289527732}. Best is trial 469 with value: 0.011388939886941991.\u001b[0m\n",
      "\u001b[32m[I 2023-05-10 10:26:54,792]\u001b[0m Trial 518 finished with value: 199.80861565658458 and parameters: {'x': 0.8244077920623621, 'y': -0.733779480785161}. Best is trial 469 with value: 0.011388939886941991.\u001b[0m\n",
      "\u001b[32m[I 2023-05-10 10:26:54,830]\u001b[0m Trial 519 finished with value: 14.066362311031732 and parameters: {'x': 1.0153229332931386, 'y': 0.6558322950730987}. Best is trial 469 with value: 0.011388939886941991.\u001b[0m\n",
      "\u001b[32m[I 2023-05-10 10:26:54,868]\u001b[0m Trial 520 finished with value: 9.94168581063849 and parameters: {'x': -0.7215320408214885, 'y': 0.7847677795989967}. Best is trial 469 with value: 0.011388939886941991.\u001b[0m\n",
      "\u001b[32m[I 2023-05-10 10:26:54,906]\u001b[0m Trial 521 finished with value: 35.23082110382956 and parameters: {'x': 0.06538014346944876, 'y': 0.590425625835983}. Best is trial 469 with value: 0.011388939886941991.\u001b[0m\n",
      "\u001b[32m[I 2023-05-10 10:26:54,944]\u001b[0m Trial 522 finished with value: 24.296139750149166 and parameters: {'x': 1.193481842861404, 'y': 0.9318676460023594}. Best is trial 469 with value: 0.011388939886941991.\u001b[0m\n",
      "\u001b[32m[I 2023-05-10 10:26:54,981]\u001b[0m Trial 523 finished with value: 764.8579678537521 and parameters: {'x': -1.8634071562770642, 'y': 0.7215429354055962}. Best is trial 469 with value: 0.011388939886941991.\u001b[0m\n",
      "\u001b[32m[I 2023-05-10 10:26:55,018]\u001b[0m Trial 524 finished with value: 7.369511681273752 and parameters: {'x': -0.9777876677339123, 'y': 1.1420221480571815}. Best is trial 469 with value: 0.011388939886941991.\u001b[0m\n",
      "\u001b[32m[I 2023-05-10 10:26:55,056]\u001b[0m Trial 525 finished with value: 2.5753696943988214 and parameters: {'x': 0.9360653873555026, 'y': 1.0365705861817762}. Best is trial 469 with value: 0.011388939886941991.\u001b[0m\n",
      "\u001b[32m[I 2023-05-10 10:26:55,094]\u001b[0m Trial 526 finished with value: 871.3328195249463 and parameters: {'x': 1.0977783596731288, 'y': -1.7467011954316027}. Best is trial 469 with value: 0.011388939886941991.\u001b[0m\n",
      "\u001b[32m[I 2023-05-10 10:26:55,132]\u001b[0m Trial 527 finished with value: 17.973759631731966 and parameters: {'x': 0.8778972582369945, 'y': 1.1944824363623259}. Best is trial 469 with value: 0.011388939886941991.\u001b[0m\n",
      "\u001b[32m[I 2023-05-10 10:26:55,171]\u001b[0m Trial 528 finished with value: 0.2461886358868707 and parameters: {'x': 0.6957460110825319, 'y': 0.5232566627910082}. Best is trial 469 with value: 0.011388939886941991.\u001b[0m\n",
      "\u001b[32m[I 2023-05-10 10:26:55,210]\u001b[0m Trial 529 finished with value: 1082.1578013913672 and parameters: {'x': 1.3530553236312635, 'y': -1.4586685260317442}. Best is trial 469 with value: 0.011388939886941991.\u001b[0m\n",
      "\u001b[32m[I 2023-05-10 10:26:55,248]\u001b[0m Trial 530 finished with value: 5.012586119165906 and parameters: {'x': 0.780996145380394, 'y': 0.8327693285208708}. Best is trial 469 with value: 0.011388939886941991.\u001b[0m\n",
      "\u001b[32m[I 2023-05-10 10:26:55,286]\u001b[0m Trial 531 finished with value: 538.1253089896827 and parameters: {'x': 1.887871311099195, 'y': 1.2460050388607025}. Best is trial 469 with value: 0.011388939886941991.\u001b[0m\n",
      "\u001b[32m[I 2023-05-10 10:26:55,325]\u001b[0m Trial 532 finished with value: 45.500838579722235 and parameters: {'x': 0.20097915086225715, 'y': 0.710186649081324}. Best is trial 469 with value: 0.011388939886941991.\u001b[0m\n",
      "\u001b[32m[I 2023-05-10 10:26:55,363]\u001b[0m Trial 533 finished with value: 39.59778503667842 and parameters: {'x': 0.004717693577295096, 'y': 0.6213691659128459}. Best is trial 469 with value: 0.011388939886941991.\u001b[0m\n",
      "\u001b[32m[I 2023-05-10 10:26:55,401]\u001b[0m Trial 534 finished with value: 118.64550216438231 and parameters: {'x': 1.0053609110940676, 'y': -0.07849446792560255}. Best is trial 469 with value: 0.011388939886941991.\u001b[0m\n",
      "\u001b[32m[I 2023-05-10 10:26:55,437]\u001b[0m Trial 535 finished with value: 96.81949522435892 and parameters: {'x': -0.34208675462791804, 'y': 1.0917966462972921}. Best is trial 469 with value: 0.011388939886941991.\u001b[0m\n",
      "\u001b[32m[I 2023-05-10 10:26:55,475]\u001b[0m Trial 536 finished with value: 16.589427146839704 and parameters: {'x': 1.1603936902161516, 'y': 0.9395282461548624}. Best is trial 469 with value: 0.011388939886941991.\u001b[0m\n",
      "\u001b[32m[I 2023-05-10 10:26:55,514]\u001b[0m Trial 537 finished with value: 25.96838477598926 and parameters: {'x': 0.9256268206039747, 'y': 1.3663225798637584}. Best is trial 469 with value: 0.011388939886941991.\u001b[0m\n",
      "\u001b[32m[I 2023-05-10 10:26:55,573]\u001b[0m Trial 538 finished with value: 200.82996071216837 and parameters: {'x': 1.0990840645435322, 'y': -0.20912445846325572}. Best is trial 469 with value: 0.011388939886941991.\u001b[0m\n",
      "\u001b[32m[I 2023-05-10 10:26:55,634]\u001b[0m Trial 539 finished with value: 108.67001034360544 and parameters: {'x': 1.2397553598944677, 'y': 0.4948200092669864}. Best is trial 469 with value: 0.011388939886941991.\u001b[0m\n",
      "\u001b[32m[I 2023-05-10 10:26:55,688]\u001b[0m Trial 540 finished with value: 869.9180703763905 and parameters: {'x': 1.6083584715978443, 'y': -0.361992906004981}. Best is trial 469 with value: 0.011388939886941991.\u001b[0m\n",
      "\u001b[32m[I 2023-05-10 10:26:55,740]\u001b[0m Trial 541 finished with value: 368.6931436882291 and parameters: {'x': 1.7530248817478524, 'y': 1.1544349912636884}. Best is trial 469 with value: 0.011388939886941991.\u001b[0m\n",
      "\u001b[32m[I 2023-05-10 10:26:55,789]\u001b[0m Trial 542 finished with value: 31.626425692200687 and parameters: {'x': 0.8401710643454681, 'y': 1.2680340210490209}. Best is trial 469 with value: 0.011388939886941991.\u001b[0m\n",
      "\u001b[32m[I 2023-05-10 10:26:55,840]\u001b[0m Trial 543 finished with value: 0.49859471568020935 and parameters: {'x': 1.049814835204463, 'y': 1.0316758847182097}. Best is trial 469 with value: 0.011388939886941991.\u001b[0m\n",
      "\u001b[32m[I 2023-05-10 10:26:55,892]\u001b[0m Trial 544 finished with value: 12.74188937077141 and parameters: {'x': 0.7143769262616599, 'y': 0.8661476700781908}. Best is trial 469 with value: 0.011388939886941991.\u001b[0m\n",
      "\u001b[32m[I 2023-05-10 10:26:55,942]\u001b[0m Trial 545 finished with value: 1156.0270241051046 and parameters: {'x': 1.6615686687764013, 'y': -0.6385856097143399}. Best is trial 469 with value: 0.011388939886941991.\u001b[0m\n",
      "\u001b[32m[I 2023-05-10 10:26:55,995]\u001b[0m Trial 546 finished with value: 3.459340973150395 and parameters: {'x': 0.9723848698476455, 'y': 0.7595598001004373}. Best is trial 469 with value: 0.011388939886941991.\u001b[0m\n",
      "\u001b[32m[I 2023-05-10 10:26:56,053]\u001b[0m Trial 547 finished with value: 33.02728700491643 and parameters: {'x': -0.1416064886549394, 'y': 0.583293213177712}. Best is trial 469 with value: 0.011388939886941991.\u001b[0m\n",
      "\u001b[32m[I 2023-05-10 10:26:56,139]\u001b[0m Trial 548 finished with value: 0.07101981489875339 and parameters: {'x': 0.8203532673994607, 'y': 0.653295259608195}. Best is trial 469 with value: 0.011388939886941991.\u001b[0m\n",
      "\u001b[32m[I 2023-05-10 10:26:56,198]\u001b[0m Trial 549 finished with value: 0.4642436241111234 and parameters: {'x': 0.7573075593737442, 'y': 0.6371813715122338}. Best is trial 469 with value: 0.011388939886941991.\u001b[0m\n",
      "\u001b[32m[I 2023-05-10 10:26:56,258]\u001b[0m Trial 550 finished with value: 0.04148452207787262 and parameters: {'x': 0.8159493125778707, 'y': 0.6570498257973998}. Best is trial 469 with value: 0.011388939886941991.\u001b[0m\n",
      "\u001b[32m[I 2023-05-10 10:26:56,318]\u001b[0m Trial 551 finished with value: 0.11420996718287674 and parameters: {'x': 0.8045929533519707, 'y': 0.6749426429461054}. Best is trial 469 with value: 0.011388939886941991.\u001b[0m\n",
      "\u001b[32m[I 2023-05-10 10:26:56,394]\u001b[0m Trial 552 finished with value: 0.25273438587471364 and parameters: {'x': 0.7981685466707485, 'y': 0.6831163183427648}. Best is trial 469 with value: 0.011388939886941991.\u001b[0m\n",
      "\u001b[32m[I 2023-05-10 10:26:56,469]\u001b[0m Trial 553 finished with value: 1.9345675659876715 and parameters: {'x': 0.6723547473619083, 'y': 0.5872354658300378}. Best is trial 469 with value: 0.011388939886941991.\u001b[0m\n",
      "\u001b[32m[I 2023-05-10 10:26:56,570]\u001b[0m Trial 554 finished with value: 44.164335342063325 and parameters: {'x': -0.25945691699774176, 'y': 0.7198368847298248}. Best is trial 469 with value: 0.011388939886941991.\u001b[0m\n",
      "\u001b[32m[I 2023-05-10 10:26:56,660]\u001b[0m Trial 555 finished with value: 3.368282163613968 and parameters: {'x': 0.8143594184108022, 'y': 0.4805937562626105}. Best is trial 469 with value: 0.011388939886941991.\u001b[0m\n",
      "\u001b[32m[I 2023-05-10 10:26:56,737]\u001b[0m Trial 556 finished with value: 3.6858849055405267 and parameters: {'x': 0.6884055374965374, 'y': 0.6633433041032006}. Best is trial 469 with value: 0.011388939886941991.\u001b[0m\n",
      "\u001b[32m[I 2023-05-10 10:26:56,841]\u001b[0m Trial 557 finished with value: 0.5861367041394805 and parameters: {'x': 0.8316548950210694, 'y': 0.766335648184862}. Best is trial 469 with value: 0.011388939886941991.\u001b[0m\n",
      "\u001b[32m[I 2023-05-10 10:26:56,918]\u001b[0m Trial 558 finished with value: 0.07711872625661909 and parameters: {'x': 0.7501889084109794, 'y': 0.5506536230470159}. Best is trial 469 with value: 0.011388939886941991.\u001b[0m\n",
      "\u001b[32m[I 2023-05-10 10:26:56,998]\u001b[0m Trial 559 finished with value: 0.5936914710362647 and parameters: {'x': 0.8618415567881996, 'y': 0.666968249289478}. Best is trial 469 with value: 0.011388939886941991.\u001b[0m\n",
      "\u001b[32m[I 2023-05-10 10:26:57,072]\u001b[0m Trial 560 finished with value: 3.0623098075319453 and parameters: {'x': 0.7742222962916318, 'y': 0.7729521275872921}. Best is trial 469 with value: 0.011388939886941991.\u001b[0m\n",
      "\u001b[32m[I 2023-05-10 10:26:57,143]\u001b[0m Trial 561 finished with value: 3.0065076516434477 and parameters: {'x': 0.8707389884881127, 'y': 0.5852760265644981}. Best is trial 469 with value: 0.011388939886941991.\u001b[0m\n",
      "\u001b[32m[I 2023-05-10 10:26:57,245]\u001b[0m Trial 562 finished with value: 7.465612343861873 and parameters: {'x': 0.7423449028124741, 'y': 0.8230911417112705}. Best is trial 469 with value: 0.011388939886941991.\u001b[0m\n",
      "\u001b[32m[I 2023-05-10 10:26:57,336]\u001b[0m Trial 563 finished with value: 2.162664163555256 and parameters: {'x': 0.922190509797247, 'y': 0.7035813324381961}. Best is trial 469 with value: 0.011388939886941991.\u001b[0m\n",
      "\u001b[32m[I 2023-05-10 10:26:57,405]\u001b[0m Trial 564 finished with value: 2.1222738972351474 and parameters: {'x': 0.6584210644015758, 'y': 0.5751374255690453}. Best is trial 469 with value: 0.011388939886941991.\u001b[0m\n",
      "\u001b[32m[I 2023-05-10 10:26:57,474]\u001b[0m Trial 565 finished with value: 2.5211289312642626 and parameters: {'x': 0.7865786554546338, 'y': 0.4613662131682835}. Best is trial 469 with value: 0.011388939886941991.\u001b[0m\n",
      "\u001b[32m[I 2023-05-10 10:26:57,536]\u001b[0m Trial 566 finished with value: 58.290521620615486 and parameters: {'x': -1.225080891816014, 'y': 0.7704839782124068}. Best is trial 469 with value: 0.011388939886941991.\u001b[0m\n",
      "\u001b[32m[I 2023-05-10 10:26:57,596]\u001b[0m Trial 567 finished with value: 0.5981233296051915 and parameters: {'x': 0.8555819206296901, 'y': 0.6560423505482549}. Best is trial 469 with value: 0.011388939886941991.\u001b[0m\n",
      "\u001b[32m[I 2023-05-10 10:26:57,651]\u001b[0m Trial 568 finished with value: 7.362438588985691 and parameters: {'x': 0.8857056910118769, 'y': 0.5133772564615845}. Best is trial 469 with value: 0.011388939886941991.\u001b[0m\n",
      "\u001b[32m[I 2023-05-10 10:26:57,707]\u001b[0m Trial 569 finished with value: 5.07860493781147 and parameters: {'x': -0.2636034579728974, 'y': -0.11711201755208758}. Best is trial 469 with value: 0.011388939886941991.\u001b[0m\n",
      "\u001b[32m[I 2023-05-10 10:26:57,760]\u001b[0m Trial 570 finished with value: 78.09100521582275 and parameters: {'x': 0.7568794929245543, 'y': -0.31049008616154894}. Best is trial 469 with value: 0.011388939886941991.\u001b[0m\n",
      "\u001b[32m[I 2023-05-10 10:26:57,811]\u001b[0m Trial 571 finished with value: 0.13854232845568026 and parameters: {'x': 0.9207676289303067, 'y': 0.8841812213587059}. Best is trial 469 with value: 0.011388939886941991.\u001b[0m\n",
      "\u001b[32m[I 2023-05-10 10:26:57,864]\u001b[0m Trial 572 finished with value: 705.1261899742318 and parameters: {'x': 1.44755052578549, 'y': -0.5596415210742312}. Best is trial 469 with value: 0.011388939886941991.\u001b[0m\n",
      "\u001b[32m[I 2023-05-10 10:26:57,914]\u001b[0m Trial 573 finished with value: 51.5592730758573 and parameters: {'x': -0.0647234954330507, 'y': 0.7142992417180443}. Best is trial 469 with value: 0.011388939886941991.\u001b[0m\n",
      "\u001b[32m[I 2023-05-10 10:26:57,964]\u001b[0m Trial 574 finished with value: 206.80508445787046 and parameters: {'x': 0.6573233165885098, 'y': -1.005589638243515}. Best is trial 469 with value: 0.011388939886941991.\u001b[0m\n",
      "\u001b[32m[I 2023-05-10 10:26:58,011]\u001b[0m Trial 575 finished with value: 1107.4743521771504 and parameters: {'x': 1.9877783336360295, 'y': 0.624855262993397}. Best is trial 469 with value: 0.011388939886941991.\u001b[0m\n",
      "\u001b[32m[I 2023-05-10 10:26:58,059]\u001b[0m Trial 576 finished with value: 2.351907560936768 and parameters: {'x': 0.8122726535079721, 'y': 0.8119928426362574}. Best is trial 469 with value: 0.011388939886941991.\u001b[0m\n",
      "\u001b[32m[I 2023-05-10 10:26:58,114]\u001b[0m Trial 577 finished with value: 19.933992987273943 and parameters: {'x': 0.18852180414470054, 'y': 0.4745791491723973}. Best is trial 469 with value: 0.011388939886941991.\u001b[0m\n",
      "\u001b[32m[I 2023-05-10 10:26:58,164]\u001b[0m Trial 578 finished with value: 33.79654313681928 and parameters: {'x': 0.011215155093039608, 'y': 0.5730031458765013}. Best is trial 469 with value: 0.011388939886941991.\u001b[0m\n",
      "\u001b[32m[I 2023-05-10 10:26:58,214]\u001b[0m Trial 579 finished with value: 123.99910753983993 and parameters: {'x': 0.9397409494990274, 'y': -0.2304195085919739}. Best is trial 469 with value: 0.011388939886941991.\u001b[0m\n",
      "\u001b[32m[I 2023-05-10 10:26:58,265]\u001b[0m Trial 580 finished with value: 110.81946211121236 and parameters: {'x': 0.7499687608036063, 'y': 1.614864404429275}. Best is trial 469 with value: 0.011388939886941991.\u001b[0m\n",
      "\u001b[32m[I 2023-05-10 10:26:58,316]\u001b[0m Trial 581 finished with value: 40.145953900146054 and parameters: {'x': 0.6853015986780641, 'y': -0.16318806798743563}. Best is trial 469 with value: 0.011388939886941991.\u001b[0m\n",
      "\u001b[32m[I 2023-05-10 10:26:58,365]\u001b[0m Trial 582 finished with value: 3.5439710191617384 and parameters: {'x': 0.9446684065785376, 'y': 0.7042253547833172}. Best is trial 469 with value: 0.011388939886941991.\u001b[0m\n",
      "\u001b[32m[I 2023-05-10 10:26:58,411]\u001b[0m Trial 583 finished with value: 34.86751538000693 and parameters: {'x': -0.5399998402117778, 'y': 0.8616517186821175}. Best is trial 469 with value: 0.011388939886941991.\u001b[0m\n",
      "\u001b[32m[I 2023-05-10 10:26:58,460]\u001b[0m Trial 584 finished with value: 137.62725612504315 and parameters: {'x': 0.8415593968209547, 'y': -0.46481722128457914}. Best is trial 469 with value: 0.011388939886941991.\u001b[0m\n",
      "\u001b[32m[I 2023-05-10 10:26:58,509]\u001b[0m Trial 585 finished with value: 136.7431515028325 and parameters: {'x': 1.338781123225372, 'y': 0.6234534696967002}. Best is trial 469 with value: 0.011388939886941991.\u001b[0m\n",
      "\u001b[32m[I 2023-05-10 10:26:58,557]\u001b[0m Trial 586 finished with value: 18.882389162657603 and parameters: {'x': 0.9835064564275628, 'y': 0.5327493687175965}. Best is trial 469 with value: 0.011388939886941991.\u001b[0m\n",
      "\u001b[32m[I 2023-05-10 10:26:58,606]\u001b[0m Trial 587 finished with value: 47.43600583672442 and parameters: {'x': 0.8774334340559394, 'y': 1.458518382621059}. Best is trial 469 with value: 0.011388939886941991.\u001b[0m\n",
      "\u001b[32m[I 2023-05-10 10:26:58,656]\u001b[0m Trial 588 finished with value: 9.68413147059319 and parameters: {'x': -1.0066389368443396, 'y': 0.775466286053038}. Best is trial 469 with value: 0.011388939886941991.\u001b[0m\n",
      "\u001b[32m[I 2023-05-10 10:26:58,705]\u001b[0m Trial 589 finished with value: 88.01314244547508 and parameters: {'x': 0.7819046519346735, 'y': 1.5492745428075811}. Best is trial 469 with value: 0.011388939886941991.\u001b[0m\n",
      "\u001b[32m[I 2023-05-10 10:26:58,783]\u001b[0m Trial 590 finished with value: 2.2103879358228884 and parameters: {'x': 0.7061137231903073, 'y': 0.6443367284104593}. Best is trial 469 with value: 0.011388939886941991.\u001b[0m\n",
      "\u001b[32m[I 2023-05-10 10:26:58,861]\u001b[0m Trial 591 finished with value: 0.27006434372387433 and parameters: {'x': 0.9887240680242769, 'y': 0.9256198020284743}. Best is trial 469 with value: 0.011388939886941991.\u001b[0m\n",
      "\u001b[32m[I 2023-05-10 10:26:58,934]\u001b[0m Trial 592 finished with value: 9.500244003410366 and parameters: {'x': 0.6436439517561915, 'y': 0.720435247139353}. Best is trial 469 with value: 0.011388939886941991.\u001b[0m\n",
      "\u001b[32m[I 2023-05-10 10:26:59,000]\u001b[0m Trial 593 finished with value: 280.532822997417 and parameters: {'x': -1.455760484143663, 'y': 0.46242820745263785}. Best is trial 469 with value: 0.011388939886941991.\u001b[0m\n",
      "\u001b[32m[I 2023-05-10 10:26:59,066]\u001b[0m Trial 594 finished with value: 122.50257631655151 and parameters: {'x': -1.6613159666172606, 'y': 1.6856338587520665}. Best is trial 469 with value: 0.011388939886941991.\u001b[0m\n",
      "\u001b[32m[I 2023-05-10 10:26:59,146]\u001b[0m Trial 595 finished with value: 99.77244896184327 and parameters: {'x': 1.2490684642511705, 'y': 0.5616210088491735}. Best is trial 469 with value: 0.011388939886941991.\u001b[0m\n",
      "\u001b[32m[I 2023-05-10 10:26:59,208]\u001b[0m Trial 596 finished with value: 145.50056170929463 and parameters: {'x': 1.4203873012829173, 'y': 0.8119967209627224}. Best is trial 469 with value: 0.011388939886941991.\u001b[0m\n",
      "\u001b[32m[I 2023-05-10 10:26:59,273]\u001b[0m Trial 597 finished with value: 31.604196494768065 and parameters: {'x': 0.9106140020417893, 'y': 1.391322892164533}. Best is trial 469 with value: 0.011388939886941991.\u001b[0m\n",
      "\u001b[32m[I 2023-05-10 10:26:59,333]\u001b[0m Trial 598 finished with value: 32.676943897429325 and parameters: {'x': -0.433495820044863, 'y': -0.3654531625088214}. Best is trial 469 with value: 0.011388939886941991.\u001b[0m\n",
      "\u001b[32m[I 2023-05-10 10:26:59,390]\u001b[0m Trial 599 finished with value: 229.6531441127932 and parameters: {'x': 0.0727815436163004, 'y': -1.5072946955148385}. Best is trial 469 with value: 0.011388939886941991.\u001b[0m\n",
      "\u001b[32m[I 2023-05-10 10:26:59,447]\u001b[0m Trial 600 finished with value: 0.3937008399534647 and parameters: {'x': 0.8171041919461395, 'y': 0.7276800871605198}. Best is trial 469 with value: 0.011388939886941991.\u001b[0m\n",
      "\u001b[32m[I 2023-05-10 10:26:59,502]\u001b[0m Trial 601 finished with value: 5.077213990895502 and parameters: {'x': 1.0870805874331373, 'y': 0.9565857935114636}. Best is trial 469 with value: 0.011388939886941991.\u001b[0m\n",
      "\u001b[32m[I 2023-05-10 10:26:59,558]\u001b[0m Trial 602 finished with value: 5.365558625164647 and parameters: {'x': -0.8833999716838821, 'y': 0.645548812873016}. Best is trial 469 with value: 0.011388939886941991.\u001b[0m\n",
      "\u001b[32m[I 2023-05-10 10:26:59,612]\u001b[0m Trial 603 finished with value: 6.41531314541729 and parameters: {'x': -1.1999644535766323, 'y': 1.3143969800047284}. Best is trial 469 with value: 0.011388939886941991.\u001b[0m\n",
      "\u001b[32m[I 2023-05-10 10:26:59,671]\u001b[0m Trial 604 finished with value: 32.200043432196495 and parameters: {'x': 1.015497729083057, 'y': 0.4637869330198101}. Best is trial 469 with value: 0.011388939886941991.\u001b[0m\n",
      "\u001b[32m[I 2023-05-10 10:26:59,731]\u001b[0m Trial 605 finished with value: 8.835953793256245 and parameters: {'x': 0.7567702547762072, 'y': 0.868957747290959}. Best is trial 469 with value: 0.011388939886941991.\u001b[0m\n",
      "\u001b[32m[I 2023-05-10 10:26:59,826]\u001b[0m Trial 606 finished with value: 1785.9463055233625 and parameters: {'x': 1.8079634073116728, 'y': -0.9565416825355535}. Best is trial 469 with value: 0.011388939886941991.\u001b[0m\n",
      "\u001b[32m[I 2023-05-10 10:26:59,893]\u001b[0m Trial 607 finished with value: 12.04637008445952 and parameters: {'x': -0.5128419189472089, 'y': -0.049366010904776214}. Best is trial 469 with value: 0.011388939886941991.\u001b[0m\n",
      "\u001b[32m[I 2023-05-10 10:26:59,963]\u001b[0m Trial 608 finished with value: 16.49847576837896 and parameters: {'x': 0.9028299742116077, 'y': 1.2211688749794771}. Best is trial 469 with value: 0.011388939886941991.\u001b[0m\n",
      "\u001b[32m[I 2023-05-10 10:27:00,025]\u001b[0m Trial 609 finished with value: 378.394338040907 and parameters: {'x': 1.5830423812882053, 'y': 0.5616610757321276}. Best is trial 469 with value: 0.011388939886941991.\u001b[0m\n",
      "\u001b[32m[I 2023-05-10 10:27:00,088]\u001b[0m Trial 610 finished with value: 172.4281385067155 and parameters: {'x': -0.40018129896771015, 'y': 1.465777603947988}. Best is trial 469 with value: 0.011388939886941991.\u001b[0m\n",
      "\u001b[32m[I 2023-05-10 10:27:00,152]\u001b[0m Trial 611 finished with value: 240.31418887921643 and parameters: {'x': -1.8122073434085162, 'y': 1.759609710287039}. Best is trial 469 with value: 0.011388939886941991.\u001b[0m\n",
      "\u001b[32m[I 2023-05-10 10:27:00,214]\u001b[0m Trial 612 finished with value: 81.70410438730808 and parameters: {'x': 1.2968796398167812, 'y': 0.7784812431502268}. Best is trial 469 with value: 0.011388939886941991.\u001b[0m\n",
      "\u001b[32m[I 2023-05-10 10:27:00,276]\u001b[0m Trial 613 finished with value: 38.928968517346355 and parameters: {'x': -0.23726273318804597, 'y': 0.6678338685360812}. Best is trial 469 with value: 0.011388939886941991.\u001b[0m\n",
      "\u001b[32m[I 2023-05-10 10:27:00,336]\u001b[0m Trial 614 finished with value: 484.5074807448253 and parameters: {'x': 1.1648726470721278, 'y': -0.8441630312354489}. Best is trial 469 with value: 0.011388939886941991.\u001b[0m\n",
      "\u001b[32m[I 2023-05-10 10:27:00,394]\u001b[0m Trial 615 finished with value: 39.24900104221965 and parameters: {'x': -0.775062452104698, 'y': -9.55913351693427e-05}. Best is trial 469 with value: 0.011388939886941991.\u001b[0m\n",
      "\u001b[32m[I 2023-05-10 10:27:00,451]\u001b[0m Trial 616 finished with value: 183.79594789834718 and parameters: {'x': -0.06265642067847318, 'y': 1.3554683133616323}. Best is trial 469 with value: 0.011388939886941991.\u001b[0m\n",
      "\u001b[32m[I 2023-05-10 10:27:00,508]\u001b[0m Trial 617 finished with value: 68.18717461341356 and parameters: {'x': 0.8553886668814584, 'y': 1.557318393605985}. Best is trial 469 with value: 0.011388939886941991.\u001b[0m\n",
      "\u001b[32m[I 2023-05-10 10:27:00,562]\u001b[0m Trial 618 finished with value: 33.03529073224842 and parameters: {'x': 0.6350529560567826, 'y': 0.9768958168473842}. Best is trial 469 with value: 0.011388939886941991.\u001b[0m\n",
      "\u001b[32m[I 2023-05-10 10:27:00,625]\u001b[0m Trial 619 finished with value: 0.6856464460113156 and parameters: {'x': 1.0528187758093541, 'y': 1.1910625138890214}. Best is trial 469 with value: 0.011388939886941991.\u001b[0m\n",
      "\u001b[32m[I 2023-05-10 10:27:00,684]\u001b[0m Trial 620 finished with value: 26.05921345303152 and parameters: {'x': -0.11925402643709143, 'y': 0.5122826021815695}. Best is trial 469 with value: 0.011388939886941991.\u001b[0m\n",
      "\u001b[32m[I 2023-05-10 10:27:00,741]\u001b[0m Trial 621 finished with value: 41.98871449745873 and parameters: {'x': 1.2205876967844926, 'y': 0.8422229021905551}. Best is trial 469 with value: 0.011388939886941991.\u001b[0m\n",
      "\u001b[32m[I 2023-05-10 10:27:00,802]\u001b[0m Trial 622 finished with value: 3.8107099527711843 and parameters: {'x': 0.9592953771310595, 'y': 0.7250796650582938}. Best is trial 469 with value: 0.011388939886941991.\u001b[0m\n",
      "\u001b[32m[I 2023-05-10 10:27:00,862]\u001b[0m Trial 623 finished with value: 31.77637009682078 and parameters: {'x': 0.25780986369050235, 'y': 0.6252639563994888}. Best is trial 469 with value: 0.011388939886941991.\u001b[0m\n",
      "\u001b[32m[I 2023-05-10 10:27:00,921]\u001b[0m Trial 624 finished with value: 1.3665157454400092 and parameters: {'x': 0.7291446140538245, 'y': 0.41793497828210824}. Best is trial 469 with value: 0.011388939886941991.\u001b[0m\n",
      "\u001b[32m[I 2023-05-10 10:27:00,984]\u001b[0m Trial 625 finished with value: 37.67223060222539 and parameters: {'x': 0.8116033130185197, 'y': 1.2721878128115085}. Best is trial 469 with value: 0.011388939886941991.\u001b[0m\n",
      "\u001b[32m[I 2023-05-10 10:27:01,043]\u001b[0m Trial 626 finished with value: 15.073763541079003 and parameters: {'x': 1.1325982252868656, 'y': 1.6708016935188728}. Best is trial 469 with value: 0.011388939886941991.\u001b[0m\n",
      "\u001b[32m[I 2023-05-10 10:27:01,110]\u001b[0m Trial 627 finished with value: 0.5044210220753162 and parameters: {'x': 0.9086231613627999, 'y': 0.8960283782655114}. Best is trial 469 with value: 0.011388939886941991.\u001b[0m\n",
      "\u001b[32m[I 2023-05-10 10:27:01,170]\u001b[0m Trial 628 finished with value: 23.063994809142578 and parameters: {'x': 1.0294527541922476, 'y': 0.5795321237018257}. Best is trial 469 with value: 0.011388939886941991.\u001b[0m\n",
      "\u001b[32m[I 2023-05-10 10:27:01,276]\u001b[0m Trial 629 finished with value: 10.954706526016686 and parameters: {'x': 0.6805309182542754, 'y': 0.7925558753159924}. Best is trial 469 with value: 0.011388939886941991.\u001b[0m\n",
      "\u001b[32m[I 2023-05-10 10:27:01,378]\u001b[0m Trial 630 finished with value: 69.05129480985815 and parameters: {'x': 1.356595425989304, 'y': 1.010145545690306}. Best is trial 469 with value: 0.011388939886941991.\u001b[0m\n",
      "\u001b[32m[I 2023-05-10 10:27:01,448]\u001b[0m Trial 631 finished with value: 1067.7409966269197 and parameters: {'x': -1.6749393607769045, 'y': -0.45124160827272486}. Best is trial 469 with value: 0.011388939886941991.\u001b[0m\n",
      "\u001b[32m[I 2023-05-10 10:27:01,522]\u001b[0m Trial 632 finished with value: 774.1909643234231 and parameters: {'x': 1.8590591954575149, 'y': 0.67499882580687}. Best is trial 469 with value: 0.011388939886941991.\u001b[0m\n",
      "\u001b[32m[I 2023-05-10 10:27:01,594]\u001b[0m Trial 633 finished with value: 19.6960563534916 and parameters: {'x': 0.8417575950719456, 'y': 1.1520760366180094}. Best is trial 469 with value: 0.011388939886941991.\u001b[0m\n",
      "\u001b[32m[I 2023-05-10 10:27:01,670]\u001b[0m Trial 634 finished with value: 26.667827891066263 and parameters: {'x': 0.954160121694323, 'y': 1.4268102150567703}. Best is trial 469 with value: 0.011388939886941991.\u001b[0m\n",
      "\u001b[32m[I 2023-05-10 10:27:01,733]\u001b[0m Trial 635 finished with value: 254.48045233453118 and parameters: {'x': 1.1542313153789296, 'y': -0.2629198579124644}. Best is trial 469 with value: 0.011388939886941991.\u001b[0m\n",
      "\u001b[32m[I 2023-05-10 10:27:01,799]\u001b[0m Trial 636 finished with value: 375.1085969471505 and parameters: {'x': 0.7732366769124518, 'y': -1.3387443350539}. Best is trial 469 with value: 0.011388939886941991.\u001b[0m\n",
      "\u001b[32m[I 2023-05-10 10:27:01,865]\u001b[0m Trial 637 finished with value: 1.3024270464478396 and parameters: {'x': 1.091502291825329, 'y': 1.305133763952226}. Best is trial 469 with value: 0.011388939886941991.\u001b[0m\n",
      "\u001b[32m[I 2023-05-10 10:27:01,927]\u001b[0m Trial 638 finished with value: 693.4235540111553 and parameters: {'x': 1.7713589154030847, 'y': 0.5055487355291653}. Best is trial 469 with value: 0.011388939886941991.\u001b[0m\n",
      "\u001b[32m[I 2023-05-10 10:27:01,987]\u001b[0m Trial 639 finished with value: 225.3336137228974 and parameters: {'x': 1.4858391444525851, 'y': 0.7073927516130629}. Best is trial 469 with value: 0.011388939886941991.\u001b[0m\n",
      "\u001b[32m[I 2023-05-10 10:27:02,048]\u001b[0m Trial 640 finished with value: 54.53738227824609 and parameters: {'x': -0.7035171677948961, 'y': 1.2135142476322047}. Best is trial 469 with value: 0.011388939886941991.\u001b[0m\n",
      "\u001b[32m[I 2023-05-10 10:27:02,107]\u001b[0m Trial 641 finished with value: 82.45558032215803 and parameters: {'x': 1.2380995255769407, 'y': 0.6251520977264005}. Best is trial 469 with value: 0.011388939886941991.\u001b[0m\n",
      "\u001b[32m[I 2023-05-10 10:27:02,166]\u001b[0m Trial 642 finished with value: 3.8860489441927832 and parameters: {'x': 0.9857563739818546, 'y': 0.774590134215894}. Best is trial 469 with value: 0.011388939886941991.\u001b[0m\n",
      "\u001b[32m[I 2023-05-10 10:27:02,224]\u001b[0m Trial 643 finished with value: 1.0782569234796957 and parameters: {'x': 0.7201122316443651, 'y': 0.41856563821408055}. Best is trial 469 with value: 0.011388939886941991.\u001b[0m\n",
      "\u001b[32m[I 2023-05-10 10:27:02,282]\u001b[0m Trial 644 finished with value: 528.1227805478866 and parameters: {'x': 0.6307553695844101, 'y': -1.8999432137204488}. Best is trial 469 with value: 0.011388939886941991.\u001b[0m\n",
      "\u001b[32m[I 2023-05-10 10:27:02,339]\u001b[0m Trial 645 finished with value: 9.70073486935855 and parameters: {'x': 0.8698279752013628, 'y': 1.0677885936319507}. Best is trial 469 with value: 0.011388939886941991.\u001b[0m\n",
      "\u001b[32m[I 2023-05-10 10:27:02,396]\u001b[0m Trial 646 finished with value: 81.87805589010203 and parameters: {'x': 0.146154784001312, 'y': 0.92218864185687}. Best is trial 469 with value: 0.011388939886941991.\u001b[0m\n",
      "\u001b[32m[I 2023-05-10 10:27:02,459]\u001b[0m Trial 647 finished with value: 477.29843622161184 and parameters: {'x': -1.1527798801023503, 'y': -0.8451822055969411}. Best is trial 469 with value: 0.011388939886941991.\u001b[0m\n",
      "\u001b[32m[I 2023-05-10 10:27:02,557]\u001b[0m Trial 648 finished with value: 323.23024588664595 and parameters: {'x': -0.16876251122453062, 'y': 1.82253830957635}. Best is trial 469 with value: 0.011388939886941991.\u001b[0m\n",
      "\u001b[32m[I 2023-05-10 10:27:02,627]\u001b[0m Trial 649 finished with value: 29.262612143808173 and parameters: {'x': 1.041038998439308, 'y': 0.542828485504521}. Best is trial 469 with value: 0.011388939886941991.\u001b[0m\n",
      "\u001b[32m[I 2023-05-10 10:27:02,691]\u001b[0m Trial 650 finished with value: 51.03922574930005 and parameters: {'x': 0.8068856125668774, 'y': 1.3652207652786217}. Best is trial 469 with value: 0.011388939886941991.\u001b[0m\n",
      "\u001b[32m[I 2023-05-10 10:27:02,752]\u001b[0m Trial 651 finished with value: 192.22983428848886 and parameters: {'x': 1.6959939117933884, 'y': 1.4916736195269622}. Best is trial 469 with value: 0.011388939886941991.\u001b[0m\n",
      "\u001b[32m[I 2023-05-10 10:27:02,816]\u001b[0m Trial 652 finished with value: 0.015325685812559973 and parameters: {'x': 0.9006587076295292, 'y': 0.8185732541975794}. Best is trial 469 with value: 0.011388939886941991.\u001b[0m\n",
      "\u001b[32m[I 2023-05-10 10:27:02,876]\u001b[0m Trial 653 finished with value: 0.09969498087487336 and parameters: {'x': 0.9337027177122238, 'y': 0.840930123470228}. Best is trial 469 with value: 0.011388939886941991.\u001b[0m\n",
      "\u001b[32m[I 2023-05-10 10:27:02,934]\u001b[0m Trial 654 finished with value: 0.10854796624004337 and parameters: {'x': 0.9206982946737869, 'y': 0.8796633431500736}. Best is trial 469 with value: 0.011388939886941991.\u001b[0m\n",
      "\u001b[32m[I 2023-05-10 10:27:02,992]\u001b[0m Trial 655 finished with value: 0.058576519787860416 and parameters: {'x': 0.9833937777517372, 'y': 0.9429177732203625}. Best is trial 469 with value: 0.011388939886941991.\u001b[0m\n",
      "\u001b[32m[I 2023-05-10 10:27:03,059]\u001b[0m Trial 656 finished with value: 4.033407003833874 and parameters: {'x': 1.0766329355019129, 'y': 0.9584512984204849}. Best is trial 469 with value: 0.011388939886941991.\u001b[0m\n",
      "\u001b[32m[I 2023-05-10 10:27:03,118]\u001b[0m Trial 657 finished with value: 0.5828353491845171 and parameters: {'x': 0.9666313028814284, 'y': 1.0106467699012098}. Best is trial 469 with value: 0.011388939886941991.\u001b[0m\n",
      "\u001b[32m[I 2023-05-10 10:27:03,185]\u001b[0m Trial 658 finished with value: 14.532950344661025 and parameters: {'x': 1.1254435955029898, 'y': 0.8856086642488965}. Best is trial 469 with value: 0.011388939886941991.\u001b[0m\n",
      "\u001b[32m[I 2023-05-10 10:27:03,249]\u001b[0m Trial 659 finished with value: 1.683902729779359 and parameters: {'x': 1.0196590677703312, 'y': 0.9099542290982491}. Best is trial 469 with value: 0.011388939886941991.\u001b[0m\n",
      "\u001b[32m[I 2023-05-10 10:27:03,315]\u001b[0m Trial 660 finished with value: 18.563390085658252 and parameters: {'x': 1.1967210631351923, 'y': 1.0017381093180922}. Best is trial 469 with value: 0.011388939886941991.\u001b[0m\n",
      "\u001b[32m[I 2023-05-10 10:27:03,383]\u001b[0m Trial 661 finished with value: 0.01955724618087599 and parameters: {'x': 0.9843268295570904, 'y': 0.9550026898445316}. Best is trial 469 with value: 0.011388939886941991.\u001b[0m\n",
      "\u001b[32m[I 2023-05-10 10:27:03,447]\u001b[0m Trial 662 finished with value: 285.32342249925193 and parameters: {'x': 1.0438639139011208, 'y': -0.5994943587340245}. Best is trial 469 with value: 0.011388939886941991.\u001b[0m\n",
      "\u001b[32m[I 2023-05-10 10:27:03,531]\u001b[0m Trial 663 finished with value: 1.5725042979854469 and parameters: {'x': 0.9716820050558642, 'y': 1.0695334741280587}. Best is trial 469 with value: 0.011388939886941991.\u001b[0m\n",
      "\u001b[32m[I 2023-05-10 10:27:03,614]\u001b[0m Trial 664 finished with value: 42.67793092644795 and parameters: {'x': -0.4981412428068759, 'y': 0.8840181422931959}. Best is trial 469 with value: 0.011388939886941991.\u001b[0m\n",
      "\u001b[32m[I 2023-05-10 10:27:03,691]\u001b[0m Trial 665 finished with value: 38.47721612470768 and parameters: {'x': -0.5811250114483689, 'y': 0.9375167475197377}. Best is trial 469 with value: 0.011388939886941991.\u001b[0m\n",
      "\u001b[32m[I 2023-05-10 10:27:03,780]\u001b[0m Trial 666 finished with value: 6.179556142461993 and parameters: {'x': 1.1216515377193939, 'y': 1.0098128842237888}. Best is trial 469 with value: 0.011388939886941991.\u001b[0m\n",
      "\u001b[32m[I 2023-05-10 10:27:03,866]\u001b[0m Trial 667 finished with value: 0.5132782694672628 and parameters: {'x': 1.0163063251608881, 'y': 1.1045034286371158}. Best is trial 469 with value: 0.011388939886941991.\u001b[0m\n",
      "\u001b[32m[I 2023-05-10 10:27:03,992]\u001b[0m Trial 668 finished with value: 163.15220172012837 and parameters: {'x': -1.4531436907086395, 'y': 0.8580944252981222}. Best is trial 469 with value: 0.011388939886941991.\u001b[0m\n",
      "\u001b[32m[I 2023-05-10 10:27:04,098]\u001b[0m Trial 669 finished with value: 794.6872139842731 and parameters: {'x': 1.9897719451066176, 'y': 1.14191078623716}. Best is trial 469 with value: 0.011388939886941991.\u001b[0m\n",
      "\u001b[32m[I 2023-05-10 10:27:04,215]\u001b[0m Trial 670 finished with value: 21.881643720690764 and parameters: {'x': 1.1880772057827567, 'y': 0.9441275037538427}. Best is trial 469 with value: 0.011388939886941991.\u001b[0m\n",
      "\u001b[32m[I 2023-05-10 10:27:04,302]\u001b[0m Trial 671 finished with value: 1.7540996102434108 and parameters: {'x': 1.0813106905877565, 'y': 1.037040215919985}. Best is trial 469 with value: 0.011388939886941991.\u001b[0m\n",
      "\u001b[32m[I 2023-05-10 10:27:04,377]\u001b[0m Trial 672 finished with value: 65.90519710928909 and parameters: {'x': 1.2870500994719032, 'y': 0.8451854457068966}. Best is trial 469 with value: 0.011388939886941991.\u001b[0m\n",
      "\u001b[32m[I 2023-05-10 10:27:04,451]\u001b[0m Trial 673 finished with value: 11.826670892990178 and parameters: {'x': 0.9390002754600142, 'y': 1.2255666848908473}. Best is trial 469 with value: 0.011388939886941991.\u001b[0m\n",
      "\u001b[32m[I 2023-05-10 10:27:04,522]\u001b[0m Trial 674 finished with value: 4.0669393466286 and parameters: {'x': -0.9646024888614013, 'y': 0.9759855803207262}. Best is trial 469 with value: 0.011388939886941991.\u001b[0m\n",
      "\u001b[32m[I 2023-05-10 10:27:04,588]\u001b[0m Trial 675 finished with value: 0.7887571477250352 and parameters: {'x': 0.9597858282391512, 'y': 0.8324679271599482}. Best is trial 469 with value: 0.011388939886941991.\u001b[0m\n",
      "\u001b[32m[I 2023-05-10 10:27:04,651]\u001b[0m Trial 676 finished with value: 115.14049834085813 and parameters: {'x': -0.2737041508124948, 'y': 1.1403630509465825}. Best is trial 469 with value: 0.011388939886941991.\u001b[0m\n",
      "\u001b[32m[I 2023-05-10 10:27:04,714]\u001b[0m Trial 677 finished with value: 3.0639872390865817 and parameters: {'x': 1.0961466535961235, 'y': 1.026759253561061}. Best is trial 469 with value: 0.011388939886941991.\u001b[0m\n",
      "\u001b[32m[I 2023-05-10 10:27:04,776]\u001b[0m Trial 678 finished with value: 0.45620103065035494 and parameters: {'x': 1.1727971104861303, 'y': 1.3101581782420455}. Best is trial 469 with value: 0.011388939886941991.\u001b[0m\n",
      "\u001b[32m[I 2023-05-10 10:27:04,839]\u001b[0m Trial 679 finished with value: 227.28504571260402 and parameters: {'x': 1.5561821813981918, 'y': 0.9151316853674065}. Best is trial 469 with value: 0.011388939886941991.\u001b[0m\n",
      "\u001b[32m[I 2023-05-10 10:27:04,899]\u001b[0m Trial 680 finished with value: 16.68687806205048 and parameters: {'x': 1.279141062083046, 'y': 1.2286609590106548}. Best is trial 469 with value: 0.011388939886941991.\u001b[0m\n",
      "\u001b[32m[I 2023-05-10 10:27:04,969]\u001b[0m Trial 681 finished with value: 459.54825891869376 and parameters: {'x': 1.4063991500968964, 'y': -0.1653638483719463}. Best is trial 469 with value: 0.011388939886941991.\u001b[0m\n",
      "\u001b[32m[I 2023-05-10 10:27:05,029]\u001b[0m Trial 682 finished with value: 34.20244526359537 and parameters: {'x': 1.0166450302668775, 'y': 1.6183933157360424}. Best is trial 469 with value: 0.011388939886941991.\u001b[0m\n",
      "\u001b[32m[I 2023-05-10 10:27:05,092]\u001b[0m Trial 683 finished with value: 0.04084513709976938 and parameters: {'x': 0.8952490054073383, 'y': 0.8187544057911044}. Best is trial 469 with value: 0.011388939886941991.\u001b[0m\n",
      "\u001b[32m[I 2023-05-10 10:27:05,154]\u001b[0m Trial 684 finished with value: 0.016084031005736826 and parameters: {'x': 0.8948475511964237, 'y': 0.8078422693002002}. Best is trial 469 with value: 0.011388939886941991.\u001b[0m\n",
      "\u001b[32m[I 2023-05-10 10:27:05,214]\u001b[0m Trial 685 finished with value: 0.09201065598339041 and parameters: {'x': 0.8946051543883935, 'y': 0.8287617615409714}. Best is trial 469 with value: 0.011388939886941991.\u001b[0m\n",
      "\u001b[32m[I 2023-05-10 10:27:05,276]\u001b[0m Trial 686 finished with value: 0.5370229728705344 and parameters: {'x': 0.8834124030454489, 'y': 0.8527659572599867}. Best is trial 469 with value: 0.011388939886941991.\u001b[0m\n",
      "\u001b[32m[I 2023-05-10 10:27:05,353]\u001b[0m Trial 687 finished with value: 0.10740635691222411 and parameters: {'x': 0.9116047820042731, 'y': 0.7994649765991383}. Best is trial 469 with value: 0.011388939886941991.\u001b[0m\n",
      "\u001b[32m[I 2023-05-10 10:27:05,415]\u001b[0m Trial 688 finished with value: 2.4764147554404428 and parameters: {'x': 0.9685760552631645, 'y': 0.7808046679858962}. Best is trial 469 with value: 0.011388939886941991.\u001b[0m\n",
      "\u001b[32m[I 2023-05-10 10:27:05,477]\u001b[0m Trial 689 finished with value: 205.18080263457077 and parameters: {'x': 1.03813529161607, 'y': -0.3546833972536283}. Best is trial 469 with value: 0.011388939886941991.\u001b[0m\n",
      "\u001b[32m[I 2023-05-10 10:27:05,544]\u001b[0m Trial 690 finished with value: 8.228801454654985 and parameters: {'x': -0.856325887602438, 'y': 0.9519914343972272}. Best is trial 469 with value: 0.011388939886941991.\u001b[0m\n",
      "\u001b[32m[I 2023-05-10 10:27:05,608]\u001b[0m Trial 691 finished with value: 60.92050318449235 and parameters: {'x': -0.3003488021321291, 'y': 0.8598170703759817}. Best is trial 469 with value: 0.011388939886941991.\u001b[0m\n",
      "\u001b[32m[I 2023-05-10 10:27:05,669]\u001b[0m Trial 692 finished with value: 612.3189626324447 and parameters: {'x': 0.8981487298248699, 'y': -1.6678158543338073}. Best is trial 469 with value: 0.011388939886941991.\u001b[0m\n",
      "\u001b[32m[I 2023-05-10 10:27:05,729]\u001b[0m Trial 693 finished with value: 283.58945783444716 and parameters: {'x': 1.0237704419508447, 'y': -0.6359038588830757}. Best is trial 469 with value: 0.011388939886941991.\u001b[0m\n",
      "\u001b[32m[I 2023-05-10 10:27:05,812]\u001b[0m Trial 694 finished with value: 10.352122134186722 and parameters: {'x': -1.0296694148146854, 'y': 0.8105680633352739}. Best is trial 469 with value: 0.011388939886941991.\u001b[0m\n",
      "\u001b[32m[I 2023-05-10 10:27:05,905]\u001b[0m Trial 695 finished with value: 2.8572954608838854 and parameters: {'x': 0.9533673240892475, 'y': 1.0778802833537473}. Best is trial 469 with value: 0.011388939886941991.\u001b[0m\n",
      "\u001b[32m[I 2023-05-10 10:27:05,971]\u001b[0m Trial 696 finished with value: 7.61729763239811 and parameters: {'x': 1.1000536446544245, 'y': 0.9343049159069167}. Best is trial 469 with value: 0.011388939886941991.\u001b[0m\n",
      "\u001b[32m[I 2023-05-10 10:27:06,038]\u001b[0m Trial 697 finished with value: 294.6993162305024 and parameters: {'x': -1.0620958299763266, 'y': -0.5762032423386645}. Best is trial 469 with value: 0.011388939886941991.\u001b[0m\n",
      "\u001b[32m[I 2023-05-10 10:27:06,101]\u001b[0m Trial 698 finished with value: 106.90632562829434 and parameters: {'x': -1.340697643951969, 'y': 0.7903581620055258}. Best is trial 469 with value: 0.011388939886941991.\u001b[0m\n",
      "\u001b[32m[I 2023-05-10 10:27:06,165]\u001b[0m Trial 699 finished with value: 98.7876432012538 and parameters: {'x': -0.026105119764000387, 'y': 0.9892903558767445}. Best is trial 469 with value: 0.011388939886941991.\u001b[0m\n",
      "\u001b[32m[I 2023-05-10 10:27:06,226]\u001b[0m Trial 700 finished with value: 10.108596716592823 and parameters: {'x': 0.8971375793257234, 'y': 1.122629592848461}. Best is trial 469 with value: 0.011388939886941991.\u001b[0m\n",
      "\u001b[32m[I 2023-05-10 10:27:06,282]\u001b[0m Trial 701 finished with value: 1.500219093735755 and parameters: {'x': 1.0041184979727418, 'y': 0.8857712191173417}. Best is trial 469 with value: 0.011388939886941991.\u001b[0m\n",
      "\u001b[32m[I 2023-05-10 10:27:06,340]\u001b[0m Trial 702 finished with value: 20.059412007128486 and parameters: {'x': 1.1034518025716837, 'y': 0.7698480249258672}. Best is trial 469 with value: 0.011388939886941991.\u001b[0m\n",
      "\u001b[32m[I 2023-05-10 10:27:06,395]\u001b[0m Trial 703 finished with value: 137.49293743438932 and parameters: {'x': 0.8764895949967442, 'y': -0.4042747643040048}. Best is trial 469 with value: 0.011388939886941991.\u001b[0m\n",
      "\u001b[32m[I 2023-05-10 10:27:06,448]\u001b[0m Trial 704 finished with value: 10.5359355254934 and parameters: {'x': 0.9665738835416526, 'y': 1.2588389194155616}. Best is trial 469 with value: 0.011388939886941991.\u001b[0m\n",
      "\u001b[32m[I 2023-05-10 10:27:06,502]\u001b[0m Trial 705 finished with value: 13.604671653556398 and parameters: {'x': -0.8528592021588692, 'y': 1.0462980339027173}. Best is trial 469 with value: 0.011388939886941991.\u001b[0m\n",
      "\u001b[32m[I 2023-05-10 10:27:06,555]\u001b[0m Trial 706 finished with value: 139.16237542871926 and parameters: {'x': 0.0749197347904913, 'y': 1.1816512395571563}. Best is trial 469 with value: 0.011388939886941991.\u001b[0m\n",
      "\u001b[32m[I 2023-05-10 10:27:06,611]\u001b[0m Trial 707 finished with value: 7.767384591998331 and parameters: {'x': 1.0538659750013206, 'y': 0.8319852733046259}. Best is trial 469 with value: 0.011388939886941991.\u001b[0m\n",
      "\u001b[32m[I 2023-05-10 10:27:06,665]\u001b[0m Trial 708 finished with value: 394.6924573480281 and parameters: {'x': 1.1447543061319412, 'y': -0.6761716755988809}. Best is trial 469 with value: 0.011388939886941991.\u001b[0m\n",
      "\u001b[32m[I 2023-05-10 10:27:06,719]\u001b[0m Trial 709 finished with value: 719.8094314953955 and parameters: {'x': 0.8501962538870769, 'y': -1.9600509534355943}. Best is trial 469 with value: 0.011388939886941991.\u001b[0m\n",
      "\u001b[32m[I 2023-05-10 10:27:06,769]\u001b[0m Trial 710 finished with value: 0.02966680208341117 and parameters: {'x': 0.9651719275029842, 'y': 0.9484251060552215}. Best is trial 469 with value: 0.011388939886941991.\u001b[0m\n",
      "\u001b[32m[I 2023-05-10 10:27:06,820]\u001b[0m Trial 711 finished with value: 30.041986149792216 and parameters: {'x': -0.6618999684098177, 'y': 0.9604148770426524}. Best is trial 469 with value: 0.011388939886941991.\u001b[0m\n",
      "\u001b[32m[I 2023-05-10 10:27:06,873]\u001b[0m Trial 712 finished with value: 30.821959807498345 and parameters: {'x': -0.7281691258211394, 'y': 1.0578228390527844}. Best is trial 469 with value: 0.011388939886941991.\u001b[0m\n",
      "\u001b[32m[I 2023-05-10 10:27:06,924]\u001b[0m Trial 713 finished with value: 9.490138482581866 and parameters: {'x': 1.2124115949037422, 'y': 1.162614366162272}. Best is trial 469 with value: 0.011388939886941991.\u001b[0m\n",
      "\u001b[32m[I 2023-05-10 10:27:06,976]\u001b[0m Trial 714 finished with value: 33.63024422798741 and parameters: {'x': -0.6712597379699559, 'y': -0.10472230459083093}. Best is trial 469 with value: 0.011388939886941991.\u001b[0m\n",
      "\u001b[32m[I 2023-05-10 10:27:07,025]\u001b[0m Trial 715 finished with value: 174.61717644030506 and parameters: {'x': -0.11493561973261257, 'y': 1.3299261683497856}. Best is trial 469 with value: 0.011388939886941991.\u001b[0m\n",
      "\u001b[32m[I 2023-05-10 10:27:07,074]\u001b[0m Trial 716 finished with value: 74.66798980027009 and parameters: {'x': 0.27333425822251467, 'y': 0.9357571828758317}. Best is trial 469 with value: 0.011388939886941991.\u001b[0m\n",
      "\u001b[32m[I 2023-05-10 10:27:07,123]\u001b[0m Trial 717 finished with value: 0.4032096333988785 and parameters: {'x': 1.0390547172472042, 'y': 1.0162561315731253}. Best is trial 469 with value: 0.011388939886941991.\u001b[0m\n",
      "\u001b[32m[I 2023-05-10 10:27:07,176]\u001b[0m Trial 718 finished with value: 136.07903758882338 and parameters: {'x': -0.9138699340844614, 'y': -0.3155638623533237}. Best is trial 469 with value: 0.011388939886941991.\u001b[0m\n",
      "\u001b[32m[I 2023-05-10 10:27:07,228]\u001b[0m Trial 719 finished with value: 29.819714167948973 and parameters: {'x': 1.1328493420304904, 'y': 0.7374349535542896}. Best is trial 469 with value: 0.011388939886941991.\u001b[0m\n",
      "\u001b[32m[I 2023-05-10 10:27:07,279]\u001b[0m Trial 720 finished with value: 2.8220945435722657 and parameters: {'x': 0.97069135798501, 'y': 1.1102070525544183}. Best is trial 469 with value: 0.011388939886941991.\u001b[0m\n",
      "\u001b[32m[I 2023-05-10 10:27:07,327]\u001b[0m Trial 721 finished with value: 154.56249504327593 and parameters: {'x': 0.11376118110890454, 'y': 1.253010458444652}. Best is trial 469 with value: 0.011388939886941991.\u001b[0m\n",
      "\u001b[32m[I 2023-05-10 10:27:07,376]\u001b[0m Trial 722 finished with value: 42.55706299745741 and parameters: {'x': 0.8455193270939454, 'y': 1.3670777458573777}. Best is trial 469 with value: 0.011388939886941991.\u001b[0m\n",
      "\u001b[32m[I 2023-05-10 10:27:07,427]\u001b[0m Trial 723 finished with value: 356.30729957681046 and parameters: {'x': 1.0556409666154578, 'y': -0.7732243419616369}. Best is trial 469 with value: 0.011388939886941991.\u001b[0m\n",
      "\u001b[32m[I 2023-05-10 10:27:07,499]\u001b[0m Trial 724 finished with value: 567.4019743383622 and parameters: {'x': 0.7941174423501042, 'y': -1.7513086091583339}. Best is trial 469 with value: 0.011388939886941991.\u001b[0m\n",
      "\u001b[32m[I 2023-05-10 10:27:07,555]\u001b[0m Trial 725 finished with value: 202.16405898163083 and parameters: {'x': 1.5261357265926199, 'y': 0.9082199586686784}. Best is trial 469 with value: 0.011388939886941991.\u001b[0m\n",
      "\u001b[32m[I 2023-05-10 10:27:07,612]\u001b[0m Trial 726 finished with value: 8.391933056211098 and parameters: {'x': -1.171434674005424, 'y': 1.1805092407623805}. Best is trial 469 with value: 0.011388939886941991.\u001b[0m\n",
      "\u001b[32m[I 2023-05-10 10:27:07,666]\u001b[0m Trial 727 finished with value: 0.6535874414226095 and parameters: {'x': 0.9021609510950663, 'y': 0.7336438388830896}. Best is trial 469 with value: 0.011388939886941991.\u001b[0m\n",
      "\u001b[32m[I 2023-05-10 10:27:07,721]\u001b[0m Trial 728 finished with value: 143.34739162503354 and parameters: {'x': 0.9929476135590005, 'y': -0.2113325396017316}. Best is trial 469 with value: 0.011388939886941991.\u001b[0m\n",
      "\u001b[32m[I 2023-05-10 10:27:07,775]\u001b[0m Trial 729 finished with value: 22.478045434784537 and parameters: {'x': 1.2090609371220011, 'y': 0.9881793344810748}. Best is trial 469 with value: 0.011388939886941991.\u001b[0m\n",
      "\u001b[32m[I 2023-05-10 10:27:07,831]\u001b[0m Trial 730 finished with value: 2.7997349921087857 and parameters: {'x': 1.122714302731648, 'y': 1.0936139147930841}. Best is trial 469 with value: 0.011388939886941991.\u001b[0m\n",
      "\u001b[32m[I 2023-05-10 10:27:07,886]\u001b[0m Trial 731 finished with value: 25.401399643817182 and parameters: {'x': 0.8765907005141786, 'y': 1.272258155480257}. Best is trial 469 with value: 0.011388939886941991.\u001b[0m\n",
      "\u001b[32m[I 2023-05-10 10:27:07,937]\u001b[0m Trial 732 finished with value: 6.5661999617847 and parameters: {'x': 0.7608367685991259, 'y': 0.83400002544279}. Best is trial 469 with value: 0.011388939886941991.\u001b[0m\n",
      "\u001b[32m[I 2023-05-10 10:27:07,990]\u001b[0m Trial 733 finished with value: 72.91016475454965 and parameters: {'x': 0.2699233278005263, 'y': 0.9236062317871642}. Best is trial 469 with value: 0.011388939886941991.\u001b[0m\n",
      "\u001b[32m[I 2023-05-10 10:27:08,044]\u001b[0m Trial 734 finished with value: 5.989067109326704 and parameters: {'x': -0.4421594257310575, 'y': -0.002213106664834874}. Best is trial 469 with value: 0.011388939886941991.\u001b[0m\n",
      "\u001b[32m[I 2023-05-10 10:27:08,097]\u001b[0m Trial 735 finished with value: 4.680649683291798 and parameters: {'x': 0.9805473030813346, 'y': 0.7451336672772301}. Best is trial 469 with value: 0.011388939886941991.\u001b[0m\n",
      "\u001b[32m[I 2023-05-10 10:27:08,150]\u001b[0m Trial 736 finished with value: 700.8443685304708 and parameters: {'x': 1.071687460418286, 'y': -1.4988228177318978}. Best is trial 469 with value: 0.011388939886941991.\u001b[0m\n",
      "\u001b[32m[I 2023-05-10 10:27:08,205]\u001b[0m Trial 737 finished with value: 1.7110862313589876 and parameters: {'x': -0.21667534653986442, 'y': -0.001092124392315319}. Best is trial 469 with value: 0.011388939886941991.\u001b[0m\n",
      "\u001b[32m[I 2023-05-10 10:27:08,257]\u001b[0m Trial 738 finished with value: 2.731054643398309 and parameters: {'x': 0.0025435935670011763, 'y': -0.13175601950807048}. Best is trial 469 with value: 0.011388939886941991.\u001b[0m\n",
      "\u001b[32m[I 2023-05-10 10:27:08,309]\u001b[0m Trial 739 finished with value: 23.08255025811846 and parameters: {'x': 1.2891199330880072, 'y': 1.1822578932346137}. Best is trial 469 with value: 0.011388939886941991.\u001b[0m\n",
      "\u001b[32m[I 2023-05-10 10:27:08,363]\u001b[0m Trial 740 finished with value: 59.966245280435956 and parameters: {'x': 0.9164600541737751, 'y': 0.06556534082526233}. Best is trial 469 with value: 0.011388939886941991.\u001b[0m\n",
      "\u001b[32m[I 2023-05-10 10:27:08,419]\u001b[0m Trial 741 finished with value: 555.2733641179409 and parameters: {'x': 1.1639904179801335, 'y': -1.001493152782433}. Best is trial 469 with value: 0.011388939886941991.\u001b[0m\n",
      "\u001b[32m[I 2023-05-10 10:27:08,472]\u001b[0m Trial 742 finished with value: 567.3372339075368 and parameters: {'x': 1.8428348818147748, 'y': 1.015647864110245}. Best is trial 469 with value: 0.011388939886941991.\u001b[0m\n",
      "\u001b[32m[I 2023-05-10 10:27:08,524]\u001b[0m Trial 743 finished with value: 658.361192362678 and parameters: {'x': -1.9810376380275536, 'y': 1.3760309553007335}. Best is trial 469 with value: 0.011388939886941991.\u001b[0m\n",
      "\u001b[32m[I 2023-05-10 10:27:08,575]\u001b[0m Trial 744 finished with value: 3.7521811655936452 and parameters: {'x': 0.7962678308249059, 'y': 0.8266735661965127}. Best is trial 469 with value: 0.011388939886941991.\u001b[0m\n",
      "\u001b[32m[I 2023-05-10 10:27:08,626]\u001b[0m Trial 745 finished with value: 13.539512810335165 and parameters: {'x': 1.0209663221793477, 'y': 0.6744174345660892}. Best is trial 469 with value: 0.011388939886941991.\u001b[0m\n",
      "\u001b[32m[I 2023-05-10 10:27:08,676]\u001b[0m Trial 746 finished with value: 12.633475135175038 and parameters: {'x': 0.857405170873873, 'y': 1.0902934806225504}. Best is trial 469 with value: 0.011388939886941991.\u001b[0m\n",
      "\u001b[32m[I 2023-05-10 10:27:08,726]\u001b[0m Trial 747 finished with value: 60.23023548944049 and parameters: {'x': 0.7204041960401198, 'y': -0.2565953963499751}. Best is trial 469 with value: 0.011388939886941991.\u001b[0m\n",
      "\u001b[32m[I 2023-05-10 10:27:08,798]\u001b[0m Trial 748 finished with value: 0.05682151409329225 and parameters: {'x': 0.9542390986549892, 'y': 0.8871783577694213}. Best is trial 469 with value: 0.011388939886941991.\u001b[0m\n",
      "\u001b[32m[I 2023-05-10 10:27:08,854]\u001b[0m Trial 749 finished with value: 465.2944569138949 and parameters: {'x': 1.0908412558765017, 'y': -0.9671147391236767}. Best is trial 469 with value: 0.011388939886941991.\u001b[0m\n",
      "\u001b[32m[I 2023-05-10 10:27:08,912]\u001b[0m Trial 750 finished with value: 8.407762040333413 and parameters: {'x': -1.079539953735876, 'y': 0.9633353455069406}. Best is trial 469 with value: 0.011388939886941991.\u001b[0m\n",
      "\u001b[32m[I 2023-05-10 10:27:08,972]\u001b[0m Trial 751 finished with value: 273.16789417125074 and parameters: {'x': 1.709836875982821, 'y': 1.2722879955243613}. Best is trial 469 with value: 0.011388939886941991.\u001b[0m\n",
      "\u001b[32m[I 2023-05-10 10:27:09,030]\u001b[0m Trial 752 finished with value: 9.878332724448219 and parameters: {'x': 1.2109471246438792, 'y': 1.1528034931489513}. Best is trial 469 with value: 0.011388939886941991.\u001b[0m\n",
      "\u001b[32m[I 2023-05-10 10:27:09,087]\u001b[0m Trial 753 finished with value: 4.044480521941938 and parameters: {'x': -0.927182464142613, 'y': 0.9171519520935951}. Best is trial 469 with value: 0.011388939886941991.\u001b[0m\n",
      "\u001b[32m[I 2023-05-10 10:27:09,142]\u001b[0m Trial 754 finished with value: 180.17802793678914 and parameters: {'x': -0.3301415909265061, 'y': 1.444690858261156}. Best is trial 469 with value: 0.011388939886941991.\u001b[0m\n",
      "\u001b[32m[I 2023-05-10 10:27:09,198]\u001b[0m Trial 755 finished with value: 190.79463599347696 and parameters: {'x': 0.9717852654917524, 'y': -0.43691483152308097}. Best is trial 469 with value: 0.011388939886941991.\u001b[0m\n",
      "\u001b[32m[I 2023-05-10 10:27:09,254]\u001b[0m Trial 756 finished with value: 85.62433688783754 and parameters: {'x': 1.4022893281045063, 'y': 1.0419560572890625}. Best is trial 469 with value: 0.011388939886941991.\u001b[0m\n",
      "\u001b[32m[I 2023-05-10 10:27:09,306]\u001b[0m Trial 757 finished with value: 15.673815031656947 and parameters: {'x': 1.0669985895699323, 'y': 0.7426409924411771}. Best is trial 469 with value: 0.011388939886941991.\u001b[0m\n",
      "\u001b[32m[I 2023-05-10 10:27:09,360]\u001b[0m Trial 758 finished with value: 0.18280155037395637 and parameters: {'x': 1.1610248356199693, 'y': 1.3083715290791826}. Best is trial 469 with value: 0.011388939886941991.\u001b[0m\n",
      "\u001b[32m[I 2023-05-10 10:27:09,414]\u001b[0m Trial 759 finished with value: 28.78721511582396 and parameters: {'x': 1.3196136424277158, 'y': 1.2057957906455812}. Best is trial 469 with value: 0.011388939886941991.\u001b[0m\n",
      "\u001b[32m[I 2023-05-10 10:27:09,465]\u001b[0m Trial 760 finished with value: 2137.0516864585024 and parameters: {'x': 1.9242073656929377, 'y': -0.9193277081415832}. Best is trial 469 with value: 0.011388939886941991.\u001b[0m\n",
      "\u001b[32m[I 2023-05-10 10:27:09,517]\u001b[0m Trial 761 finished with value: 20.78748545457476 and parameters: {'x': -0.43529606154978395, 'y': 0.6222344453712456}. Best is trial 469 with value: 0.011388939886941991.\u001b[0m\n",
      "\u001b[32m[I 2023-05-10 10:27:09,568]\u001b[0m Trial 762 finished with value: 0.4226647631960656 and parameters: {'x': 0.9747386714121867, 'y': 0.8851519009458071}. Best is trial 469 with value: 0.011388939886941991.\u001b[0m\n",
      "\u001b[32m[I 2023-05-10 10:27:09,626]\u001b[0m Trial 763 finished with value: 0.07707124937454146 and parameters: {'x': 1.03806789156634, 'y': 1.0500854775049602}. Best is trial 469 with value: 0.011388939886941991.\u001b[0m\n",
      "\u001b[32m[I 2023-05-10 10:27:09,679]\u001b[0m Trial 764 finished with value: 4.251661125713114 and parameters: {'x': 1.1227017699716153, 'y': 1.0546291061242343}. Best is trial 469 with value: 0.011388939886941991.\u001b[0m\n",
      "\u001b[32m[I 2023-05-10 10:27:09,730]\u001b[0m Trial 765 finished with value: 54.893757656843064 and parameters: {'x': -0.6296685245260516, 'y': 1.1192406271906223}. Best is trial 469 with value: 0.011388939886941991.\u001b[0m\n",
      "\u001b[32m[I 2023-05-10 10:27:09,783]\u001b[0m Trial 766 finished with value: 1188.911523740687 and parameters: {'x': 1.247813794232097, 'y': -1.8909313149379057}. Best is trial 469 with value: 0.011388939886941991.\u001b[0m\n",
      "\u001b[32m[I 2023-05-10 10:27:09,834]\u001b[0m Trial 767 finished with value: 269.02844992430425 and parameters: {'x': -1.6207260467360571, 'y': 1.0076165904225263}. Best is trial 469 with value: 0.011388939886941991.\u001b[0m\n",
      "\u001b[32m[I 2023-05-10 10:27:09,885]\u001b[0m Trial 768 finished with value: 948.025909606074 and parameters: {'x': 1.044029878713316, 'y': -1.9890014028310437}. Best is trial 469 with value: 0.011388939886941991.\u001b[0m\n",
      "\u001b[32m[I 2023-05-10 10:27:09,937]\u001b[0m Trial 769 finished with value: 0.8433229446345798 and parameters: {'x': 1.0988987578629072, 'y': 1.116279959763813}. Best is trial 469 with value: 0.011388939886941991.\u001b[0m\n",
      "\u001b[32m[I 2023-05-10 10:27:09,990]\u001b[0m Trial 770 finished with value: 552.8039079181947 and parameters: {'x': 1.0065407169563865, 'y': -1.338053926248417}. Best is trial 469 with value: 0.011388939886941991.\u001b[0m\n",
      "\u001b[32m[I 2023-05-10 10:27:10,042]\u001b[0m Trial 771 finished with value: 6.735606851818871 and parameters: {'x': 1.2095236327239771, 'y': 1.20426408469354}. Best is trial 469 with value: 0.011388939886941991.\u001b[0m\n",
      "\u001b[32m[I 2023-05-10 10:27:10,092]\u001b[0m Trial 772 finished with value: 88.51425643232655 and parameters: {'x': 0.20438510092897327, 'y': 0.9792232860943805}. Best is trial 469 with value: 0.011388939886941991.\u001b[0m\n",
      "\u001b[32m[I 2023-05-10 10:27:10,174]\u001b[0m Trial 773 finished with value: 120.58838543441126 and parameters: {'x': -0.08321630068456454, 'y': -1.0858468802112657}. Best is trial 469 with value: 0.011388939886941991.\u001b[0m\n",
      "\u001b[32m[I 2023-05-10 10:27:10,234]\u001b[0m Trial 774 finished with value: 123.8506571771287 and parameters: {'x': -0.5291431576489549, 'y': 1.3823190135834853}. Best is trial 469 with value: 0.011388939886941991.\u001b[0m\n",
      "\u001b[32m[I 2023-05-10 10:27:10,295]\u001b[0m Trial 775 finished with value: 800.6491996952523 and parameters: {'x': -1.4934707133516207, 'y': -0.5881118915728367}. Best is trial 469 with value: 0.011388939886941991.\u001b[0m\n",
      "\u001b[32m[I 2023-05-10 10:27:10,354]\u001b[0m Trial 776 finished with value: 195.10325309952322 and parameters: {'x': 0.9426789574803823, 'y': -0.508138282339206}. Best is trial 469 with value: 0.011388939886941991.\u001b[0m\n",
      "\u001b[32m[I 2023-05-10 10:27:10,410]\u001b[0m Trial 777 finished with value: 106.07401700592109 and parameters: {'x': 0.1606797856203479, 'y': 1.0523147474407617}. Best is trial 469 with value: 0.011388939886941991.\u001b[0m\n",
      "\u001b[32m[I 2023-05-10 10:27:10,466]\u001b[0m Trial 778 finished with value: 23.87183268472533 and parameters: {'x': -1.3118839135835256, 'y': 1.2906090894879325}. Best is trial 469 with value: 0.011388939886941991.\u001b[0m\n",
      "\u001b[32m[I 2023-05-10 10:27:10,522]\u001b[0m Trial 779 finished with value: 470.52476303980797 and parameters: {'x': 1.1408282940378738, 'y': -0.8676233649896654}. Best is trial 469 with value: 0.011388939886941991.\u001b[0m\n",
      "\u001b[32m[I 2023-05-10 10:27:10,576]\u001b[0m Trial 780 finished with value: 564.4606512712346 and parameters: {'x': -1.8136461141685785, 'y': 0.9301936487839119}. Best is trial 469 with value: 0.011388939886941991.\u001b[0m\n",
      "\u001b[32m[I 2023-05-10 10:27:10,631]\u001b[0m Trial 781 finished with value: 780.8806302757121 and parameters: {'x': 1.9859127026292152, 'y': 1.151164879261227}. Best is trial 469 with value: 0.011388939886941991.\u001b[0m\n",
      "\u001b[32m[I 2023-05-10 10:27:10,685]\u001b[0m Trial 782 finished with value: 2.2580443375626995 and parameters: {'x': 1.0404613367210618, 'y': 1.2327732153078559}. Best is trial 469 with value: 0.011388939886941991.\u001b[0m\n",
      "\u001b[32m[I 2023-05-10 10:27:10,738]\u001b[0m Trial 783 finished with value: 56.86232281152662 and parameters: {'x': 1.3210588298338934, 'y': 0.9918091208706061}. Best is trial 469 with value: 0.011388939886941991.\u001b[0m\n",
      "\u001b[32m[I 2023-05-10 10:27:10,791]\u001b[0m Trial 784 finished with value: 28.047910110755236 and parameters: {'x': -0.616375972415676, 'y': 0.8842529474776762}. Best is trial 469 with value: 0.011388939886941991.\u001b[0m\n",
      "\u001b[32m[I 2023-05-10 10:27:10,845]\u001b[0m Trial 785 finished with value: 85.89643659189804 and parameters: {'x': -1.394557702704709, 'y': 1.049455885850773}. Best is trial 469 with value: 0.011388939886941991.\u001b[0m\n",
      "\u001b[32m[I 2023-05-10 10:27:10,902]\u001b[0m Trial 786 finished with value: 117.9094583910403 and parameters: {'x': -0.18317112735769636, 'y': 1.1129476248065018}. Best is trial 469 with value: 0.011388939886941991.\u001b[0m\n",
      "\u001b[32m[I 2023-05-10 10:27:10,957]\u001b[0m Trial 787 finished with value: 583.8932291917566 and parameters: {'x': 1.58483397073595, 'y': 0.09601827562956078}. Best is trial 469 with value: 0.011388939886941991.\u001b[0m\n",
      "\u001b[32m[I 2023-05-10 10:27:11,008]\u001b[0m Trial 788 finished with value: 68.28615836124814 and parameters: {'x': 1.4965020404189406, 'y': 1.414656889305402}. Best is trial 469 with value: 0.011388939886941991.\u001b[0m\n",
      "\u001b[32m[I 2023-05-10 10:27:11,060]\u001b[0m Trial 789 finished with value: 19.01072711007578 and parameters: {'x': 0.9404773574689508, 'y': 1.3204699545028693}. Best is trial 469 with value: 0.011388939886941991.\u001b[0m\n",
      "\u001b[32m[I 2023-05-10 10:27:11,113]\u001b[0m Trial 790 finished with value: 2.117474980916205 and parameters: {'x': 1.1666341006625072, 'y': 1.2164768992787507}. Best is trial 469 with value: 0.011388939886941991.\u001b[0m\n",
      "\u001b[32m[I 2023-05-10 10:27:11,165]\u001b[0m Trial 791 finished with value: 11.142720699764464 and parameters: {'x': 1.0658768261512797, 'y': 0.802351278378801}. Best is trial 469 with value: 0.011388939886941991.\u001b[0m\n",
      "\u001b[32m[I 2023-05-10 10:27:11,219]\u001b[0m Trial 792 finished with value: 299.01136348297837 and parameters: {'x': 0.7467372567487736, 'y': -1.1713924961551814}. Best is trial 469 with value: 0.011388939886941991.\u001b[0m\n",
      "\u001b[32m[I 2023-05-10 10:27:11,272]\u001b[0m Trial 793 finished with value: 355.4666679370658 and parameters: {'x': -1.1644689571749094, 'y': -0.51692886939538}. Best is trial 469 with value: 0.011388939886941991.\u001b[0m\n",
      "\u001b[32m[I 2023-05-10 10:27:11,323]\u001b[0m Trial 794 finished with value: 6.023897287492509 and parameters: {'x': 0.8365183240901073, 'y': 0.9446541278824933}. Best is trial 469 with value: 0.011388939886941991.\u001b[0m\n",
      "\u001b[32m[I 2023-05-10 10:27:11,379]\u001b[0m Trial 795 finished with value: 351.106095951801 and parameters: {'x': 1.6596262716880847, 'y': 0.8817382330623772}. Best is trial 469 with value: 0.011388939886941991.\u001b[0m\n",
      "\u001b[32m[I 2023-05-10 10:27:11,432]\u001b[0m Trial 796 finished with value: 676.1253910880588 and parameters: {'x': 1.2539311781673235, 'y': -1.0277737324830256}. Best is trial 469 with value: 0.011388939886941991.\u001b[0m\n",
      "\u001b[32m[I 2023-05-10 10:27:11,487]\u001b[0m Trial 797 finished with value: 1748.6331810972129 and parameters: {'x': -1.8726949917468407, 'y': -0.6648006203925321}. Best is trial 469 with value: 0.011388939886941991.\u001b[0m\n",
      "\u001b[32m[I 2023-05-10 10:27:11,555]\u001b[0m Trial 798 finished with value: 33.9498399194418 and parameters: {'x': 1.0014356083488334, 'y': 0.42020838376796266}. Best is trial 469 with value: 0.011388939886941991.\u001b[0m\n",
      "\u001b[32m[I 2023-05-10 10:27:11,614]\u001b[0m Trial 799 finished with value: 56.794923744310715 and parameters: {'x': 0.6228624671722361, 'y': 1.1406374722288166}. Best is trial 469 with value: 0.011388939886941991.\u001b[0m\n",
      "\u001b[32m[I 2023-05-10 10:27:11,673]\u001b[0m Trial 800 finished with value: 77.53978048786651 and parameters: {'x': 0.9240873302891627, 'y': -0.026596635747154207}. Best is trial 469 with value: 0.011388939886941991.\u001b[0m\n",
      "\u001b[32m[I 2023-05-10 10:27:11,732]\u001b[0m Trial 801 finished with value: 42.438644122615194 and parameters: {'x': 1.1169105712809222, 'y': 0.5961446453797908}. Best is trial 469 with value: 0.011388939886941991.\u001b[0m\n",
      "\u001b[32m[I 2023-05-10 10:27:11,788]\u001b[0m Trial 802 finished with value: 296.6271302861813 and parameters: {'x': 0.7981535066291301, 'y': -1.0851193464194013}. Best is trial 469 with value: 0.011388939886941991.\u001b[0m\n",
      "\u001b[32m[I 2023-05-10 10:27:11,844]\u001b[0m Trial 803 finished with value: 0.05279365672975263 and parameters: {'x': 1.0130554109595202, 'y': 1.003341515681298}. Best is trial 469 with value: 0.011388939886941991.\u001b[0m\n",
      "\u001b[32m[I 2023-05-10 10:27:11,899]\u001b[0m Trial 804 finished with value: 810.3494272512669 and parameters: {'x': -1.9534974423678313, 'y': 0.9848517079272052}. Best is trial 469 with value: 0.011388939886941991.\u001b[0m\n",
      "\u001b[32m[I 2023-05-10 10:27:11,956]\u001b[0m Trial 805 finished with value: 0.8648566408004681 and parameters: {'x': 0.8767245107245191, 'y': 0.8608228602002574}. Best is trial 469 with value: 0.011388939886941991.\u001b[0m\n",
      "\u001b[32m[I 2023-05-10 10:27:12,016]\u001b[0m Trial 806 finished with value: 4.5884944533607825 and parameters: {'x': 0.9913260803548076, 'y': 0.7685214402403248}. Best is trial 469 with value: 0.011388939886941991.\u001b[0m\n",
      "\u001b[32m[I 2023-05-10 10:27:12,070]\u001b[0m Trial 807 finished with value: 74.77138672436303 and parameters: {'x': -0.33964104735659795, 'y': 0.9696203361514204}. Best is trial 469 with value: 0.011388939886941991.\u001b[0m\n",
      "\u001b[32m[I 2023-05-10 10:27:12,126]\u001b[0m Trial 808 finished with value: 4.248409420951399 and parameters: {'x': -1.0415653387134847, 'y': 1.0564998660070226}. Best is trial 469 with value: 0.011388939886941991.\u001b[0m\n",
      "\u001b[32m[I 2023-05-10 10:27:12,180]\u001b[0m Trial 809 finished with value: 483.08347001980127 and parameters: {'x': 0.9433935012308676, 'y': -1.3079174026782785}. Best is trial 469 with value: 0.011388939886941991.\u001b[0m\n",
      "\u001b[32m[I 2023-05-10 10:27:12,232]\u001b[0m Trial 810 finished with value: 14.150403626731395 and parameters: {'x': 0.7364576591207381, 'y': 0.9176157905346245}. Best is trial 469 with value: 0.011388939886941991.\u001b[0m\n",
      "\u001b[32m[I 2023-05-10 10:27:12,287]\u001b[0m Trial 811 finished with value: 70.05263523404881 and parameters: {'x': -1.2207009111022171, 'y': 0.6831341180664939}. Best is trial 469 with value: 0.011388939886941991.\u001b[0m\n",
      "\u001b[32m[I 2023-05-10 10:27:12,340]\u001b[0m Trial 812 finished with value: 287.35714564717864 and parameters: {'x': -0.0010247879907984148, 'y': -1.6922019371045574}. Best is trial 469 with value: 0.011388939886941991.\u001b[0m\n",
      "\u001b[32m[I 2023-05-10 10:27:12,393]\u001b[0m Trial 813 finished with value: 68.48918138772605 and parameters: {'x': -0.14618407442178105, 'y': 0.840976051619306}. Best is trial 469 with value: 0.011388939886941991.\u001b[0m\n",
      "\u001b[32m[I 2023-05-10 10:27:12,445]\u001b[0m Trial 814 finished with value: 1572.5079364608202 and parameters: {'x': 1.8012341560637228, 'y': -0.7202319965193886}. Best is trial 469 with value: 0.011388939886941991.\u001b[0m\n",
      "\u001b[32m[I 2023-05-10 10:27:12,496]\u001b[0m Trial 815 finished with value: 3.236926709776269 and parameters: {'x': 0.8278863544974011, 'y': 0.5063063522079203}. Best is trial 469 with value: 0.011388939886941991.\u001b[0m\n",
      "\u001b[32m[I 2023-05-10 10:27:12,555]\u001b[0m Trial 816 finished with value: 201.17779602380583 and parameters: {'x': 1.034973889736677, 'y': -0.3471963231687826}. Best is trial 469 with value: 0.011388939886941991.\u001b[0m\n",
      "\u001b[32m[I 2023-05-10 10:27:12,609]\u001b[0m Trial 817 finished with value: 411.2920611439436 and parameters: {'x': 0.9276907983209012, 'y': -1.1674105728489765}. Best is trial 469 with value: 0.011388939886941991.\u001b[0m\n",
      "\u001b[32m[I 2023-05-10 10:27:12,663]\u001b[0m Trial 818 finished with value: 25.719845615198558 and parameters: {'x': 0.6708815022825301, 'y': -0.05599633021382655}. Best is trial 469 with value: 0.011388939886941991.\u001b[0m\n",
      "\u001b[32m[I 2023-05-10 10:27:12,725]\u001b[0m Trial 819 finished with value: 226.4694597595157 and parameters: {'x': 0.10531356192711544, 'y': 1.5133192776291244}. Best is trial 469 with value: 0.011388939886941991.\u001b[0m\n",
      "\u001b[32m[I 2023-05-10 10:27:12,785]\u001b[0m Trial 820 finished with value: 0.47215297752131846 and parameters: {'x': 1.387638937718601, 'y': 1.9822770866511523}. Best is trial 469 with value: 0.011388939886941991.\u001b[0m\n",
      "\u001b[32m[I 2023-05-10 10:27:12,842]\u001b[0m Trial 821 finished with value: 1.68061740626117 and parameters: {'x': 1.0638831923799055, 'y': 1.0023663154303561}. Best is trial 469 with value: 0.011388939886941991.\u001b[0m\n",
      "\u001b[32m[I 2023-05-10 10:27:12,901]\u001b[0m Trial 822 finished with value: 46.264472420443575 and parameters: {'x': 0.2958566856076027, 'y': 0.7640565261569958}. Best is trial 469 with value: 0.011388939886941991.\u001b[0m\n",
      "\u001b[32m[I 2023-05-10 10:27:12,958]\u001b[0m Trial 823 finished with value: 8.331502383921054 and parameters: {'x': 0.883372499916168, 'y': 1.0687546782580897}. Best is trial 469 with value: 0.011388939886941991.\u001b[0m\n",
      "\u001b[32m[I 2023-05-10 10:27:13,015]\u001b[0m Trial 824 finished with value: 62.18717649151129 and parameters: {'x': 1.1966951848664409, 'y': 0.6437362454151168}. Best is trial 469 with value: 0.011388939886941991.\u001b[0m\n",
      "\u001b[32m[I 2023-05-10 10:27:13,098]\u001b[0m Trial 825 finished with value: 365.24459566689114 and parameters: {'x': 0.9945092735083598, 'y': -0.9220885723956112}. Best is trial 469 with value: 0.011388939886941991.\u001b[0m\n",
      "\u001b[32m[I 2023-05-10 10:27:13,163]\u001b[0m Trial 826 finished with value: 20.57657569202843 and parameters: {'x': 0.6062579903595184, 'y': 0.8194507637256975}. Best is trial 469 with value: 0.011388939886941991.\u001b[0m\n",
      "\u001b[32m[I 2023-05-10 10:27:13,234]\u001b[0m Trial 827 finished with value: 100.68883691659856 and parameters: {'x': 0.3895999680837823, 'y': -0.8497918602645673}. Best is trial 469 with value: 0.011388939886941991.\u001b[0m\n",
      "\u001b[32m[I 2023-05-10 10:27:13,297]\u001b[0m Trial 828 finished with value: 1042.6122827709216 and parameters: {'x': -1.393107399028918, 'y': -1.279322146280851}. Best is trial 469 with value: 0.011388939886941991.\u001b[0m\n",
      "\u001b[32m[I 2023-05-10 10:27:13,359]\u001b[0m Trial 829 finished with value: 356.8731255418341 and parameters: {'x': -1.6588290368074663, 'y': 0.881409643822468}. Best is trial 469 with value: 0.011388939886941991.\u001b[0m\n",
      "\u001b[32m[I 2023-05-10 10:27:13,419]\u001b[0m Trial 830 finished with value: 60.949483857232345 and parameters: {'x': 0.7456033215648478, 'y': -0.22436259684262239}. Best is trial 469 with value: 0.011388939886941991.\u001b[0m\n",
      "\u001b[32m[I 2023-05-10 10:27:13,477]\u001b[0m Trial 831 finished with value: 8.04199170628254 and parameters: {'x': 0.830144959210255, 'y': 0.40606573439554233}. Best is trial 469 with value: 0.011388939886941991.\u001b[0m\n",
      "\u001b[32m[I 2023-05-10 10:27:13,535]\u001b[0m Trial 832 finished with value: 11.348407698605659 and parameters: {'x': 1.1340284425984528, 'y': 0.9494132586234008}. Best is trial 469 with value: 0.011388939886941991.\u001b[0m\n",
      "\u001b[32m[I 2023-05-10 10:27:13,590]\u001b[0m Trial 833 finished with value: 302.90105045890095 and parameters: {'x': -1.1286543247928722, 'y': -0.45347806525967016}. Best is trial 469 with value: 0.011388939886941991.\u001b[0m\n",
      "\u001b[32m[I 2023-05-10 10:27:13,646]\u001b[0m Trial 834 finished with value: 710.4866492655793 and parameters: {'x': 0.9466933086559262, 'y': -1.7692619925381026}. Best is trial 469 with value: 0.011388939886941991.\u001b[0m\n",
      "\u001b[32m[I 2023-05-10 10:27:13,700]\u001b[0m Trial 835 finished with value: 118.36525196694984 and parameters: {'x': -0.9618287940292596, 'y': -0.14500910097134345}. Best is trial 469 with value: 0.011388939886941991.\u001b[0m\n",
      "\u001b[32m[I 2023-05-10 10:27:13,757]\u001b[0m Trial 836 finished with value: 556.7513646140468 and parameters: {'x': 1.0566021181184482, 'y': -1.2431431094690355}. Best is trial 469 with value: 0.011388939886941991.\u001b[0m\n",
      "\u001b[32m[I 2023-05-10 10:27:13,814]\u001b[0m Trial 837 finished with value: 864.1463634953191 and parameters: {'x': 1.8741300702907036, 'y': 0.574026813801463}. Best is trial 469 with value: 0.011388939886941991.\u001b[0m\n",
      "\u001b[32m[I 2023-05-10 10:27:13,868]\u001b[0m Trial 838 finished with value: 0.33698036446130586 and parameters: {'x': 0.8813385772624812, 'y': 0.7199334120418195}. Best is trial 469 with value: 0.011388939886941991.\u001b[0m\n",
      "\u001b[32m[I 2023-05-10 10:27:13,924]\u001b[0m Trial 839 finished with value: 87.85917415203251 and parameters: {'x': -0.42091354449407603, 'y': 1.103667962888915}. Best is trial 469 with value: 0.011388939886941991.\u001b[0m\n",
      "\u001b[32m[I 2023-05-10 10:27:13,978]\u001b[0m Trial 840 finished with value: 1150.1107562758782 and parameters: {'x': 1.2314069489029655, 'y': -1.8748862639742985}. Best is trial 469 with value: 0.011388939886941991.\u001b[0m\n",
      "\u001b[32m[I 2023-05-10 10:27:14,033]\u001b[0m Trial 841 finished with value: 62.22062056758949 and parameters: {'x': 0.7772476601218368, 'y': 1.3925998284165917}. Best is trial 469 with value: 0.011388939886941991.\u001b[0m\n",
      "\u001b[32m[I 2023-05-10 10:27:14,086]\u001b[0m Trial 842 finished with value: 8.368888649239144 and parameters: {'x': 0.9731313605599675, 'y': 1.236262482380856}. Best is trial 469 with value: 0.011388939886941991.\u001b[0m\n",
      "\u001b[32m[I 2023-05-10 10:27:14,138]\u001b[0m Trial 843 finished with value: 37.14999195388609 and parameters: {'x': -0.5451234313745281, 'y': -0.29243849015093704}. Best is trial 469 with value: 0.011388939886941991.\u001b[0m\n",
      "\u001b[32m[I 2023-05-10 10:27:14,193]\u001b[0m Trial 844 finished with value: 4.928154041732085 and parameters: {'x': 1.1094751060666586, 'y': 1.0092106496028208}. Best is trial 469 with value: 0.011388939886941991.\u001b[0m\n",
      "\u001b[32m[I 2023-05-10 10:27:14,248]\u001b[0m Trial 845 finished with value: 9.855704799456554 and parameters: {'x': 0.6856919944797779, 'y': 0.7825341246417931}. Best is trial 469 with value: 0.011388939886941991.\u001b[0m\n",
      "\u001b[32m[I 2023-05-10 10:27:14,307]\u001b[0m Trial 846 finished with value: 3.138519338118245 and parameters: {'x': 1.022136076633371, 'y': 0.8676173220241026}. Best is trial 469 with value: 0.011388939886941991.\u001b[0m\n",
      "\u001b[32m[I 2023-05-10 10:27:14,362]\u001b[0m Trial 847 finished with value: 725.828778287407 and parameters: {'x': 0.8354189748559164, 'y': -1.9961458322075205}. Best is trial 469 with value: 0.011388939886941991.\u001b[0m\n",
      "\u001b[32m[I 2023-05-10 10:27:14,418]\u001b[0m Trial 848 finished with value: 74.53523194976529 and parameters: {'x': 1.4760791954481765, 'y': 1.3167855424494004}. Best is trial 469 with value: 0.011388939886941991.\u001b[0m\n",
      "\u001b[32m[I 2023-05-10 10:27:14,471]\u001b[0m Trial 849 finished with value: 78.37471034109373 and parameters: {'x': 1.1800056236029235, 'y': 0.5073013674164034}. Best is trial 469 with value: 0.011388939886941991.\u001b[0m\n",
      "\u001b[32m[I 2023-05-10 10:27:14,535]\u001b[0m Trial 850 finished with value: 38.174175692098494 and parameters: {'x': -0.19033394832208456, 'y': 0.6425048424497826}. Best is trial 469 with value: 0.011388939886941991.\u001b[0m\n",
      "\u001b[32m[I 2023-05-10 10:27:14,607]\u001b[0m Trial 851 finished with value: 1425.4585329794602 and parameters: {'x': 1.7408374920274223, 'y': -0.7442824272699893}. Best is trial 469 with value: 0.011388939886941991.\u001b[0m\n",
      "\u001b[32m[I 2023-05-10 10:27:14,670]\u001b[0m Trial 852 finished with value: 276.3093904397491 and parameters: {'x': 1.310443577129327, 'y': 0.055296619417551096}. Best is trial 469 with value: 0.011388939886941991.\u001b[0m\n",
      "\u001b[32m[I 2023-05-10 10:27:14,734]\u001b[0m Trial 853 finished with value: 224.18115067672142 and parameters: {'x': 0.9025008950437895, 'y': -0.6827284037134869}. Best is trial 469 with value: 0.011388939886941991.\u001b[0m\n",
      "\u001b[32m[I 2023-05-10 10:27:14,798]\u001b[0m Trial 854 finished with value: 5.961482359980707 and parameters: {'x': 1.0799396531135925, 'y': 0.9222390822692486}. Best is trial 469 with value: 0.011388939886941991.\u001b[0m\n",
      "\u001b[32m[I 2023-05-10 10:27:14,860]\u001b[0m Trial 855 finished with value: 3.763944303440628 and parameters: {'x': 0.9678984257051412, 'y': 1.1308096759125665}. Best is trial 469 with value: 0.011388939886941991.\u001b[0m\n",
      "\u001b[32m[I 2023-05-10 10:27:14,930]\u001b[0m Trial 856 finished with value: 0.550864185545488 and parameters: {'x': 0.7987689271618019, 'y': 0.7094720006275622}. Best is trial 469 with value: 0.011388939886941991.\u001b[0m\n",
      "\u001b[32m[I 2023-05-10 10:27:14,995]\u001b[0m Trial 857 finished with value: 114.86273774427579 and parameters: {'x': 0.6202971663889112, 'y': 1.4558360958556584}. Best is trial 469 with value: 0.011388939886941991.\u001b[0m\n",
      "\u001b[32m[I 2023-05-10 10:27:15,057]\u001b[0m Trial 858 finished with value: 1498.4006567761062 and parameters: {'x': -1.62789483168125, 'y': -1.2119460212246818}. Best is trial 469 with value: 0.011388939886941991.\u001b[0m\n",
      "\u001b[32m[I 2023-05-10 10:27:15,118]\u001b[0m Trial 859 finished with value: 565.5527461486224 and parameters: {'x': 1.004512965495413, 'y': -1.3690889501595223}. Best is trial 469 with value: 0.011388939886941991.\u001b[0m\n",
      "\u001b[32m[I 2023-05-10 10:27:15,176]\u001b[0m Trial 860 finished with value: 8.787708912122433 and parameters: {'x': 1.1494825189403162, 'y': 1.025246488975911}. Best is trial 469 with value: 0.011388939886941991.\u001b[0m\n",
      "\u001b[32m[I 2023-05-10 10:27:15,234]\u001b[0m Trial 861 finished with value: 195.75119208087298 and parameters: {'x': 1.6113809568631707, 'y': 1.1987739088511538}. Best is trial 469 with value: 0.011388939886941991.\u001b[0m\n",
      "\u001b[32m[I 2023-05-10 10:27:15,292]\u001b[0m Trial 862 finished with value: 149.0111490238527 and parameters: {'x': -0.8359310766171837, 'y': 1.9055968490435164}. Best is trial 469 with value: 0.011388939886941991.\u001b[0m\n",
      "\u001b[32m[I 2023-05-10 10:27:15,350]\u001b[0m Trial 863 finished with value: 0.011347046240886382 and parameters: {'x': 0.8969957792123515, 'y': 0.8018863280356061}. Best is trial 863 with value: 0.011347046240886382.\u001b[0m\n",
      "\u001b[32m[I 2023-05-10 10:27:15,405]\u001b[0m Trial 864 finished with value: 61.801889777553924 and parameters: {'x': 0.15784648339027885, 'y': 0.8065334959399336}. Best is trial 863 with value: 0.011347046240886382.\u001b[0m\n",
      "\u001b[32m[I 2023-05-10 10:27:15,461]\u001b[0m Trial 865 finished with value: 0.11502263527390254 and parameters: {'x': 0.9096782481117502, 'y': 0.8602046690196561}. Best is trial 863 with value: 0.011347046240886382.\u001b[0m\n",
      "\u001b[32m[I 2023-05-10 10:27:15,522]\u001b[0m Trial 866 finished with value: 72.29860145523604 and parameters: {'x': 0.2427326136102595, 'y': 0.9058261269989982}. Best is trial 863 with value: 0.011347046240886382.\u001b[0m\n",
      "\u001b[32m[I 2023-05-10 10:27:15,580]\u001b[0m Trial 867 finished with value: 6.377929669285549 and parameters: {'x': 1.0254278822147402, 'y': 0.798969510251096}. Best is trial 863 with value: 0.011347046240886382.\u001b[0m\n",
      "\u001b[32m[I 2023-05-10 10:27:15,635]\u001b[0m Trial 868 finished with value: 72.30224277456 and parameters: {'x': 0.36230751756192875, 'y': 0.9791794159959278}. Best is trial 863 with value: 0.011347046240886382.\u001b[0m\n",
      "\u001b[32m[I 2023-05-10 10:27:15,692]\u001b[0m Trial 869 finished with value: 0.9960660640554226 and parameters: {'x': 0.9215214565702714, 'y': 0.7497077155841613}. Best is trial 863 with value: 0.011347046240886382.\u001b[0m\n",
      "\u001b[32m[I 2023-05-10 10:27:15,749]\u001b[0m Trial 870 finished with value: 678.7247954071288 and parameters: {'x': 1.908627110703903, 'y': 1.0392077167001301}. Best is trial 863 with value: 0.011347046240886382.\u001b[0m\n",
      "\u001b[32m[I 2023-05-10 10:27:15,805]\u001b[0m Trial 871 finished with value: 451.3761352298663 and parameters: {'x': 1.258311552759901, 'y': -0.5410564477180593}. Best is trial 863 with value: 0.011347046240886382.\u001b[0m\n",
      "\u001b[32m[I 2023-05-10 10:27:15,859]\u001b[0m Trial 872 finished with value: 684.1529639195866 and parameters: {'x': -1.876070706045199, 'y': 0.9198698017889353}. Best is trial 863 with value: 0.011347046240886382.\u001b[0m\n",
      "\u001b[32m[I 2023-05-10 10:27:15,914]\u001b[0m Trial 873 finished with value: 1.2675090588829425 and parameters: {'x': 1.0853137093890726, 'y': 1.2901658419920914}. Best is trial 863 with value: 0.011347046240886382.\u001b[0m\n",
      "\u001b[32m[I 2023-05-10 10:27:15,969]\u001b[0m Trial 874 finished with value: 512.6316847199266 and parameters: {'x': 0.8591674676892389, 'y': -1.5259245708724194}. Best is trial 863 with value: 0.011347046240886382.\u001b[0m\n",
      "\u001b[32m[I 2023-05-10 10:27:16,057]\u001b[0m Trial 875 finished with value: 7.366256348845741 and parameters: {'x': 0.9917234774909349, 'y': 0.7121082368898076}. Best is trial 863 with value: 0.011347046240886382.\u001b[0m\n",
      "\u001b[32m[I 2023-05-10 10:27:16,139]\u001b[0m Trial 876 finished with value: 6.3089086517503175 and parameters: {'x': 1.170820986211214, 'y': 1.1202279102708705}. Best is trial 863 with value: 0.011347046240886382.\u001b[0m\n",
      "\u001b[32m[I 2023-05-10 10:27:16,216]\u001b[0m Trial 877 finished with value: 67.86386082499652 and parameters: {'x': 0.05006814505486323, 'y': 0.8208068270678283}. Best is trial 863 with value: 0.011347046240886382.\u001b[0m\n",
      "\u001b[32m[I 2023-05-10 10:27:16,285]\u001b[0m Trial 878 finished with value: 55.16285610769364 and parameters: {'x': -0.47456944086131236, 'y': 0.9531481638800728}. Best is trial 863 with value: 0.011347046240886382.\u001b[0m\n",
      "\u001b[32m[I 2023-05-10 10:27:16,351]\u001b[0m Trial 879 finished with value: 172.1830087108465 and parameters: {'x': -1.5810049079289183, 'y': 1.2130252281334963}. Best is trial 863 with value: 0.011347046240886382.\u001b[0m\n",
      "\u001b[32m[I 2023-05-10 10:27:16,417]\u001b[0m Trial 880 finished with value: 376.2738803325924 and parameters: {'x': -0.6464936219618702, 'y': -1.5148236329262637}. Best is trial 863 with value: 0.011347046240886382.\u001b[0m\n",
      "\u001b[32m[I 2023-05-10 10:27:16,479]\u001b[0m Trial 881 finished with value: 0.9153920931497597 and parameters: {'x': 1.0854375891544314, 'y': 1.0828808718185479}. Best is trial 863 with value: 0.011347046240886382.\u001b[0m\n",
      "\u001b[32m[I 2023-05-10 10:27:16,539]\u001b[0m Trial 882 finished with value: 45.04316541694711 and parameters: {'x': 0.9372587136239203, 'y': 1.5495666211316366}. Best is trial 863 with value: 0.011347046240886382.\u001b[0m\n",
      "\u001b[32m[I 2023-05-10 10:27:16,601]\u001b[0m Trial 883 finished with value: 929.8277120354072 and parameters: {'x': 1.3573857533622888, 'y': -1.2066021233487634}. Best is trial 863 with value: 0.011347046240886382.\u001b[0m\n",
      "\u001b[32m[I 2023-05-10 10:27:16,661]\u001b[0m Trial 884 finished with value: 12.769406919095278 and parameters: {'x': -1.0271150788187504, 'y': 1.3492477559360674}. Best is trial 863 with value: 0.011347046240886382.\u001b[0m\n",
      "\u001b[32m[I 2023-05-10 10:27:16,720]\u001b[0m Trial 885 finished with value: 368.91836091063925 and parameters: {'x': -0.24384936218743314, 'y': -1.8572304730390607}. Best is trial 863 with value: 0.011347046240886382.\u001b[0m\n",
      "\u001b[32m[I 2023-05-10 10:27:16,784]\u001b[0m Trial 886 finished with value: 235.67227140048126 and parameters: {'x': 0.8657306453015953, 'y': -0.7856138441564671}. Best is trial 863 with value: 0.011347046240886382.\u001b[0m\n",
      "\u001b[32m[I 2023-05-10 10:27:16,842]\u001b[0m Trial 887 finished with value: 4.0038379942767985 and parameters: {'x': 1.0317220620393601, 'y': 0.8643796331968872}. Best is trial 863 with value: 0.011347046240886382.\u001b[0m\n",
      "\u001b[32m[I 2023-05-10 10:27:16,901]\u001b[0m Trial 888 finished with value: 376.4492194315965 and parameters: {'x': 1.2369386899705228, 'y': -0.41006793179513534}. Best is trial 863 with value: 0.011347046240886382.\u001b[0m\n",
      "\u001b[32m[I 2023-05-10 10:27:16,980]\u001b[0m Trial 889 finished with value: 0.8104223800309243 and parameters: {'x': 0.8097034893348968, 'y': 0.7436089228204872}. Best is trial 863 with value: 0.011347046240886382.\u001b[0m\n",
      "\u001b[32m[I 2023-05-10 10:27:17,037]\u001b[0m Trial 890 finished with value: 34.86659768097384 and parameters: {'x': 1.1234581721075696, 'y': 0.6718078959591461}. Best is trial 863 with value: 0.011347046240886382.\u001b[0m\n",
      "\u001b[32m[I 2023-05-10 10:27:17,094]\u001b[0m Trial 891 finished with value: 0.8006365380595972 and parameters: {'x': 0.9539259827286317, 'y': 0.9993343755883308}. Best is trial 863 with value: 0.011347046240886382.\u001b[0m\n",
      "\u001b[32m[I 2023-05-10 10:27:17,151]\u001b[0m Trial 892 finished with value: 38.670046970150224 and parameters: {'x': 1.043308853134558, 'y': 1.7103307317467684}. Best is trial 863 with value: 0.011347046240886382.\u001b[0m\n",
      "\u001b[32m[I 2023-05-10 10:27:17,205]\u001b[0m Trial 893 finished with value: 1.6358958369763203 and parameters: {'x': 0.8800495754479803, 'y': 0.9018256914163273}. Best is trial 863 with value: 0.011347046240886382.\u001b[0m\n",
      "\u001b[32m[I 2023-05-10 10:27:17,263]\u001b[0m Trial 894 finished with value: 37.766367531750845 and parameters: {'x': 0.7423455561583008, 'y': 1.165080033203622}. Best is trial 863 with value: 0.011347046240886382.\u001b[0m\n",
      "\u001b[32m[I 2023-05-10 10:27:17,325]\u001b[0m Trial 895 finished with value: 12.570195443059486 and parameters: {'x': -1.079101530902387, 'y': 1.4516452853968174}. Best is trial 863 with value: 0.011347046240886382.\u001b[0m\n",
      "\u001b[32m[I 2023-05-10 10:27:17,382]\u001b[0m Trial 896 finished with value: 1012.2209105563902 and parameters: {'x': 1.633810133935654, 'y': -0.5115750002737627}. Best is trial 863 with value: 0.011347046240886382.\u001b[0m\n",
      "\u001b[32m[I 2023-05-10 10:27:17,438]\u001b[0m Trial 897 finished with value: 64.43381374023528 and parameters: {'x': 1.4380172932444584, 'y': 1.2663829460293674}. Best is trial 863 with value: 0.011347046240886382.\u001b[0m\n",
      "\u001b[32m[I 2023-05-10 10:27:17,494]\u001b[0m Trial 898 finished with value: 64.91427957633398 and parameters: {'x': -0.10354497640719451, 'y': 0.8088222328654879}. Best is trial 863 with value: 0.011347046240886382.\u001b[0m\n",
      "\u001b[32m[I 2023-05-10 10:27:17,571]\u001b[0m Trial 899 finished with value: 8.022276231017422 and parameters: {'x': 1.1570461637559466, 'y': 1.0559553170453593}. Best is trial 863 with value: 0.011347046240886382.\u001b[0m\n",
      "\u001b[32m[I 2023-05-10 10:27:17,646]\u001b[0m Trial 900 finished with value: 405.8889570475382 and parameters: {'x': 0.9780079002824794, 'y': -1.058167947314669}. Best is trial 863 with value: 0.011347046240886382.\u001b[0m\n",
      "\u001b[32m[I 2023-05-10 10:27:17,707]\u001b[0m Trial 901 finished with value: 130.4589544362853 and parameters: {'x': -1.370176943594418, 'y': 0.7600611986696348}. Best is trial 863 with value: 0.011347046240886382.\u001b[0m\n",
      "\u001b[32m[I 2023-05-10 10:27:17,769]\u001b[0m Trial 902 finished with value: 87.09120867158467 and parameters: {'x': -1.2337056127057249, 'y': 0.6159292799796209}. Best is trial 863 with value: 0.011347046240886382.\u001b[0m\n",
      "\u001b[32m[I 2023-05-10 10:27:17,831]\u001b[0m Trial 903 finished with value: 474.4265181781372 and parameters: {'x': -1.246713332364966, 'y': -0.6122210350486148}. Best is trial 863 with value: 0.011347046240886382.\u001b[0m\n",
      "\u001b[32m[I 2023-05-10 10:27:17,897]\u001b[0m Trial 904 finished with value: 56.128508183959646 and parameters: {'x': 0.8357777793532885, 'y': -0.050485111262748406}. Best is trial 863 with value: 0.011347046240886382.\u001b[0m\n",
      "\u001b[32m[I 2023-05-10 10:27:17,958]\u001b[0m Trial 905 finished with value: 0.4834894216168012 and parameters: {'x': 0.3275164302461845, 'y': 0.12494617213703407}. Best is trial 863 with value: 0.011347046240886382.\u001b[0m\n",
      "\u001b[32m[I 2023-05-10 10:27:18,017]\u001b[0m Trial 906 finished with value: 194.8870344800973 and parameters: {'x': -0.3253575055882535, 'y': -1.2838563560574303}. Best is trial 863 with value: 0.011347046240886382.\u001b[0m\n",
      "\u001b[32m[I 2023-05-10 10:27:18,078]\u001b[0m Trial 907 finished with value: 4.125273683636214 and parameters: {'x': 1.0541700219715628, 'y': 0.9082389877677716}. Best is trial 863 with value: 0.011347046240886382.\u001b[0m\n",
      "\u001b[32m[I 2023-05-10 10:27:18,137]\u001b[0m Trial 908 finished with value: 606.9261361656562 and parameters: {'x': 0.943862858635249, 'y': -1.572703600528563}. Best is trial 863 with value: 0.011347046240886382.\u001b[0m\n",
      "\u001b[32m[I 2023-05-10 10:27:18,197]\u001b[0m Trial 909 finished with value: 1936.131796744851 and parameters: {'x': -1.829851321812868, 'y': -1.0426847208802466}. Best is trial 863 with value: 0.011347046240886382.\u001b[0m\n",
      "\u001b[32m[I 2023-05-10 10:27:18,257]\u001b[0m Trial 910 finished with value: 739.6106849456482 and parameters: {'x': -0.9542857016417172, 'y': -1.80188640722809}. Best is trial 863 with value: 0.011347046240886382.\u001b[0m\n",
      "\u001b[32m[I 2023-05-10 10:27:18,314]\u001b[0m Trial 911 finished with value: 12.705988121146198 and parameters: {'x': -1.1223740058694975, 'y': 0.9733405062735372}. Best is trial 863 with value: 0.011347046240886382.\u001b[0m\n",
      "\u001b[32m[I 2023-05-10 10:27:18,371]\u001b[0m Trial 912 finished with value: 1078.4744051081555 and parameters: {'x': -1.774129976407493, 'y': -0.12473819417089774}. Best is trial 863 with value: 0.011347046240886382.\u001b[0m\n",
      "\u001b[32m[I 2023-05-10 10:27:18,434]\u001b[0m Trial 913 finished with value: 93.92803712237033 and parameters: {'x': 1.2862127649697956, 'y': 0.6856012090590065}. Best is trial 863 with value: 0.011347046240886382.\u001b[0m\n",
      "\u001b[32m[I 2023-05-10 10:27:18,491]\u001b[0m Trial 914 finished with value: 0.40721747012703047 and parameters: {'x': 1.1986888694253317, 'y': 1.3762134190217654}. Best is trial 863 with value: 0.011347046240886382.\u001b[0m\n",
      "\u001b[32m[I 2023-05-10 10:27:18,548]\u001b[0m Trial 915 finished with value: 10.403237601543108 and parameters: {'x': 0.7159806315879487, 'y': 0.8339158400420758}. Best is trial 863 with value: 0.011347046240886382.\u001b[0m\n",
      "\u001b[32m[I 2023-05-10 10:27:18,606]\u001b[0m Trial 916 finished with value: 427.738184833909 and parameters: {'x': 1.098151815724676, 'y': -0.8622225231242395}. Best is trial 863 with value: 0.011347046240886382.\u001b[0m\n",
      "\u001b[32m[I 2023-05-10 10:27:18,663]\u001b[0m Trial 917 finished with value: 13.187046854401025 and parameters: {'x': 0.8877930854062113, 'y': 1.1511429033962495}. Best is trial 863 with value: 0.011347046240886382.\u001b[0m\n",
      "\u001b[32m[I 2023-05-10 10:27:18,718]\u001b[0m Trial 918 finished with value: 8.810161270809692 and parameters: {'x': 0.8088772388620474, 'y': 0.9504855840373231}. Best is trial 863 with value: 0.011347046240886382.\u001b[0m\n",
      "\u001b[32m[I 2023-05-10 10:27:18,773]\u001b[0m Trial 919 finished with value: 9.443132521230439 and parameters: {'x': 0.9937013322042498, 'y': 1.2947384952316932}. Best is trial 863 with value: 0.011347046240886382.\u001b[0m\n",
      "\u001b[32m[I 2023-05-10 10:27:18,829]\u001b[0m Trial 920 finished with value: 5.56791489315006 and parameters: {'x': 1.1297186145886955, 'y': 1.0406566785259663}. Best is trial 863 with value: 0.011347046240886382.\u001b[0m\n",
      "\u001b[32m[I 2023-05-10 10:27:18,885]\u001b[0m Trial 921 finished with value: 41.40612373621229 and parameters: {'x': 1.3697332040576045, 'y': 1.2337562461444636}. Best is trial 863 with value: 0.011347046240886382.\u001b[0m\n",
      "\u001b[32m[I 2023-05-10 10:27:18,944]\u001b[0m Trial 922 finished with value: 0.9522018859685397 and parameters: {'x': 0.9490706206186704, 'y': 0.8032872063993786}. Best is trial 863 with value: 0.011347046240886382.\u001b[0m\n",
      "\u001b[32m[I 2023-05-10 10:27:19,029]\u001b[0m Trial 923 finished with value: 627.0100520037156 and parameters: {'x': -1.7638392499406508, 'y': 0.6224118715136914}. Best is trial 863 with value: 0.011347046240886382.\u001b[0m\n",
      "\u001b[32m[I 2023-05-10 10:27:19,094]\u001b[0m Trial 924 finished with value: 16.551054411350016 and parameters: {'x': 1.0589116338353117, 'y': 0.7145066332471466}. Best is trial 863 with value: 0.011347046240886382.\u001b[0m\n",
      "\u001b[32m[I 2023-05-10 10:27:19,157]\u001b[0m Trial 925 finished with value: 117.69236410167713 and parameters: {'x': 0.1754308227596756, 'y': 1.1124989037814164}. Best is trial 863 with value: 0.011347046240886382.\u001b[0m\n",
      "\u001b[32m[I 2023-05-10 10:27:19,222]\u001b[0m Trial 926 finished with value: 18.647578283464252 and parameters: {'x': 0.680910182971261, 'y': 0.8942865609577474}. Best is trial 863 with value: 0.011347046240886382.\u001b[0m\n",
      "\u001b[32m[I 2023-05-10 10:27:19,284]\u001b[0m Trial 927 finished with value: 412.89448243729345 and parameters: {'x': -0.31400653099070663, 'y': -1.929127368531053}. Best is trial 863 with value: 0.011347046240886382.\u001b[0m\n",
      "\u001b[32m[I 2023-05-10 10:27:19,342]\u001b[0m Trial 928 finished with value: 6.598587284231754 and parameters: {'x': 0.7932775050868714, 'y': 0.37324519810983314}. Best is trial 863 with value: 0.011347046240886382.\u001b[0m\n",
      "\u001b[32m[I 2023-05-10 10:27:19,407]\u001b[0m Trial 929 finished with value: 305.5964632278504 and parameters: {'x': 1.2243489123530928, 'y': -0.24895752908771562}. Best is trial 863 with value: 0.011347046240886382.\u001b[0m\n",
      "\u001b[32m[I 2023-05-10 10:27:19,474]\u001b[0m Trial 930 finished with value: 29.480544198895352 and parameters: {'x': 0.9001910143539921, 'y': 1.3532120080577845}. Best is trial 863 with value: 0.011347046240886382.\u001b[0m\n",
      "\u001b[32m[I 2023-05-10 10:27:19,549]\u001b[0m Trial 931 finished with value: 661.656856214604 and parameters: {'x': 0.9981510236387294, 'y': -1.575963673885051}. Best is trial 863 with value: 0.011347046240886382.\u001b[0m\n",
      "\u001b[32m[I 2023-05-10 10:27:19,614]\u001b[0m Trial 932 finished with value: 106.34301364826912 and parameters: {'x': -1.58477306806585, 'y': 1.5131972988843432}. Best is trial 863 with value: 0.011347046240886382.\u001b[0m\n",
      "\u001b[32m[I 2023-05-10 10:27:19,677]\u001b[0m Trial 933 finished with value: 368.1080931860496 and parameters: {'x': -1.7150182002966834, 'y': 1.0419802658868136}. Best is trial 863 with value: 0.011347046240886382.\u001b[0m\n",
      "\u001b[32m[I 2023-05-10 10:27:19,745]\u001b[0m Trial 934 finished with value: 2215.3157671741474 and parameters: {'x': -1.892980702485119, 'y': -1.1144389029317603}. Best is trial 863 with value: 0.011347046240886382.\u001b[0m\n",
      "\u001b[32m[I 2023-05-10 10:27:19,806]\u001b[0m Trial 935 finished with value: 40.77986884730415 and parameters: {'x': -0.756546869097962, 'y': 1.1863209156750278}. Best is trial 863 with value: 0.011347046240886382.\u001b[0m\n",
      "\u001b[32m[I 2023-05-10 10:27:19,866]\u001b[0m Trial 936 finished with value: 0.07554152821773863 and parameters: {'x': 0.8711037830961389, 'y': 0.783096745514581}. Best is trial 863 with value: 0.011347046240886382.\u001b[0m\n",
      "\u001b[32m[I 2023-05-10 10:27:19,926]\u001b[0m Trial 937 finished with value: 0.8757448054447534 and parameters: {'x': 0.8192263096219199, 'y': 0.7629503544206448}. Best is trial 863 with value: 0.011347046240886382.\u001b[0m\n",
      "\u001b[32m[I 2023-05-10 10:27:19,985]\u001b[0m Trial 938 finished with value: 1.554418961190572 and parameters: {'x': 0.7463484534755302, 'y': 0.6791048410717014}. Best is trial 863 with value: 0.011347046240886382.\u001b[0m\n",
      "\u001b[32m[I 2023-05-10 10:27:20,043]\u001b[0m Trial 939 finished with value: 20.83771392070196 and parameters: {'x': 0.6179821667778852, 'y': 0.8367841002878798}. Best is trial 863 with value: 0.011347046240886382.\u001b[0m\n",
      "\u001b[32m[I 2023-05-10 10:27:20,107]\u001b[0m Trial 940 finished with value: 12.12775642237894 and parameters: {'x': -0.4724195669006225, 'y': 0.5387707578430171}. Best is trial 863 with value: 0.011347046240886382.\u001b[0m\n",
      "\u001b[32m[I 2023-05-10 10:27:20,166]\u001b[0m Trial 941 finished with value: 487.4772386849766 and parameters: {'x': 0.8713353968722696, 'y': -1.4486258079740058}. Best is trial 863 with value: 0.011347046240886382.\u001b[0m\n",
      "\u001b[32m[I 2023-05-10 10:27:20,225]\u001b[0m Trial 942 finished with value: 2.7655809751734672 and parameters: {'x': 0.7626234576711001, 'y': 0.7461920276098821}. Best is trial 863 with value: 0.011347046240886382.\u001b[0m\n",
      "\u001b[32m[I 2023-05-10 10:27:20,284]\u001b[0m Trial 943 finished with value: 4.357450714935944 and parameters: {'x': 0.9093122018144368, 'y': 0.6183006897718215}. Best is trial 863 with value: 0.011347046240886382.\u001b[0m\n",
      "\u001b[32m[I 2023-05-10 10:27:20,342]\u001b[0m Trial 944 finished with value: 142.7847960433347 and parameters: {'x': 0.8388548495860387, 'y': 1.8984947178556564}. Best is trial 863 with value: 0.011347046240886382.\u001b[0m\n",
      "\u001b[32m[I 2023-05-10 10:27:20,407]\u001b[0m Trial 945 finished with value: 399.9629182484313 and parameters: {'x': 1.6739132395303837, 'y': 0.8032140127804122}. Best is trial 863 with value: 0.011347046240886382.\u001b[0m\n",
      "\u001b[32m[I 2023-05-10 10:27:20,484]\u001b[0m Trial 946 finished with value: 4.945079548683834 and parameters: {'x': 0.6804575633216913, 'y': 0.6830900346565005}. Best is trial 863 with value: 0.011347046240886382.\u001b[0m\n",
      "\u001b[32m[I 2023-05-10 10:27:20,551]\u001b[0m Trial 947 finished with value: 0.04023661423350568 and parameters: {'x': 0.9352250690339428, 'y': 0.8936303503495635}. Best is trial 863 with value: 0.011347046240886382.\u001b[0m\n",
      "\u001b[32m[I 2023-05-10 10:27:20,615]\u001b[0m Trial 948 finished with value: 5.1476328101387505 and parameters: {'x': 0.7877479585546663, 'y': 0.846435798593854}. Best is trial 863 with value: 0.011347046240886382.\u001b[0m\n",
      "\u001b[32m[I 2023-05-10 10:27:20,678]\u001b[0m Trial 949 finished with value: 221.7002986964696 and parameters: {'x': 1.4899572988971006, 'y': 0.731818726430148}. Best is trial 863 with value: 0.011347046240886382.\u001b[0m\n",
      "\u001b[32m[I 2023-05-10 10:27:20,744]\u001b[0m Trial 950 finished with value: 502.4157314525756 and parameters: {'x': 0.9130524665487476, 'y': -1.4077815379447118}. Best is trial 863 with value: 0.011347046240886382.\u001b[0m\n",
      "\u001b[32m[I 2023-05-10 10:27:20,805]\u001b[0m Trial 951 finished with value: 291.71313229449964 and parameters: {'x': 0.5607443968490571, 'y': -1.3929619460954141}. Best is trial 863 with value: 0.011347046240886382.\u001b[0m\n",
      "\u001b[32m[I 2023-05-10 10:27:20,865]\u001b[0m Trial 952 finished with value: 385.173264473983 and parameters: {'x': -0.8814591469164158, 'y': -1.1765736698340685}. Best is trial 863 with value: 0.011347046240886382.\u001b[0m\n",
      "\u001b[32m[I 2023-05-10 10:27:20,929]\u001b[0m Trial 953 finished with value: 2.007009008968136 and parameters: {'x': 0.849494101013103, 'y': 0.5807730212757856}. Best is trial 863 with value: 0.011347046240886382.\u001b[0m\n",
      "\u001b[32m[I 2023-05-10 10:27:20,988]\u001b[0m Trial 954 finished with value: 2049.8160717256656 and parameters: {'x': 1.8063581957870496, 'y': -1.2638413883233044}. Best is trial 863 with value: 0.011347046240886382.\u001b[0m\n",
      "\u001b[32m[I 2023-05-10 10:27:21,047]\u001b[0m Trial 955 finished with value: 0.6488736791014684 and parameters: {'x': 0.7278260949002198, 'y': 0.4539155855481859}. Best is trial 863 with value: 0.011347046240886382.\u001b[0m\n",
      "\u001b[32m[I 2023-05-10 10:27:21,104]\u001b[0m Trial 956 finished with value: 1.1063260964266446 and parameters: {'x': 0.9507983128436301, 'y': 0.7989505344261506}. Best is trial 863 with value: 0.011347046240886382.\u001b[0m\n",
      "\u001b[32m[I 2023-05-10 10:27:21,162]\u001b[0m Trial 957 finished with value: 394.446328547624 and parameters: {'x': 0.3763470475368868, 'y': -1.8434507707683978}. Best is trial 863 with value: 0.011347046240886382.\u001b[0m\n",
      "\u001b[32m[I 2023-05-10 10:27:21,227]\u001b[0m Trial 958 finished with value: 436.36603871350843 and parameters: {'x': 1.7335788570889816, 'y': 0.9176464955444463}. Best is trial 863 with value: 0.011347046240886382.\u001b[0m\n",
      "\u001b[32m[I 2023-05-10 10:27:21,287]\u001b[0m Trial 959 finished with value: 6.878468743760567 and parameters: {'x': 0.6677469786124461, 'y': 0.18573075316664245}. Best is trial 863 with value: 0.011347046240886382.\u001b[0m\n",
      "\u001b[32m[I 2023-05-10 10:27:21,345]\u001b[0m Trial 960 finished with value: 938.5649869192063 and parameters: {'x': -1.982268032584733, 'y': 0.8803357756324791}. Best is trial 863 with value: 0.011347046240886382.\u001b[0m\n",
      "\u001b[32m[I 2023-05-10 10:27:21,404]\u001b[0m Trial 961 finished with value: 332.3212838830435 and parameters: {'x': 0.24237236502425236, 'y': -1.7626487415506946}. Best is trial 863 with value: 0.011347046240886382.\u001b[0m\n",
      "\u001b[32m[I 2023-05-10 10:27:21,461]\u001b[0m Trial 962 finished with value: 112.68852948152161 and parameters: {'x': 0.862911275938258, 'y': -0.3168441440054275}. Best is trial 863 with value: 0.011347046240886382.\u001b[0m\n",
      "\u001b[32m[I 2023-05-10 10:27:21,518]\u001b[0m Trial 963 finished with value: 10.663517635213069 and parameters: {'x': 0.9983456250158997, 'y': 0.6701436095845866}. Best is trial 863 with value: 0.011347046240886382.\u001b[0m\n",
      "\u001b[32m[I 2023-05-10 10:27:21,576]\u001b[0m Trial 964 finished with value: 848.129386041375 and parameters: {'x': 1.9127613529985594, 'y': 0.7478206275966597}. Best is trial 863 with value: 0.011347046240886382.\u001b[0m\n",
      "\u001b[32m[I 2023-05-10 10:27:21,634]\u001b[0m Trial 965 finished with value: 67.99746103284875 and parameters: {'x': 0.7941599187018715, 'y': 1.455038755168692}. Best is trial 863 with value: 0.011347046240886382.\u001b[0m\n",
      "\u001b[32m[I 2023-05-10 10:27:21,697]\u001b[0m Trial 966 finished with value: 0.09220911311749308 and parameters: {'x': 0.9197815229542685, 'y': 0.8167108327807141}. Best is trial 863 with value: 0.011347046240886382.\u001b[0m\n",
      "\u001b[32m[I 2023-05-10 10:27:21,757]\u001b[0m Trial 967 finished with value: 307.3008911424628 and parameters: {'x': -0.20678815287418262, 'y': -1.7060798575859724}. Best is trial 863 with value: 0.011347046240886382.\u001b[0m\n",
      "\u001b[32m[I 2023-05-10 10:27:21,840]\u001b[0m Trial 968 finished with value: 960.4220215013484 and parameters: {'x': -1.9144721516392784, 'y': 0.5798707790451204}. Best is trial 863 with value: 0.011347046240886382.\u001b[0m\n",
      "\u001b[32m[I 2023-05-10 10:27:21,912]\u001b[0m Trial 969 finished with value: 9.85267662683231 and parameters: {'x': 1.1050828151626075, 'y': 0.9074942379664978}. Best is trial 863 with value: 0.011347046240886382.\u001b[0m\n",
      "\u001b[32m[I 2023-05-10 10:27:21,977]\u001b[0m Trial 970 finished with value: 106.39847798533468 and parameters: {'x': 1.1715049468524172, 'y': 0.341070050384286}. Best is trial 863 with value: 0.011347046240886382.\u001b[0m\n",
      "\u001b[32m[I 2023-05-10 10:27:22,041]\u001b[0m Trial 971 finished with value: 1113.560615773779 and parameters: {'x': 1.5296117133681646, 'y': -0.9968732775388431}. Best is trial 863 with value: 0.011347046240886382.\u001b[0m\n",
      "\u001b[32m[I 2023-05-10 10:27:22,103]\u001b[0m Trial 972 finished with value: 42.630892000372235 and parameters: {'x': -0.060590784068565995, 'y': 0.6479230509432576}. Best is trial 863 with value: 0.011347046240886382.\u001b[0m\n",
      "\u001b[32m[I 2023-05-10 10:27:22,165]\u001b[0m Trial 973 finished with value: 19.929237673537514 and parameters: {'x': 1.3309394092516997, 'y': 1.3262063061510134}. Best is trial 863 with value: 0.011347046240886382.\u001b[0m\n",
      "\u001b[32m[I 2023-05-10 10:27:22,226]\u001b[0m Trial 974 finished with value: 3.9137204515988473 and parameters: {'x': 0.9818060500837074, 'y': 0.7661202337472169}. Best is trial 863 with value: 0.011347046240886382.\u001b[0m\n",
      "\u001b[32m[I 2023-05-10 10:27:22,291]\u001b[0m Trial 975 finished with value: 306.030185114357 and parameters: {'x': -0.38044524695767756, 'y': -1.5991781438296848}. Best is trial 863 with value: 0.011347046240886382.\u001b[0m\n",
      "\u001b[32m[I 2023-05-10 10:27:22,353]\u001b[0m Trial 976 finished with value: 316.4271439537873 and parameters: {'x': 0.5905207633426226, 'y': -1.429653780157616}. Best is trial 863 with value: 0.011347046240886382.\u001b[0m\n",
      "\u001b[32m[I 2023-05-10 10:27:22,416]\u001b[0m Trial 977 finished with value: 193.8938876616431 and parameters: {'x': 0.7641037766384753, 'y': 1.9761126058115104}. Best is trial 863 with value: 0.011347046240886382.\u001b[0m\n",
      "\u001b[32m[I 2023-05-10 10:27:22,476]\u001b[0m Trial 978 finished with value: 344.08267467393983 and parameters: {'x': 0.8693417571567339, 'y': -1.0991454540301722}. Best is trial 863 with value: 0.011347046240886382.\u001b[0m\n",
      "\u001b[32m[I 2023-05-10 10:27:22,536]\u001b[0m Trial 979 finished with value: 6.877406355457513 and parameters: {'x': 1.0528241750836302, 'y': 0.8462438550178791}. Best is trial 863 with value: 0.011347046240886382.\u001b[0m\n",
      "\u001b[32m[I 2023-05-10 10:27:22,597]\u001b[0m Trial 980 finished with value: 18.668006271958568 and parameters: {'x': 0.9429997957881677, 'y': 0.45722133274718546}. Best is trial 863 with value: 0.011347046240886382.\u001b[0m\n",
      "\u001b[32m[I 2023-05-10 10:27:22,658]\u001b[0m Trial 981 finished with value: 5.437740602736776 and parameters: {'x': 1.276027993264286, 'y': 1.3966972474181452}. Best is trial 863 with value: 0.011347046240886382.\u001b[0m\n",
      "\u001b[32m[I 2023-05-10 10:27:22,715]\u001b[0m Trial 982 finished with value: 8.228581158873093 and parameters: {'x': 1.1157710710131878, 'y': 0.9583237609886476}. Best is trial 863 with value: 0.011347046240886382.\u001b[0m\n",
      "\u001b[32m[I 2023-05-10 10:27:22,779]\u001b[0m Trial 983 finished with value: 745.742336637269 and parameters: {'x': -1.9939806998017908, 'y': 1.2615927769589965}. Best is trial 863 with value: 0.011347046240886382.\u001b[0m\n",
      "\u001b[32m[I 2023-05-10 10:27:22,847]\u001b[0m Trial 984 finished with value: 4.794594700060962 and parameters: {'x': 0.7162254445213359, 'y': 0.7300979031689105}. Best is trial 863 with value: 0.011347046240886382.\u001b[0m\n",
      "\u001b[32m[I 2023-05-10 10:27:22,913]\u001b[0m Trial 985 finished with value: 44.15690844626763 and parameters: {'x': 0.8186566687895362, 'y': 0.005939582271124788}. Best is trial 863 with value: 0.011347046240886382.\u001b[0m\n",
      "\u001b[32m[I 2023-05-10 10:27:22,980]\u001b[0m Trial 986 finished with value: 209.72544397160888 and parameters: {'x': -0.5345628882548066, 'y': 1.725794150176893}. Best is trial 863 with value: 0.011347046240886382.\u001b[0m\n",
      "\u001b[32m[I 2023-05-10 10:27:23,043]\u001b[0m Trial 987 finished with value: 80.40390582270463 and parameters: {'x': 0.05768054386924737, 'y': 0.8950441519933435}. Best is trial 863 with value: 0.011347046240886382.\u001b[0m\n",
      "\u001b[32m[I 2023-05-10 10:27:23,106]\u001b[0m Trial 988 finished with value: 188.40754999718357 and parameters: {'x': 1.412315079133601, 'y': 0.6226369940027608}. Best is trial 863 with value: 0.011347046240886382.\u001b[0m\n",
      "\u001b[32m[I 2023-05-10 10:27:23,167]\u001b[0m Trial 989 finished with value: 155.33846365872208 and parameters: {'x': -1.4216147646346626, 'y': 0.798391935112364}. Best is trial 863 with value: 0.011347046240886382.\u001b[0m\n",
      "\u001b[32m[I 2023-05-10 10:27:23,253]\u001b[0m Trial 990 finished with value: 144.52239286494378 and parameters: {'x': 1.0163736585447634, 'y': -0.16915813761500537}. Best is trial 863 with value: 0.011347046240886382.\u001b[0m\n",
      "\u001b[32m[I 2023-05-10 10:27:23,326]\u001b[0m Trial 991 finished with value: 337.4989350995937 and parameters: {'x': 1.1960457558123074, 'y': -0.4064843517225125}. Best is trial 863 with value: 0.011347046240886382.\u001b[0m\n",
      "\u001b[32m[I 2023-05-10 10:27:23,393]\u001b[0m Trial 992 finished with value: 161.26099646668098 and parameters: {'x': -0.572317031025916, 'y': -0.9325675585104021}. Best is trial 863 with value: 0.011347046240886382.\u001b[0m\n",
      "\u001b[32m[I 2023-05-10 10:27:23,464]\u001b[0m Trial 993 finished with value: 47.99543674510267 and parameters: {'x': 0.11476718189947221, 'y': -0.6739369250151204}. Best is trial 863 with value: 0.011347046240886382.\u001b[0m\n",
      "\u001b[32m[I 2023-05-10 10:27:23,535]\u001b[0m Trial 994 finished with value: 10.71999797634797 and parameters: {'x': 0.9263715742175824, 'y': 0.5308330113092706}. Best is trial 863 with value: 0.011347046240886382.\u001b[0m\n",
      "\u001b[32m[I 2023-05-10 10:27:23,600]\u001b[0m Trial 995 finished with value: 3.2908174974031237 and parameters: {'x': -0.8087873224002367, 'y': 0.6679593493526851}. Best is trial 863 with value: 0.011347046240886382.\u001b[0m\n",
      "\u001b[32m[I 2023-05-10 10:27:23,664]\u001b[0m Trial 996 finished with value: 191.16296830513213 and parameters: {'x': -1.4884928444829515, 'y': 0.8555728174788044}. Best is trial 863 with value: 0.011347046240886382.\u001b[0m\n",
      "\u001b[32m[I 2023-05-10 10:27:23,726]\u001b[0m Trial 997 finished with value: 72.47477241182418 and parameters: {'x': 0.8675742710251646, 'y': 1.6039032771942456}. Best is trial 863 with value: 0.011347046240886382.\u001b[0m\n",
      "\u001b[32m[I 2023-05-10 10:27:23,786]\u001b[0m Trial 998 finished with value: 2.5098228100438815 and parameters: {'x': 1.0581461674233765, 'y': 0.9613558510272662}. Best is trial 863 with value: 0.011347046240886382.\u001b[0m\n",
      "\u001b[32m[I 2023-05-10 10:27:23,845]\u001b[0m Trial 999 finished with value: 473.3930165483113 and parameters: {'x': 0.6761212339867264, 'y': -1.7183786797071061}. Best is trial 863 with value: 0.011347046240886382.\u001b[0m\n"
     ]
    }
   ],
   "source": [
    "import optuna\n",
    "\n",
    "study = optuna.create_study()\n",
    "study.optimize(objective, n_trials=1000)"
   ]
  },
  {
   "cell_type": "code",
   "execution_count": 39,
   "metadata": {},
   "outputs": [
    {
     "data": {
      "text/plain": [
       "{'x': 0.8969957792123515, 'y': 0.8018863280356061}"
      ]
     },
     "execution_count": 39,
     "metadata": {},
     "output_type": "execute_result"
    }
   ],
   "source": [
    "study.best_params"
   ]
  },
  {
   "cell_type": "code",
   "execution_count": 40,
   "metadata": {},
   "outputs": [],
   "source": [
    "def hp_space(trial):\n",
    "  return {\"num_train_epochs\": trial.suggest_int(\"num_train_epochs\", 5, 10), \n",
    "          \"alpha\": trial.suggest_float(\"alpha\", 0, 1), \n",
    "          \"temperature\": trial.suggest_int(\"temperature\", 2, 20)}"
   ]
  },
  {
   "cell_type": "code",
   "execution_count": null,
   "metadata": {},
   "outputs": [],
   "source": [
    "best_run = distilbert_trainer.hyperparameter_search(\n",
    "    n_trials=20, direction=\"maximize\", hp_space=hp_space)\n",
    "print(best_run)"
   ]
  },
  {
   "cell_type": "code",
   "execution_count": null,
   "metadata": {},
   "outputs": [],
   "source": [
    "for k, v in best_run.hyperparameters.items():\n",
    "  setattr(student_training_args, k, v)\n",
    "\n",
    "# define a new repository to store our distilled model\n",
    "distilled_ckpt = \"distilbert-base-uncased-distilled-clinc\"\n",
    "student_training_args.output_dir = distilled_ckpt\n",
    "\n",
    "# create a new trainer with optimal parameters\n",
    "distil_trainer = DistillationTrainer(\n",
    "    model_init=student_init, \n",
    "    teacher_model=teacher_model, args=student_training_args, \n",
    "    train_dataset=clinc_enc['train'], eval_dataset=clinc_enc['validation'], \n",
    "    compute_metrics=compute_metrics, tokenizer=student_tokenizer)\n",
    "\n",
    "distil_trainer.train();"
   ]
  },
  {
   "cell_type": "code",
   "execution_count": 22,
   "metadata": {},
   "outputs": [
    {
     "name": "stdout",
     "output_type": "stream",
     "text": [
      "Model size (MB) - 255.88\n",
      "Average latency (ms) - 18.61 +\\- 1.87\n",
      "accuracy on test set - 0.868\n"
     ]
    }
   ],
   "source": [
    "distilled_ckpt = \"transformersbook/distilbert-base-uncased-distilled-clinc\"\n",
    "pipe = pipeline(\"text-classification\", model=distilled_ckpt)\n",
    "optim_type = \"Distillation\"\n",
    "pb = PerformanceBenchmark(pipe, clinc[\"test\"], optim_type=optim_type)\n",
    "perf_metrics.update(pb.run_benchmark())\n"
   ]
  },
  {
   "cell_type": "code",
   "execution_count": 23,
   "metadata": {},
   "outputs": [
    {
     "data": {
      "image/png": "[encoded data removed]",
      "text/plain": [
       "<Figure size 640x480 with 1 Axes>"
      ]
     },
     "metadata": {},
     "output_type": "display_data"
    }
   ],
   "source": [
    "plot_metrics(perf_metrics, optim_type)"
   ]
  },
  {
   "attachments": {},
   "cell_type": "markdown",
   "metadata": {},
   "source": [
    "**Making Models Faster with Quantization**"
   ]
  },
  {
   "cell_type": "code",
   "execution_count": 50,
   "metadata": {},
   "outputs": [
    {
     "data": {
      "image/png": "[encoded data removed]",
      "text/plain": [
       "<Figure size 640x480 with 1 Axes>"
      ]
     },
     "metadata": {},
     "output_type": "display_data"
    }
   ],
   "source": [
    "import matplotlib.pyplot as plt\n",
    "\n",
    "state_dict = pipe.model.state_dict()\n",
    "weights = state_dict[\"distilbert.transformer.layer.0.attention.out_lin.weight\"]\n",
    "plt.hist(weights.flatten().numpy(), bins=250, range=(-0.3,0.3), edgecolor=\"C0\")\n",
    "plt.show()"
   ]
  },
  {
   "cell_type": "code",
   "execution_count": 51,
   "metadata": {},
   "outputs": [],
   "source": [
    "zero_point = 0\n",
    "scale = (weights.max() - weights.min()) / (127 - (-128))"
   ]
  },
  {
   "cell_type": "code",
   "execution_count": 52,
   "metadata": {},
   "outputs": [
    {
     "data": {
      "text/plain": [
       "tensor([[ -5,  -8,   0,  ...,  -6,  -4,   8],\n",
       "        [  8,   3,   1,  ...,  -4,   7,   0],\n",
       "        [ -9,  -6,   5,  ...,   1,   5,  -3],\n",
       "        ...,\n",
       "        [  6,   0,  12,  ...,   0,   6,  -1],\n",
       "        [  0,  -2, -12,  ...,  12,  -7, -13],\n",
       "        [-13,  -1, -10,  ...,   8,   2,  -2]], dtype=torch.int8)"
      ]
     },
     "execution_count": 52,
     "metadata": {},
     "output_type": "execute_result"
    }
   ],
   "source": [
    "(weights / scale + zero_point).clamp(-128, 127).round().char()"
   ]
  },
  {
   "cell_type": "code",
   "execution_count": 53,
   "metadata": {},
   "outputs": [
    {
     "data": {
      "text/plain": [
       "tensor([[ -5,  -8,   0,  ...,  -6,  -4,   8],\n",
       "        [  8,   3,   1,  ...,  -4,   7,   0],\n",
       "        [ -9,  -6,   5,  ...,   1,   5,  -3],\n",
       "        ...,\n",
       "        [  6,   0,  12,  ...,   0,   6,  -1],\n",
       "        [  0,  -2, -12,  ...,  12,  -7, -13],\n",
       "        [-13,  -1, -10,  ...,   8,   2,  -2]], dtype=torch.int8)"
      ]
     },
     "execution_count": 53,
     "metadata": {},
     "output_type": "execute_result"
    }
   ],
   "source": [
    "from torch import quantize_per_tensor\n",
    "\n",
    "dtype = torch.qint8\n",
    "quantized_weights = quantize_per_tensor(weights, scale, zero_point, dtype)\n",
    "quantized_weights.int_repr()"
   ]
  },
  {
   "cell_type": "code",
   "execution_count": 55,
   "metadata": {},
   "outputs": [
    {
     "name": "stdout",
     "output_type": "stream",
     "text": [
      "3.71 ms ± 372 µs per loop (mean ± std. dev. of 7 runs, 100 loops each)\n"
     ]
    }
   ],
   "source": [
    "%%timeit\n",
    "weights @ weights "
   ]
  },
  {
   "cell_type": "code",
   "execution_count": 57,
   "metadata": {},
   "outputs": [],
   "source": [
    "from torch.nn.quantized import QFunctional\n",
    "\n",
    "q_fn = QFunctional()"
   ]
  },
  {
   "cell_type": "code",
   "execution_count": 58,
   "metadata": {},
   "outputs": [
    {
     "name": "stdout",
     "output_type": "stream",
     "text": [
      "180 µs ± 807 ns per loop (mean ± std. dev. of 7 runs, 10,000 loops each)\n"
     ]
    }
   ],
   "source": [
    "%%timeit\n",
    "q_fn.mul(quantized_weights, quantized_weights)"
   ]
  },
  {
   "cell_type": "code",
   "execution_count": 59,
   "metadata": {},
   "outputs": [
    {
     "name": "stderr",
     "output_type": "stream",
     "text": [
      "C:\\Users\\caiji\\AppData\\Local\\Temp\\ipykernel_10836\\2099325647.py:3: UserWarning: TypedStorage is deprecated. It will be removed in the future and UntypedStorage will be the only storage class. This should only matter to you if you are using storages directly.  To access UntypedStorage directly, use tensor.untyped_storage() instead of tensor.storage()\n",
      "  sys.getsizeof(weights.storage()) / sys.getsizeof(quantized_weights.storage())\n",
      "C:\\Users\\caiji\\AppData\\Roaming\\Python\\Python39\\site-packages\\torch\\storage.py:665: UserWarning: TypedStorage is deprecated. It will be removed in the future and UntypedStorage will be the only storage class. This should only matter to you if you are using storages directly.  To access UntypedStorage directly, use tensor.untyped_storage() instead of tensor.storage()\n",
      "  return super().__sizeof__() + self.nbytes()\n"
     ]
    },
    {
     "data": {
      "text/plain": [
       "3.999755879241598"
      ]
     },
     "execution_count": 59,
     "metadata": {},
     "output_type": "execute_result"
    }
   ],
   "source": [
    "import sys\n",
    "\n",
    "sys.getsizeof(weights.storage()) / sys.getsizeof(quantized_weights.storage())"
   ]
  },
  {
   "cell_type": "code",
   "execution_count": 27,
   "metadata": {},
   "outputs": [],
   "source": [
    "import torch\n",
    "from torch import nn\n",
    "from transformers import AutoModelForSequenceClassification\n",
    "from torch.quantization import quantize_dynamic \n",
    "\n",
    "model_ckpt = \"transformersbook/distilbert-base-uncased-distilled-clinc\"\n",
    "tokenizer = AutoTokenizer.from_pretrained(model_ckpt)\n",
    "model = (AutoModelForSequenceClassification\n",
    "         .from_pretrained(model_ckpt).to(\"cpu\"))\n",
    "\n",
    "model_quantized = quantize_dynamic(model, {nn.Linear}, dtype=torch.qint8)\n"
   ]
  },
  {
   "cell_type": "code",
   "execution_count": 28,
   "metadata": {},
   "outputs": [
    {
     "name": "stdout",
     "output_type": "stream",
     "text": [
      "Model size (MB) - 132.39\n",
      "Average latency (ms) - 11.98 +\\- 1.38\n",
      "accuracy on test set - 0.876\n"
     ]
    }
   ],
   "source": [
    "pipe = pipeline(\"text-classification\", model=model_quantized, \n",
    "                tokenizer=tokenizer)\n",
    "optim_type = \"Distillation + quantization\"\n",
    "pb = PerformanceBenchmark(pipe, clinc[\"test\"], optim_type=optim_type)\n",
    "perf_metrics.update(pb.run_benchmark())"
   ]
  },
  {
   "cell_type": "code",
   "execution_count": 29,
   "metadata": {},
   "outputs": [
    {
     "data": {
      "image/png": "[encoded data removed]",
      "text/plain": [
       "<Figure size 640x480 with 1 Axes>"
      ]
     },
     "metadata": {},
     "output_type": "display_data"
    }
   ],
   "source": [
    "plot_metrics(perf_metrics, optim_type)"
   ]
  },
  {
   "attachments": {},
   "cell_type": "markdown",
   "metadata": {},
   "source": [
    "**Optimizing Inference with ONNX and the ONNX Runtime**"
   ]
  },
  {
   "cell_type": "code",
   "execution_count": 30,
   "metadata": {},
   "outputs": [],
   "source": [
    "import os\n",
    "from psutil import cpu_count \n",
    "\n",
    "os.environ[\"OMP_NUM_THREADS\"] = f\"{cpu_count()}\"\n",
    "os.environ[\"OMP_WAIT_POLICY\"] = \"ACTIVE\""
   ]
  },
  {
   "cell_type": "code",
   "execution_count": null,
   "metadata": {},
   "outputs": [],
   "source": [
    "from pathlib import Path\n",
    "from transformers import AutoTokenizer\n",
    "from transformers.convert_graph_to_onnx import convert\n",
    "\n",
    "model_ckpt = \"transformersbook/distilbert-base-uncased-distilled-clinc\"\n",
    "onnx_model_path = Path(\"onnx/model.onnx\")\n",
    "tokenizer = AutoTokenizer.from_pretrained(model_ckpt)\n",
    "\n",
    "convert(framework=\"pt\", model=model_ckpt, tokenizer=tokenizer, \n",
    "        output=onnx_model_path, opset=12, pipeline_name=\"text-classification\")"
   ]
  },
  {
   "cell_type": "code",
   "execution_count": 32,
   "metadata": {},
   "outputs": [],
   "source": [
    "from onnxruntime import (GraphOptimizationLevel, InferenceSession, \n",
    "                         SessionOptions)\n",
    "\n",
    "def create_model_for_provider(model_path, provider=\"CPUExecutionProvider\"):\n",
    "  options = SessionOptions()\n",
    "  options.intra_op_num_threads = 1\n",
    "  options.graph_optimization_level = GraphOptimizationLevel.ORT_ENABLE_ALL\n",
    "  session = InferenceSession(str(model_path), options, providers=[provider])\n",
    "  session.disable_fallback()\n",
    "  return session\n",
    "\n",
    "onnx_model = create_model_for_provider(onnx_model_path)"
   ]
  },
  {
   "cell_type": "code",
   "execution_count": 10,
   "metadata": {},
   "outputs": [
    {
     "data": {
      "text/plain": [
       "(1, 151)"
      ]
     },
     "execution_count": 10,
     "metadata": {},
     "output_type": "execute_result"
    }
   ],
   "source": [
    "inputs = clinc_enc[\"test\"][:1]\n",
    "del inputs[\"labels\"]\n",
    "logits_onnx = onnx_model.run(None, inputs)[0]\n",
    "logits_onnx.shape"
   ]
  },
  {
   "cell_type": "code",
   "execution_count": 13,
   "metadata": {},
   "outputs": [
    {
     "data": {
      "text/plain": [
       "61"
      ]
     },
     "execution_count": 13,
     "metadata": {},
     "output_type": "execute_result"
    }
   ],
   "source": [
    "import numpy as np\n",
    "np.argmax(logits_onnx)"
   ]
  },
  {
   "cell_type": "code",
   "execution_count": 14,
   "metadata": {},
   "outputs": [
    {
     "data": {
      "text/plain": [
       "61"
      ]
     },
     "execution_count": 14,
     "metadata": {},
     "output_type": "execute_result"
    }
   ],
   "source": [
    "clinc_enc[\"test\"][0][\"labels\"]"
   ]
  },
  {
   "cell_type": "code",
   "execution_count": 33,
   "metadata": {},
   "outputs": [],
   "source": [
    "from scipy.special import softmax\n",
    "\n",
    "class OnnxPipeline:\n",
    "  def __init__(self, model, tokenizer):\n",
    "    self.model = model\n",
    "    self.tokenizer = tokenizer\n",
    "  \n",
    "  def __call__(self, query):\n",
    "    model_inputs = self.tokenizer(query, return_tensors=\"pt\")\n",
    "    inputs_onnx = {k: v.cpu().detach().numpy()\n",
    "                   for k, v in model_inputs.items()}\n",
    "    logits = self.model.run(None, inputs_onnx)[0][0, :]\n",
    "    probs = softmax(logits)\n",
    "    pred_idx = np.argmax(probs).item()\n",
    "    return [{\"label\": intents.int2str(pred_idx), \"score\": probs[pred_idx]}]"
   ]
  },
  {
   "cell_type": "code",
   "execution_count": 22,
   "metadata": {},
   "outputs": [
    {
     "data": {
      "text/plain": [
       "[{'label': 'car_rental', 'score': 0.7848335}]"
      ]
     },
     "execution_count": 22,
     "metadata": {},
     "output_type": "execute_result"
    }
   ],
   "source": [
    "pipe = OnnxPipeline(onnx_model, tokenizer)\n",
    "query = \"\"\"Hey, I'd like to rent a vehicle from Nov 1st to Nov 15th in Paris and I need a 15 passenger van\"\"\"\n",
    "pipe(query)"
   ]
  },
  {
   "cell_type": "code",
   "execution_count": 34,
   "metadata": {},
   "outputs": [],
   "source": [
    "class OnnxPerformanceBenchmark(PerformanceBenchmark):\n",
    "  def __init__(self, *args, model_path, **kwargs):\n",
    "    super().__init__(*args, **kwargs)\n",
    "    self.model_path = model_path\n",
    "\n",
    "  def compute_size(self):\n",
    "    size_mb = Path(self.model_path).stat().st_size / (1024 * 1024)\n",
    "    print(f\"Model size (MB) - {size_mb:.2f}\")\n",
    "    return {\"size_mb\": size_mb}"
   ]
  },
  {
   "cell_type": "code",
   "execution_count": 35,
   "metadata": {},
   "outputs": [
    {
     "name": "stdout",
     "output_type": "stream",
     "text": [
      "Model size (MB) - 255.98\n",
      "Average latency (ms) - 17.53 +\\- 5.32\n",
      "accuracy on test set - 0.876\n"
     ]
    }
   ],
   "source": [
    "optim_type = \"Distillation + ORT\"\n",
    "pb = OnnxPerformanceBenchmark(pipe, clinc[\"test\"], optim_type,\n",
    "                              model_path=\"onnx/model.onnx\")\n",
    "perf_metrics.update(pb.run_benchmark())"
   ]
  },
  {
   "cell_type": "code",
   "execution_count": 37,
   "metadata": {},
   "outputs": [
    {
     "data": {
      "image/png": "[encoded data removed]",
      "text/plain": [
       "<Figure size 640x480 with 1 Axes>"
      ]
     },
     "metadata": {},
     "output_type": "display_data"
    }
   ],
   "source": [
    "plot_metrics(perf_metrics, optim_type)"
   ]
  },
  {
   "cell_type": "code",
   "execution_count": 38,
   "metadata": {},
   "outputs": [
    {
     "name": "stdout",
     "output_type": "stream",
     "text": [
      "Ignore MatMul due to non constant B: /[/distilbert/transformer/layer.0/attention/MatMul]\n",
      "Ignore MatMul due to non constant B: /[/distilbert/transformer/layer.0/attention/MatMul_1]\n",
      "Ignore MatMul due to non constant B: /[/distilbert/transformer/layer.1/attention/MatMul]\n",
      "Ignore MatMul due to non constant B: /[/distilbert/transformer/layer.1/attention/MatMul_1]\n",
      "Ignore MatMul due to non constant B: /[/distilbert/transformer/layer.2/attention/MatMul]\n",
      "Ignore MatMul due to non constant B: /[/distilbert/transformer/layer.2/attention/MatMul_1]\n",
      "Ignore MatMul due to non constant B: /[/distilbert/transformer/layer.3/attention/MatMul]\n",
      "Ignore MatMul due to non constant B: /[/distilbert/transformer/layer.3/attention/MatMul_1]\n",
      "Ignore MatMul due to non constant B: /[/distilbert/transformer/layer.4/attention/MatMul]\n",
      "Ignore MatMul due to non constant B: /[/distilbert/transformer/layer.4/attention/MatMul_1]\n",
      "Ignore MatMul due to non constant B: /[/distilbert/transformer/layer.5/attention/MatMul]\n",
      "Ignore MatMul due to non constant B: /[/distilbert/transformer/layer.5/attention/MatMul_1]\n"
     ]
    }
   ],
   "source": [
    "from onnxruntime.quantization import quantize_dynamic, QuantType\n",
    "\n",
    "model_input = \"onnx/model.onnx\"\n",
    "model_output = \"onnx/model.quant.onnx\"\n",
    "quantize_dynamic(model_input, model_output, weight_type=QuantType.QInt8)"
   ]
  },
  {
   "cell_type": "code",
   "execution_count": 39,
   "metadata": {},
   "outputs": [
    {
     "name": "stdout",
     "output_type": "stream",
     "text": [
      "Model size (MB) - 64.31\n",
      "Average latency (ms) - 19.05 +\\- 3.50\n",
      "accuracy on test set - 0.876\n"
     ]
    }
   ],
   "source": [
    "onnx_quantized_model = create_model_for_provider(model_output)\n",
    "pipe = OnnxPipeline(onnx_quantized_model, tokenizer)\n",
    "optim_type = \"Distillation + ORT (quantized)\"\n",
    "pb = OnnxPerformanceBenchmark(pipe, clinc[\"test\"], optim_type,\n",
    "                              model_path=model_output)\n",
    "perf_metrics.update(pb.run_benchmark())"
   ]
  },
  {
   "cell_type": "code",
   "execution_count": 40,
   "metadata": {},
   "outputs": [
    {
     "data": {
      "image/png": "[encoded data removed]",
      "text/plain": [
       "<Figure size 640x480 with 1 Axes>"
      ]
     },
     "metadata": {},
     "output_type": "display_data"
    }
   ],
   "source": [
    "plot_metrics(perf_metrics, optim_type)"
   ]
  },
  {
   "cell_type": "code",
   "execution_count": null,
   "metadata": {},
   "outputs": [],
   "source": []
  }
 ],
 "metadata": {
  "kernelspec": {
   "display_name": "Python 3",
   "language": "python",
   "name": "python3"
  },
  "language_info": {
   "codemirror_mode": {
    "name": "ipython",
    "version": 3
   },
   "file_extension": ".py",
   "mimetype": "text/x-python",
   "name": "python",
   "nbconvert_exporter": "python",
   "pygments_lexer": "ipython3",
   "version": "3.9.1"
  },
  "orig_nbformat": 4
 },
 "nbformat": 4,
 "nbformat_minor": 2
}
