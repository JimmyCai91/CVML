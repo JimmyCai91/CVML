{
 "cells": [
  {
   "cell_type": "code",
   "execution_count": 1,
   "metadata": {},
   "outputs": [
    {
     "data": {
      "text/plain": [
       "['books', 'electronics', 'grocery', 'movies', 'restaurants', 'tripadvisor']"
      ]
     },
     "execution_count": 1,
     "metadata": {},
     "output_type": "execute_result"
    }
   ],
   "source": [
    "from datasets import get_dataset_config_names \n",
    "\n",
    "domains = get_dataset_config_names(\"subjqa\")\n",
    "domains \n"
   ]
  },
  {
   "cell_type": "code",
   "execution_count": 2,
   "metadata": {},
   "outputs": [
    {
     "name": "stderr",
     "output_type": "stream",
     "text": [
      "Found cached dataset subjqa (/home/jim/.cache/huggingface/datasets/subjqa/electronics/1.1.0/2c12e496c4c675ab4a57ffb5d3f538f2e7b89793956e50da37126393ce23b6c6)\n"
     ]
    },
    {
     "data": {
      "application/vnd.jupyter.widget-view+json": {
       "model_id": "04e3c65424524cb3b149bdc1b471b2ad",
       "version_major": 2,
       "version_minor": 0
      },
      "text/plain": [
       "  0%|          | 0/3 [00:00<?, ?it/s]"
      ]
     },
     "metadata": {},
     "output_type": "display_data"
    },
    {
     "name": "stdout",
     "output_type": "stream",
     "text": [
      "{'text': ['Bass is weak as expected', 'Bass is weak as expected, even with EQ adjusted up'], 'answer_start': [1302, 1302], 'answer_subj_level': [1, 1], 'ans_subj_score': [0.5083333253860474, 0.5083333253860474], 'is_ans_subjective': [True, True]}\n"
     ]
    }
   ],
   "source": [
    "from datasets import load_dataset \n",
    "\n",
    "subjqa = load_dataset(\"subjqa\", name=\"electronics\")\n",
    "print(subjqa[\"train\"][\"answers\"][1])\n"
   ]
  },
  {
   "cell_type": "code",
   "execution_count": 3,
   "metadata": {},
   "outputs": [
    {
     "name": "stdout",
     "output_type": "stream",
     "text": [
      "Number of questions in train: 1295\n",
      "Number of questions in test: 358\n",
      "Number of questions in validation: 255\n"
     ]
    }
   ],
   "source": [
    "import pandas as pd \n",
    "\n",
    "dfs = {split: dset.to_pandas() for split, dset in subjqa.flatten().items()}\n",
    "\n",
    "for split, df in dfs.items():\n",
    "  print(f\"Number of questions in {split}: {df['id'].nunique()}\")\n",
    "  "
   ]
  },
  {
   "cell_type": "code",
   "execution_count": 4,
   "metadata": {},
   "outputs": [
    {
     "data": {
      "text/html": [
       "<div>\n",
       "<style scoped>\n",
       "    .dataframe tbody tr th:only-of-type {\n",
       "        vertical-align: middle;\n",
       "    }\n",
       "\n",
       "    .dataframe tbody tr th {\n",
       "        vertical-align: top;\n",
       "    }\n",
       "\n",
       "    .dataframe thead th {\n",
       "        text-align: right;\n",
       "    }\n",
       "</style>\n",
       "<table border=\"1\" class=\"dataframe\">\n",
       "  <thead>\n",
       "    <tr style=\"text-align: right;\">\n",
       "      <th></th>\n",
       "      <th>title</th>\n",
       "      <th>question</th>\n",
       "      <th>answers.text</th>\n",
       "      <th>answers.answer_start</th>\n",
       "      <th>context</th>\n",
       "    </tr>\n",
       "  </thead>\n",
       "  <tbody>\n",
       "    <tr>\n",
       "      <th>791</th>\n",
       "      <td>B005DKZTMG</td>\n",
       "      <td>Does the keyboard lightweight?</td>\n",
       "      <td>[this keyboard is compact]</td>\n",
       "      <td>[215]</td>\n",
       "      <td>I really like this keyboard.  I give it 4 star...</td>\n",
       "    </tr>\n",
       "    <tr>\n",
       "      <th>1159</th>\n",
       "      <td>B00AAIPT76</td>\n",
       "      <td>How is the battery?</td>\n",
       "      <td>[]</td>\n",
       "      <td>[]</td>\n",
       "      <td>I bought this after the first spare gopro batt...</td>\n",
       "    </tr>\n",
       "  </tbody>\n",
       "</table>\n",
       "</div>"
      ],
      "text/plain": [
       "           title                        question                answers.text   \n",
       "791   B005DKZTMG  Does the keyboard lightweight?  [this keyboard is compact]  \\\n",
       "1159  B00AAIPT76             How is the battery?                          []   \n",
       "\n",
       "     answers.answer_start                                            context  \n",
       "791                 [215]  I really like this keyboard.  I give it 4 star...  \n",
       "1159                   []  I bought this after the first spare gopro batt...  "
      ]
     },
     "execution_count": 4,
     "metadata": {},
     "output_type": "execute_result"
    }
   ],
   "source": [
    "qa_cols = [\"title\", \"question\", \"answers.text\", \n",
    "           \"answers.answer_start\", \"context\"]\n",
    "sample_df = dfs[\"train\"][qa_cols].sample(2, random_state=7)\n",
    "sample_df \n"
   ]
  },
  {
   "cell_type": "code",
   "execution_count": 5,
   "metadata": {},
   "outputs": [
    {
     "data": {
      "text/plain": [
       "'this keyboard is compact'"
      ]
     },
     "execution_count": 5,
     "metadata": {},
     "output_type": "execute_result"
    }
   ],
   "source": [
    "start_idx = sample_df[\"answers.answer_start\"].iloc[0][0]\n",
    "end_idx = start_idx + len(sample_df[\"answers.text\"].iloc[0][0])\n",
    "sample_df[\"context\"].iloc[0][start_idx:end_idx]\n"
   ]
  },
  {
   "cell_type": "code",
   "execution_count": 6,
   "metadata": {},
   "outputs": [
    {
     "data": {
      "image/png": "[encoded data removed]",
      "text/plain": [
       "<Figure size 640x480 with 1 Axes>"
      ]
     },
     "metadata": {},
     "output_type": "display_data"
    }
   ],
   "source": [
    "import matplotlib.pyplot as plt\n",
    "\n",
    "counts = {}\n",
    "question_types = [\"What\", \"How\", \"Is\", \"Does\", \"Do\", \"Was\", \"Where\", \"Why\"]\n",
    "\n",
    "for q in question_types:\n",
    "  counts[q] = dfs[\"train\"][\"question\"].str.startswith(q).value_counts()[True]\n",
    "\n",
    "pd.Series(counts).sort_values().plot.barh()\n",
    "plt.title(\"Frequency of Question Types\")\n",
    "plt.show()\n"
   ]
  },
  {
   "cell_type": "code",
   "execution_count": 7,
   "metadata": {},
   "outputs": [
    {
     "name": "stdout",
     "output_type": "stream",
     "text": [
      "How is the camera?\n",
      "How do you like the control?\n",
      "How fast is the charger?\n",
      "What is direction?\n",
      "What is the quality of the construction of the bag?\n",
      "What is your impression of the product?\n",
      "Is this how zoom works?\n",
      "Is sound clear?\n",
      "Is it a wireless keyboard?\n"
     ]
    }
   ],
   "source": [
    "for question_type in [\"How\", \"What\", \"Is\"]:\n",
    "  for question in (\n",
    "      dfs[\"train\"][dfs[\"train\"].question.str.startswith(question_type)]\n",
    "      .sample(n=3, random_state=42)['question']):\n",
    "    print(question)\n"
   ]
  },
  {
   "cell_type": "code",
   "execution_count": 8,
   "metadata": {},
   "outputs": [
    {
     "name": "stderr",
     "output_type": "stream",
     "text": [
      "2023-05-24 12:02:04.914150: I tensorflow/core/platform/cpu_feature_guard.cc:193] This TensorFlow binary is optimized with oneAPI Deep Neural Network Library (oneDNN) to use the following CPU instructions in performance-critical operations:  AVX2 FMA\n",
      "To enable them in other operations, rebuild TensorFlow with the appropriate compiler flags.\n",
      "2023-05-24 12:02:05.055137: W tensorflow/compiler/xla/stream_executor/platform/default/dso_loader.cc:64] Could not load dynamic library 'libcudart.so.11.0'; dlerror: libcudart.so.11.0: cannot open shared object file: No such file or directory\n",
      "2023-05-24 12:02:05.055155: I tensorflow/compiler/xla/stream_executor/cuda/cudart_stub.cc:29] Ignore above cudart dlerror if you do not have a GPU set up on your machine.\n",
      "2023-05-24 12:02:05.755999: W tensorflow/compiler/xla/stream_executor/platform/default/dso_loader.cc:64] Could not load dynamic library 'libnvinfer.so.7'; dlerror: libnvinfer.so.7: cannot open shared object file: No such file or directory\n",
      "2023-05-24 12:02:05.756066: W tensorflow/compiler/xla/stream_executor/platform/default/dso_loader.cc:64] Could not load dynamic library 'libnvinfer_plugin.so.7'; dlerror: libnvinfer_plugin.so.7: cannot open shared object file: No such file or directory\n",
      "2023-05-24 12:02:05.756073: W tensorflow/compiler/tf2tensorrt/utils/py_utils.cc:38] TF-TRT Warning: Cannot dlopen some TensorRT libraries. If you would like to use Nvidia GPU with TensorRT, please make sure the missing libraries mentioned above are installed properly.\n"
     ]
    }
   ],
   "source": [
    "from transformers import AutoTokenizer \n",
    "\n",
    "model_ckpt = \"deepset/minilm-uncased-squad2\"\n",
    "tokenizer = AutoTokenizer.from_pretrained(model_ckpt)\n",
    "\n",
    "question = \"How much music can this hold?\"\n",
    "context = \"\"\"An MP3 is about 1 MB/minute, so about 6000 hours depending on file size.\"\"\"\n",
    "inputs = tokenizer(question, context, return_tensors=\"pt\")\n"
   ]
  },
  {
   "cell_type": "code",
   "execution_count": 9,
   "metadata": {},
   "outputs": [
    {
     "name": "stdout",
     "output_type": "stream",
     "text": [
      "[CLS] how much music can this hold? [SEP] an mp3 is about 1 mb / minute, so about 6000 hours depending on file size. [SEP]\n"
     ]
    }
   ],
   "source": [
    "print(tokenizer.decode(inputs[\"input_ids\"][0]))"
   ]
  },
  {
   "cell_type": "code",
   "execution_count": 10,
   "metadata": {},
   "outputs": [
    {
     "name": "stdout",
     "output_type": "stream",
     "text": [
      "QuestionAnsweringModelOutput(loss=None, start_logits=tensor([[-0.9862, -4.7750, -5.4025, -5.2378, -5.2863, -5.5117, -4.9819, -6.1880,\n",
      "         -0.9862,  0.2596, -0.2144, -1.7136,  3.7806,  4.8561, -1.0546, -3.9097,\n",
      "         -1.7374, -4.5944, -1.4278,  3.9949,  5.0391, -0.2018, -3.0193, -4.8549,\n",
      "         -2.3108, -3.5110, -3.5713, -0.9862]]), end_logits=tensor([[-0.9623, -5.4733, -5.0326, -5.1639, -5.4278, -5.5151, -5.1749, -4.6233,\n",
      "         -0.9623, -3.7855, -0.8715, -3.7745, -3.0161, -1.1780,  0.1758, -2.7365,\n",
      "          4.8934,  0.3046, -3.1761, -3.2762,  0.8937,  5.6606, -0.3623, -4.9554,\n",
      "         -3.2531, -0.0914,  1.6211, -0.9623]]), hidden_states=None, attentions=None)\n"
     ]
    }
   ],
   "source": [
    "import torch \n",
    "from transformers import AutoModelForQuestionAnswering\n",
    "\n",
    "model = AutoModelForQuestionAnswering.from_pretrained(model_ckpt)\n",
    "\n",
    "with torch.no_grad():\n",
    "  outputs = model(**inputs)\n",
    "print(outputs)\n",
    "\n"
   ]
  },
  {
   "cell_type": "code",
   "execution_count": 11,
   "metadata": {},
   "outputs": [
    {
     "name": "stdout",
     "output_type": "stream",
     "text": [
      "Input IDs shape: torch.Size([1, 28])\n",
      "Start logits shape: torch.Size([1, 28])\n",
      "End logits shape: torch.Size([1, 28])\n"
     ]
    }
   ],
   "source": [
    "start_logits = outputs.start_logits \n",
    "end_logits = outputs.end_logits \n",
    "\n",
    "print(f\"Input IDs shape: {inputs.input_ids.size()}\")\n",
    "print(f\"Start logits shape: {start_logits.size()}\")\n",
    "print(f\"End logits shape: {end_logits.size()}\")\n"
   ]
  },
  {
   "cell_type": "code",
   "execution_count": 12,
   "metadata": {},
   "outputs": [
    {
     "name": "stdout",
     "output_type": "stream",
     "text": [
      "Question: How much music can this hold?\n",
      "Answer: 6000 hours\n"
     ]
    }
   ],
   "source": [
    "import torch \n",
    "\n",
    "start_idx = torch.argmax(start_logits)\n",
    "end_idx = torch.argmax(end_logits) + 1\n",
    "answer_span = inputs[\"input_ids\"][0][start_idx:end_idx]\n",
    "answer = tokenizer.decode(answer_span)\n",
    "print(f\"Question: {question}\")\n",
    "print(f\"Answer: {answer}\")\n"
   ]
  },
  {
   "cell_type": "code",
   "execution_count": 13,
   "metadata": {},
   "outputs": [
    {
     "name": "stderr",
     "output_type": "stream",
     "text": [
      "/home/jim/anaconda3/envs/cvml/lib/python3.9/site-packages/transformers/pipelines/question_answering.py:325: UserWarning: topk parameter is deprecated, use top_k instead\n",
      "  warnings.warn(\"topk parameter is deprecated, use top_k instead\", UserWarning)\n"
     ]
    },
    {
     "data": {
      "text/plain": [
       "[{'score': 0.2651607394218445, 'start': 38, 'end': 48, 'answer': '6000 hours'},\n",
       " {'score': 0.2208300530910492,\n",
       "  'start': 16,\n",
       "  'end': 48,\n",
       "  'answer': '1 MB/minute, so about 6000 hours'},\n",
       " {'score': 0.10253580659627914,\n",
       "  'start': 16,\n",
       "  'end': 27,\n",
       "  'answer': '1 MB/minute'}]"
      ]
     },
     "execution_count": 13,
     "metadata": {},
     "output_type": "execute_result"
    }
   ],
   "source": [
    "from transformers import pipeline \n",
    "\n",
    "pipe = pipeline(\"question-answering\", model=model, tokenizer=tokenizer)\n",
    "pipe(question=question, context=context, topk=3)\n"
   ]
  },
  {
   "cell_type": "code",
   "execution_count": 14,
   "metadata": {},
   "outputs": [
    {
     "data": {
      "text/plain": [
       "{'score': 0.9068413972854614, 'start': 0, 'end': 0, 'answer': ''}"
      ]
     },
     "execution_count": 14,
     "metadata": {},
     "output_type": "execute_result"
    }
   ],
   "source": [
    "pipe(question=\"Why is there no data?\", context=context, \n",
    "     handle_impossible_answer=True)"
   ]
  },
  {
   "cell_type": "code",
   "execution_count": 15,
   "metadata": {},
   "outputs": [
    {
     "name": "stderr",
     "output_type": "stream",
     "text": [
      "Truncation was not explicitly activated but `max_length` is provided a specific value, please use `truncation=True` to explicitly truncate examples to max length. Defaulting to 'longest_first' truncation strategy. If you encode pairs of sequences (GLUE-style) with the tokenizer you can select this strategy more precisely by providing a specific strategy to `truncation`.\n"
     ]
    },
    {
     "name": "stdout",
     "output_type": "stream",
     "text": [
      "Window $0 has 100 tokens\n",
      "Window $1 has 88 tokens\n"
     ]
    }
   ],
   "source": [
    "example = dfs[\"train\"].iloc[0][[\"question\", \"context\"]]\n",
    "tokenized_example = tokenizer(example[\"question\"], example[\"context\"], \n",
    "                              return_overflowing_tokens=True, max_length=100, \n",
    "                              stride=25)\n",
    "\n",
    "for idx, window in enumerate(tokenized_example[\"input_ids\"]):\n",
    "  print(f\"Window ${idx} has {len(window)} tokens\")\n",
    "  "
   ]
  },
  {
   "cell_type": "code",
   "execution_count": 16,
   "metadata": {},
   "outputs": [
    {
     "name": "stdout",
     "output_type": "stream",
     "text": [
      "[CLS] how is the bass? [SEP] i have had koss headphones in the past, pro 4aa and qz - 99. the koss portapro is portable and has great bass response. the work great with my android phone and can be \" rolled up \" to be carried in my motorcycle jacket or computer bag without getting crunched. they are very light and do not feel heavy or bear down on your ears even after listening to music with them on all day. the sound is [SEP] \n",
      "\n",
      "[CLS] how is the bass? [SEP] and do not feel heavy or bear down on your ears even after listening to music with them on all day. the sound is night and day better than any ear - bud could be and are almost as good as the pro 4aa. they are \" open air \" headphones so you cannot match the bass to the sealed types, but it comes close. for $ 32, you cannot go wrong. [SEP] \n",
      "\n"
     ]
    }
   ],
   "source": [
    "for window in tokenized_example[\"input_ids\"]:\n",
    "  print(f\"{tokenizer.decode(window)} \\n\")\n",
    "  "
   ]
  },
  {
   "cell_type": "code",
   "execution_count": 17,
   "metadata": {},
   "outputs": [
    {
     "name": "stdout",
     "output_type": "stream",
     "text": [
      "huggingface/tokenizers: The current process just got forked, after parallelism has already been used. Disabling parallelism to avoid deadlocks...\n",
      "To disable this warning, you can either:\n",
      "\t- Avoid using `tokenizers` before the fork if possible\n",
      "\t- Explicitly set the environment variable TOKENIZERS_PARALLELISM=(true | false)\n",
      "huggingface/tokenizers: The current process just got forked, after parallelism has already been used. Disabling parallelism to avoid deadlocks...\n",
      "To disable this warning, you can either:\n",
      "\t- Avoid using `tokenizers` before the fork if possible\n",
      "\t- Explicitly set the environment variable TOKENIZERS_PARALLELISM=(true | false)\n"
     ]
    }
   ],
   "source": [
    "# on Linux\n",
    "url = \"\"\"https://artifacts.elastic.co/downloads/elasticsearch/elasticsearch-7.9.2-linux-x86_64.tar.gz\"\"\"\n",
    "!wget -nc -q {url}\n",
    "!tar -xzf elasticsearch-7.9.2-linux-x86_64.tar.gz"
   ]
  },
  {
   "cell_type": "code",
   "execution_count": 18,
   "metadata": {},
   "outputs": [
    {
     "name": "stdout",
     "output_type": "stream",
     "text": [
      "huggingface/tokenizers: The current process just got forked, after parallelism has already been used. Disabling parallelism to avoid deadlocks...\n",
      "To disable this warning, you can either:\n",
      "\t- Avoid using `tokenizers` before the fork if possible\n",
      "\t- Explicitly set the environment variable TOKENIZERS_PARALLELISM=(true | false)\n",
      "huggingface/tokenizers: The current process just got forked, after parallelism has already been used. Disabling parallelism to avoid deadlocks...\n",
      "To disable this warning, you can either:\n",
      "\t- Avoid using `tokenizers` before the fork if possible\n",
      "\t- Explicitly set the environment variable TOKENIZERS_PARALLELISM=(true | false)\n",
      "huggingface/tokenizers: The current process just got forked, after parallelism has already been used. Disabling parallelism to avoid deadlocks...\n",
      "To disable this warning, you can either:\n",
      "\t- Avoid using `tokenizers` before the fork if possible\n",
      "\t- Explicitly set the environment variable TOKENIZERS_PARALLELISM=(true | false)\n"
     ]
    }
   ],
   "source": [
    "\"\"\"\n",
    "It seems that you are trying to run Elasticsearch as a background process and change the user and group ownership of the Elasticsearch directory to daemon using the chown command. However, in the preexec_fn parameter of the Popen function, you are trying to set the user ID of the current process to 1 using os.setuid(1). This could be causing the SubprocessError: Exception occurred in preexec_fn error. Can you try removing the preexec_fn parameter and see if that resolves the issue?\n",
    "\"\"\"\n",
    "\n",
    "import os \n",
    "from subprocess import Popen, PIPE, STDOUT \n",
    "\n",
    "# Run Elasticsearch as a background process \n",
    "!chown -R jim:jim elasticsearch-7.9.2 \n",
    "es_server = Popen(args=['elasticsearch-7.9.2/bin/elasticsearch'], \n",
    "                  stdout=PIPE, stderr=STDOUT) #, preexec_fn=lambda: os.setuid(1))\n",
    "# Wait until Elasticsearch has started \n",
    "!sleep 30"
   ]
  },
  {
   "cell_type": "code",
   "execution_count": 19,
   "metadata": {},
   "outputs": [],
   "source": [
    "# es_server.terminate()"
   ]
  },
  {
   "cell_type": "code",
   "execution_count": 20,
   "metadata": {},
   "outputs": [
    {
     "name": "stdout",
     "output_type": "stream",
     "text": [
      "huggingface/tokenizers: The current process just got forked, after parallelism has already been used. Disabling parallelism to avoid deadlocks...\n",
      "To disable this warning, you can either:\n",
      "\t- Avoid using `tokenizers` before the fork if possible\n",
      "\t- Explicitly set the environment variable TOKENIZERS_PARALLELISM=(true | false)\n",
      "{\n",
      "  \"name\" : \"Ubuntu\",\n",
      "  \"cluster_name\" : \"elasticsearch\",\n",
      "  \"cluster_uuid\" : \"MI92LZckQX2QZkIq13QU5g\",\n",
      "  \"version\" : {\n",
      "    \"number\" : \"7.9.2\",\n",
      "    \"build_flavor\" : \"default\",\n",
      "    \"build_type\" : \"tar\",\n",
      "    \"build_hash\" : \"d34da0ea4a966c4e49417f2da2f244e3e97b4e6e\",\n",
      "    \"build_date\" : \"2020-09-23T00:45:33.626720Z\",\n",
      "    \"build_snapshot\" : false,\n",
      "    \"lucene_version\" : \"8.6.2\",\n",
      "    \"minimum_wire_compatibility_version\" : \"6.8.0\",\n",
      "    \"minimum_index_compatibility_version\" : \"6.0.0-beta1\"\n",
      "  },\n",
      "  \"tagline\" : \"You Know, for Search\"\n",
      "}\n"
     ]
    }
   ],
   "source": [
    "!curl -X GET \"localhost:9200/?pretty\" "
   ]
  },
  {
   "cell_type": "code",
   "execution_count": 21,
   "metadata": {},
   "outputs": [],
   "source": [
    "# !pip install --upgrade pip\n",
    "# !pip install 'farm-haystack[all]' ## or 'all-gpu' for the GPU-enabled dependencies"
   ]
  },
  {
   "cell_type": "code",
   "execution_count": 22,
   "metadata": {},
   "outputs": [
    {
     "name": "stdout",
     "output_type": "stream",
     "text": [
      "huggingface/tokenizers: The current process just got forked, after parallelism has already been used. Disabling parallelism to avoid deadlocks...\n",
      "To disable this warning, you can either:\n",
      "\t- Avoid using `tokenizers` before the fork if possible\n",
      "\t- Explicitly set the environment variable TOKENIZERS_PARALLELISM=(true | false)\n",
      "huggingface/tokenizers: The current process just got forked, after parallelism has already been used. Disabling parallelism to avoid deadlocks...\n",
      "To disable this warning, you can either:\n",
      "\t- Avoid using `tokenizers` before the fork if possible\n",
      "\t- Explicitly set the environment variable TOKENIZERS_PARALLELISM=(true | false)\n"
     ]
    }
   ],
   "source": [
    "\"\"\"\n",
    "in versions 1.x of Haystack, the import changed from\n",
    "from haystack.document_store... to from haystack.document_stores....\n",
    "\"\"\"\n",
    "\n",
    "from haystack.document_stores.elasticsearch import ElasticsearchDocumentStore\n",
    "\n",
    "# return the document embedding for later use with dense retriever\n",
    "document_store = ElasticsearchDocumentStore(return_embedding=True)\n",
    "\n"
   ]
  },
  {
   "cell_type": "code",
   "execution_count": 23,
   "metadata": {},
   "outputs": [],
   "source": [
    "# it's a good idea to flush elasticsearch with each notebook restart\n",
    "if len(document_store.get_all_documents()) or len(document_store.get_all_labels()) > 0:\n",
    "  document_store.delete_documents(index=\"document\")\n",
    "  document_store.delete_documents(index=\"label\")"
   ]
  },
  {
   "cell_type": "code",
   "execution_count": 24,
   "metadata": {},
   "outputs": [
    {
     "name": "stdout",
     "output_type": "stream",
     "text": [
      "Loaded 1615 documents\n"
     ]
    }
   ],
   "source": [
    "for split, df in dfs.items():\n",
    "  # exclude duplicate reviews\n",
    "  docs = [{\"content\": row[\"context\"], \"id\": row[\"review_id\"], \n",
    "           \"meta\": {\"item_id\": row[\"title\"], \"question_id\": row[\"id\"], \n",
    "                    \"split\": split}}\n",
    "          for _,row in df.drop_duplicates(subset=\"context\").iterrows()]\n",
    "  document_store.write_documents(documents=docs, index=\"document\")\n",
    "\n",
    "print(f\"Loaded {document_store.get_document_count()} documents\")\n"
   ]
  },
  {
   "cell_type": "code",
   "execution_count": 25,
   "metadata": {},
   "outputs": [
    {
     "name": "stdout",
     "output_type": "stream",
     "text": [
      "<Document: id=4a6aa9c7808ebba8d35aeecbcc3c30fe, content='This is a gift to myself.  I have been a kindle user for 4 years and this is my third one.  I never ...'>\n"
     ]
    }
   ],
   "source": [
    "from haystack.nodes.retriever import BM25Retriever\n",
    "\n",
    "bm25_retriever = BM25Retriever(document_store=document_store)\n",
    "\n",
    "item_id = \"B0074BW614\"\n",
    "query = \"Is it good for reading?\"\n",
    "retrieved_docs = bm25_retriever.retrieve(\n",
    "    query=query, \n",
    "    top_k=3, \n",
    "    filters={\"item_id\": [item_id], \n",
    "             \"split\": [\"train\"]})\n",
    "print(retrieved_docs[0])\n"
   ]
  },
  {
   "cell_type": "code",
   "execution_count": 26,
   "metadata": {},
   "outputs": [
    {
     "name": "stderr",
     "output_type": "stream",
     "text": [
      "/home/jim/anaconda3/envs/cvml/lib/python3.9/site-packages/torch/_utils.py:776: UserWarning: TypedStorage is deprecated. It will be removed in the future and UntypedStorage will be the only storage class. This should only matter to you if you are using storages directly.  To access UntypedStorage directly, use tensor.untyped_storage() instead of tensor.storage()\n",
      "  return self.fget.__get__(instance, owner)()\n"
     ]
    },
    {
     "name": "stdout",
     "output_type": "stream",
     "text": [
      "{'query': 'How much music can this hold?', 'no_ans_gap': 12.648090839385986, 'answers': [<Answer {'answer': '6000 hours', 'type': 'extractive', 'score': 0.5293056964874268, 'context': 'An MP3 is about 1 MB/minute, so about 6000 hours depending on file size.', 'offsets_in_document': [{'start': 38, 'end': 48}], 'offsets_in_context': [{'start': 38, 'end': 48}], 'document_ids': ['e344757014e804eff50faa3ecf1c9c75'], 'meta': {}}>]}\n"
     ]
    }
   ],
   "source": [
    "from haystack.nodes import FARMReader \n",
    "\n",
    "model_ckpt = \"deepset/minilm-uncased-squad2\"\n",
    "max_seq_length, doc_stride = 384, 128\n",
    "reader = FARMReader(model_name_or_path=model_ckpt, progress_bar=False, \n",
    "                    max_seq_len=max_seq_length, doc_stride=doc_stride, \n",
    "                    return_no_answer=True)\n",
    "print(reader.predict_on_texts(question=question, texts=[context], top_k=1))\n"
   ]
  },
  {
   "cell_type": "code",
   "execution_count": 27,
   "metadata": {},
   "outputs": [
    {
     "name": "stdout",
     "output_type": "stream",
     "text": [
      "Question: Is it good for reading? \n",
      "\n",
      "Answer 1: it is great for reading books when no light is available\n",
      "Review snippet: ...ecoming addicted to hers! Our son LOVES it and it is great for reading books when no light is available. Amazing sound but I suggest good headphones t...\n",
      "\n",
      "\n",
      "\n",
      "Answer 2: I mainly use it for book reading\n",
      "Review snippet: ... is my third one.  I never thought I would want a fire for I mainly use it for book reading.  I decided to try the fire for when I travel I take my la...\n",
      "\n",
      "\n",
      "\n",
      "Answer 3: \n",
      "Review snippet: ...None...\n",
      "\n",
      "\n",
      "\n"
     ]
    }
   ],
   "source": [
    "from haystack.pipelines import ExtractiveQAPipeline\n",
    "\n",
    "pipe = ExtractiveQAPipeline(reader=reader, retriever=bm25_retriever)\n",
    "\n",
    "n_answers = 3\n",
    "preds = pipe.run(query=query, \n",
    "                 params={\"Retriever\": {\"top_k\": 3, \n",
    "                                       \"filters\": {\"item_id\": [item_id], \n",
    "                                                   \"split\": [\"train\"]}}, \n",
    "                         \"Reader\": {\"top_k\": n_answers}})\n",
    "\n",
    "print(f\"Question: {preds['query']} \\n\")\n",
    "\n",
    "for idx in range(n_answers):\n",
    "  print(f\"Answer {idx+1}: {preds['answers'][idx].answer}\")\n",
    "  print(f\"Review snippet: ...{preds['answers'][idx].context}...\")\n",
    "  print(\"\\n\\n\")\n"
   ]
  },
  {
   "cell_type": "code",
   "execution_count": 28,
   "metadata": {},
   "outputs": [],
   "source": [
    "from haystack.pipelines import DocumentSearchPipeline\n",
    "\n",
    "pipe = DocumentSearchPipeline(retriever=bm25_retriever)"
   ]
  },
  {
   "cell_type": "code",
   "execution_count": 29,
   "metadata": {},
   "outputs": [],
   "source": [
    "from haystack import Label, Answer, Document\n",
    "\n",
    "labels = []\n",
    "for i, row in dfs[\"test\"].iterrows():\n",
    "  # Metadata used for filtering in the Retriever\n",
    "  meta = {\"item_id\": row[\"title\"], \"question_id\": row[\"id\"]}\n",
    "  # Populate labels for questions with answers\n",
    "  if len(row[\"answers.text\"]):\n",
    "    for answer in row[\"answers.text\"]:\n",
    "      label = Label(\n",
    "          query=row[\"question\"], \n",
    "          answer=Answer(answer=answer), \n",
    "          origin=\"gold-label\", \n",
    "          document=Document(content=row[\"context\"], id=row[\"review_id\"]),\n",
    "          meta=meta, \n",
    "          is_correct_answer=True, \n",
    "          is_correct_document=True,\n",
    "          no_answer=False, \n",
    "          filters={\"item_id\": [meta[\"item_id\"]], \"split\":[\"test\"]})\n",
    "      labels.append(label)\n",
    "  # Populate labels for questions without answers\n",
    "  else:\n",
    "    label = Label(\n",
    "        query=row[\"question\"], \n",
    "        answer=Answer(answer=\"\"), \n",
    "        origin=\"gold-label\", \n",
    "        document=Document(content=row[\"context\"], id=row[\"review_id\"]),\n",
    "        meta=meta, \n",
    "        is_correct_answer=True, \n",
    "        is_correct_document=True,\n",
    "        no_answer=True, \n",
    "        filters={\"item_id\": [row[\"title\"]], \"split\":[\"test\"]})  \n",
    "    labels.append(label)"
   ]
  },
  {
   "cell_type": "code",
   "execution_count": 30,
   "metadata": {},
   "outputs": [
    {
     "name": "stdout",
     "output_type": "stream",
     "text": [
      "Loaded 455     question-answer pairs\n"
     ]
    }
   ],
   "source": [
    "document_store.write_labels(labels, index=\"label\")\n",
    "\n",
    "print(f\"\"\"Loaded {document_store.get_label_count(index=\"label\")} \\\n",
    "    question-answer pairs\"\"\")"
   ]
  },
  {
   "cell_type": "code",
   "execution_count": 31,
   "metadata": {},
   "outputs": [
    {
     "name": "stdout",
     "output_type": "stream",
     "text": [
      "330\n"
     ]
    }
   ],
   "source": [
    "labels_agg = document_store.get_all_labels_aggregated(\n",
    "    index=\"label\", \n",
    "    open_domain=True, \n",
    "    aggregate_by_meta=[\"item_id\"])\n",
    "print(len(labels_agg))\n"
   ]
  },
  {
   "cell_type": "code",
   "execution_count": 32,
   "metadata": {},
   "outputs": [
    {
     "name": "stdout",
     "output_type": "stream",
     "text": [
      "Recall@3: 0.96\n"
     ]
    }
   ],
   "source": [
    "# We can run the pipeline with the desired top_k value like this \n",
    "eval_result = pipe.eval(\n",
    "    labels=labels_agg, \n",
    "    params={\"Retriever\": {\"top_k\": 3}}, \n",
    ")\n",
    "metrics = eval_result.calculate_metrics()\n",
    "print(f\"Recall@3: {metrics['Retriever']['recall_single_hit']:.2f}\")\n"
   ]
  },
  {
   "cell_type": "code",
   "execution_count": 33,
   "metadata": {},
   "outputs": [
    {
     "data": {
      "text/html": [
       "<div>\n",
       "<style scoped>\n",
       "    .dataframe tbody tr th:only-of-type {\n",
       "        vertical-align: middle;\n",
       "    }\n",
       "\n",
       "    .dataframe tbody tr th {\n",
       "        vertical-align: top;\n",
       "    }\n",
       "\n",
       "    .dataframe thead th {\n",
       "        text-align: right;\n",
       "    }\n",
       "</style>\n",
       "<table border=\"1\" class=\"dataframe\">\n",
       "  <thead>\n",
       "    <tr style=\"text-align: right;\">\n",
       "      <th></th>\n",
       "      <th>multilabel_id</th>\n",
       "      <th>query</th>\n",
       "      <th>filters</th>\n",
       "      <th>gold_answers</th>\n",
       "      <th>context</th>\n",
       "      <th>gold_contexts</th>\n",
       "      <th>gold_id_match</th>\n",
       "      <th>context_match</th>\n",
       "      <th>answer_match</th>\n",
       "      <th>gold_id_or_answer_match</th>\n",
       "      <th>...</th>\n",
       "      <th>rank</th>\n",
       "      <th>document_id</th>\n",
       "      <th>gold_document_ids</th>\n",
       "      <th>gold_documents_id_match</th>\n",
       "      <th>gold_contexts_similarity</th>\n",
       "      <th>gold_answers_match</th>\n",
       "      <th>type</th>\n",
       "      <th>node</th>\n",
       "      <th>eval_mode</th>\n",
       "      <th>index</th>\n",
       "    </tr>\n",
       "  </thead>\n",
       "  <tbody>\n",
       "    <tr>\n",
       "      <th>0</th>\n",
       "      <td>aaa91c394ba2060b8d71016680661d9f</td>\n",
       "      <td>How do you like the lens?</td>\n",
       "      <td>b'{\"item_id\": [\"B00006I53S\"], \"split\": [\"test\"]}'</td>\n",
       "      <td>[I do recommend this lens]</td>\n",
       "      <td>I bought this lens for my Canon 20D digital camera and have found it to be a...</td>\n",
       "      <td>[I bought this lens for my Canon 20D digital camera and have found it to be ...</td>\n",
       "      <td>1.0</td>\n",
       "      <td>1.0</td>\n",
       "      <td>1.0</td>\n",
       "      <td>1.0</td>\n",
       "      <td>...</td>\n",
       "      <td>1.0</td>\n",
       "      <td>fac2e8bec06035a70307dd1e8034ea63</td>\n",
       "      <td>[fac2e8bec06035a70307dd1e8034ea63]</td>\n",
       "      <td>[1.0]</td>\n",
       "      <td>[100.0]</td>\n",
       "      <td>[1.0]</td>\n",
       "      <td>document</td>\n",
       "      <td>Retriever</td>\n",
       "      <td>integrated</td>\n",
       "      <td>0</td>\n",
       "    </tr>\n",
       "    <tr>\n",
       "      <th>1</th>\n",
       "      <td>aaa91c394ba2060b8d71016680661d9f</td>\n",
       "      <td>How do you like the lens?</td>\n",
       "      <td>b'{\"item_id\": [\"B00006I53S\"], \"split\": [\"test\"]}'</td>\n",
       "      <td>[I do recommend this lens]</td>\n",
       "      <td>I am not a professional or expert photographer...so take these comments with...</td>\n",
       "      <td>[I bought this lens for my Canon 20D digital camera and have found it to be ...</td>\n",
       "      <td>0.0</td>\n",
       "      <td>0.0</td>\n",
       "      <td>0.0</td>\n",
       "      <td>0.0</td>\n",
       "      <td>...</td>\n",
       "      <td>2.0</td>\n",
       "      <td>26bf35fe7f9a73d28535d5072ab17714</td>\n",
       "      <td>[fac2e8bec06035a70307dd1e8034ea63]</td>\n",
       "      <td>[0.0]</td>\n",
       "      <td>[44.576405384006335]</td>\n",
       "      <td>[0.0]</td>\n",
       "      <td>document</td>\n",
       "      <td>Retriever</td>\n",
       "      <td>integrated</td>\n",
       "      <td>1</td>\n",
       "    </tr>\n",
       "    <tr>\n",
       "      <th>0</th>\n",
       "      <td>146534b272300399201f19da0593f724</td>\n",
       "      <td>How do you like the lens?</td>\n",
       "      <td>b'{\"item_id\": [\"B00007E7JU\"], \"split\": [\"test\"]}'</td>\n",
       "      <td>[]</td>\n",
       "      <td>I think that the title says it all. It is one of the cheapest lens on the ma...</td>\n",
       "      <td>[]</td>\n",
       "      <td>0.0</td>\n",
       "      <td>0.0</td>\n",
       "      <td>0.0</td>\n",
       "      <td>0.0</td>\n",
       "      <td>...</td>\n",
       "      <td>1.0</td>\n",
       "      <td>9cae133919a2dc476c371cde9e5effb8</td>\n",
       "      <td>[]</td>\n",
       "      <td>[]</td>\n",
       "      <td>[]</td>\n",
       "      <td>[0.0]</td>\n",
       "      <td>document</td>\n",
       "      <td>Retriever</td>\n",
       "      <td>integrated</td>\n",
       "      <td>0</td>\n",
       "    </tr>\n",
       "    <tr>\n",
       "      <th>1</th>\n",
       "      <td>146534b272300399201f19da0593f724</td>\n",
       "      <td>How do you like the lens?</td>\n",
       "      <td>b'{\"item_id\": [\"B00007E7JU\"], \"split\": [\"test\"]}'</td>\n",
       "      <td>[]</td>\n",
       "      <td>I bough this lens for a relative who bought my old canon rebel xti from me (...</td>\n",
       "      <td>[]</td>\n",
       "      <td>0.0</td>\n",
       "      <td>0.0</td>\n",
       "      <td>0.0</td>\n",
       "      <td>0.0</td>\n",
       "      <td>...</td>\n",
       "      <td>2.0</td>\n",
       "      <td>a1f6e39766a79f1475b3dbe07e517e04</td>\n",
       "      <td>[]</td>\n",
       "      <td>[]</td>\n",
       "      <td>[]</td>\n",
       "      <td>[0.0]</td>\n",
       "      <td>document</td>\n",
       "      <td>Retriever</td>\n",
       "      <td>integrated</td>\n",
       "      <td>1</td>\n",
       "    </tr>\n",
       "    <tr>\n",
       "      <th>2</th>\n",
       "      <td>146534b272300399201f19da0593f724</td>\n",
       "      <td>How do you like the lens?</td>\n",
       "      <td>b'{\"item_id\": [\"B00007E7JU\"], \"split\": [\"test\"]}'</td>\n",
       "      <td>[]</td>\n",
       "      <td>I fell in love with the lens the moment I started using it. sure, the build ...</td>\n",
       "      <td>[]</td>\n",
       "      <td>0.0</td>\n",
       "      <td>0.0</td>\n",
       "      <td>0.0</td>\n",
       "      <td>0.0</td>\n",
       "      <td>...</td>\n",
       "      <td>3.0</td>\n",
       "      <td>0fc71a2e4ec350e845ed384717792ad8</td>\n",
       "      <td>[]</td>\n",
       "      <td>[]</td>\n",
       "      <td>[]</td>\n",
       "      <td>[0.0]</td>\n",
       "      <td>document</td>\n",
       "      <td>Retriever</td>\n",
       "      <td>integrated</td>\n",
       "      <td>2</td>\n",
       "    </tr>\n",
       "    <tr>\n",
       "      <th>0</th>\n",
       "      <td>f2a3d71cf9b19a31dadde09d82e76f5a</td>\n",
       "      <td>How do you like the lens?</td>\n",
       "      <td>b'{\"item_id\": [\"B0025EWXEU\"], \"split\": [\"test\"]}'</td>\n",
       "      <td>[than you're used to compared to Nikon or Zeiss lenses, I have read a lot of...</td>\n",
       "      <td>I have read a lot of negative press about this lens, but I have to tell you ...</td>\n",
       "      <td>[I have read a lot of negative press about this lens, but I have to tell you...</td>\n",
       "      <td>1.0</td>\n",
       "      <td>1.0</td>\n",
       "      <td>1.0</td>\n",
       "      <td>1.0</td>\n",
       "      <td>...</td>\n",
       "      <td>1.0</td>\n",
       "      <td>47f76b8f62cf296d394d993741d660aa</td>\n",
       "      <td>[47f76b8f62cf296d394d993741d660aa, 47f76b8f62cf296d394d993741d660aa]</td>\n",
       "      <td>[1.0, 1.0]</td>\n",
       "      <td>[100.0, 100.0]</td>\n",
       "      <td>[1.0, 1.0]</td>\n",
       "      <td>document</td>\n",
       "      <td>Retriever</td>\n",
       "      <td>integrated</td>\n",
       "      <td>0</td>\n",
       "    </tr>\n",
       "  </tbody>\n",
       "</table>\n",
       "<p>6 rows × 25 columns</p>\n",
       "</div>"
      ],
      "text/plain": [
       "                      multilabel_id                      query   \n",
       "0  aaa91c394ba2060b8d71016680661d9f  How do you like the lens?  \\\n",
       "1  aaa91c394ba2060b8d71016680661d9f  How do you like the lens?   \n",
       "0  146534b272300399201f19da0593f724  How do you like the lens?   \n",
       "1  146534b272300399201f19da0593f724  How do you like the lens?   \n",
       "2  146534b272300399201f19da0593f724  How do you like the lens?   \n",
       "0  f2a3d71cf9b19a31dadde09d82e76f5a  How do you like the lens?   \n",
       "\n",
       "                                             filters   \n",
       "0  b'{\"item_id\": [\"B00006I53S\"], \"split\": [\"test\"]}'  \\\n",
       "1  b'{\"item_id\": [\"B00006I53S\"], \"split\": [\"test\"]}'   \n",
       "0  b'{\"item_id\": [\"B00007E7JU\"], \"split\": [\"test\"]}'   \n",
       "1  b'{\"item_id\": [\"B00007E7JU\"], \"split\": [\"test\"]}'   \n",
       "2  b'{\"item_id\": [\"B00007E7JU\"], \"split\": [\"test\"]}'   \n",
       "0  b'{\"item_id\": [\"B0025EWXEU\"], \"split\": [\"test\"]}'   \n",
       "\n",
       "                                                                      gold_answers   \n",
       "0                                                       [I do recommend this lens]  \\\n",
       "1                                                       [I do recommend this lens]   \n",
       "0                                                                               []   \n",
       "1                                                                               []   \n",
       "2                                                                               []   \n",
       "0  [than you're used to compared to Nikon or Zeiss lenses, I have read a lot of...   \n",
       "\n",
       "                                                                           context   \n",
       "0  I bought this lens for my Canon 20D digital camera and have found it to be a...  \\\n",
       "1  I am not a professional or expert photographer...so take these comments with...   \n",
       "0  I think that the title says it all. It is one of the cheapest lens on the ma...   \n",
       "1  I bough this lens for a relative who bought my old canon rebel xti from me (...   \n",
       "2  I fell in love with the lens the moment I started using it. sure, the build ...   \n",
       "0  I have read a lot of negative press about this lens, but I have to tell you ...   \n",
       "\n",
       "                                                                     gold_contexts   \n",
       "0  [I bought this lens for my Canon 20D digital camera and have found it to be ...  \\\n",
       "1  [I bought this lens for my Canon 20D digital camera and have found it to be ...   \n",
       "0                                                                               []   \n",
       "1                                                                               []   \n",
       "2                                                                               []   \n",
       "0  [I have read a lot of negative press about this lens, but I have to tell you...   \n",
       "\n",
       "   gold_id_match  context_match  answer_match  gold_id_or_answer_match  ...   \n",
       "0            1.0            1.0           1.0                      1.0  ...  \\\n",
       "1            0.0            0.0           0.0                      0.0  ...   \n",
       "0            0.0            0.0           0.0                      0.0  ...   \n",
       "1            0.0            0.0           0.0                      0.0  ...   \n",
       "2            0.0            0.0           0.0                      0.0  ...   \n",
       "0            1.0            1.0           1.0                      1.0  ...   \n",
       "\n",
       "   rank                       document_id   \n",
       "0   1.0  fac2e8bec06035a70307dd1e8034ea63  \\\n",
       "1   2.0  26bf35fe7f9a73d28535d5072ab17714   \n",
       "0   1.0  9cae133919a2dc476c371cde9e5effb8   \n",
       "1   2.0  a1f6e39766a79f1475b3dbe07e517e04   \n",
       "2   3.0  0fc71a2e4ec350e845ed384717792ad8   \n",
       "0   1.0  47f76b8f62cf296d394d993741d660aa   \n",
       "\n",
       "                                                      gold_document_ids   \n",
       "0                                    [fac2e8bec06035a70307dd1e8034ea63]  \\\n",
       "1                                    [fac2e8bec06035a70307dd1e8034ea63]   \n",
       "0                                                                    []   \n",
       "1                                                                    []   \n",
       "2                                                                    []   \n",
       "0  [47f76b8f62cf296d394d993741d660aa, 47f76b8f62cf296d394d993741d660aa]   \n",
       "\n",
       "   gold_documents_id_match  gold_contexts_similarity  gold_answers_match   \n",
       "0                    [1.0]                   [100.0]               [1.0]  \\\n",
       "1                    [0.0]      [44.576405384006335]               [0.0]   \n",
       "0                       []                        []               [0.0]   \n",
       "1                       []                        []               [0.0]   \n",
       "2                       []                        []               [0.0]   \n",
       "0               [1.0, 1.0]            [100.0, 100.0]          [1.0, 1.0]   \n",
       "\n",
       "       type       node   eval_mode index  \n",
       "0  document  Retriever  integrated     0  \n",
       "1  document  Retriever  integrated     1  \n",
       "0  document  Retriever  integrated     0  \n",
       "1  document  Retriever  integrated     1  \n",
       "2  document  Retriever  integrated     2  \n",
       "0  document  Retriever  integrated     0  \n",
       "\n",
       "[6 rows x 25 columns]"
      ]
     },
     "execution_count": 33,
     "metadata": {},
     "output_type": "execute_result"
    }
   ],
   "source": [
    "eval_df = eval_result[\"Retriever\"]\n",
    "eval_df[eval_df[\"query\"] == \"How do you like the lens?\"] "
   ]
  },
  {
   "cell_type": "code",
   "execution_count": 34,
   "metadata": {},
   "outputs": [
    {
     "name": "stderr",
     "output_type": "stream",
     "text": [
      "/home/jim/anaconda3/envs/cvml/lib/python3.9/site-packages/haystack/schema.py:1414: SettingWithCopyWarning: \n",
      "A value is trying to be set on a copy of a slice from a DataFrame.\n",
      "Try using .loc[row_indexer,col_indexer] = value instead\n",
      "\n",
      "See the caveats in the documentation: https://pandas.pydata.org/pandas-docs/stable/user_guide/indexing.html#returning-a-view-versus-a-copy\n",
      "  documents[\"matched_label_idxs\"] = documents.apply(find_matched_label_idxs, axis=1)\n",
      "/home/jim/anaconda3/envs/cvml/lib/python3.9/site-packages/haystack/schema.py:1414: SettingWithCopyWarning: \n",
      "A value is trying to be set on a copy of a slice from a DataFrame.\n",
      "Try using .loc[row_indexer,col_indexer] = value instead\n",
      "\n",
      "See the caveats in the documentation: https://pandas.pydata.org/pandas-docs/stable/user_guide/indexing.html#returning-a-view-versus-a-copy\n",
      "  documents[\"matched_label_idxs\"] = documents.apply(find_matched_label_idxs, axis=1)\n",
      "/home/jim/anaconda3/envs/cvml/lib/python3.9/site-packages/haystack/schema.py:1414: SettingWithCopyWarning: \n",
      "A value is trying to be set on a copy of a slice from a DataFrame.\n",
      "Try using .loc[row_indexer,col_indexer] = value instead\n",
      "\n",
      "See the caveats in the documentation: https://pandas.pydata.org/pandas-docs/stable/user_guide/indexing.html#returning-a-view-versus-a-copy\n",
      "  documents[\"matched_label_idxs\"] = documents.apply(find_matched_label_idxs, axis=1)\n"
     ]
    }
   ],
   "source": [
    "def evaluate_retriever(retriever, topk_values=[1,3,5,10,20]):\n",
    "  topk_results = {}\n",
    "  # calculate max topk\n",
    "  max_top_k = max(topk_values)\n",
    "  # crate pipeline\n",
    "  p = DocumentSearchPipeline(retriever=retriever)\n",
    "  # run inference with max topk by looping over each queston-answers pair in the test set\n",
    "  eval_result = p.eval(\n",
    "      labels=labels_agg, \n",
    "      params={\"Retriever\": {\"top_k\": max_top_k}}\n",
    "  )\n",
    "  # calculate metric for each topk value\n",
    "  for topk in topk_values:\n",
    "    # get metrics\n",
    "    metrics = eval_result.calculate_metrics(simulated_top_k_retriever=topk)\n",
    "    topk_results[topk] = {\"recall\": metrics[\"Retriever\"][\"recall_single_hit\"]}\n",
    "\n",
    "  return pd.DataFrame.from_dict(topk_results, orient=\"index\") \n",
    "\n",
    "bm25_topk_df = evaluate_retriever(bm25_retriever)\n"
   ]
  },
  {
   "cell_type": "code",
   "execution_count": 35,
   "metadata": {},
   "outputs": [
    {
     "data": {
      "image/png": "[encoded data removed]",
      "text/plain": [
       "<Figure size 640x480 with 1 Axes>"
      ]
     },
     "metadata": {},
     "output_type": "display_data"
    }
   ],
   "source": [
    "def plot_retriever_eval(dfs, retriever_names):\n",
    "  fig, ax = plt.subplots()\n",
    "  for df, retriever_name in zip(dfs, retriever_names):\n",
    "    df.plot(y=\"recall\", ax=ax, label=retriever_name)\n",
    "  plt.xticks(df.index)\n",
    "  plt.ylabel(\"Top-k Recall\")\n",
    "  plt.xlabel(\"k\")\n",
    "  plt.show()\n",
    "  \n",
    "plot_retriever_eval([bm25_topk_df], [\"BM25\"])\n"
   ]
  },
  {
   "cell_type": "code",
   "execution_count": 36,
   "metadata": {},
   "outputs": [
    {
     "name": "stderr",
     "output_type": "stream",
     "text": [
      "The tokenizer class you load from this checkpoint is not the same type as the class this function is called from. It may result in unexpected tokenization. \n",
      "The tokenizer class you load from this checkpoint is 'DPRQuestionEncoderTokenizer'. \n",
      "The class this function is called from is 'DPRContextEncoderTokenizerFast'.\n"
     ]
    },
    {
     "data": {
      "application/vnd.jupyter.widget-view+json": {
       "model_id": "0a5a4e592c194196bcc1319b31e81e41",
       "version_major": 2,
       "version_minor": 0
      },
      "text/plain": [
       "Updating embeddings:   0%|          | 0/1615 [00:00<?, ? Docs/s]"
      ]
     },
     "metadata": {},
     "output_type": "display_data"
    },
    {
     "data": {
      "application/vnd.jupyter.widget-view+json": {
       "model_id": "e0ace3073e3b4437804e7e5176cf0b13",
       "version_major": 2,
       "version_minor": 0
      },
      "text/plain": [
       "Create embeddings:   0%|          | 0/1616 [00:00<?, ? Docs/s]"
      ]
     },
     "metadata": {},
     "output_type": "display_data"
    },
    {
     "name": "stderr",
     "output_type": "stream",
     "text": [
      "/home/jim/anaconda3/envs/cvml/lib/python3.9/site-packages/haystack/schema.py:1414: SettingWithCopyWarning: \n",
      "A value is trying to be set on a copy of a slice from a DataFrame.\n",
      "Try using .loc[row_indexer,col_indexer] = value instead\n",
      "\n",
      "See the caveats in the documentation: https://pandas.pydata.org/pandas-docs/stable/user_guide/indexing.html#returning-a-view-versus-a-copy\n",
      "  documents[\"matched_label_idxs\"] = documents.apply(find_matched_label_idxs, axis=1)\n",
      "/home/jim/anaconda3/envs/cvml/lib/python3.9/site-packages/haystack/schema.py:1414: SettingWithCopyWarning: \n",
      "A value is trying to be set on a copy of a slice from a DataFrame.\n",
      "Try using .loc[row_indexer,col_indexer] = value instead\n",
      "\n",
      "See the caveats in the documentation: https://pandas.pydata.org/pandas-docs/stable/user_guide/indexing.html#returning-a-view-versus-a-copy\n",
      "  documents[\"matched_label_idxs\"] = documents.apply(find_matched_label_idxs, axis=1)\n",
      "/home/jim/anaconda3/envs/cvml/lib/python3.9/site-packages/haystack/schema.py:1414: SettingWithCopyWarning: \n",
      "A value is trying to be set on a copy of a slice from a DataFrame.\n",
      "Try using .loc[row_indexer,col_indexer] = value instead\n",
      "\n",
      "See the caveats in the documentation: https://pandas.pydata.org/pandas-docs/stable/user_guide/indexing.html#returning-a-view-versus-a-copy\n",
      "  documents[\"matched_label_idxs\"] = documents.apply(find_matched_label_idxs, axis=1)\n"
     ]
    },
    {
     "data": {
      "image/png": "[encoded data removed]",
      "text/plain": [
       "<Figure size 640x480 with 1 Axes>"
      ]
     },
     "metadata": {},
     "output_type": "display_data"
    }
   ],
   "source": [
    "from haystack.nodes import DensePassageRetriever\n",
    "\n",
    "dpr_retriever = DensePassageRetriever(\n",
    "    document_store=document_store, \n",
    "    query_embedding_model=\"facebook/dpr-question_encoder-single-nq-base\", \n",
    "    passage_embedding_model=\"facebook/dpr-ctx_encoder-single-nq-base\", \n",
    "    embed_title=False)\n",
    "document_store.update_embeddings(retriever=dpr_retriever)\n",
    "dpr_topk_df = evaluate_retriever(dpr_retriever)\n",
    "plot_retriever_eval([bm25_topk_df, dpr_topk_df], [\"BM25\", \"DPR\"])\n"
   ]
  },
  {
   "cell_type": "code",
   "execution_count": 37,
   "metadata": {},
   "outputs": [
    {
     "name": "stdout",
     "output_type": "stream",
     "text": [
      "EM: 0\n",
      "F1: 0.8\n"
     ]
    }
   ],
   "source": [
    "from haystack.modeling.evaluation.squad import compute_f1, compute_exact\n",
    "\n",
    "pred = \"about 6000 hours\"\n",
    "label = \"6000 hours\"\n",
    "print(f\"EM: {compute_exact(label, pred)}\")\n",
    "print(f\"F1: {compute_f1(label, pred)}\")\n"
   ]
  },
  {
   "cell_type": "code",
   "execution_count": 38,
   "metadata": {},
   "outputs": [
    {
     "name": "stdout",
     "output_type": "stream",
     "text": [
      "EM: 0\n",
      "F1: 0.4\n"
     ]
    }
   ],
   "source": [
    "pred = \"about 6000 dollars\"\n",
    "print(f\"EM: {compute_exact(label, pred)}\")\n",
    "print(f\"F1: {compute_f1(label, pred)}\")\n"
   ]
  },
  {
   "cell_type": "code",
   "execution_count": 39,
   "metadata": {},
   "outputs": [],
   "source": [
    "from haystack.pipelines import Pipeline \n",
    "def evaluate_reader(reader):\n",
    "  score_keys = ['exact_match', 'f1']\n",
    "  p = Pipeline()\n",
    "  p.add_node(component=reader, name=\"Reader\", inputs=[\"Query\"])\n",
    "\n",
    "  eval_result = p.eval(\n",
    "      labels=labels_agg, \n",
    "      documents=[[label.document for label in multilabel.labels] for multilabel in labels_agg], \n",
    "      params={},\n",
    "  )\n",
    "  metrics = eval_result.calculate_metrics(simulated_top_k_reader=1)\n",
    "\n",
    "  return {k:v for k,v in metrics[\"Reader\"].items() if k in score_keys}\n",
    "\n",
    "reader_eval = {}\n",
    "reader_eval[\"Fine-tune on SQuAD\"] = evaluate_reader(reader)\n"
   ]
  },
  {
   "cell_type": "code",
   "execution_count": 40,
   "metadata": {},
   "outputs": [
    {
     "data": {
      "image/png": "[encoded data removed]",
      "text/plain": [
       "<Figure size 640x480 with 1 Axes>"
      ]
     },
     "metadata": {},
     "output_type": "display_data"
    }
   ],
   "source": [
    "def plot_reader_eval(reader_eval):\n",
    "  fig, ax = plt.subplots()\n",
    "  df = pd.DataFrame.from_dict(reader_eval).reindex([\"exact_match\", \"f1\"])\n",
    "  df.plot(kind=\"bar\", ylabel=\"Score\", rot=0, ax=ax)\n",
    "  ax.set_xticklabels([\"EM\", \"F1\"])\n",
    "  plt.legend(loc=\"upper left\")\n",
    "  plt.show()\n",
    "  \n",
    "plot_reader_eval(reader_eval)\n"
   ]
  },
  {
   "cell_type": "code",
   "execution_count": 41,
   "metadata": {},
   "outputs": [],
   "source": [
    "def create_paragraphs(df):\n",
    "  paragraphs = []\n",
    "  id2context = dict(zip(df[\"review_id\"], df[\"context\"]))\n",
    "  for review_id, review in id2context.items():\n",
    "    qas = []\n",
    "    # Filter for all question-answer pairs about a specific context\n",
    "    review_df = df.query(f\"review_id == '{review_id}'\")\n",
    "    id2question = dict(zip(review_df[\"id\"], review_df[\"question\"]))\n",
    "    # Build up the qas array\n",
    "    for qid, question in id2question.items():\n",
    "      # Filter for a single question ID\n",
    "      question_df = df.query(f\"id == '{qid}'\").to_dict(orient=\"list\")\n",
    "      ans_start_idxs = question_df[\"answers.answer_start\"][0].tolist()\n",
    "      ans_text = question_df[\"answers.text\"][0].tolist()\n",
    "      # Fill answerable questions\n",
    "      if len(ans_start_idxs):\n",
    "        answers = [\n",
    "          {\"text\": text, \"answer_start\": answer_start}\n",
    "          for text, answer_start in zip(ans_text, ans_start_idxs)]\n",
    "        is_impossible = False\n",
    "      else:\n",
    "        answers = []\n",
    "        is_impossible = True\n",
    "      # Add question-answer pairs to qas\n",
    "      qas.append({\"question\": question, \"id\": qid, \n",
    "            \"is_impossible\": is_impossible, \"answers\": answers})\n",
    "    # Add context and question-answer pairs to paragraphs\n",
    "    paragraphs.append({\"qas\": qas, \"context\": review})\n",
    "  return paragraphs"
   ]
  },
  {
   "cell_type": "code",
   "execution_count": 42,
   "metadata": {},
   "outputs": [
    {
     "data": {
      "text/plain": [
       "[{'qas': [{'question': 'How is the bass?',\n",
       "    'id': '2543d296da9766d8d17d040ecc781699',\n",
       "    'is_impossible': True,\n",
       "    'answers': []}],\n",
       "  'context': 'I have had Koss headphones in the past, Pro 4AA and QZ-99.  The Koss Portapro is portable AND has great bass response.  The work great with my Android phone and can be \"rolled up\" to be carried in my motorcycle jacket or computer bag without getting crunched.  They are very light and do not feel heavy or bear down on your ears even after listening to music with them on all day.  The sound is night and day better than any ear-bud could be and are almost as good as the Pro 4AA.  They are \"open air\" headphones so you cannot match the bass to the sealed types, but it comes close. For $32, you cannot go wrong.'},\n",
       " {'qas': [{'question': 'Is this music song have a goo bass?',\n",
       "    'id': 'd476830bf9282e2b9033e2bb44bbb995',\n",
       "    'is_impossible': False,\n",
       "    'answers': [{'text': 'Bass is weak as expected', 'answer_start': 1302},\n",
       "     {'text': 'Bass is weak as expected, even with EQ adjusted up',\n",
       "      'answer_start': 1302}]}],\n",
       "  'context': 'To anyone who hasn\\'t tried all the various types of headphones, it is important to remember exactly what these are: cheap portable on-ear headphones. They give a totally different sound then in-ears or closed design phones, but for what they are I would say they\\'re good. I currently own six pairs of phones, from stock apple earbuds to Sennheiser HD 518s. Gave my Portapros a run on both my computer\\'s sound card and mp3 player, using 256 kbps mp3s or better. The clarity is good and they\\'re very lightweight. The folding design is simple but effective. The look is certainly retro and unique, although I didn\\'t find it as comfortable as many have claimed. Earpads are *very* thin and made my ears sore after 30 minutes of listening, although this can be remedied to a point by adjusting the \"comfort zone\" feature (tightening the temple pads while loosening the ear pads). The cord seems to be an average thickness, but I wouldn\\'t get too rough with these. The steel headband adjusts smoothly and easily, just watch out that the slider doesn\\'t catch your hair. Despite the sore ears, the phones are very lightweight overall.Back to the sound: as you would expect, it\\'s good for a portable phone, but hardly earth shattering. At flat EQ the clarity is good, although the highs can sometimes be harsh. Bass is weak as expected, even with EQ adjusted up. To be fair, a portable on-ear would have a tough time comparing to the bass of an in-ear with a good seal or a pair with larger drivers. No sound isolation offered if you\\'re into that sort of thing. Cool 80s phones, though I\\'ve certainly owned better portable on-ears (Sony makes excellent phones in this category). Soundstage is very narrow and lacks body. A good value if you can get them for under thirty, otherwise I\\'d rather invest in a nicer pair of phones. If we\\'re talking about value, they\\'re a good buy compared to new stock apple buds. If you\\'re trying to compare the sound quality of this product to serious headphones, there\\'s really no comparison at all.Update: After 100 hours of burn-in time the sound has not been affected in any appreciable way. Highs are still harsh, and bass is still underwhelming. I sometimes use these as a convenience but they have been largely replaced in my collection.'},\n",
       " {'qas': [{'question': 'How is the bass?',\n",
       "    'id': '455575557886d6dfeea5aa19577e5de4',\n",
       "    'is_impossible': False,\n",
       "    'answers': [{'text': 'The only fault in the sound is the bass',\n",
       "      'answer_start': 650}]}],\n",
       "  'context': \"I have had many sub-$100 headphones from $5 Panasonic to $100 Sony, with Sennheiser HD 433, 202, PX100 II (I really wanted to like these PX100-II, they were so very well designed), and even a Grado SR60 for awhile.  And what it basically comes down to is value.  I have never heard sound as good as these headphones in the $35 range, easily the best under $75.  I can't believe they're over 25 years old.It's hard to describe how much detail these headphones bring out without making it too harsh or dull.  I listen to every type of music from classical to hip hop to electronic to country, and these headphones are suitable for all types of music.  The only fault in the sound is the bass.  It's just a *slight* bit boomy, but you get to like it after a while to be honest.The design is from the 80s as you all have probably figured out.  It could use a update but it seems like Koss has tried to perfect this formula and failed in the past.  I don't really care about the looks or the way it folds up or the fact that my hair gets caught up in it (I have very short hair, even for a male).But despite it's design flaws, it's the most comfortable headphones I have ever worn, and the best part is that it's also the best sounding pair of headphones I have ever heard under $75.If you can get over the design flaws or if sound is the most important feature of headphones for you, there is nothing even close to this at this price range.This one is an absolute GEM.  I loved these so much I ordered two of the 25th Anniversary ones for a bit more.Update: I read some reviews about the PX100-II being much improved and better sounding than the PortaPro.  Since the PX100-II is relatively new, I thought I'd give it another listen.  This time I noticed something different.  The sound is warm, mellow, and neutral, but it loses a lot of detail at the expense of these attributes.  I still prefer higher-detail Portapro, but some may prefer the more mellow sound of the PX100-II.Oh by the way the Portapro comes in the straight plug now, not the angled plug anymore.  It's supposed to be for better compatibility with the iPods and iPhones out there.\"}]"
      ]
     },
     "execution_count": 42,
     "metadata": {},
     "output_type": "execute_result"
    }
   ],
   "source": [
    "product = dfs[\"train\"].query(\"title == 'B00001P4ZH'\")\n",
    "create_paragraphs(product)\n"
   ]
  },
  {
   "cell_type": "code",
   "execution_count": 43,
   "metadata": {},
   "outputs": [],
   "source": [
    "import json\n",
    "\n",
    "def convert_to_squad(dfs):\n",
    "  for split, df in dfs.items():\n",
    "    subjqa_data = {}\n",
    "    # Create `paragraphs` for each product ID\n",
    "    groups = (df.groupby(\"title\").apply(create_paragraphs)\n",
    "      .to_frame(name=\"paragraphs\").reset_index())\n",
    "    subjqa_data[\"data\"] = groups.to_dict(orient=\"records\")\n",
    "    # Save the result to disk\n",
    "    with open(f\"electronics-{split}.json\", \"w+\", encoding=\"utf-8\") as f:\n",
    "      json.dump(subjqa_data, f)\n",
    "      \n",
    "convert_to_squad(dfs)\n"
   ]
  },
  {
   "cell_type": "code",
   "execution_count": null,
   "metadata": {},
   "outputs": [],
   "source": [
    "train_filename = \"electronics-train.json\"\n",
    "dev_filename = \"electronics-validation.json\"\n",
    "\n",
    "reader.train(data_dir=\".\", use_gpu=True, n_epochs=1, batch_size=4, \n",
    "             train_filename=train_filename, dev_filename=dev_filename)\n",
    "reader_eval[\"Fine-tune on SQuAD + SubjQA\"] = evaluate_reader(reader)\n",
    "plot_reader_eval(reader_eval)\n"
   ]
  },
  {
   "cell_type": "code",
   "execution_count": null,
   "metadata": {},
   "outputs": [],
   "source": [
    "minilm_ckpt = \"microsoft/MiniLM-L12-H384-uncased\"\n",
    "minilm_reader = FARMReader(model_name_or_path=minilm_ckpt, progress_bar=False,\n",
    "                           max_seq_len=max_seq_length, doc_stride=doc_stride,\n",
    "                           return_no_answer=True)\n",
    "minilm_reader.train(data_dir=\".\", use_gpu=True, n_epochs=1, batch_size=16,\n",
    "             train_filename=train_filename, dev_filename=dev_filename)\n",
    "reader_eval[\"Fine-tune on SubjQA\"] = evaluate_reader(minilm_reader)\n",
    "plot_reader_eval(reader_eval)\n"
   ]
  },
  {
   "cell_type": "code",
   "execution_count": 45,
   "metadata": {},
   "outputs": [
    {
     "data": {
      "image/png": "[encoded data removed]",
      "text/plain": [
       "<Figure size 640x480 with 1 Axes>"
      ]
     },
     "metadata": {},
     "output_type": "display_data"
    }
   ],
   "source": [
    "from haystack.pipelines import ExtractiveQAPipeline\n",
    "pipe = ExtractiveQAPipeline(retriever=bm25_retriever, reader=reader)\n",
    "\n",
    "# evaluate \n",
    "eval_result = pipe.eval(\n",
    "    labels=labels_agg, \n",
    "    params={}, \n",
    ")\n",
    "metrics = eval_result.calculate_metrics(simulated_top_k_reader=1)\n",
    "# extract metrics from reader\n",
    "reader_eval[\"QA Pipeline (top-1)\"] = {\n",
    "    k:v for k,v in metrics[\"Reader\"].items() \n",
    "    if k in [\"exact_match\", \"f1\"]\n",
    "}\n",
    "\n",
    "#id reader-vs-pipeline\n",
    "#caption Comparison of EM and _F_~1~ scores for the reader against the whole QA pipeline\n",
    "plot_reader_eval({\"Reader\": reader_eval[\"Fine-tune on SQuAD\"], \n",
    "                  \"QA pipeline (top-1)\": reader_eval[\"QA Pipeline (top-1)\"]})"
   ]
  },
  {
   "cell_type": "code",
   "execution_count": 46,
   "metadata": {},
   "outputs": [
    {
     "data": {
      "image/png": "[encoded data removed]",
      "text/plain": [
       "<Figure size 640x480 with 1 Axes>"
      ]
     },
     "metadata": {},
     "output_type": "display_data"
    }
   ],
   "source": [
    "# Or get QA pipeline and Reader metrics in one shot:\n",
    "# Reader evaluation is run a second time using simulated perfect retriever results\n",
    "eval_result = pipe.eval(\n",
    "    labels=labels_agg,\n",
    "    params={},\n",
    "    add_isolated_node_eval=True\n",
    ")\n",
    "metrics = eval_result.calculate_metrics(simulated_top_k_reader=1)\n",
    "# Extract metrics from reader run in isolation with simulated perfect retriever\n",
    "isolated_metrics = eval_result.calculate_metrics(simulated_top_k_reader=1, eval_mode=\"isolated\")\n",
    "\n",
    "pipeline_reader_eval = {}\n",
    "pipeline_reader_eval[\"Reader\"] = {\n",
    "    k:v for k,v in isolated_metrics[\"Reader\"].items()\n",
    "    if k in [\"exact_match\", \"f1\"]}\n",
    "pipeline_reader_eval[\"QA Pipeline (top-1)\"] = {\n",
    "    k:v for k,v in metrics[\"Reader\"].items()\n",
    "    if k in [\"exact_match\", \"f1\"]}\n",
    "\n",
    "plot_reader_eval(pipeline_reader_eval)"
   ]
  },
  {
   "attachments": {},
   "cell_type": "markdown",
   "metadata": {},
   "source": [
    "**Going beyond extractive QA**"
   ]
  },
  {
   "cell_type": "code",
   "execution_count": 47,
   "metadata": {},
   "outputs": [
    {
     "name": "stderr",
     "output_type": "stream",
     "text": [
      "/home/jim/anaconda3/envs/cvml/lib/python3.9/site-packages/haystack/nodes/answer_generator/transformers.py:116: DeprecationWarning: `RAGenerator` component is deprecated and will be removed in future versions. Use `PromptNode` instead of `RAGenerator`.\n",
      "  warnings.warn(\n"
     ]
    },
    {
     "data": {
      "application/vnd.jupyter.widget-view+json": {
       "model_id": "461cb492999147f5af729251116bda7d",
       "version_major": 2,
       "version_minor": 0
      },
      "text/plain": [
       "Downloading (…)lve/main/config.json:   0%|          | 0.00/4.60k [00:00<?, ?B/s]"
      ]
     },
     "metadata": {},
     "output_type": "display_data"
    },
    {
     "name": "stderr",
     "output_type": "stream",
     "text": [
      "/home/jim/anaconda3/envs/cvml/lib/python3.9/site-packages/transformers/models/bart/configuration_bart.py:179: UserWarning: Please make sure the config includes `forced_bos_token_id=0` in future versions. The config can simply be saved and uploaded again to be fixed.\n",
      "  warnings.warn(\n"
     ]
    },
    {
     "data": {
      "application/vnd.jupyter.widget-view+json": {
       "model_id": "b4f4bb60c7894b9d9ac98fd0202f81c2",
       "version_major": 2,
       "version_minor": 0
      },
      "text/plain": [
       "Downloading (…)okenizer_config.json:   0%|          | 0.00/48.0 [00:00<?, ?B/s]"
      ]
     },
     "metadata": {},
     "output_type": "display_data"
    },
    {
     "data": {
      "application/vnd.jupyter.widget-view+json": {
       "model_id": "3bc0a8cba3d54110958fc0604093da32",
       "version_major": 2,
       "version_minor": 0
      },
      "text/plain": [
       "Downloading (…)_tokenizer/vocab.txt:   0%|          | 0.00/232k [00:00<?, ?B/s]"
      ]
     },
     "metadata": {},
     "output_type": "display_data"
    },
    {
     "data": {
      "application/vnd.jupyter.widget-view+json": {
       "model_id": "69056fe954b24105b746c753f35f3c68",
       "version_major": 2,
       "version_minor": 0
      },
      "text/plain": [
       "Downloading (…)cial_tokens_map.json:   0%|          | 0.00/112 [00:00<?, ?B/s]"
      ]
     },
     "metadata": {},
     "output_type": "display_data"
    },
    {
     "name": "stderr",
     "output_type": "stream",
     "text": [
      "The tokenizer class you load from this checkpoint is not the same type as the class this function is called from. It may result in unexpected tokenization. \n",
      "The tokenizer class you load from this checkpoint is 'RagTokenizer'. \n",
      "The class this function is called from is 'DPRQuestionEncoderTokenizer'.\n",
      "The tokenizer class you load from this checkpoint is not the same type as the class this function is called from. It may result in unexpected tokenization. \n",
      "The tokenizer class you load from this checkpoint is 'RagTokenizer'. \n",
      "The class this function is called from is 'DPRQuestionEncoderTokenizerFast'.\n"
     ]
    },
    {
     "data": {
      "application/vnd.jupyter.widget-view+json": {
       "model_id": "15c5dd963c534027b5039365757ace6d",
       "version_major": 2,
       "version_minor": 0
      },
      "text/plain": [
       "Downloading (…)okenizer_config.json:   0%|          | 0.00/26.0 [00:00<?, ?B/s]"
      ]
     },
     "metadata": {},
     "output_type": "display_data"
    },
    {
     "data": {
      "application/vnd.jupyter.widget-view+json": {
       "model_id": "313a6fd282eb4228a8ca584dfcd2c131",
       "version_major": 2,
       "version_minor": 0
      },
      "text/plain": [
       "Downloading (…)tokenizer/vocab.json:   0%|          | 0.00/899k [00:00<?, ?B/s]"
      ]
     },
     "metadata": {},
     "output_type": "display_data"
    },
    {
     "data": {
      "application/vnd.jupyter.widget-view+json": {
       "model_id": "b2699399964c40c58ca46a6e9fd2df78",
       "version_major": 2,
       "version_minor": 0
      },
      "text/plain": [
       "Downloading (…)tokenizer/merges.txt:   0%|          | 0.00/456k [00:00<?, ?B/s]"
      ]
     },
     "metadata": {},
     "output_type": "display_data"
    },
    {
     "data": {
      "application/vnd.jupyter.widget-view+json": {
       "model_id": "a3f6a3e64d2f4021a32f566e378ca59c",
       "version_major": 2,
       "version_minor": 0
      },
      "text/plain": [
       "Downloading (…)cial_tokens_map.json:   0%|          | 0.00/772 [00:00<?, ?B/s]"
      ]
     },
     "metadata": {},
     "output_type": "display_data"
    },
    {
     "name": "stderr",
     "output_type": "stream",
     "text": [
      "The tokenizer class you load from this checkpoint is not the same type as the class this function is called from. It may result in unexpected tokenization. \n",
      "The tokenizer class you load from this checkpoint is 'RagTokenizer'. \n",
      "The class this function is called from is 'BartTokenizer'.\n",
      "The tokenizer class you load from this checkpoint is not the same type as the class this function is called from. It may result in unexpected tokenization. \n",
      "The tokenizer class you load from this checkpoint is 'RagTokenizer'. \n",
      "The class this function is called from is 'BartTokenizerFast'.\n"
     ]
    },
    {
     "data": {
      "application/vnd.jupyter.widget-view+json": {
       "model_id": "bcbc2eb5e9084dc0a4765f5c3a725e48",
       "version_major": 2,
       "version_minor": 0
      },
      "text/plain": [
       "Downloading pytorch_model.bin:   0%|          | 0.00/2.06G [00:00<?, ?B/s]"
      ]
     },
     "metadata": {},
     "output_type": "display_data"
    },
    {
     "name": "stderr",
     "output_type": "stream",
     "text": [
      "Some weights of the model checkpoint at facebook/rag-token-nq were not used when initializing RagTokenForGeneration: ['rag.question_encoder.question_encoder.bert_model.pooler.dense.bias', 'rag.question_encoder.question_encoder.bert_model.pooler.dense.weight']\n",
      "- This IS expected if you are initializing RagTokenForGeneration from the checkpoint of a model trained on another task or with another architecture (e.g. initializing a BertForSequenceClassification model from a BertForPreTraining model).\n",
      "- This IS NOT expected if you are initializing RagTokenForGeneration from the checkpoint of a model that you expect to be exactly identical (initializing a BertForSequenceClassification model from a BertForSequenceClassification model).\n",
      "Some weights of RagTokenForGeneration were not initialized from the model checkpoint at facebook/rag-token-nq and are newly initialized: ['rag.generator.lm_head.weight']\n",
      "You should probably TRAIN this model on a down-stream task to be able to use it for predictions and inference.\n"
     ]
    }
   ],
   "source": [
    "from haystack.nodes import RAGenerator \n",
    "\n",
    "generator = RAGenerator(model_name_or_path=\"facebook/rag-token-nq\",\n",
    "                        embed_title=False, num_beams=5)"
   ]
  },
  {
   "cell_type": "code",
   "execution_count": 50,
   "metadata": {},
   "outputs": [
    {
     "name": "stderr",
     "output_type": "stream",
     "text": [
      "/home/jim/anaconda3/envs/cvml/lib/python3.9/site-packages/transformers/generation/utils.py:2734: UserWarning: `max_length` is deprecated in this function, use `stopping_criteria=StoppingCriteriaList(MaxLengthCriteria(max_length=max_length))` instead.\n",
      "  warnings.warn(\n"
     ]
    },
    {
     "name": "stdout",
     "output_type": "stream",
     "text": [
      "Question: Is it good for reading? \n",
      "\n",
      "Answer 1:  the screen is absolutely beautiful\n",
      "Answer 2:  the Screen is absolutely beautiful\n",
      "Answer 3:  Kindle fire\n",
      "Question: What is the main drawback? \n",
      "\n",
      "Answer 1:  the price\n",
      "Answer 2:  no flash support\n",
      "Answer 3:  the cost\n"
     ]
    }
   ],
   "source": [
    "from haystack.pipelines import GenerativeQAPipeline\n",
    "pipe = GenerativeQAPipeline(generator=generator, retriever=dpr_retriever)\n",
    "\n",
    "def generate_answers(query, top_k_generator=3):\n",
    "  preds = pipe.run(query=query, \n",
    "                   params={\"Retriever\": {\"top_k\": 5,\n",
    "                                         \"filters\": {\"item_id\": [\"B0074BW614\"]}\n",
    "                                         }, \n",
    "                           \"Generator\": {\"top_k\": top_k_generator}})\n",
    "  print(f\"Question: {preds['query']} \\n\")\n",
    "  for idx in range(top_k_generator):\n",
    "    print(f\"Answer {idx+1}: {preds['answers'][idx].answer}\")\n",
    "  \n",
    "generate_answers(query)\n",
    "generate_answers(\"What is the main drawback?\")\n"
   ]
  },
  {
   "cell_type": "code",
   "execution_count": null,
   "metadata": {},
   "outputs": [],
   "source": []
  }
 ],
 "metadata": {
  "kernelspec": {
   "display_name": "Python 3",
   "language": "python",
   "name": "python3"
  },
  "language_info": {
   "codemirror_mode": {
    "name": "ipython",
    "version": 3
   },
   "file_extension": ".py",
   "mimetype": "text/x-python",
   "name": "python",
   "nbconvert_exporter": "python",
   "pygments_lexer": "ipython3",
   "version": "3.9.1"
  },
  "orig_nbformat": 4
 },
 "nbformat": 4,
 "nbformat_minor": 2
}
